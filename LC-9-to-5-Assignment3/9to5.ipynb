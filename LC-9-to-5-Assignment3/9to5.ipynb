{
    "metadata": {
        "kernelspec": {
            "name": "SQL",
            "display_name": "SQL",
            "language": "sql"
        },
        "language_info": {
            "name": "sql",
            "version": ""
        },
        "extensions": {
            "azuredatastudio": {
                "version": 1,
                "views": []
            }
        }
    },
    "nbformat_minor": 2,
    "nbformat": 4,
    "cells": [
        {
            "cell_type": "markdown",
            "source": [
                "# <span style=\"font-size: 20pt; font-family: Montserrat, sans-serif; color: rgb(92, 148, 206); background-color: rgb(255, 255, 255); font-weight: 700; font-variant-east-asian: normal; vertical-align: baseline; white-space: pre-wrap;\">Graded Assignment 3: 9 to 5</span>\n",
                "\n",
                "  \n",
                "\n",
                "<span style=\"font-size: 10pt; font-family: &quot;Times New Roman&quot;; color: rgb(102, 102, 102); background-color: rgb(255, 255, 255); font-variant-east-asian: normal; vertical-align: baseline; white-space: pre-wrap;\">Time to show off your SQL skills! For each question, copy the SQL query you used and make note of the answer.</span>\n",
                "\n",
                "  \n",
                "\n",
                "## <span style=\"font-size: 12pt; font-family: Montserrat, sans-serif; color: rgb(53, 74, 95); background-color: rgb(255, 255, 255); font-weight: 700; font-variant-east-asian: normal; vertical-align: baseline; white-space: pre-wrap;\">The Dataset</span>\n",
                "\n",
                "<span style=\"font-size: 10pt; font-family: &quot;Times New Roman&quot;; color: rgb(102, 102, 102); background-color: rgb(255, 255, 255); font-variant-east-asian: normal; vertical-align: baseline; white-space: pre-wrap;\">For this assignment, you will be using the Bureau of Labor Statistics (BLS) Current Employment Survey (CES) results which can be found on</span> [<span style=\"font-size: 10pt; font-family: &quot;Times New Roman&quot;; color: rgb(17, 85, 204); background-color: rgb(255, 255, 255); font-variant-east-asian: normal; text-decoration-line: underline; vertical-align: baseline; white-space: pre-wrap;\">Kaggle</span>](https://www.kaggle.com/bls/employment)<span style=\"font-size: 10pt; font-family: &quot;Times New Roman&quot;; color: rgb(102, 102, 102); background-color: rgb(255, 255, 255); font-variant-east-asian: normal; vertical-align: baseline; white-space: pre-wrap;\">.</span>\n",
                "\n",
                "  \n",
                "\n",
                "## <span style=\"font-size: 12pt; font-family: Montserrat, sans-serif; color: rgb(53, 74, 95); background-color: rgb(255, 255, 255); font-weight: 700; font-variant-east-asian: normal; vertical-align: baseline; white-space: pre-wrap;\">Business Issue</span>\n",
                "\n",
                "<span style=\"font-size: 10pt; font-family: &quot;Times New Roman&quot;; color: rgb(102, 102, 102); background-color: rgb(255, 255, 255); font-variant-east-asian: normal; vertical-align: baseline; white-space: pre-wrap;\">You are working for the Bureau of Labor Statistics with the United States government and have been approached by your boss with an important meeting request. You have been asked by your supervisor to meet with Dolly Parton whose nonprofit is looking to shed light on the state of employment in the United States. As part of the 9 to 5 project, their research is focused on production and nonsupervisory employees and how those employees fare compared to all employees in the United States. While the data the BLS collects from the CES is publicly available, Dolly Parton and her colleagues need your assistance navigating the thousands of rows in each table in LaborStatisticsDB.</span>\n",
                "\n",
                "  \n",
                "\n",
                "## <span style=\"font-size: 12pt; font-family: Montserrat, sans-serif; color: rgb(53, 74, 95); background-color: rgb(255, 255, 255); font-weight: 700; font-variant-east-asian: normal; vertical-align: baseline; white-space: pre-wrap;\">About the Dataset</span>\n",
                "\n",
                "<span style=\"font-size: 10pt; font-family: &quot;Times New Roman&quot;; color: rgb(102, 102, 102); background-color: rgb(255, 255, 255); font-variant-east-asian: normal; vertical-align: baseline; white-space: pre-wrap;\">This dataset comes directly from the Bureau of Labor Statistics’ Current Employment Survey (CES). Here are some things you need to know:</span>\n",
                "\n",
                "1. <span style=\"font-size: 10pt; background-color: rgb(255, 255, 255); font-variant-east-asian: normal; vertical-align: baseline; white-space: pre-wrap;\">The industry table contains an NAICS code. This is different from the industry code. NAICS stands for North American Industry Classification System.</span>\n",
                "    \n",
                "2. <span style=\"font-size: 10pt; background-color: rgb(255, 255, 255); font-variant-east-asian: normal; vertical-align: baseline; white-space: pre-wrap;\">Series ID is composed of multiple different codes. CES stands for Current Employment Survey, the name of the survey which collected the data. The industry code as specified by the BLS and the data type code as specified in the datatype table.</span>\n",
                "    \n",
                "\n",
                "  \n",
                "\n",
                "## <span style=\"font-size: 12pt; font-family: Montserrat, sans-serif; color: rgb(53, 74, 95); background-color: rgb(255, 255, 255); font-weight: 700; font-variant-east-asian: normal; vertical-align: baseline; white-space: pre-wrap;\">Set Up</span>\n",
                "\n",
                "<span style=\"font-size: 10pt; font-family: &quot;Times New Roman&quot;; color: rgb(102, 102, 102); background-color: rgb(255, 255, 255); font-variant-east-asian: normal; vertical-align: baseline; white-space: pre-wrap;\">To connect to the database, use the same connection info used during the SQL lessons.&nbsp;</span> \n",
                "\n",
                "<span style=\"font-size: 10pt; font-family: &quot;Times New Roman&quot;; color: rgb(102, 102, 102); background-color: rgb(255, 255, 255); font-variant-east-asian: normal; vertical-align: baseline; white-space: pre-wrap;\">For the assignment, we will be using the LaborStatisticsDB database.</span>\n",
                "\n",
                "  \n",
                "\n",
                "## <span style=\"font-size: 12pt; font-family: Montserrat, sans-serif; color: rgb(53, 74, 95); background-color: rgb(255, 255, 255); font-weight: 700; font-variant-east-asian: normal; vertical-align: baseline; white-space: pre-wrap;\">Database Exploration</span>\n",
                "\n",
                "<span style=\"font-size: 10pt; font-family: &quot;Times New Roman&quot;; color: rgb(102, 102, 102); background-color: rgb(255, 255, 255); font-variant-east-asian: normal; vertical-align: baseline; white-space: pre-wrap;\">To start with, let’s get to know the database further.</span>\n",
                "\n",
                "1. <span style=\"background-color: rgb(255, 255, 255); color: rgb(102, 102, 102); font-family: &quot;Times New Roman&quot;; font-size: 10pt; white-space: pre-wrap;\">Use this space to make note of each table in the database, the columns within each table, each column’s data type, and how the tables are connected. You can write this down or draw a diagram. Whatever method helps you get an understanding of what is going on with LaborStatisticsDB.</span>"
            ],
            "metadata": {
                "azdata_cell_guid": "28ea70c5-f0be-4197-b6c0-ade22886a708"
            },
            "attachments": {}
        },
        {
            "cell_type": "markdown",
            "source": [
                "To add a photo, diagram or document to your file, drop the file into the folder that holds this notebook.  Use the the link button to the right of the  \\</\\> symbol in the gray part of this cell, the link is just the name of your file."
            ],
            "metadata": {
                "azdata_cell_guid": "aeae906c-752c-49d3-b482-3ed6a4f54b6e"
            },
            "attachments": {}
        },
        {
            "cell_type": "code",
            "source": [
                ""
            ],
            "metadata": {
                "azdata_cell_guid": "dbf3633e-8503-49e6-b128-cf010d1558cf",
                "language": "sql"
            },
            "outputs": [],
            "execution_count": null
        },
        {
            "cell_type": "markdown",
            "source": [
                "2. <span style=\"background-color: rgb(255, 255, 255); color: rgb(102, 102, 102); font-family: Arvo, serif; font-size: 10pt; white-space: pre-wrap;\">What is the datatype for women employees?</span>"
            ],
            "metadata": {
                "azdata_cell_guid": "01b111b7-baf1-4617-88bc-cd442826c9c9"
            },
            "attachments": {}
        },
        {
            "cell_type": "code",
            "source": [
                "SELECT data_type_code FROM datatype WHERE data_type_text = \"WOMEN EMPLOYEES\"\r\n",
                "\r\n",
                "-- the answer is 10"
            ],
            "metadata": {
                "azdata_cell_guid": "02fa547c-0bb7-4a40-81c2-f5c05154df04",
                "language": "sql"
            },
            "outputs": [
                {
                    "output_type": "display_data",
                    "data": {
                        "text/html": "(1 row(s) affected)"
                    },
                    "metadata": {}
                },
                {
                    "output_type": "display_data",
                    "data": {
                        "text/html": "Total execution time: 00:00:01.011"
                    },
                    "metadata": {}
                },
                {
                    "output_type": "execute_result",
                    "metadata": {},
                    "execution_count": 1,
                    "data": {
                        "application/vnd.dataresource+json": {
                            "schema": {
                                "fields": [
                                    {
                                        "name": "data_type_code"
                                    }
                                ]
                            },
                            "data": [
                                {
                                    "data_type_code": "10"
                                }
                            ]
                        },
                        "text/html": [
                            "<table>",
                            "<tr><th>data_type_code</th></tr>",
                            "<tr><td>10</td></tr>",
                            "</table>"
                        ]
                    }
                }
            ],
            "execution_count": 1
        },
        {
            "cell_type": "markdown",
            "source": [
                "3. <span style=\"background-color: rgb(255, 255, 255); font-size: 10pt; white-space: pre-wrap; color: rgb(102, 102, 102); font-family: Arvo, serif;\">What is the series id for&nbsp; women employees in the commercial banking industry in the financial activities supersector?</span>"
            ],
            "metadata": {
                "azdata_cell_guid": "325f85cc-9545-47b3-b975-3aab6278e4ea"
            },
            "attachments": {}
        },
        {
            "cell_type": "code",
            "source": [
                "-- SELECT industry_code FROM industry WHERE industry_name = \"commercial banking\";\r\n",
                "\r\n",
                "-- SELECT supersector_code FROM supersector WHERE supersector_name = \"Financial Activities\";\r\n",
                "\r\n",
                "SELECT series_id FROM series WHERE industry_code = (SELECT industry_code FROM industry WHERE industry_name = \"commercial banking\") AND series_title = \"Women employees\" AND\r\n",
                "supersector_code = (SELECT supersector_code FROM supersector WHERE supersector_name = \"Financial Activities\");\r\n",
                "\r\n",
                "-- SELECT industry_code, COUNT(*) \r\n",
                "-- FROM industry \r\n",
                "-- WHERE industry_name = 'commercial banking' \r\n",
                "-- GROUP BY industry_code \r\n",
                "-- HAVING COUNT(*) > 1;\r\n",
                "\r\n",
                "-- SELECT supersector_code, COUNT(*) \r\n",
                "-- FROM supersector \r\n",
                "-- WHERE supersector_name = 'Financial Activities' \r\n",
                "-- GROUP BY supersector_code \r\n",
                "-- HAVING COUNT(*) > 1;\r\n",
                "\r\n",
                "-- SELECT series_id, industry_code, supersector_code, series_title, COUNT(*) \r\n",
                "-- FROM series \r\n",
                "-- WHERE industry_code = (SELECT industry_code FROM industry WHERE industry_name = 'commercial banking') \r\n",
                "--   AND supersector_code = (SELECT supersector_code FROM supersector WHERE supersector_name = 'Financial Activities') \r\n",
                "--   AND series_title = 'Women employees' \r\n",
                "-- GROUP BY series_id, industry_code, supersector_code, series_title \r\n",
                "-- HAVING COUNT(*) > 1;\r\n",
                "\r\n",
                "-- SELECT s.series_id\r\n",
                "-- FROM series s\r\n",
                "-- JOIN industry i ON s.industry_code = i.industry_code\r\n",
                "-- JOIN supersector ss ON s.supersector_code = ss.supersector_code\r\n",
                "-- WHERE i.industry_name = 'commercial banking'\r\n",
                "--   AND ss.supersector_name = 'Financial Activities'\r\n",
                "--   AND s.series_title = 'Women employees';\r\n",
                "\r\n",
                "-- SELECT DISTINCT s.series_id, s.industry_code, s.supersector_code, s.series_title\r\n",
                "-- FROM series s\r\n",
                "-- JOIN industry i ON s.industry_code = i.industry_code\r\n",
                "-- JOIN supersector ss ON s.supersector_code = ss.supersector_code\r\n",
                "-- WHERE i.industry_name = 'commercial banking'\r\n",
                "--   AND ss.supersector_name = 'Financial Activities'\r\n",
                "--   AND s.series_title = 'Women employees';\r\n",
                "\r\n",
                "--   SELECT s.series_id, COUNT(*)\r\n",
                "-- FROM series s\r\n",
                "-- JOIN industry i ON s.industry_code = i.industry_code\r\n",
                "-- JOIN supersector ss ON s.supersector_code = ss.supersector_code\r\n",
                "-- WHERE i.industry_name = 'commercial banking'\r\n",
                "--   AND ss.supersector_name = 'Financial Activities'\r\n",
                "--   AND s.series_title = 'Women employees'\r\n",
                "-- GROUP BY s.series_id\r\n",
                "-- HAVING COUNT(*) > 1;\r\n",
                "\r\n",
                "SELECT *\r\n",
                "FROM series s\r\n",
                "JOIN industry i ON s.industry_code = i.industry_code\r\n",
                "JOIN supersector ss ON s.supersector_code = ss.supersector_code\r\n",
                "WHERE i.industry_name = 'commercial banking'\r\n",
                "  AND ss.supersector_name = 'Financial Activities'\r\n",
                "  AND s.series_title = 'Women employees';\r\n",
                "\r\n",
                " "
            ],
            "metadata": {
                "azdata_cell_guid": "1315af1f-45f8-457d-8bbe-8e9f46303fca",
                "language": "sql",
                "tags": []
            },
            "outputs": [
                {
                    "output_type": "display_data",
                    "data": {
                        "text/html": "(2 row(s) affected)"
                    },
                    "metadata": {}
                },
                {
                    "output_type": "display_data",
                    "data": {
                        "text/html": "(2 row(s) affected)"
                    },
                    "metadata": {}
                },
                {
                    "output_type": "display_data",
                    "data": {
                        "text/html": "Total execution time: 00:00:02.082"
                    },
                    "metadata": {}
                },
                {
                    "output_type": "execute_result",
                    "metadata": {},
                    "execution_count": 18,
                    "data": {
                        "application/vnd.dataresource+json": {
                            "schema": {
                                "fields": [
                                    {
                                        "name": "series_id"
                                    }
                                ]
                            },
                            "data": [
                                {
                                    "series_id": "CES5552211010"
                                },
                                {
                                    "series_id": "CEU5552211010"
                                }
                            ]
                        },
                        "text/html": [
                            "<table>",
                            "<tr><th>series_id</th></tr>",
                            "<tr><td>CES5552211010</td></tr>",
                            "<tr><td>CEU5552211010</td></tr>",
                            "</table>"
                        ]
                    }
                },
                {
                    "output_type": "execute_result",
                    "metadata": {},
                    "execution_count": 18,
                    "data": {
                        "application/vnd.dataresource+json": {
                            "schema": {
                                "fields": [
                                    {
                                        "name": "series_id"
                                    },
                                    {
                                        "name": "supersector_code"
                                    },
                                    {
                                        "name": "industry_code"
                                    },
                                    {
                                        "name": "data_type_code"
                                    },
                                    {
                                        "name": "seasonal"
                                    },
                                    {
                                        "name": "series_title"
                                    },
                                    {
                                        "name": "footnote_codes"
                                    },
                                    {
                                        "name": "begin_year"
                                    },
                                    {
                                        "name": "begin_period"
                                    },
                                    {
                                        "name": "end_year"
                                    },
                                    {
                                        "name": "end_period"
                                    },
                                    {
                                        "name": "industry_code"
                                    },
                                    {
                                        "name": "naics_code"
                                    },
                                    {
                                        "name": "publishing_status"
                                    },
                                    {
                                        "name": "industry_name"
                                    },
                                    {
                                        "name": "display_level"
                                    },
                                    {
                                        "name": "selectable"
                                    },
                                    {
                                        "name": "sort_sequence"
                                    },
                                    {
                                        "name": "supersector_code"
                                    },
                                    {
                                        "name": "supersector_name"
                                    }
                                ]
                            },
                            "data": [
                                {
                                    "series_id": "CES5552211010",
                                    "supersector_code": "55",
                                    "industry_code": "55522110",
                                    "data_type_code": "10",
                                    "seasonal": "S",
                                    "series_title": "Women employees",
                                    "footnote_codes": "NULL",
                                    "begin_year": "NULL",
                                    "begin_period": "NULL",
                                    "end_year": "NULL",
                                    "end_period": "NULL",
                                    "naics_code": "52211",
                                    "publishing_status": "A",
                                    "industry_name": "Commercial banking",
                                    "display_level": "6.0",
                                    "selectable": "T",
                                    "sort_sequence": "564.0",
                                    "supersector_name": "Financial activities"
                                },
                                {
                                    "series_id": "CEU5552211010",
                                    "supersector_code": "55",
                                    "industry_code": "55522110",
                                    "data_type_code": "10",
                                    "seasonal": "U",
                                    "series_title": "Women employees",
                                    "footnote_codes": "NULL",
                                    "begin_year": "NULL",
                                    "begin_period": "NULL",
                                    "end_year": "NULL",
                                    "end_period": "NULL",
                                    "naics_code": "52211",
                                    "publishing_status": "A",
                                    "industry_name": "Commercial banking",
                                    "display_level": "6.0",
                                    "selectable": "T",
                                    "sort_sequence": "564.0",
                                    "supersector_name": "Financial activities"
                                }
                            ]
                        },
                        "text/html": [
                            "<table>",
                            "<tr><th>series_id</th><th>supersector_code</th><th>industry_code</th><th>data_type_code</th><th>seasonal</th><th>series_title</th><th>footnote_codes</th><th>begin_year</th><th>begin_period</th><th>end_year</th><th>end_period</th><th>industry_code</th><th>naics_code</th><th>publishing_status</th><th>industry_name</th><th>display_level</th><th>selectable</th><th>sort_sequence</th><th>supersector_code</th><th>supersector_name</th></tr>",
                            "<tr><td>CES5552211010</td><td>55</td><td>55522110</td><td>10</td><td>S</td><td>Women employees</td><td>NULL</td><td>NULL</td><td>NULL</td><td>NULL</td><td>NULL</td><td>55522110</td><td>52211</td><td>A</td><td>Commercial banking</td><td>6.0</td><td>T</td><td>564.0</td><td>55</td><td>Financial activities</td></tr>",
                            "<tr><td>CEU5552211010</td><td>55</td><td>55522110</td><td>10</td><td>U</td><td>Women employees</td><td>NULL</td><td>NULL</td><td>NULL</td><td>NULL</td><td>NULL</td><td>55522110</td><td>52211</td><td>A</td><td>Commercial banking</td><td>6.0</td><td>T</td><td>564.0</td><td>55</td><td>Financial activities</td></tr>",
                            "</table>"
                        ]
                    }
                }
            ],
            "execution_count": 18
        },
        {
            "cell_type": "markdown",
            "source": [
                "## <span style=\"font-size: 12pt; font-family: Montserrat, sans-serif; color: rgb(53, 74, 95); background-color: rgb(255, 255, 255); font-weight: 700; font-variant-numeric: normal; font-variant-east-asian: normal; vertical-align: baseline; white-space: pre-wrap;\">Join in on the Fun</span>\n",
                "\n",
                "<span style=\"font-size: 10pt; font-family: Arvo, serif; color: rgb(102, 102, 102); background-color: rgb(255, 255, 255); font-variant-numeric: normal; font-variant-east-asian: normal; vertical-align: baseline; white-space: pre-wrap;\">Time to start joining! You can choose the type of join you use, just make sure to make a&nbsp; note!</span>\n",
                "\n",
                "1. <span style=\"background-color: rgb(255, 255, 255); font-size: 10pt; white-space: pre-wrap; color: rgb(102, 102, 102); font-family: Arvo, serif;\">Join&nbsp; annual_2016 with series on series_id. We only want the data in the annual_2016 table to be included in the result.</span>"
            ],
            "metadata": {
                "azdata_cell_guid": "ec1dfc63-ad41-4349-8c26-1d326ace8c6c"
            },
            "attachments": {}
        },
        {
            "cell_type": "code",
            "source": [
                "-- I DONT SEE THIS TABLE"
            ],
            "metadata": {
                "azdata_cell_guid": "cf90f0b4-c482-4fbb-ac17-d2244881caab",
                "language": "sql"
            },
            "outputs": [],
            "execution_count": null
        },
        {
            "cell_type": "markdown",
            "source": [
                "2. <span style=\"background-color: rgb(255, 255, 255); font-size: 10pt; white-space: pre-wrap; color: rgb(102, 102, 102); font-family: Arvo, serif;\">Join series and datatype on data_type_code</span>"
            ],
            "metadata": {
                "azdata_cell_guid": "710b59ae-224b-4f9d-b1a4-4a6b89048bbb"
            },
            "attachments": {}
        },
        {
            "cell_type": "code",
            "source": [
                "SELECT *\r\n",
                "FROM series s\r\n",
                "JOIN datatype dt ON s.data_type_code = dt.data_type_code LIMIT 100;\r\n",
                ""
            ],
            "metadata": {
                "azdata_cell_guid": "fca61371-c9b5-4823-a4b4-34c1279ece3e",
                "language": "sql"
            },
            "outputs": [
                {
                    "output_type": "display_data",
                    "data": {
                        "text/html": "(100 row(s) affected)"
                    },
                    "metadata": {}
                },
                {
                    "output_type": "display_data",
                    "data": {
                        "text/html": "Total execution time: 00:00:01.008"
                    },
                    "metadata": {}
                },
                {
                    "output_type": "execute_result",
                    "metadata": {},
                    "execution_count": 20,
                    "data": {
                        "application/vnd.dataresource+json": {
                            "schema": {
                                "fields": [
                                    {
                                        "name": "series_id"
                                    },
                                    {
                                        "name": "supersector_code"
                                    },
                                    {
                                        "name": "industry_code"
                                    },
                                    {
                                        "name": "data_type_code"
                                    },
                                    {
                                        "name": "seasonal"
                                    },
                                    {
                                        "name": "series_title"
                                    },
                                    {
                                        "name": "footnote_codes"
                                    },
                                    {
                                        "name": "begin_year"
                                    },
                                    {
                                        "name": "begin_period"
                                    },
                                    {
                                        "name": "end_year"
                                    },
                                    {
                                        "name": "end_period"
                                    },
                                    {
                                        "name": "data_type_code"
                                    },
                                    {
                                        "name": "data_type_text"
                                    }
                                ]
                            },
                            "data": [
                                {
                                    "series_id": "CES0000000001",
                                    "supersector_code": "0",
                                    "industry_code": "0",
                                    "data_type_code": "1",
                                    "seasonal": "S",
                                    "series_title": "All employees",
                                    "footnote_codes": "NULL",
                                    "begin_year": "NULL",
                                    "begin_period": "NULL",
                                    "end_year": "NULL",
                                    "end_period": "NULL",
                                    "data_type_text": "ALL EMPLOYEES"
                                },
                                {
                                    "series_id": "CES0000000010",
                                    "supersector_code": "0",
                                    "industry_code": "0",
                                    "data_type_code": "10",
                                    "seasonal": "S",
                                    "series_title": "Women employees",
                                    "footnote_codes": "NULL",
                                    "begin_year": "NULL",
                                    "begin_period": "NULL",
                                    "end_year": "NULL",
                                    "end_period": "NULL",
                                    "data_type_text": "WOMEN EMPLOYEES"
                                },
                                {
                                    "series_id": "CES0000000025",
                                    "supersector_code": "0",
                                    "industry_code": "0",
                                    "data_type_code": "25",
                                    "seasonal": "S",
                                    "series_title": "All employees",
                                    "footnote_codes": "NULL",
                                    "begin_year": "NULL",
                                    "begin_period": "NULL",
                                    "end_year": "NULL",
                                    "end_period": "NULL",
                                    "data_type_text": "ALL EMPLOYEES"
                                },
                                {
                                    "series_id": "CES0000000026",
                                    "supersector_code": "0",
                                    "industry_code": "0",
                                    "data_type_code": "26",
                                    "seasonal": "S",
                                    "series_title": "All employees",
                                    "footnote_codes": "NULL",
                                    "begin_year": "NULL",
                                    "begin_period": "NULL",
                                    "end_year": "NULL",
                                    "end_period": "NULL",
                                    "data_type_text": "ALL EMPLOYEES"
                                },
                                {
                                    "series_id": "CES0500000001",
                                    "supersector_code": "5",
                                    "industry_code": "5000000",
                                    "data_type_code": "1",
                                    "seasonal": "S",
                                    "series_title": "All employees",
                                    "footnote_codes": "NULL",
                                    "begin_year": "NULL",
                                    "begin_period": "NULL",
                                    "end_year": "NULL",
                                    "end_period": "NULL",
                                    "data_type_text": "ALL EMPLOYEES"
                                },
                                {
                                    "series_id": "CES0500000002",
                                    "supersector_code": "5",
                                    "industry_code": "5000000",
                                    "data_type_code": "2",
                                    "seasonal": "S",
                                    "series_title": "Average weekly hours of all employees",
                                    "footnote_codes": "NULL",
                                    "begin_year": "NULL",
                                    "begin_period": "NULL",
                                    "end_year": "NULL",
                                    "end_period": "NULL",
                                    "data_type_text": "AVERAGE WEEKLY HOURS OF ALL EMPLOYEES"
                                },
                                {
                                    "series_id": "CES0500000003",
                                    "supersector_code": "5",
                                    "industry_code": "5000000",
                                    "data_type_code": "3",
                                    "seasonal": "S",
                                    "series_title": "Average hourly earnings of all employees",
                                    "footnote_codes": "NULL",
                                    "begin_year": "NULL",
                                    "begin_period": "NULL",
                                    "end_year": "NULL",
                                    "end_period": "NULL",
                                    "data_type_text": "AVERAGE HOURLY EARNINGS OF ALL EMPLOYEES"
                                },
                                {
                                    "series_id": "CES0500000006",
                                    "supersector_code": "5",
                                    "industry_code": "5000000",
                                    "data_type_code": "6",
                                    "seasonal": "S",
                                    "series_title": "Production and nonsupervisory employees",
                                    "footnote_codes": "NULL",
                                    "begin_year": "NULL",
                                    "begin_period": "NULL",
                                    "end_year": "NULL",
                                    "end_period": "NULL",
                                    "data_type_text": "PRODUCTION AND NONSUPERVISORY EMPLOYEES"
                                },
                                {
                                    "series_id": "CES0500000007",
                                    "supersector_code": "5",
                                    "industry_code": "5000000",
                                    "data_type_code": "7",
                                    "seasonal": "S",
                                    "series_title": "Average weekly hours of production and nonsupervisory employees",
                                    "footnote_codes": "NULL",
                                    "begin_year": "NULL",
                                    "begin_period": "NULL",
                                    "end_year": "NULL",
                                    "end_period": "NULL",
                                    "data_type_text": "AVERAGE WEEKLY HOURS OF PRODUCTION AND NONSUPERVISORY EMPLOYEES"
                                },
                                {
                                    "series_id": "CES0500000008",
                                    "supersector_code": "5",
                                    "industry_code": "5000000",
                                    "data_type_code": "8",
                                    "seasonal": "S",
                                    "series_title": "Average hourly earnings of production and nonsupervisory employees",
                                    "footnote_codes": "NULL",
                                    "begin_year": "NULL",
                                    "begin_period": "NULL",
                                    "end_year": "NULL",
                                    "end_period": "NULL",
                                    "data_type_text": "AVERAGE HOURLY EARNINGS OF PRODUCTION AND NONSUPERVISORY EMPLOYEES"
                                },
                                {
                                    "series_id": "CES0500000010",
                                    "supersector_code": "5",
                                    "industry_code": "5000000",
                                    "data_type_code": "10",
                                    "seasonal": "S",
                                    "series_title": "Women employees",
                                    "footnote_codes": "NULL",
                                    "begin_year": "NULL",
                                    "begin_period": "NULL",
                                    "end_year": "NULL",
                                    "end_period": "NULL",
                                    "data_type_text": "WOMEN EMPLOYEES"
                                },
                                {
                                    "series_id": "CES0500000011",
                                    "supersector_code": "5",
                                    "industry_code": "5000000",
                                    "data_type_code": "11",
                                    "seasonal": "S",
                                    "series_title": "Average weekly earnings of all employees",
                                    "footnote_codes": "NULL",
                                    "begin_year": "NULL",
                                    "begin_period": "NULL",
                                    "end_year": "NULL",
                                    "end_period": "NULL",
                                    "data_type_text": "AVERAGE WEEKLY EARNINGS OF ALL EMPLOYEES"
                                },
                                {
                                    "series_id": "CES0500000012",
                                    "supersector_code": "5",
                                    "industry_code": "5000000",
                                    "data_type_code": "12",
                                    "seasonal": "S",
                                    "series_title": "Average weekly earnings of all employees",
                                    "footnote_codes": "NULL",
                                    "begin_year": "NULL",
                                    "begin_period": "NULL",
                                    "end_year": "NULL",
                                    "end_period": "NULL",
                                    "data_type_text": "AVERAGE WEEKLY EARNINGS OF ALL EMPLOYEES"
                                },
                                {
                                    "series_id": "CES0500000013",
                                    "supersector_code": "5",
                                    "industry_code": "5000000",
                                    "data_type_code": "13",
                                    "seasonal": "S",
                                    "series_title": "Average hourly earnings of all employees",
                                    "footnote_codes": "NULL",
                                    "begin_year": "NULL",
                                    "begin_period": "NULL",
                                    "end_year": "NULL",
                                    "end_period": "NULL",
                                    "data_type_text": "AVERAGE HOURLY EARNINGS OF ALL EMPLOYEES"
                                },
                                {
                                    "series_id": "CES0500000016",
                                    "supersector_code": "5",
                                    "industry_code": "5000000",
                                    "data_type_code": "16",
                                    "seasonal": "S",
                                    "series_title": "Indexes of aggregate weekly hours of all employees",
                                    "footnote_codes": "NULL",
                                    "begin_year": "NULL",
                                    "begin_period": "NULL",
                                    "end_year": "NULL",
                                    "end_period": "NULL",
                                    "data_type_text": "INDEXES OF AGGREGATE WEEKLY HOURS OF ALL EMPLOYEES"
                                },
                                {
                                    "series_id": "CES0500000017",
                                    "supersector_code": "5",
                                    "industry_code": "5000000",
                                    "data_type_code": "17",
                                    "seasonal": "S",
                                    "series_title": "Indexes of aggregate weekly payrolls of all employees",
                                    "footnote_codes": "NULL",
                                    "begin_year": "NULL",
                                    "begin_period": "NULL",
                                    "end_year": "NULL",
                                    "end_period": "NULL",
                                    "data_type_text": "INDEXES OF AGGREGATE WEEKLY PAYROLLS OF ALL EMPLOYEES"
                                },
                                {
                                    "series_id": "CES0500000019",
                                    "supersector_code": "5",
                                    "industry_code": "5000000",
                                    "data_type_code": "19",
                                    "seasonal": "S",
                                    "series_title": "Average weekly hours of all employees",
                                    "footnote_codes": "NULL",
                                    "begin_year": "NULL",
                                    "begin_period": "NULL",
                                    "end_year": "NULL",
                                    "end_period": "NULL",
                                    "data_type_text": "AVERAGE WEEKLY HOURS OF ALL EMPLOYEES"
                                },
                                {
                                    "series_id": "CES0500000021",
                                    "supersector_code": "5",
                                    "industry_code": "5000000",
                                    "data_type_code": "21",
                                    "seasonal": "S",
                                    "series_title": "Diffusion indexes",
                                    "footnote_codes": "NULL",
                                    "begin_year": "NULL",
                                    "begin_period": "NULL",
                                    "end_year": "NULL",
                                    "end_period": "NULL",
                                    "data_type_text": "DIFFUSION INDEXES"
                                },
                                {
                                    "series_id": "CES0500000022",
                                    "supersector_code": "5",
                                    "industry_code": "5000000",
                                    "data_type_code": "22",
                                    "seasonal": "S",
                                    "series_title": "Diffusion indexes",
                                    "footnote_codes": "NULL",
                                    "begin_year": "NULL",
                                    "begin_period": "NULL",
                                    "end_year": "NULL",
                                    "end_period": "NULL",
                                    "data_type_text": "DIFFUSION INDEXES"
                                },
                                {
                                    "series_id": "CES0500000023",
                                    "supersector_code": "5",
                                    "industry_code": "5000000",
                                    "data_type_code": "23",
                                    "seasonal": "S",
                                    "series_title": "Diffusion indexes",
                                    "footnote_codes": "NULL",
                                    "begin_year": "NULL",
                                    "begin_period": "NULL",
                                    "end_year": "NULL",
                                    "end_period": "NULL",
                                    "data_type_text": "DIFFUSION INDEXES"
                                },
                                {
                                    "series_id": "CES0500000025",
                                    "supersector_code": "5",
                                    "industry_code": "5000000",
                                    "data_type_code": "25",
                                    "seasonal": "S",
                                    "series_title": "All employees",
                                    "footnote_codes": "NULL",
                                    "begin_year": "NULL",
                                    "begin_period": "NULL",
                                    "end_year": "NULL",
                                    "end_period": "NULL",
                                    "data_type_text": "ALL EMPLOYEES"
                                },
                                {
                                    "series_id": "CES0500000026",
                                    "supersector_code": "5",
                                    "industry_code": "5000000",
                                    "data_type_code": "26",
                                    "seasonal": "S",
                                    "series_title": "All employees",
                                    "footnote_codes": "NULL",
                                    "begin_year": "NULL",
                                    "begin_period": "NULL",
                                    "end_year": "NULL",
                                    "end_period": "NULL",
                                    "data_type_text": "ALL EMPLOYEES"
                                },
                                {
                                    "series_id": "CES0500000030",
                                    "supersector_code": "5",
                                    "industry_code": "5000000",
                                    "data_type_code": "30",
                                    "seasonal": "S",
                                    "series_title": "Average weekly earnings of production and nonsupervisory employees",
                                    "footnote_codes": "NULL",
                                    "begin_year": "NULL",
                                    "begin_period": "NULL",
                                    "end_year": "NULL",
                                    "end_period": "NULL",
                                    "data_type_text": "AVERAGE WEEKLY EARNINGS OF PRODUCTION AND NONSUPERVISORY EMPLOYEES"
                                },
                                {
                                    "series_id": "CES0500000031",
                                    "supersector_code": "5",
                                    "industry_code": "5000000",
                                    "data_type_code": "31",
                                    "seasonal": "S",
                                    "series_title": "Average weekly earnings of production and nonsupervisory employees",
                                    "footnote_codes": "NULL",
                                    "begin_year": "NULL",
                                    "begin_period": "NULL",
                                    "end_year": "NULL",
                                    "end_period": "NULL",
                                    "data_type_text": "AVERAGE WEEKLY EARNINGS OF PRODUCTION AND NONSUPERVISORY EMPLOYEES"
                                },
                                {
                                    "series_id": "CES0500000032",
                                    "supersector_code": "5",
                                    "industry_code": "5000000",
                                    "data_type_code": "32",
                                    "seasonal": "S",
                                    "series_title": "Average hourly earnings of production and nonsupervisory employees",
                                    "footnote_codes": "NULL",
                                    "begin_year": "NULL",
                                    "begin_period": "NULL",
                                    "end_year": "NULL",
                                    "end_period": "NULL",
                                    "data_type_text": "AVERAGE HOURLY EARNINGS OF PRODUCTION AND NONSUPERVISORY EMPLOYEES"
                                },
                                {
                                    "series_id": "CES0500000034",
                                    "supersector_code": "5",
                                    "industry_code": "5000000",
                                    "data_type_code": "34",
                                    "seasonal": "S",
                                    "series_title": "Indexes of aggregate weekly hours of production and nonsupervisory employees",
                                    "footnote_codes": "NULL",
                                    "begin_year": "NULL",
                                    "begin_period": "NULL",
                                    "end_year": "NULL",
                                    "end_period": "NULL",
                                    "data_type_text": "INDEXES OF AGGREGATE WEEKLY HOURS OF PRODUCTION AND NONSUPERVISORY EMPLOYEES"
                                },
                                {
                                    "series_id": "CES0500000035",
                                    "supersector_code": "5",
                                    "industry_code": "5000000",
                                    "data_type_code": "35",
                                    "seasonal": "S",
                                    "series_title": "Indexes of aggregate weekly payrolls of production and nonsupervisory employees",
                                    "footnote_codes": "NULL",
                                    "begin_year": "NULL",
                                    "begin_period": "NULL",
                                    "end_year": "NULL",
                                    "end_period": "NULL",
                                    "data_type_text": "INDEXES OF AGGREGATE WEEKLY PAYROLLS OF PRODUCTION AND NONSUPERVISORY EMPLOYEES"
                                },
                                {
                                    "series_id": "CES0500000036",
                                    "supersector_code": "5",
                                    "industry_code": "5000000",
                                    "data_type_code": "36",
                                    "seasonal": "S",
                                    "series_title": "Average weekly hours",
                                    "footnote_codes": "NULL",
                                    "begin_year": "NULL",
                                    "begin_period": "NULL",
                                    "end_year": "NULL",
                                    "end_period": "NULL",
                                    "data_type_text": "AVERAGE WEEKLY HOURS"
                                },
                                {
                                    "series_id": "CES0500000056",
                                    "supersector_code": "5",
                                    "industry_code": "5000000",
                                    "data_type_code": "56",
                                    "seasonal": "S",
                                    "series_title": "Aggregate weekly hours of all employees",
                                    "footnote_codes": "NULL",
                                    "begin_year": "NULL",
                                    "begin_period": "NULL",
                                    "end_year": "NULL",
                                    "end_period": "NULL",
                                    "data_type_text": "AGGREGATE WEEKLY HOURS OF ALL EMPLOYEES"
                                },
                                {
                                    "series_id": "CES0500000057",
                                    "supersector_code": "5",
                                    "industry_code": "5000000",
                                    "data_type_code": "57",
                                    "seasonal": "S",
                                    "series_title": "Aggregate weekly payrolls of all employees",
                                    "footnote_codes": "NULL",
                                    "begin_year": "NULL",
                                    "begin_period": "NULL",
                                    "end_year": "NULL",
                                    "end_period": "NULL",
                                    "data_type_text": "AGGREGATE WEEKLY PAYROLLS OF ALL EMPLOYEES"
                                },
                                {
                                    "series_id": "CES0500000081",
                                    "supersector_code": "5",
                                    "industry_code": "5000000",
                                    "data_type_code": "81",
                                    "seasonal": "S",
                                    "series_title": "Aggregate weekly hours of production and nonsupervisory employees",
                                    "footnote_codes": "NULL",
                                    "begin_year": "NULL",
                                    "begin_period": "NULL",
                                    "end_year": "NULL",
                                    "end_period": "NULL",
                                    "data_type_text": "AGGREGATE WEEKLY HOURS OF PRODUCTION AND NONSUPERVISORY EMPLOYEES"
                                },
                                {
                                    "series_id": "CES0500000082",
                                    "supersector_code": "5",
                                    "industry_code": "5000000",
                                    "data_type_code": "82",
                                    "seasonal": "S",
                                    "series_title": "Aggregate weekly payrolls of production and nonsupervisory employees",
                                    "footnote_codes": "NULL",
                                    "begin_year": "NULL",
                                    "begin_period": "NULL",
                                    "end_year": "NULL",
                                    "end_period": "NULL",
                                    "data_type_text": "AGGREGATE WEEKLY PAYROLLS OF PRODUCTION AND NONSUPERVISORY EMPLOYEES"
                                },
                                {
                                    "series_id": "CES0600000001",
                                    "supersector_code": "6",
                                    "industry_code": "6000000",
                                    "data_type_code": "1",
                                    "seasonal": "S",
                                    "series_title": "All employees",
                                    "footnote_codes": "NULL",
                                    "begin_year": "NULL",
                                    "begin_period": "NULL",
                                    "end_year": "NULL",
                                    "end_period": "NULL",
                                    "data_type_text": "ALL EMPLOYEES"
                                },
                                {
                                    "series_id": "CES0600000002",
                                    "supersector_code": "6",
                                    "industry_code": "6000000",
                                    "data_type_code": "2",
                                    "seasonal": "S",
                                    "series_title": "Average weekly hours of all employees",
                                    "footnote_codes": "NULL",
                                    "begin_year": "NULL",
                                    "begin_period": "NULL",
                                    "end_year": "NULL",
                                    "end_period": "NULL",
                                    "data_type_text": "AVERAGE WEEKLY HOURS OF ALL EMPLOYEES"
                                },
                                {
                                    "series_id": "CES0600000003",
                                    "supersector_code": "6",
                                    "industry_code": "6000000",
                                    "data_type_code": "3",
                                    "seasonal": "S",
                                    "series_title": "Average hourly earnings of all employees",
                                    "footnote_codes": "NULL",
                                    "begin_year": "NULL",
                                    "begin_period": "NULL",
                                    "end_year": "NULL",
                                    "end_period": "NULL",
                                    "data_type_text": "AVERAGE HOURLY EARNINGS OF ALL EMPLOYEES"
                                },
                                {
                                    "series_id": "CES0600000006",
                                    "supersector_code": "6",
                                    "industry_code": "6000000",
                                    "data_type_code": "6",
                                    "seasonal": "S",
                                    "series_title": "Production and nonsupervisory employees",
                                    "footnote_codes": "NULL",
                                    "begin_year": "NULL",
                                    "begin_period": "NULL",
                                    "end_year": "NULL",
                                    "end_period": "NULL",
                                    "data_type_text": "PRODUCTION AND NONSUPERVISORY EMPLOYEES"
                                },
                                {
                                    "series_id": "CES0600000007",
                                    "supersector_code": "6",
                                    "industry_code": "6000000",
                                    "data_type_code": "7",
                                    "seasonal": "S",
                                    "series_title": "Average weekly hours of production and nonsupervisory employees",
                                    "footnote_codes": "NULL",
                                    "begin_year": "NULL",
                                    "begin_period": "NULL",
                                    "end_year": "NULL",
                                    "end_period": "NULL",
                                    "data_type_text": "AVERAGE WEEKLY HOURS OF PRODUCTION AND NONSUPERVISORY EMPLOYEES"
                                },
                                {
                                    "series_id": "CES0600000008",
                                    "supersector_code": "6",
                                    "industry_code": "6000000",
                                    "data_type_code": "8",
                                    "seasonal": "S",
                                    "series_title": "Average hourly earnings of production and nonsupervisory employees",
                                    "footnote_codes": "NULL",
                                    "begin_year": "NULL",
                                    "begin_period": "NULL",
                                    "end_year": "NULL",
                                    "end_period": "NULL",
                                    "data_type_text": "AVERAGE HOURLY EARNINGS OF PRODUCTION AND NONSUPERVISORY EMPLOYEES"
                                },
                                {
                                    "series_id": "CES0600000010",
                                    "supersector_code": "6",
                                    "industry_code": "6000000",
                                    "data_type_code": "10",
                                    "seasonal": "S",
                                    "series_title": "Women employees",
                                    "footnote_codes": "NULL",
                                    "begin_year": "NULL",
                                    "begin_period": "NULL",
                                    "end_year": "NULL",
                                    "end_period": "NULL",
                                    "data_type_text": "WOMEN EMPLOYEES"
                                },
                                {
                                    "series_id": "CES0600000011",
                                    "supersector_code": "6",
                                    "industry_code": "6000000",
                                    "data_type_code": "11",
                                    "seasonal": "S",
                                    "series_title": "Average weekly earnings of all employees",
                                    "footnote_codes": "NULL",
                                    "begin_year": "NULL",
                                    "begin_period": "NULL",
                                    "end_year": "NULL",
                                    "end_period": "NULL",
                                    "data_type_text": "AVERAGE WEEKLY EARNINGS OF ALL EMPLOYEES"
                                },
                                {
                                    "series_id": "CES0600000012",
                                    "supersector_code": "6",
                                    "industry_code": "6000000",
                                    "data_type_code": "12",
                                    "seasonal": "S",
                                    "series_title": "Average weekly earnings of all employees",
                                    "footnote_codes": "NULL",
                                    "begin_year": "NULL",
                                    "begin_period": "NULL",
                                    "end_year": "NULL",
                                    "end_period": "NULL",
                                    "data_type_text": "AVERAGE WEEKLY EARNINGS OF ALL EMPLOYEES"
                                },
                                {
                                    "series_id": "CES0600000013",
                                    "supersector_code": "6",
                                    "industry_code": "6000000",
                                    "data_type_code": "13",
                                    "seasonal": "S",
                                    "series_title": "Average hourly earnings of all employees",
                                    "footnote_codes": "NULL",
                                    "begin_year": "NULL",
                                    "begin_period": "NULL",
                                    "end_year": "NULL",
                                    "end_period": "NULL",
                                    "data_type_text": "AVERAGE HOURLY EARNINGS OF ALL EMPLOYEES"
                                },
                                {
                                    "series_id": "CES0600000016",
                                    "supersector_code": "6",
                                    "industry_code": "6000000",
                                    "data_type_code": "16",
                                    "seasonal": "S",
                                    "series_title": "Indexes of aggregate weekly hours of all employees",
                                    "footnote_codes": "NULL",
                                    "begin_year": "NULL",
                                    "begin_period": "NULL",
                                    "end_year": "NULL",
                                    "end_period": "NULL",
                                    "data_type_text": "INDEXES OF AGGREGATE WEEKLY HOURS OF ALL EMPLOYEES"
                                },
                                {
                                    "series_id": "CES0600000017",
                                    "supersector_code": "6",
                                    "industry_code": "6000000",
                                    "data_type_code": "17",
                                    "seasonal": "S",
                                    "series_title": "Indexes of aggregate weekly payrolls of all employees",
                                    "footnote_codes": "NULL",
                                    "begin_year": "NULL",
                                    "begin_period": "NULL",
                                    "end_year": "NULL",
                                    "end_period": "NULL",
                                    "data_type_text": "INDEXES OF AGGREGATE WEEKLY PAYROLLS OF ALL EMPLOYEES"
                                },
                                {
                                    "series_id": "CES0600000025",
                                    "supersector_code": "6",
                                    "industry_code": "6000000",
                                    "data_type_code": "25",
                                    "seasonal": "S",
                                    "series_title": "All employees",
                                    "footnote_codes": "NULL",
                                    "begin_year": "NULL",
                                    "begin_period": "NULL",
                                    "end_year": "NULL",
                                    "end_period": "NULL",
                                    "data_type_text": "ALL EMPLOYEES"
                                },
                                {
                                    "series_id": "CES0600000030",
                                    "supersector_code": "6",
                                    "industry_code": "6000000",
                                    "data_type_code": "30",
                                    "seasonal": "S",
                                    "series_title": "Average weekly earnings of production and nonsupervisory employees",
                                    "footnote_codes": "NULL",
                                    "begin_year": "NULL",
                                    "begin_period": "NULL",
                                    "end_year": "NULL",
                                    "end_period": "NULL",
                                    "data_type_text": "AVERAGE WEEKLY EARNINGS OF PRODUCTION AND NONSUPERVISORY EMPLOYEES"
                                },
                                {
                                    "series_id": "CES0600000031",
                                    "supersector_code": "6",
                                    "industry_code": "6000000",
                                    "data_type_code": "31",
                                    "seasonal": "S",
                                    "series_title": "Average weekly earnings of production and nonsupervisory employees",
                                    "footnote_codes": "NULL",
                                    "begin_year": "NULL",
                                    "begin_period": "NULL",
                                    "end_year": "NULL",
                                    "end_period": "NULL",
                                    "data_type_text": "AVERAGE WEEKLY EARNINGS OF PRODUCTION AND NONSUPERVISORY EMPLOYEES"
                                },
                                {
                                    "series_id": "CES0600000032",
                                    "supersector_code": "6",
                                    "industry_code": "6000000",
                                    "data_type_code": "32",
                                    "seasonal": "S",
                                    "series_title": "Average hourly earnings of production and nonsupervisory employees",
                                    "footnote_codes": "NULL",
                                    "begin_year": "NULL",
                                    "begin_period": "NULL",
                                    "end_year": "NULL",
                                    "end_period": "NULL",
                                    "data_type_text": "AVERAGE HOURLY EARNINGS OF PRODUCTION AND NONSUPERVISORY EMPLOYEES"
                                },
                                {
                                    "series_id": "CES0600000034",
                                    "supersector_code": "6",
                                    "industry_code": "6000000",
                                    "data_type_code": "34",
                                    "seasonal": "S",
                                    "series_title": "Indexes of aggregate weekly hours of production and nonsupervisory employees",
                                    "footnote_codes": "NULL",
                                    "begin_year": "NULL",
                                    "begin_period": "NULL",
                                    "end_year": "NULL",
                                    "end_period": "NULL",
                                    "data_type_text": "INDEXES OF AGGREGATE WEEKLY HOURS OF PRODUCTION AND NONSUPERVISORY EMPLOYEES"
                                },
                                {
                                    "series_id": "CES0600000035",
                                    "supersector_code": "6",
                                    "industry_code": "6000000",
                                    "data_type_code": "35",
                                    "seasonal": "S",
                                    "series_title": "Indexes of aggregate weekly payrolls of production and nonsupervisory employees",
                                    "footnote_codes": "NULL",
                                    "begin_year": "NULL",
                                    "begin_period": "NULL",
                                    "end_year": "NULL",
                                    "end_period": "NULL",
                                    "data_type_text": "INDEXES OF AGGREGATE WEEKLY PAYROLLS OF PRODUCTION AND NONSUPERVISORY EMPLOYEES"
                                },
                                {
                                    "series_id": "CES0600000056",
                                    "supersector_code": "6",
                                    "industry_code": "6000000",
                                    "data_type_code": "56",
                                    "seasonal": "S",
                                    "series_title": "Aggregate weekly hours of all employees",
                                    "footnote_codes": "NULL",
                                    "begin_year": "NULL",
                                    "begin_period": "NULL",
                                    "end_year": "NULL",
                                    "end_period": "NULL",
                                    "data_type_text": "AGGREGATE WEEKLY HOURS OF ALL EMPLOYEES"
                                },
                                {
                                    "series_id": "CES0600000057",
                                    "supersector_code": "6",
                                    "industry_code": "6000000",
                                    "data_type_code": "57",
                                    "seasonal": "S",
                                    "series_title": "Aggregate weekly payrolls of all employees",
                                    "footnote_codes": "NULL",
                                    "begin_year": "NULL",
                                    "begin_period": "NULL",
                                    "end_year": "NULL",
                                    "end_period": "NULL",
                                    "data_type_text": "AGGREGATE WEEKLY PAYROLLS OF ALL EMPLOYEES"
                                },
                                {
                                    "series_id": "CES0600000081",
                                    "supersector_code": "6",
                                    "industry_code": "6000000",
                                    "data_type_code": "81",
                                    "seasonal": "S",
                                    "series_title": "Aggregate weekly hours of production and nonsupervisory employees",
                                    "footnote_codes": "NULL",
                                    "begin_year": "NULL",
                                    "begin_period": "NULL",
                                    "end_year": "NULL",
                                    "end_period": "NULL",
                                    "data_type_text": "AGGREGATE WEEKLY HOURS OF PRODUCTION AND NONSUPERVISORY EMPLOYEES"
                                },
                                {
                                    "series_id": "CES0600000082",
                                    "supersector_code": "6",
                                    "industry_code": "6000000",
                                    "data_type_code": "82",
                                    "seasonal": "S",
                                    "series_title": "Aggregate weekly payrolls of production and nonsupervisory employees",
                                    "footnote_codes": "NULL",
                                    "begin_year": "NULL",
                                    "begin_period": "NULL",
                                    "end_year": "NULL",
                                    "end_period": "NULL",
                                    "data_type_text": "AGGREGATE WEEKLY PAYROLLS OF PRODUCTION AND NONSUPERVISORY EMPLOYEES"
                                },
                                {
                                    "series_id": "CES0700000001",
                                    "supersector_code": "7",
                                    "industry_code": "7000000",
                                    "data_type_code": "1",
                                    "seasonal": "S",
                                    "series_title": "All employees",
                                    "footnote_codes": "NULL",
                                    "begin_year": "NULL",
                                    "begin_period": "NULL",
                                    "end_year": "NULL",
                                    "end_period": "NULL",
                                    "data_type_text": "ALL EMPLOYEES"
                                },
                                {
                                    "series_id": "CES0700000010",
                                    "supersector_code": "7",
                                    "industry_code": "7000000",
                                    "data_type_code": "10",
                                    "seasonal": "S",
                                    "series_title": "Women employees",
                                    "footnote_codes": "NULL",
                                    "begin_year": "NULL",
                                    "begin_period": "NULL",
                                    "end_year": "NULL",
                                    "end_period": "NULL",
                                    "data_type_text": "WOMEN EMPLOYEES"
                                },
                                {
                                    "series_id": "CES0700000025",
                                    "supersector_code": "7",
                                    "industry_code": "7000000",
                                    "data_type_code": "25",
                                    "seasonal": "S",
                                    "series_title": "All employees",
                                    "footnote_codes": "NULL",
                                    "begin_year": "NULL",
                                    "begin_period": "NULL",
                                    "end_year": "NULL",
                                    "end_period": "NULL",
                                    "data_type_text": "ALL EMPLOYEES"
                                },
                                {
                                    "series_id": "CES0800000001",
                                    "supersector_code": "8",
                                    "industry_code": "8000000",
                                    "data_type_code": "1",
                                    "seasonal": "S",
                                    "series_title": "All employees",
                                    "footnote_codes": "NULL",
                                    "begin_year": "NULL",
                                    "begin_period": "NULL",
                                    "end_year": "NULL",
                                    "end_period": "NULL",
                                    "data_type_text": "ALL EMPLOYEES"
                                },
                                {
                                    "series_id": "CES0800000002",
                                    "supersector_code": "8",
                                    "industry_code": "8000000",
                                    "data_type_code": "2",
                                    "seasonal": "S",
                                    "series_title": "Average weekly hours of all employees",
                                    "footnote_codes": "NULL",
                                    "begin_year": "NULL",
                                    "begin_period": "NULL",
                                    "end_year": "NULL",
                                    "end_period": "NULL",
                                    "data_type_text": "AVERAGE WEEKLY HOURS OF ALL EMPLOYEES"
                                },
                                {
                                    "series_id": "CES0800000003",
                                    "supersector_code": "8",
                                    "industry_code": "8000000",
                                    "data_type_code": "3",
                                    "seasonal": "S",
                                    "series_title": "Average hourly earnings of all employees",
                                    "footnote_codes": "NULL",
                                    "begin_year": "NULL",
                                    "begin_period": "NULL",
                                    "end_year": "NULL",
                                    "end_period": "NULL",
                                    "data_type_text": "AVERAGE HOURLY EARNINGS OF ALL EMPLOYEES"
                                },
                                {
                                    "series_id": "CES0800000006",
                                    "supersector_code": "8",
                                    "industry_code": "8000000",
                                    "data_type_code": "6",
                                    "seasonal": "S",
                                    "series_title": "Production and nonsupervisory employees",
                                    "footnote_codes": "NULL",
                                    "begin_year": "NULL",
                                    "begin_period": "NULL",
                                    "end_year": "NULL",
                                    "end_period": "NULL",
                                    "data_type_text": "PRODUCTION AND NONSUPERVISORY EMPLOYEES"
                                },
                                {
                                    "series_id": "CES0800000007",
                                    "supersector_code": "8",
                                    "industry_code": "8000000",
                                    "data_type_code": "7",
                                    "seasonal": "S",
                                    "series_title": "Average weekly hours of production and nonsupervisory employees",
                                    "footnote_codes": "NULL",
                                    "begin_year": "NULL",
                                    "begin_period": "NULL",
                                    "end_year": "NULL",
                                    "end_period": "NULL",
                                    "data_type_text": "AVERAGE WEEKLY HOURS OF PRODUCTION AND NONSUPERVISORY EMPLOYEES"
                                },
                                {
                                    "series_id": "CES0800000008",
                                    "supersector_code": "8",
                                    "industry_code": "8000000",
                                    "data_type_code": "8",
                                    "seasonal": "S",
                                    "series_title": "Average hourly earnings of production and nonsupervisory employees",
                                    "footnote_codes": "NULL",
                                    "begin_year": "NULL",
                                    "begin_period": "NULL",
                                    "end_year": "NULL",
                                    "end_period": "NULL",
                                    "data_type_text": "AVERAGE HOURLY EARNINGS OF PRODUCTION AND NONSUPERVISORY EMPLOYEES"
                                },
                                {
                                    "series_id": "CES0800000010",
                                    "supersector_code": "8",
                                    "industry_code": "8000000",
                                    "data_type_code": "10",
                                    "seasonal": "S",
                                    "series_title": "Women employees",
                                    "footnote_codes": "NULL",
                                    "begin_year": "NULL",
                                    "begin_period": "NULL",
                                    "end_year": "NULL",
                                    "end_period": "NULL",
                                    "data_type_text": "WOMEN EMPLOYEES"
                                },
                                {
                                    "series_id": "CES0800000011",
                                    "supersector_code": "8",
                                    "industry_code": "8000000",
                                    "data_type_code": "11",
                                    "seasonal": "S",
                                    "series_title": "Average weekly earnings of all employees",
                                    "footnote_codes": "NULL",
                                    "begin_year": "NULL",
                                    "begin_period": "NULL",
                                    "end_year": "NULL",
                                    "end_period": "NULL",
                                    "data_type_text": "AVERAGE WEEKLY EARNINGS OF ALL EMPLOYEES"
                                },
                                {
                                    "series_id": "CES0800000012",
                                    "supersector_code": "8",
                                    "industry_code": "8000000",
                                    "data_type_code": "12",
                                    "seasonal": "S",
                                    "series_title": "Average weekly earnings of all employees",
                                    "footnote_codes": "NULL",
                                    "begin_year": "NULL",
                                    "begin_period": "NULL",
                                    "end_year": "NULL",
                                    "end_period": "NULL",
                                    "data_type_text": "AVERAGE WEEKLY EARNINGS OF ALL EMPLOYEES"
                                },
                                {
                                    "series_id": "CES0800000013",
                                    "supersector_code": "8",
                                    "industry_code": "8000000",
                                    "data_type_code": "13",
                                    "seasonal": "S",
                                    "series_title": "Average hourly earnings of all employees",
                                    "footnote_codes": "NULL",
                                    "begin_year": "NULL",
                                    "begin_period": "NULL",
                                    "end_year": "NULL",
                                    "end_period": "NULL",
                                    "data_type_text": "AVERAGE HOURLY EARNINGS OF ALL EMPLOYEES"
                                },
                                {
                                    "series_id": "CES0800000016",
                                    "supersector_code": "8",
                                    "industry_code": "8000000",
                                    "data_type_code": "16",
                                    "seasonal": "S",
                                    "series_title": "Indexes of aggregate weekly hours of all employees",
                                    "footnote_codes": "NULL",
                                    "begin_year": "NULL",
                                    "begin_period": "NULL",
                                    "end_year": "NULL",
                                    "end_period": "NULL",
                                    "data_type_text": "INDEXES OF AGGREGATE WEEKLY HOURS OF ALL EMPLOYEES"
                                },
                                {
                                    "series_id": "CES0800000017",
                                    "supersector_code": "8",
                                    "industry_code": "8000000",
                                    "data_type_code": "17",
                                    "seasonal": "S",
                                    "series_title": "Indexes of aggregate weekly payrolls of all employees",
                                    "footnote_codes": "NULL",
                                    "begin_year": "NULL",
                                    "begin_period": "NULL",
                                    "end_year": "NULL",
                                    "end_period": "NULL",
                                    "data_type_text": "INDEXES OF AGGREGATE WEEKLY PAYROLLS OF ALL EMPLOYEES"
                                },
                                {
                                    "series_id": "CES0800000030",
                                    "supersector_code": "8",
                                    "industry_code": "8000000",
                                    "data_type_code": "30",
                                    "seasonal": "S",
                                    "series_title": "Average weekly earnings of production and nonsupervisory employees",
                                    "footnote_codes": "NULL",
                                    "begin_year": "NULL",
                                    "begin_period": "NULL",
                                    "end_year": "NULL",
                                    "end_period": "NULL",
                                    "data_type_text": "AVERAGE WEEKLY EARNINGS OF PRODUCTION AND NONSUPERVISORY EMPLOYEES"
                                },
                                {
                                    "series_id": "CES0800000031",
                                    "supersector_code": "8",
                                    "industry_code": "8000000",
                                    "data_type_code": "31",
                                    "seasonal": "S",
                                    "series_title": "Average weekly earnings of production and nonsupervisory employees",
                                    "footnote_codes": "NULL",
                                    "begin_year": "NULL",
                                    "begin_period": "NULL",
                                    "end_year": "NULL",
                                    "end_period": "NULL",
                                    "data_type_text": "AVERAGE WEEKLY EARNINGS OF PRODUCTION AND NONSUPERVISORY EMPLOYEES"
                                },
                                {
                                    "series_id": "CES0800000032",
                                    "supersector_code": "8",
                                    "industry_code": "8000000",
                                    "data_type_code": "32",
                                    "seasonal": "S",
                                    "series_title": "Average hourly earnings of production and nonsupervisory employees",
                                    "footnote_codes": "NULL",
                                    "begin_year": "NULL",
                                    "begin_period": "NULL",
                                    "end_year": "NULL",
                                    "end_period": "NULL",
                                    "data_type_text": "AVERAGE HOURLY EARNINGS OF PRODUCTION AND NONSUPERVISORY EMPLOYEES"
                                },
                                {
                                    "series_id": "CES0800000034",
                                    "supersector_code": "8",
                                    "industry_code": "8000000",
                                    "data_type_code": "34",
                                    "seasonal": "S",
                                    "series_title": "Indexes of aggregate weekly hours of production and nonsupervisory employees",
                                    "footnote_codes": "NULL",
                                    "begin_year": "NULL",
                                    "begin_period": "NULL",
                                    "end_year": "NULL",
                                    "end_period": "NULL",
                                    "data_type_text": "INDEXES OF AGGREGATE WEEKLY HOURS OF PRODUCTION AND NONSUPERVISORY EMPLOYEES"
                                },
                                {
                                    "series_id": "CES0800000035",
                                    "supersector_code": "8",
                                    "industry_code": "8000000",
                                    "data_type_code": "35",
                                    "seasonal": "S",
                                    "series_title": "Indexes of aggregate weekly payrolls of production and nonsupervisory employees",
                                    "footnote_codes": "NULL",
                                    "begin_year": "NULL",
                                    "begin_period": "NULL",
                                    "end_year": "NULL",
                                    "end_period": "NULL",
                                    "data_type_text": "INDEXES OF AGGREGATE WEEKLY PAYROLLS OF PRODUCTION AND NONSUPERVISORY EMPLOYEES"
                                },
                                {
                                    "series_id": "CES0800000056",
                                    "supersector_code": "8",
                                    "industry_code": "8000000",
                                    "data_type_code": "56",
                                    "seasonal": "S",
                                    "series_title": "Aggregate weekly hours of all employees",
                                    "footnote_codes": "NULL",
                                    "begin_year": "NULL",
                                    "begin_period": "NULL",
                                    "end_year": "NULL",
                                    "end_period": "NULL",
                                    "data_type_text": "AGGREGATE WEEKLY HOURS OF ALL EMPLOYEES"
                                },
                                {
                                    "series_id": "CES0800000057",
                                    "supersector_code": "8",
                                    "industry_code": "8000000",
                                    "data_type_code": "57",
                                    "seasonal": "S",
                                    "series_title": "Aggregate weekly payrolls of all employees",
                                    "footnote_codes": "NULL",
                                    "begin_year": "NULL",
                                    "begin_period": "NULL",
                                    "end_year": "NULL",
                                    "end_period": "NULL",
                                    "data_type_text": "AGGREGATE WEEKLY PAYROLLS OF ALL EMPLOYEES"
                                },
                                {
                                    "series_id": "CES0800000081",
                                    "supersector_code": "8",
                                    "industry_code": "8000000",
                                    "data_type_code": "81",
                                    "seasonal": "S",
                                    "series_title": "Aggregate weekly hours of production and nonsupervisory employees",
                                    "footnote_codes": "NULL",
                                    "begin_year": "NULL",
                                    "begin_period": "NULL",
                                    "end_year": "NULL",
                                    "end_period": "NULL",
                                    "data_type_text": "AGGREGATE WEEKLY HOURS OF PRODUCTION AND NONSUPERVISORY EMPLOYEES"
                                },
                                {
                                    "series_id": "CES0800000082",
                                    "supersector_code": "8",
                                    "industry_code": "8000000",
                                    "data_type_code": "82",
                                    "seasonal": "S",
                                    "series_title": "Aggregate weekly payrolls of production and nonsupervisory employees",
                                    "footnote_codes": "NULL",
                                    "begin_year": "NULL",
                                    "begin_period": "NULL",
                                    "end_year": "NULL",
                                    "end_period": "NULL",
                                    "data_type_text": "AGGREGATE WEEKLY PAYROLLS OF PRODUCTION AND NONSUPERVISORY EMPLOYEES"
                                },
                                {
                                    "series_id": "CES1000000001",
                                    "supersector_code": "10",
                                    "industry_code": "10000000",
                                    "data_type_code": "1",
                                    "seasonal": "S",
                                    "series_title": "All employees",
                                    "footnote_codes": "NULL",
                                    "begin_year": "NULL",
                                    "begin_period": "NULL",
                                    "end_year": "NULL",
                                    "end_period": "NULL",
                                    "data_type_text": "ALL EMPLOYEES"
                                },
                                {
                                    "series_id": "CES1000000002",
                                    "supersector_code": "10",
                                    "industry_code": "10000000",
                                    "data_type_code": "2",
                                    "seasonal": "S",
                                    "series_title": "Average weekly hours of all employees",
                                    "footnote_codes": "NULL",
                                    "begin_year": "NULL",
                                    "begin_period": "NULL",
                                    "end_year": "NULL",
                                    "end_period": "NULL",
                                    "data_type_text": "AVERAGE WEEKLY HOURS OF ALL EMPLOYEES"
                                },
                                {
                                    "series_id": "CES1000000003",
                                    "supersector_code": "10",
                                    "industry_code": "10000000",
                                    "data_type_code": "3",
                                    "seasonal": "S",
                                    "series_title": "Average hourly earnings of all employees",
                                    "footnote_codes": "NULL",
                                    "begin_year": "NULL",
                                    "begin_period": "NULL",
                                    "end_year": "NULL",
                                    "end_period": "NULL",
                                    "data_type_text": "AVERAGE HOURLY EARNINGS OF ALL EMPLOYEES"
                                },
                                {
                                    "series_id": "CES1000000006",
                                    "supersector_code": "10",
                                    "industry_code": "10000000",
                                    "data_type_code": "6",
                                    "seasonal": "S",
                                    "series_title": "Production and nonsupervisory employees",
                                    "footnote_codes": "NULL",
                                    "begin_year": "NULL",
                                    "begin_period": "NULL",
                                    "end_year": "NULL",
                                    "end_period": "NULL",
                                    "data_type_text": "PRODUCTION AND NONSUPERVISORY EMPLOYEES"
                                },
                                {
                                    "series_id": "CES1000000007",
                                    "supersector_code": "10",
                                    "industry_code": "10000000",
                                    "data_type_code": "7",
                                    "seasonal": "S",
                                    "series_title": "Average weekly hours of production and nonsupervisory employees",
                                    "footnote_codes": "NULL",
                                    "begin_year": "NULL",
                                    "begin_period": "NULL",
                                    "end_year": "NULL",
                                    "end_period": "NULL",
                                    "data_type_text": "AVERAGE WEEKLY HOURS OF PRODUCTION AND NONSUPERVISORY EMPLOYEES"
                                },
                                {
                                    "series_id": "CES1000000008",
                                    "supersector_code": "10",
                                    "industry_code": "10000000",
                                    "data_type_code": "8",
                                    "seasonal": "S",
                                    "series_title": "Average hourly earnings of production and nonsupervisory employees",
                                    "footnote_codes": "NULL",
                                    "begin_year": "NULL",
                                    "begin_period": "NULL",
                                    "end_year": "NULL",
                                    "end_period": "NULL",
                                    "data_type_text": "AVERAGE HOURLY EARNINGS OF PRODUCTION AND NONSUPERVISORY EMPLOYEES"
                                },
                                {
                                    "series_id": "CES1000000010",
                                    "supersector_code": "10",
                                    "industry_code": "10000000",
                                    "data_type_code": "10",
                                    "seasonal": "S",
                                    "series_title": "Women employees",
                                    "footnote_codes": "NULL",
                                    "begin_year": "NULL",
                                    "begin_period": "NULL",
                                    "end_year": "NULL",
                                    "end_period": "NULL",
                                    "data_type_text": "WOMEN EMPLOYEES"
                                },
                                {
                                    "series_id": "CES1000000011",
                                    "supersector_code": "10",
                                    "industry_code": "10000000",
                                    "data_type_code": "11",
                                    "seasonal": "S",
                                    "series_title": "Average weekly earnings of all employees",
                                    "footnote_codes": "NULL",
                                    "begin_year": "NULL",
                                    "begin_period": "NULL",
                                    "end_year": "NULL",
                                    "end_period": "NULL",
                                    "data_type_text": "AVERAGE WEEKLY EARNINGS OF ALL EMPLOYEES"
                                },
                                {
                                    "series_id": "CES1000000012",
                                    "supersector_code": "10",
                                    "industry_code": "10000000",
                                    "data_type_code": "12",
                                    "seasonal": "S",
                                    "series_title": "Average weekly earnings of all employees",
                                    "footnote_codes": "NULL",
                                    "begin_year": "NULL",
                                    "begin_period": "NULL",
                                    "end_year": "NULL",
                                    "end_period": "NULL",
                                    "data_type_text": "AVERAGE WEEKLY EARNINGS OF ALL EMPLOYEES"
                                },
                                {
                                    "series_id": "CES1000000013",
                                    "supersector_code": "10",
                                    "industry_code": "10000000",
                                    "data_type_code": "13",
                                    "seasonal": "S",
                                    "series_title": "Average hourly earnings of all employees",
                                    "footnote_codes": "NULL",
                                    "begin_year": "NULL",
                                    "begin_period": "NULL",
                                    "end_year": "NULL",
                                    "end_period": "NULL",
                                    "data_type_text": "AVERAGE HOURLY EARNINGS OF ALL EMPLOYEES"
                                },
                                {
                                    "series_id": "CES1000000016",
                                    "supersector_code": "10",
                                    "industry_code": "10000000",
                                    "data_type_code": "16",
                                    "seasonal": "S",
                                    "series_title": "Indexes of aggregate weekly hours of all employees",
                                    "footnote_codes": "NULL",
                                    "begin_year": "NULL",
                                    "begin_period": "NULL",
                                    "end_year": "NULL",
                                    "end_period": "NULL",
                                    "data_type_text": "INDEXES OF AGGREGATE WEEKLY HOURS OF ALL EMPLOYEES"
                                },
                                {
                                    "series_id": "CES1000000017",
                                    "supersector_code": "10",
                                    "industry_code": "10000000",
                                    "data_type_code": "17",
                                    "seasonal": "S",
                                    "series_title": "Indexes of aggregate weekly payrolls of all employees",
                                    "footnote_codes": "NULL",
                                    "begin_year": "NULL",
                                    "begin_period": "NULL",
                                    "end_year": "NULL",
                                    "end_period": "NULL",
                                    "data_type_text": "INDEXES OF AGGREGATE WEEKLY PAYROLLS OF ALL EMPLOYEES"
                                },
                                {
                                    "series_id": "CES1000000030",
                                    "supersector_code": "10",
                                    "industry_code": "10000000",
                                    "data_type_code": "30",
                                    "seasonal": "S",
                                    "series_title": "Average weekly earnings of production and nonsupervisory employees",
                                    "footnote_codes": "NULL",
                                    "begin_year": "NULL",
                                    "begin_period": "NULL",
                                    "end_year": "NULL",
                                    "end_period": "NULL",
                                    "data_type_text": "AVERAGE WEEKLY EARNINGS OF PRODUCTION AND NONSUPERVISORY EMPLOYEES"
                                },
                                {
                                    "series_id": "CES1000000031",
                                    "supersector_code": "10",
                                    "industry_code": "10000000",
                                    "data_type_code": "31",
                                    "seasonal": "S",
                                    "series_title": "Average weekly earnings of production and nonsupervisory employees",
                                    "footnote_codes": "NULL",
                                    "begin_year": "NULL",
                                    "begin_period": "NULL",
                                    "end_year": "NULL",
                                    "end_period": "NULL",
                                    "data_type_text": "AVERAGE WEEKLY EARNINGS OF PRODUCTION AND NONSUPERVISORY EMPLOYEES"
                                },
                                {
                                    "series_id": "CES1000000032",
                                    "supersector_code": "10",
                                    "industry_code": "10000000",
                                    "data_type_code": "32",
                                    "seasonal": "S",
                                    "series_title": "Average hourly earnings of production and nonsupervisory employees",
                                    "footnote_codes": "NULL",
                                    "begin_year": "NULL",
                                    "begin_period": "NULL",
                                    "end_year": "NULL",
                                    "end_period": "NULL",
                                    "data_type_text": "AVERAGE HOURLY EARNINGS OF PRODUCTION AND NONSUPERVISORY EMPLOYEES"
                                },
                                {
                                    "series_id": "CES1000000034",
                                    "supersector_code": "10",
                                    "industry_code": "10000000",
                                    "data_type_code": "34",
                                    "seasonal": "S",
                                    "series_title": "Indexes of aggregate weekly hours of production and nonsupervisory employees",
                                    "footnote_codes": "NULL",
                                    "begin_year": "NULL",
                                    "begin_period": "NULL",
                                    "end_year": "NULL",
                                    "end_period": "NULL",
                                    "data_type_text": "INDEXES OF AGGREGATE WEEKLY HOURS OF PRODUCTION AND NONSUPERVISORY EMPLOYEES"
                                },
                                {
                                    "series_id": "CES1000000035",
                                    "supersector_code": "10",
                                    "industry_code": "10000000",
                                    "data_type_code": "35",
                                    "seasonal": "S",
                                    "series_title": "Indexes of aggregate weekly payrolls of production and nonsupervisory employees",
                                    "footnote_codes": "NULL",
                                    "begin_year": "NULL",
                                    "begin_period": "NULL",
                                    "end_year": "NULL",
                                    "end_period": "NULL",
                                    "data_type_text": "INDEXES OF AGGREGATE WEEKLY PAYROLLS OF PRODUCTION AND NONSUPERVISORY EMPLOYEES"
                                },
                                {
                                    "series_id": "CES1000000056",
                                    "supersector_code": "10",
                                    "industry_code": "10000000",
                                    "data_type_code": "56",
                                    "seasonal": "S",
                                    "series_title": "Aggregate weekly hours of all employees",
                                    "footnote_codes": "NULL",
                                    "begin_year": "NULL",
                                    "begin_period": "NULL",
                                    "end_year": "NULL",
                                    "end_period": "NULL",
                                    "data_type_text": "AGGREGATE WEEKLY HOURS OF ALL EMPLOYEES"
                                },
                                {
                                    "series_id": "CES1000000057",
                                    "supersector_code": "10",
                                    "industry_code": "10000000",
                                    "data_type_code": "57",
                                    "seasonal": "S",
                                    "series_title": "Aggregate weekly payrolls of all employees",
                                    "footnote_codes": "NULL",
                                    "begin_year": "NULL",
                                    "begin_period": "NULL",
                                    "end_year": "NULL",
                                    "end_period": "NULL",
                                    "data_type_text": "AGGREGATE WEEKLY PAYROLLS OF ALL EMPLOYEES"
                                },
                                {
                                    "series_id": "CES1000000081",
                                    "supersector_code": "10",
                                    "industry_code": "10000000",
                                    "data_type_code": "81",
                                    "seasonal": "S",
                                    "series_title": "Aggregate weekly hours of production and nonsupervisory employees",
                                    "footnote_codes": "NULL",
                                    "begin_year": "NULL",
                                    "begin_period": "NULL",
                                    "end_year": "NULL",
                                    "end_period": "NULL",
                                    "data_type_text": "AGGREGATE WEEKLY HOURS OF PRODUCTION AND NONSUPERVISORY EMPLOYEES"
                                },
                                {
                                    "series_id": "CES1000000082",
                                    "supersector_code": "10",
                                    "industry_code": "10000000",
                                    "data_type_code": "82",
                                    "seasonal": "S",
                                    "series_title": "Aggregate weekly payrolls of production and nonsupervisory employees",
                                    "footnote_codes": "NULL",
                                    "begin_year": "NULL",
                                    "begin_period": "NULL",
                                    "end_year": "NULL",
                                    "end_period": "NULL",
                                    "data_type_text": "AGGREGATE WEEKLY PAYROLLS OF PRODUCTION AND NONSUPERVISORY EMPLOYEES"
                                },
                                {
                                    "series_id": "CES1011330001",
                                    "supersector_code": "10",
                                    "industry_code": "10113300",
                                    "data_type_code": "1",
                                    "seasonal": "S",
                                    "series_title": "All employees",
                                    "footnote_codes": "NULL",
                                    "begin_year": "NULL",
                                    "begin_period": "NULL",
                                    "end_year": "NULL",
                                    "end_period": "NULL",
                                    "data_type_text": "ALL EMPLOYEES"
                                }
                            ]
                        },
                        "text/html": [
                            "<table>",
                            "<tr><th>series_id</th><th>supersector_code</th><th>industry_code</th><th>data_type_code</th><th>seasonal</th><th>series_title</th><th>footnote_codes</th><th>begin_year</th><th>begin_period</th><th>end_year</th><th>end_period</th><th>data_type_code</th><th>data_type_text</th></tr>",
                            "<tr><td>CES0000000001</td><td>0</td><td>0</td><td>1</td><td>S</td><td>All employees</td><td>NULL</td><td>NULL</td><td>NULL</td><td>NULL</td><td>NULL</td><td>1</td><td>ALL EMPLOYEES</td></tr>",
                            "<tr><td>CES0000000010</td><td>0</td><td>0</td><td>10</td><td>S</td><td>Women employees</td><td>NULL</td><td>NULL</td><td>NULL</td><td>NULL</td><td>NULL</td><td>10</td><td>WOMEN EMPLOYEES</td></tr>",
                            "<tr><td>CES0000000025</td><td>0</td><td>0</td><td>25</td><td>S</td><td>All employees</td><td>NULL</td><td>NULL</td><td>NULL</td><td>NULL</td><td>NULL</td><td>25</td><td>ALL EMPLOYEES</td></tr>",
                            "<tr><td>CES0000000026</td><td>0</td><td>0</td><td>26</td><td>S</td><td>All employees</td><td>NULL</td><td>NULL</td><td>NULL</td><td>NULL</td><td>NULL</td><td>26</td><td>ALL EMPLOYEES</td></tr>",
                            "<tr><td>CES0500000001</td><td>5</td><td>5000000</td><td>1</td><td>S</td><td>All employees</td><td>NULL</td><td>NULL</td><td>NULL</td><td>NULL</td><td>NULL</td><td>1</td><td>ALL EMPLOYEES</td></tr>",
                            "<tr><td>CES0500000002</td><td>5</td><td>5000000</td><td>2</td><td>S</td><td>Average weekly hours of all employees</td><td>NULL</td><td>NULL</td><td>NULL</td><td>NULL</td><td>NULL</td><td>2</td><td>AVERAGE WEEKLY HOURS OF ALL EMPLOYEES</td></tr>",
                            "<tr><td>CES0500000003</td><td>5</td><td>5000000</td><td>3</td><td>S</td><td>Average hourly earnings of all employees</td><td>NULL</td><td>NULL</td><td>NULL</td><td>NULL</td><td>NULL</td><td>3</td><td>AVERAGE HOURLY EARNINGS OF ALL EMPLOYEES</td></tr>",
                            "<tr><td>CES0500000006</td><td>5</td><td>5000000</td><td>6</td><td>S</td><td>Production and nonsupervisory employees</td><td>NULL</td><td>NULL</td><td>NULL</td><td>NULL</td><td>NULL</td><td>6</td><td>PRODUCTION AND NONSUPERVISORY EMPLOYEES</td></tr>",
                            "<tr><td>CES0500000007</td><td>5</td><td>5000000</td><td>7</td><td>S</td><td>Average weekly hours of production and nonsupervisory employees</td><td>NULL</td><td>NULL</td><td>NULL</td><td>NULL</td><td>NULL</td><td>7</td><td>AVERAGE WEEKLY HOURS OF PRODUCTION AND NONSUPERVISORY EMPLOYEES</td></tr>",
                            "<tr><td>CES0500000008</td><td>5</td><td>5000000</td><td>8</td><td>S</td><td>Average hourly earnings of production and nonsupervisory employees</td><td>NULL</td><td>NULL</td><td>NULL</td><td>NULL</td><td>NULL</td><td>8</td><td>AVERAGE HOURLY EARNINGS OF PRODUCTION AND NONSUPERVISORY EMPLOYEES</td></tr>",
                            "<tr><td>CES0500000010</td><td>5</td><td>5000000</td><td>10</td><td>S</td><td>Women employees</td><td>NULL</td><td>NULL</td><td>NULL</td><td>NULL</td><td>NULL</td><td>10</td><td>WOMEN EMPLOYEES</td></tr>",
                            "<tr><td>CES0500000011</td><td>5</td><td>5000000</td><td>11</td><td>S</td><td>Average weekly earnings of all employees</td><td>NULL</td><td>NULL</td><td>NULL</td><td>NULL</td><td>NULL</td><td>11</td><td>AVERAGE WEEKLY EARNINGS OF ALL EMPLOYEES</td></tr>",
                            "<tr><td>CES0500000012</td><td>5</td><td>5000000</td><td>12</td><td>S</td><td>Average weekly earnings of all employees</td><td>NULL</td><td>NULL</td><td>NULL</td><td>NULL</td><td>NULL</td><td>12</td><td>AVERAGE WEEKLY EARNINGS OF ALL EMPLOYEES</td></tr>",
                            "<tr><td>CES0500000013</td><td>5</td><td>5000000</td><td>13</td><td>S</td><td>Average hourly earnings of all employees</td><td>NULL</td><td>NULL</td><td>NULL</td><td>NULL</td><td>NULL</td><td>13</td><td>AVERAGE HOURLY EARNINGS OF ALL EMPLOYEES</td></tr>",
                            "<tr><td>CES0500000016</td><td>5</td><td>5000000</td><td>16</td><td>S</td><td>Indexes of aggregate weekly hours of all employees</td><td>NULL</td><td>NULL</td><td>NULL</td><td>NULL</td><td>NULL</td><td>16</td><td>INDEXES OF AGGREGATE WEEKLY HOURS OF ALL EMPLOYEES</td></tr>",
                            "<tr><td>CES0500000017</td><td>5</td><td>5000000</td><td>17</td><td>S</td><td>Indexes of aggregate weekly payrolls of all employees</td><td>NULL</td><td>NULL</td><td>NULL</td><td>NULL</td><td>NULL</td><td>17</td><td>INDEXES OF AGGREGATE WEEKLY PAYROLLS OF ALL EMPLOYEES</td></tr>",
                            "<tr><td>CES0500000019</td><td>5</td><td>5000000</td><td>19</td><td>S</td><td>Average weekly hours of all employees</td><td>NULL</td><td>NULL</td><td>NULL</td><td>NULL</td><td>NULL</td><td>19</td><td>AVERAGE WEEKLY HOURS OF ALL EMPLOYEES</td></tr>",
                            "<tr><td>CES0500000021</td><td>5</td><td>5000000</td><td>21</td><td>S</td><td>Diffusion indexes</td><td>NULL</td><td>NULL</td><td>NULL</td><td>NULL</td><td>NULL</td><td>21</td><td>DIFFUSION INDEXES</td></tr>",
                            "<tr><td>CES0500000022</td><td>5</td><td>5000000</td><td>22</td><td>S</td><td>Diffusion indexes</td><td>NULL</td><td>NULL</td><td>NULL</td><td>NULL</td><td>NULL</td><td>22</td><td>DIFFUSION INDEXES</td></tr>",
                            "<tr><td>CES0500000023</td><td>5</td><td>5000000</td><td>23</td><td>S</td><td>Diffusion indexes</td><td>NULL</td><td>NULL</td><td>NULL</td><td>NULL</td><td>NULL</td><td>23</td><td>DIFFUSION INDEXES</td></tr>",
                            "<tr><td>CES0500000025</td><td>5</td><td>5000000</td><td>25</td><td>S</td><td>All employees</td><td>NULL</td><td>NULL</td><td>NULL</td><td>NULL</td><td>NULL</td><td>25</td><td>ALL EMPLOYEES</td></tr>",
                            "<tr><td>CES0500000026</td><td>5</td><td>5000000</td><td>26</td><td>S</td><td>All employees</td><td>NULL</td><td>NULL</td><td>NULL</td><td>NULL</td><td>NULL</td><td>26</td><td>ALL EMPLOYEES</td></tr>",
                            "<tr><td>CES0500000030</td><td>5</td><td>5000000</td><td>30</td><td>S</td><td>Average weekly earnings of production and nonsupervisory employees</td><td>NULL</td><td>NULL</td><td>NULL</td><td>NULL</td><td>NULL</td><td>30</td><td>AVERAGE WEEKLY EARNINGS OF PRODUCTION AND NONSUPERVISORY EMPLOYEES</td></tr>",
                            "<tr><td>CES0500000031</td><td>5</td><td>5000000</td><td>31</td><td>S</td><td>Average weekly earnings of production and nonsupervisory employees</td><td>NULL</td><td>NULL</td><td>NULL</td><td>NULL</td><td>NULL</td><td>31</td><td>AVERAGE WEEKLY EARNINGS OF PRODUCTION AND NONSUPERVISORY EMPLOYEES</td></tr>",
                            "<tr><td>CES0500000032</td><td>5</td><td>5000000</td><td>32</td><td>S</td><td>Average hourly earnings of production and nonsupervisory employees</td><td>NULL</td><td>NULL</td><td>NULL</td><td>NULL</td><td>NULL</td><td>32</td><td>AVERAGE HOURLY EARNINGS OF PRODUCTION AND NONSUPERVISORY EMPLOYEES</td></tr>",
                            "<tr><td>CES0500000034</td><td>5</td><td>5000000</td><td>34</td><td>S</td><td>Indexes of aggregate weekly hours of production and nonsupervisory employees</td><td>NULL</td><td>NULL</td><td>NULL</td><td>NULL</td><td>NULL</td><td>34</td><td>INDEXES OF AGGREGATE WEEKLY HOURS OF PRODUCTION AND NONSUPERVISORY EMPLOYEES</td></tr>",
                            "<tr><td>CES0500000035</td><td>5</td><td>5000000</td><td>35</td><td>S</td><td>Indexes of aggregate weekly payrolls of production and nonsupervisory employees</td><td>NULL</td><td>NULL</td><td>NULL</td><td>NULL</td><td>NULL</td><td>35</td><td>INDEXES OF AGGREGATE WEEKLY PAYROLLS OF PRODUCTION AND NONSUPERVISORY EMPLOYEES</td></tr>",
                            "<tr><td>CES0500000036</td><td>5</td><td>5000000</td><td>36</td><td>S</td><td>Average weekly hours</td><td>NULL</td><td>NULL</td><td>NULL</td><td>NULL</td><td>NULL</td><td>36</td><td>AVERAGE WEEKLY HOURS</td></tr>",
                            "<tr><td>CES0500000056</td><td>5</td><td>5000000</td><td>56</td><td>S</td><td>Aggregate weekly hours of all employees</td><td>NULL</td><td>NULL</td><td>NULL</td><td>NULL</td><td>NULL</td><td>56</td><td>AGGREGATE WEEKLY HOURS OF ALL EMPLOYEES</td></tr>",
                            "<tr><td>CES0500000057</td><td>5</td><td>5000000</td><td>57</td><td>S</td><td>Aggregate weekly payrolls of all employees</td><td>NULL</td><td>NULL</td><td>NULL</td><td>NULL</td><td>NULL</td><td>57</td><td>AGGREGATE WEEKLY PAYROLLS OF ALL EMPLOYEES</td></tr>",
                            "<tr><td>CES0500000081</td><td>5</td><td>5000000</td><td>81</td><td>S</td><td>Aggregate weekly hours of production and nonsupervisory employees</td><td>NULL</td><td>NULL</td><td>NULL</td><td>NULL</td><td>NULL</td><td>81</td><td>AGGREGATE WEEKLY HOURS OF PRODUCTION AND NONSUPERVISORY EMPLOYEES</td></tr>",
                            "<tr><td>CES0500000082</td><td>5</td><td>5000000</td><td>82</td><td>S</td><td>Aggregate weekly payrolls of production and nonsupervisory employees</td><td>NULL</td><td>NULL</td><td>NULL</td><td>NULL</td><td>NULL</td><td>82</td><td>AGGREGATE WEEKLY PAYROLLS OF PRODUCTION AND NONSUPERVISORY EMPLOYEES</td></tr>",
                            "<tr><td>CES0600000001</td><td>6</td><td>6000000</td><td>1</td><td>S</td><td>All employees</td><td>NULL</td><td>NULL</td><td>NULL</td><td>NULL</td><td>NULL</td><td>1</td><td>ALL EMPLOYEES</td></tr>",
                            "<tr><td>CES0600000002</td><td>6</td><td>6000000</td><td>2</td><td>S</td><td>Average weekly hours of all employees</td><td>NULL</td><td>NULL</td><td>NULL</td><td>NULL</td><td>NULL</td><td>2</td><td>AVERAGE WEEKLY HOURS OF ALL EMPLOYEES</td></tr>",
                            "<tr><td>CES0600000003</td><td>6</td><td>6000000</td><td>3</td><td>S</td><td>Average hourly earnings of all employees</td><td>NULL</td><td>NULL</td><td>NULL</td><td>NULL</td><td>NULL</td><td>3</td><td>AVERAGE HOURLY EARNINGS OF ALL EMPLOYEES</td></tr>",
                            "<tr><td>CES0600000006</td><td>6</td><td>6000000</td><td>6</td><td>S</td><td>Production and nonsupervisory employees</td><td>NULL</td><td>NULL</td><td>NULL</td><td>NULL</td><td>NULL</td><td>6</td><td>PRODUCTION AND NONSUPERVISORY EMPLOYEES</td></tr>",
                            "<tr><td>CES0600000007</td><td>6</td><td>6000000</td><td>7</td><td>S</td><td>Average weekly hours of production and nonsupervisory employees</td><td>NULL</td><td>NULL</td><td>NULL</td><td>NULL</td><td>NULL</td><td>7</td><td>AVERAGE WEEKLY HOURS OF PRODUCTION AND NONSUPERVISORY EMPLOYEES</td></tr>",
                            "<tr><td>CES0600000008</td><td>6</td><td>6000000</td><td>8</td><td>S</td><td>Average hourly earnings of production and nonsupervisory employees</td><td>NULL</td><td>NULL</td><td>NULL</td><td>NULL</td><td>NULL</td><td>8</td><td>AVERAGE HOURLY EARNINGS OF PRODUCTION AND NONSUPERVISORY EMPLOYEES</td></tr>",
                            "<tr><td>CES0600000010</td><td>6</td><td>6000000</td><td>10</td><td>S</td><td>Women employees</td><td>NULL</td><td>NULL</td><td>NULL</td><td>NULL</td><td>NULL</td><td>10</td><td>WOMEN EMPLOYEES</td></tr>",
                            "<tr><td>CES0600000011</td><td>6</td><td>6000000</td><td>11</td><td>S</td><td>Average weekly earnings of all employees</td><td>NULL</td><td>NULL</td><td>NULL</td><td>NULL</td><td>NULL</td><td>11</td><td>AVERAGE WEEKLY EARNINGS OF ALL EMPLOYEES</td></tr>",
                            "<tr><td>CES0600000012</td><td>6</td><td>6000000</td><td>12</td><td>S</td><td>Average weekly earnings of all employees</td><td>NULL</td><td>NULL</td><td>NULL</td><td>NULL</td><td>NULL</td><td>12</td><td>AVERAGE WEEKLY EARNINGS OF ALL EMPLOYEES</td></tr>",
                            "<tr><td>CES0600000013</td><td>6</td><td>6000000</td><td>13</td><td>S</td><td>Average hourly earnings of all employees</td><td>NULL</td><td>NULL</td><td>NULL</td><td>NULL</td><td>NULL</td><td>13</td><td>AVERAGE HOURLY EARNINGS OF ALL EMPLOYEES</td></tr>",
                            "<tr><td>CES0600000016</td><td>6</td><td>6000000</td><td>16</td><td>S</td><td>Indexes of aggregate weekly hours of all employees</td><td>NULL</td><td>NULL</td><td>NULL</td><td>NULL</td><td>NULL</td><td>16</td><td>INDEXES OF AGGREGATE WEEKLY HOURS OF ALL EMPLOYEES</td></tr>",
                            "<tr><td>CES0600000017</td><td>6</td><td>6000000</td><td>17</td><td>S</td><td>Indexes of aggregate weekly payrolls of all employees</td><td>NULL</td><td>NULL</td><td>NULL</td><td>NULL</td><td>NULL</td><td>17</td><td>INDEXES OF AGGREGATE WEEKLY PAYROLLS OF ALL EMPLOYEES</td></tr>",
                            "<tr><td>CES0600000025</td><td>6</td><td>6000000</td><td>25</td><td>S</td><td>All employees</td><td>NULL</td><td>NULL</td><td>NULL</td><td>NULL</td><td>NULL</td><td>25</td><td>ALL EMPLOYEES</td></tr>",
                            "<tr><td>CES0600000030</td><td>6</td><td>6000000</td><td>30</td><td>S</td><td>Average weekly earnings of production and nonsupervisory employees</td><td>NULL</td><td>NULL</td><td>NULL</td><td>NULL</td><td>NULL</td><td>30</td><td>AVERAGE WEEKLY EARNINGS OF PRODUCTION AND NONSUPERVISORY EMPLOYEES</td></tr>",
                            "<tr><td>CES0600000031</td><td>6</td><td>6000000</td><td>31</td><td>S</td><td>Average weekly earnings of production and nonsupervisory employees</td><td>NULL</td><td>NULL</td><td>NULL</td><td>NULL</td><td>NULL</td><td>31</td><td>AVERAGE WEEKLY EARNINGS OF PRODUCTION AND NONSUPERVISORY EMPLOYEES</td></tr>",
                            "<tr><td>CES0600000032</td><td>6</td><td>6000000</td><td>32</td><td>S</td><td>Average hourly earnings of production and nonsupervisory employees</td><td>NULL</td><td>NULL</td><td>NULL</td><td>NULL</td><td>NULL</td><td>32</td><td>AVERAGE HOURLY EARNINGS OF PRODUCTION AND NONSUPERVISORY EMPLOYEES</td></tr>",
                            "<tr><td>CES0600000034</td><td>6</td><td>6000000</td><td>34</td><td>S</td><td>Indexes of aggregate weekly hours of production and nonsupervisory employees</td><td>NULL</td><td>NULL</td><td>NULL</td><td>NULL</td><td>NULL</td><td>34</td><td>INDEXES OF AGGREGATE WEEKLY HOURS OF PRODUCTION AND NONSUPERVISORY EMPLOYEES</td></tr>",
                            "<tr><td>CES0600000035</td><td>6</td><td>6000000</td><td>35</td><td>S</td><td>Indexes of aggregate weekly payrolls of production and nonsupervisory employees</td><td>NULL</td><td>NULL</td><td>NULL</td><td>NULL</td><td>NULL</td><td>35</td><td>INDEXES OF AGGREGATE WEEKLY PAYROLLS OF PRODUCTION AND NONSUPERVISORY EMPLOYEES</td></tr>",
                            "<tr><td>CES0600000056</td><td>6</td><td>6000000</td><td>56</td><td>S</td><td>Aggregate weekly hours of all employees</td><td>NULL</td><td>NULL</td><td>NULL</td><td>NULL</td><td>NULL</td><td>56</td><td>AGGREGATE WEEKLY HOURS OF ALL EMPLOYEES</td></tr>",
                            "<tr><td>CES0600000057</td><td>6</td><td>6000000</td><td>57</td><td>S</td><td>Aggregate weekly payrolls of all employees</td><td>NULL</td><td>NULL</td><td>NULL</td><td>NULL</td><td>NULL</td><td>57</td><td>AGGREGATE WEEKLY PAYROLLS OF ALL EMPLOYEES</td></tr>",
                            "<tr><td>CES0600000081</td><td>6</td><td>6000000</td><td>81</td><td>S</td><td>Aggregate weekly hours of production and nonsupervisory employees</td><td>NULL</td><td>NULL</td><td>NULL</td><td>NULL</td><td>NULL</td><td>81</td><td>AGGREGATE WEEKLY HOURS OF PRODUCTION AND NONSUPERVISORY EMPLOYEES</td></tr>",
                            "<tr><td>CES0600000082</td><td>6</td><td>6000000</td><td>82</td><td>S</td><td>Aggregate weekly payrolls of production and nonsupervisory employees</td><td>NULL</td><td>NULL</td><td>NULL</td><td>NULL</td><td>NULL</td><td>82</td><td>AGGREGATE WEEKLY PAYROLLS OF PRODUCTION AND NONSUPERVISORY EMPLOYEES</td></tr>",
                            "<tr><td>CES0700000001</td><td>7</td><td>7000000</td><td>1</td><td>S</td><td>All employees</td><td>NULL</td><td>NULL</td><td>NULL</td><td>NULL</td><td>NULL</td><td>1</td><td>ALL EMPLOYEES</td></tr>",
                            "<tr><td>CES0700000010</td><td>7</td><td>7000000</td><td>10</td><td>S</td><td>Women employees</td><td>NULL</td><td>NULL</td><td>NULL</td><td>NULL</td><td>NULL</td><td>10</td><td>WOMEN EMPLOYEES</td></tr>",
                            "<tr><td>CES0700000025</td><td>7</td><td>7000000</td><td>25</td><td>S</td><td>All employees</td><td>NULL</td><td>NULL</td><td>NULL</td><td>NULL</td><td>NULL</td><td>25</td><td>ALL EMPLOYEES</td></tr>",
                            "<tr><td>CES0800000001</td><td>8</td><td>8000000</td><td>1</td><td>S</td><td>All employees</td><td>NULL</td><td>NULL</td><td>NULL</td><td>NULL</td><td>NULL</td><td>1</td><td>ALL EMPLOYEES</td></tr>",
                            "<tr><td>CES0800000002</td><td>8</td><td>8000000</td><td>2</td><td>S</td><td>Average weekly hours of all employees</td><td>NULL</td><td>NULL</td><td>NULL</td><td>NULL</td><td>NULL</td><td>2</td><td>AVERAGE WEEKLY HOURS OF ALL EMPLOYEES</td></tr>",
                            "<tr><td>CES0800000003</td><td>8</td><td>8000000</td><td>3</td><td>S</td><td>Average hourly earnings of all employees</td><td>NULL</td><td>NULL</td><td>NULL</td><td>NULL</td><td>NULL</td><td>3</td><td>AVERAGE HOURLY EARNINGS OF ALL EMPLOYEES</td></tr>",
                            "<tr><td>CES0800000006</td><td>8</td><td>8000000</td><td>6</td><td>S</td><td>Production and nonsupervisory employees</td><td>NULL</td><td>NULL</td><td>NULL</td><td>NULL</td><td>NULL</td><td>6</td><td>PRODUCTION AND NONSUPERVISORY EMPLOYEES</td></tr>",
                            "<tr><td>CES0800000007</td><td>8</td><td>8000000</td><td>7</td><td>S</td><td>Average weekly hours of production and nonsupervisory employees</td><td>NULL</td><td>NULL</td><td>NULL</td><td>NULL</td><td>NULL</td><td>7</td><td>AVERAGE WEEKLY HOURS OF PRODUCTION AND NONSUPERVISORY EMPLOYEES</td></tr>",
                            "<tr><td>CES0800000008</td><td>8</td><td>8000000</td><td>8</td><td>S</td><td>Average hourly earnings of production and nonsupervisory employees</td><td>NULL</td><td>NULL</td><td>NULL</td><td>NULL</td><td>NULL</td><td>8</td><td>AVERAGE HOURLY EARNINGS OF PRODUCTION AND NONSUPERVISORY EMPLOYEES</td></tr>",
                            "<tr><td>CES0800000010</td><td>8</td><td>8000000</td><td>10</td><td>S</td><td>Women employees</td><td>NULL</td><td>NULL</td><td>NULL</td><td>NULL</td><td>NULL</td><td>10</td><td>WOMEN EMPLOYEES</td></tr>",
                            "<tr><td>CES0800000011</td><td>8</td><td>8000000</td><td>11</td><td>S</td><td>Average weekly earnings of all employees</td><td>NULL</td><td>NULL</td><td>NULL</td><td>NULL</td><td>NULL</td><td>11</td><td>AVERAGE WEEKLY EARNINGS OF ALL EMPLOYEES</td></tr>",
                            "<tr><td>CES0800000012</td><td>8</td><td>8000000</td><td>12</td><td>S</td><td>Average weekly earnings of all employees</td><td>NULL</td><td>NULL</td><td>NULL</td><td>NULL</td><td>NULL</td><td>12</td><td>AVERAGE WEEKLY EARNINGS OF ALL EMPLOYEES</td></tr>",
                            "<tr><td>CES0800000013</td><td>8</td><td>8000000</td><td>13</td><td>S</td><td>Average hourly earnings of all employees</td><td>NULL</td><td>NULL</td><td>NULL</td><td>NULL</td><td>NULL</td><td>13</td><td>AVERAGE HOURLY EARNINGS OF ALL EMPLOYEES</td></tr>",
                            "<tr><td>CES0800000016</td><td>8</td><td>8000000</td><td>16</td><td>S</td><td>Indexes of aggregate weekly hours of all employees</td><td>NULL</td><td>NULL</td><td>NULL</td><td>NULL</td><td>NULL</td><td>16</td><td>INDEXES OF AGGREGATE WEEKLY HOURS OF ALL EMPLOYEES</td></tr>",
                            "<tr><td>CES0800000017</td><td>8</td><td>8000000</td><td>17</td><td>S</td><td>Indexes of aggregate weekly payrolls of all employees</td><td>NULL</td><td>NULL</td><td>NULL</td><td>NULL</td><td>NULL</td><td>17</td><td>INDEXES OF AGGREGATE WEEKLY PAYROLLS OF ALL EMPLOYEES</td></tr>",
                            "<tr><td>CES0800000030</td><td>8</td><td>8000000</td><td>30</td><td>S</td><td>Average weekly earnings of production and nonsupervisory employees</td><td>NULL</td><td>NULL</td><td>NULL</td><td>NULL</td><td>NULL</td><td>30</td><td>AVERAGE WEEKLY EARNINGS OF PRODUCTION AND NONSUPERVISORY EMPLOYEES</td></tr>",
                            "<tr><td>CES0800000031</td><td>8</td><td>8000000</td><td>31</td><td>S</td><td>Average weekly earnings of production and nonsupervisory employees</td><td>NULL</td><td>NULL</td><td>NULL</td><td>NULL</td><td>NULL</td><td>31</td><td>AVERAGE WEEKLY EARNINGS OF PRODUCTION AND NONSUPERVISORY EMPLOYEES</td></tr>",
                            "<tr><td>CES0800000032</td><td>8</td><td>8000000</td><td>32</td><td>S</td><td>Average hourly earnings of production and nonsupervisory employees</td><td>NULL</td><td>NULL</td><td>NULL</td><td>NULL</td><td>NULL</td><td>32</td><td>AVERAGE HOURLY EARNINGS OF PRODUCTION AND NONSUPERVISORY EMPLOYEES</td></tr>",
                            "<tr><td>CES0800000034</td><td>8</td><td>8000000</td><td>34</td><td>S</td><td>Indexes of aggregate weekly hours of production and nonsupervisory employees</td><td>NULL</td><td>NULL</td><td>NULL</td><td>NULL</td><td>NULL</td><td>34</td><td>INDEXES OF AGGREGATE WEEKLY HOURS OF PRODUCTION AND NONSUPERVISORY EMPLOYEES</td></tr>",
                            "<tr><td>CES0800000035</td><td>8</td><td>8000000</td><td>35</td><td>S</td><td>Indexes of aggregate weekly payrolls of production and nonsupervisory employees</td><td>NULL</td><td>NULL</td><td>NULL</td><td>NULL</td><td>NULL</td><td>35</td><td>INDEXES OF AGGREGATE WEEKLY PAYROLLS OF PRODUCTION AND NONSUPERVISORY EMPLOYEES</td></tr>",
                            "<tr><td>CES0800000056</td><td>8</td><td>8000000</td><td>56</td><td>S</td><td>Aggregate weekly hours of all employees</td><td>NULL</td><td>NULL</td><td>NULL</td><td>NULL</td><td>NULL</td><td>56</td><td>AGGREGATE WEEKLY HOURS OF ALL EMPLOYEES</td></tr>",
                            "<tr><td>CES0800000057</td><td>8</td><td>8000000</td><td>57</td><td>S</td><td>Aggregate weekly payrolls of all employees</td><td>NULL</td><td>NULL</td><td>NULL</td><td>NULL</td><td>NULL</td><td>57</td><td>AGGREGATE WEEKLY PAYROLLS OF ALL EMPLOYEES</td></tr>",
                            "<tr><td>CES0800000081</td><td>8</td><td>8000000</td><td>81</td><td>S</td><td>Aggregate weekly hours of production and nonsupervisory employees</td><td>NULL</td><td>NULL</td><td>NULL</td><td>NULL</td><td>NULL</td><td>81</td><td>AGGREGATE WEEKLY HOURS OF PRODUCTION AND NONSUPERVISORY EMPLOYEES</td></tr>",
                            "<tr><td>CES0800000082</td><td>8</td><td>8000000</td><td>82</td><td>S</td><td>Aggregate weekly payrolls of production and nonsupervisory employees</td><td>NULL</td><td>NULL</td><td>NULL</td><td>NULL</td><td>NULL</td><td>82</td><td>AGGREGATE WEEKLY PAYROLLS OF PRODUCTION AND NONSUPERVISORY EMPLOYEES</td></tr>",
                            "<tr><td>CES1000000001</td><td>10</td><td>10000000</td><td>1</td><td>S</td><td>All employees</td><td>NULL</td><td>NULL</td><td>NULL</td><td>NULL</td><td>NULL</td><td>1</td><td>ALL EMPLOYEES</td></tr>",
                            "<tr><td>CES1000000002</td><td>10</td><td>10000000</td><td>2</td><td>S</td><td>Average weekly hours of all employees</td><td>NULL</td><td>NULL</td><td>NULL</td><td>NULL</td><td>NULL</td><td>2</td><td>AVERAGE WEEKLY HOURS OF ALL EMPLOYEES</td></tr>",
                            "<tr><td>CES1000000003</td><td>10</td><td>10000000</td><td>3</td><td>S</td><td>Average hourly earnings of all employees</td><td>NULL</td><td>NULL</td><td>NULL</td><td>NULL</td><td>NULL</td><td>3</td><td>AVERAGE HOURLY EARNINGS OF ALL EMPLOYEES</td></tr>",
                            "<tr><td>CES1000000006</td><td>10</td><td>10000000</td><td>6</td><td>S</td><td>Production and nonsupervisory employees</td><td>NULL</td><td>NULL</td><td>NULL</td><td>NULL</td><td>NULL</td><td>6</td><td>PRODUCTION AND NONSUPERVISORY EMPLOYEES</td></tr>",
                            "<tr><td>CES1000000007</td><td>10</td><td>10000000</td><td>7</td><td>S</td><td>Average weekly hours of production and nonsupervisory employees</td><td>NULL</td><td>NULL</td><td>NULL</td><td>NULL</td><td>NULL</td><td>7</td><td>AVERAGE WEEKLY HOURS OF PRODUCTION AND NONSUPERVISORY EMPLOYEES</td></tr>",
                            "<tr><td>CES1000000008</td><td>10</td><td>10000000</td><td>8</td><td>S</td><td>Average hourly earnings of production and nonsupervisory employees</td><td>NULL</td><td>NULL</td><td>NULL</td><td>NULL</td><td>NULL</td><td>8</td><td>AVERAGE HOURLY EARNINGS OF PRODUCTION AND NONSUPERVISORY EMPLOYEES</td></tr>",
                            "<tr><td>CES1000000010</td><td>10</td><td>10000000</td><td>10</td><td>S</td><td>Women employees</td><td>NULL</td><td>NULL</td><td>NULL</td><td>NULL</td><td>NULL</td><td>10</td><td>WOMEN EMPLOYEES</td></tr>",
                            "<tr><td>CES1000000011</td><td>10</td><td>10000000</td><td>11</td><td>S</td><td>Average weekly earnings of all employees</td><td>NULL</td><td>NULL</td><td>NULL</td><td>NULL</td><td>NULL</td><td>11</td><td>AVERAGE WEEKLY EARNINGS OF ALL EMPLOYEES</td></tr>",
                            "<tr><td>CES1000000012</td><td>10</td><td>10000000</td><td>12</td><td>S</td><td>Average weekly earnings of all employees</td><td>NULL</td><td>NULL</td><td>NULL</td><td>NULL</td><td>NULL</td><td>12</td><td>AVERAGE WEEKLY EARNINGS OF ALL EMPLOYEES</td></tr>",
                            "<tr><td>CES1000000013</td><td>10</td><td>10000000</td><td>13</td><td>S</td><td>Average hourly earnings of all employees</td><td>NULL</td><td>NULL</td><td>NULL</td><td>NULL</td><td>NULL</td><td>13</td><td>AVERAGE HOURLY EARNINGS OF ALL EMPLOYEES</td></tr>",
                            "<tr><td>CES1000000016</td><td>10</td><td>10000000</td><td>16</td><td>S</td><td>Indexes of aggregate weekly hours of all employees</td><td>NULL</td><td>NULL</td><td>NULL</td><td>NULL</td><td>NULL</td><td>16</td><td>INDEXES OF AGGREGATE WEEKLY HOURS OF ALL EMPLOYEES</td></tr>",
                            "<tr><td>CES1000000017</td><td>10</td><td>10000000</td><td>17</td><td>S</td><td>Indexes of aggregate weekly payrolls of all employees</td><td>NULL</td><td>NULL</td><td>NULL</td><td>NULL</td><td>NULL</td><td>17</td><td>INDEXES OF AGGREGATE WEEKLY PAYROLLS OF ALL EMPLOYEES</td></tr>",
                            "<tr><td>CES1000000030</td><td>10</td><td>10000000</td><td>30</td><td>S</td><td>Average weekly earnings of production and nonsupervisory employees</td><td>NULL</td><td>NULL</td><td>NULL</td><td>NULL</td><td>NULL</td><td>30</td><td>AVERAGE WEEKLY EARNINGS OF PRODUCTION AND NONSUPERVISORY EMPLOYEES</td></tr>",
                            "<tr><td>CES1000000031</td><td>10</td><td>10000000</td><td>31</td><td>S</td><td>Average weekly earnings of production and nonsupervisory employees</td><td>NULL</td><td>NULL</td><td>NULL</td><td>NULL</td><td>NULL</td><td>31</td><td>AVERAGE WEEKLY EARNINGS OF PRODUCTION AND NONSUPERVISORY EMPLOYEES</td></tr>",
                            "<tr><td>CES1000000032</td><td>10</td><td>10000000</td><td>32</td><td>S</td><td>Average hourly earnings of production and nonsupervisory employees</td><td>NULL</td><td>NULL</td><td>NULL</td><td>NULL</td><td>NULL</td><td>32</td><td>AVERAGE HOURLY EARNINGS OF PRODUCTION AND NONSUPERVISORY EMPLOYEES</td></tr>",
                            "<tr><td>CES1000000034</td><td>10</td><td>10000000</td><td>34</td><td>S</td><td>Indexes of aggregate weekly hours of production and nonsupervisory employees</td><td>NULL</td><td>NULL</td><td>NULL</td><td>NULL</td><td>NULL</td><td>34</td><td>INDEXES OF AGGREGATE WEEKLY HOURS OF PRODUCTION AND NONSUPERVISORY EMPLOYEES</td></tr>",
                            "<tr><td>CES1000000035</td><td>10</td><td>10000000</td><td>35</td><td>S</td><td>Indexes of aggregate weekly payrolls of production and nonsupervisory employees</td><td>NULL</td><td>NULL</td><td>NULL</td><td>NULL</td><td>NULL</td><td>35</td><td>INDEXES OF AGGREGATE WEEKLY PAYROLLS OF PRODUCTION AND NONSUPERVISORY EMPLOYEES</td></tr>",
                            "<tr><td>CES1000000056</td><td>10</td><td>10000000</td><td>56</td><td>S</td><td>Aggregate weekly hours of all employees</td><td>NULL</td><td>NULL</td><td>NULL</td><td>NULL</td><td>NULL</td><td>56</td><td>AGGREGATE WEEKLY HOURS OF ALL EMPLOYEES</td></tr>",
                            "<tr><td>CES1000000057</td><td>10</td><td>10000000</td><td>57</td><td>S</td><td>Aggregate weekly payrolls of all employees</td><td>NULL</td><td>NULL</td><td>NULL</td><td>NULL</td><td>NULL</td><td>57</td><td>AGGREGATE WEEKLY PAYROLLS OF ALL EMPLOYEES</td></tr>",
                            "<tr><td>CES1000000081</td><td>10</td><td>10000000</td><td>81</td><td>S</td><td>Aggregate weekly hours of production and nonsupervisory employees</td><td>NULL</td><td>NULL</td><td>NULL</td><td>NULL</td><td>NULL</td><td>81</td><td>AGGREGATE WEEKLY HOURS OF PRODUCTION AND NONSUPERVISORY EMPLOYEES</td></tr>",
                            "<tr><td>CES1000000082</td><td>10</td><td>10000000</td><td>82</td><td>S</td><td>Aggregate weekly payrolls of production and nonsupervisory employees</td><td>NULL</td><td>NULL</td><td>NULL</td><td>NULL</td><td>NULL</td><td>82</td><td>AGGREGATE WEEKLY PAYROLLS OF PRODUCTION AND NONSUPERVISORY EMPLOYEES</td></tr>",
                            "<tr><td>CES1011330001</td><td>10</td><td>10113300</td><td>1</td><td>S</td><td>All employees</td><td>NULL</td><td>NULL</td><td>NULL</td><td>NULL</td><td>NULL</td><td>1</td><td>ALL EMPLOYEES</td></tr>",
                            "</table>"
                        ]
                    }
                }
            ],
            "execution_count": 20
        },
        {
            "cell_type": "markdown",
            "source": [
                "3. <span style=\"background-color: rgb(255, 255, 255); font-size: 10pt; white-space: pre-wrap; color: rgb(102, 102, 102); font-family: Arvo, serif;\">Join series and industry on industry_code</span>"
            ],
            "metadata": {
                "azdata_cell_guid": "78ac8ba4-2a6a-426f-af30-6b56d9d09054"
            },
            "attachments": {}
        },
        {
            "cell_type": "code",
            "source": [
                "SELECT *\r\n",
                "FROM series s\r\n",
                "JOIN industry i ON s.industry_code = i.industry_code LIMIT 100;\r\n",
                ""
            ],
            "metadata": {
                "azdata_cell_guid": "ac022766-e280-4d95-8362-1f2b18773662",
                "language": "sql"
            },
            "outputs": [
                {
                    "output_type": "display_data",
                    "data": {
                        "text/html": "(100 row(s) affected)"
                    },
                    "metadata": {}
                },
                {
                    "output_type": "display_data",
                    "data": {
                        "text/html": "Total execution time: 00:00:01.021"
                    },
                    "metadata": {}
                },
                {
                    "output_type": "execute_result",
                    "metadata": {},
                    "execution_count": 21,
                    "data": {
                        "application/vnd.dataresource+json": {
                            "schema": {
                                "fields": [
                                    {
                                        "name": "series_id"
                                    },
                                    {
                                        "name": "supersector_code"
                                    },
                                    {
                                        "name": "industry_code"
                                    },
                                    {
                                        "name": "data_type_code"
                                    },
                                    {
                                        "name": "seasonal"
                                    },
                                    {
                                        "name": "series_title"
                                    },
                                    {
                                        "name": "footnote_codes"
                                    },
                                    {
                                        "name": "begin_year"
                                    },
                                    {
                                        "name": "begin_period"
                                    },
                                    {
                                        "name": "end_year"
                                    },
                                    {
                                        "name": "end_period"
                                    },
                                    {
                                        "name": "industry_code"
                                    },
                                    {
                                        "name": "naics_code"
                                    },
                                    {
                                        "name": "publishing_status"
                                    },
                                    {
                                        "name": "industry_name"
                                    },
                                    {
                                        "name": "display_level"
                                    },
                                    {
                                        "name": "selectable"
                                    },
                                    {
                                        "name": "sort_sequence"
                                    }
                                ]
                            },
                            "data": [
                                {
                                    "series_id": "CES0000000001",
                                    "supersector_code": "0",
                                    "industry_code": "0",
                                    "data_type_code": "1",
                                    "seasonal": "S",
                                    "series_title": "All employees",
                                    "footnote_codes": "NULL",
                                    "begin_year": "NULL",
                                    "begin_period": "NULL",
                                    "end_year": "NULL",
                                    "end_period": "NULL",
                                    "naics_code": "-",
                                    "publishing_status": "B",
                                    "industry_name": "Total nonfarm",
                                    "display_level": "0.0",
                                    "selectable": "T",
                                    "sort_sequence": "1.0"
                                },
                                {
                                    "series_id": "CES0000000010",
                                    "supersector_code": "0",
                                    "industry_code": "0",
                                    "data_type_code": "10",
                                    "seasonal": "S",
                                    "series_title": "Women employees",
                                    "footnote_codes": "NULL",
                                    "begin_year": "NULL",
                                    "begin_period": "NULL",
                                    "end_year": "NULL",
                                    "end_period": "NULL",
                                    "naics_code": "-",
                                    "publishing_status": "B",
                                    "industry_name": "Total nonfarm",
                                    "display_level": "0.0",
                                    "selectable": "T",
                                    "sort_sequence": "1.0"
                                },
                                {
                                    "series_id": "CES0000000025",
                                    "supersector_code": "0",
                                    "industry_code": "0",
                                    "data_type_code": "25",
                                    "seasonal": "S",
                                    "series_title": "All employees",
                                    "footnote_codes": "NULL",
                                    "begin_year": "NULL",
                                    "begin_period": "NULL",
                                    "end_year": "NULL",
                                    "end_period": "NULL",
                                    "naics_code": "-",
                                    "publishing_status": "B",
                                    "industry_name": "Total nonfarm",
                                    "display_level": "0.0",
                                    "selectable": "T",
                                    "sort_sequence": "1.0"
                                },
                                {
                                    "series_id": "CES0000000026",
                                    "supersector_code": "0",
                                    "industry_code": "0",
                                    "data_type_code": "26",
                                    "seasonal": "S",
                                    "series_title": "All employees",
                                    "footnote_codes": "NULL",
                                    "begin_year": "NULL",
                                    "begin_period": "NULL",
                                    "end_year": "NULL",
                                    "end_period": "NULL",
                                    "naics_code": "-",
                                    "publishing_status": "B",
                                    "industry_name": "Total nonfarm",
                                    "display_level": "0.0",
                                    "selectable": "T",
                                    "sort_sequence": "1.0"
                                },
                                {
                                    "series_id": "CES0500000001",
                                    "supersector_code": "5",
                                    "industry_code": "5000000",
                                    "data_type_code": "1",
                                    "seasonal": "S",
                                    "series_title": "All employees",
                                    "footnote_codes": "NULL",
                                    "begin_year": "NULL",
                                    "begin_period": "NULL",
                                    "end_year": "NULL",
                                    "end_period": "NULL",
                                    "naics_code": "-",
                                    "publishing_status": "A",
                                    "industry_name": "Total private",
                                    "display_level": "1.0",
                                    "selectable": "T",
                                    "sort_sequence": "2.0"
                                },
                                {
                                    "series_id": "CES0500000002",
                                    "supersector_code": "5",
                                    "industry_code": "5000000",
                                    "data_type_code": "2",
                                    "seasonal": "S",
                                    "series_title": "Average weekly hours of all employees",
                                    "footnote_codes": "NULL",
                                    "begin_year": "NULL",
                                    "begin_period": "NULL",
                                    "end_year": "NULL",
                                    "end_period": "NULL",
                                    "naics_code": "-",
                                    "publishing_status": "A",
                                    "industry_name": "Total private",
                                    "display_level": "1.0",
                                    "selectable": "T",
                                    "sort_sequence": "2.0"
                                },
                                {
                                    "series_id": "CES0500000003",
                                    "supersector_code": "5",
                                    "industry_code": "5000000",
                                    "data_type_code": "3",
                                    "seasonal": "S",
                                    "series_title": "Average hourly earnings of all employees",
                                    "footnote_codes": "NULL",
                                    "begin_year": "NULL",
                                    "begin_period": "NULL",
                                    "end_year": "NULL",
                                    "end_period": "NULL",
                                    "naics_code": "-",
                                    "publishing_status": "A",
                                    "industry_name": "Total private",
                                    "display_level": "1.0",
                                    "selectable": "T",
                                    "sort_sequence": "2.0"
                                },
                                {
                                    "series_id": "CES0500000006",
                                    "supersector_code": "5",
                                    "industry_code": "5000000",
                                    "data_type_code": "6",
                                    "seasonal": "S",
                                    "series_title": "Production and nonsupervisory employees",
                                    "footnote_codes": "NULL",
                                    "begin_year": "NULL",
                                    "begin_period": "NULL",
                                    "end_year": "NULL",
                                    "end_period": "NULL",
                                    "naics_code": "-",
                                    "publishing_status": "A",
                                    "industry_name": "Total private",
                                    "display_level": "1.0",
                                    "selectable": "T",
                                    "sort_sequence": "2.0"
                                },
                                {
                                    "series_id": "CES0500000007",
                                    "supersector_code": "5",
                                    "industry_code": "5000000",
                                    "data_type_code": "7",
                                    "seasonal": "S",
                                    "series_title": "Average weekly hours of production and nonsupervisory employees",
                                    "footnote_codes": "NULL",
                                    "begin_year": "NULL",
                                    "begin_period": "NULL",
                                    "end_year": "NULL",
                                    "end_period": "NULL",
                                    "naics_code": "-",
                                    "publishing_status": "A",
                                    "industry_name": "Total private",
                                    "display_level": "1.0",
                                    "selectable": "T",
                                    "sort_sequence": "2.0"
                                },
                                {
                                    "series_id": "CES0500000008",
                                    "supersector_code": "5",
                                    "industry_code": "5000000",
                                    "data_type_code": "8",
                                    "seasonal": "S",
                                    "series_title": "Average hourly earnings of production and nonsupervisory employees",
                                    "footnote_codes": "NULL",
                                    "begin_year": "NULL",
                                    "begin_period": "NULL",
                                    "end_year": "NULL",
                                    "end_period": "NULL",
                                    "naics_code": "-",
                                    "publishing_status": "A",
                                    "industry_name": "Total private",
                                    "display_level": "1.0",
                                    "selectable": "T",
                                    "sort_sequence": "2.0"
                                },
                                {
                                    "series_id": "CES0500000010",
                                    "supersector_code": "5",
                                    "industry_code": "5000000",
                                    "data_type_code": "10",
                                    "seasonal": "S",
                                    "series_title": "Women employees",
                                    "footnote_codes": "NULL",
                                    "begin_year": "NULL",
                                    "begin_period": "NULL",
                                    "end_year": "NULL",
                                    "end_period": "NULL",
                                    "naics_code": "-",
                                    "publishing_status": "A",
                                    "industry_name": "Total private",
                                    "display_level": "1.0",
                                    "selectable": "T",
                                    "sort_sequence": "2.0"
                                },
                                {
                                    "series_id": "CES0500000011",
                                    "supersector_code": "5",
                                    "industry_code": "5000000",
                                    "data_type_code": "11",
                                    "seasonal": "S",
                                    "series_title": "Average weekly earnings of all employees",
                                    "footnote_codes": "NULL",
                                    "begin_year": "NULL",
                                    "begin_period": "NULL",
                                    "end_year": "NULL",
                                    "end_period": "NULL",
                                    "naics_code": "-",
                                    "publishing_status": "A",
                                    "industry_name": "Total private",
                                    "display_level": "1.0",
                                    "selectable": "T",
                                    "sort_sequence": "2.0"
                                },
                                {
                                    "series_id": "CES0500000012",
                                    "supersector_code": "5",
                                    "industry_code": "5000000",
                                    "data_type_code": "12",
                                    "seasonal": "S",
                                    "series_title": "Average weekly earnings of all employees",
                                    "footnote_codes": "NULL",
                                    "begin_year": "NULL",
                                    "begin_period": "NULL",
                                    "end_year": "NULL",
                                    "end_period": "NULL",
                                    "naics_code": "-",
                                    "publishing_status": "A",
                                    "industry_name": "Total private",
                                    "display_level": "1.0",
                                    "selectable": "T",
                                    "sort_sequence": "2.0"
                                },
                                {
                                    "series_id": "CES0500000013",
                                    "supersector_code": "5",
                                    "industry_code": "5000000",
                                    "data_type_code": "13",
                                    "seasonal": "S",
                                    "series_title": "Average hourly earnings of all employees",
                                    "footnote_codes": "NULL",
                                    "begin_year": "NULL",
                                    "begin_period": "NULL",
                                    "end_year": "NULL",
                                    "end_period": "NULL",
                                    "naics_code": "-",
                                    "publishing_status": "A",
                                    "industry_name": "Total private",
                                    "display_level": "1.0",
                                    "selectable": "T",
                                    "sort_sequence": "2.0"
                                },
                                {
                                    "series_id": "CES0500000016",
                                    "supersector_code": "5",
                                    "industry_code": "5000000",
                                    "data_type_code": "16",
                                    "seasonal": "S",
                                    "series_title": "Indexes of aggregate weekly hours of all employees",
                                    "footnote_codes": "NULL",
                                    "begin_year": "NULL",
                                    "begin_period": "NULL",
                                    "end_year": "NULL",
                                    "end_period": "NULL",
                                    "naics_code": "-",
                                    "publishing_status": "A",
                                    "industry_name": "Total private",
                                    "display_level": "1.0",
                                    "selectable": "T",
                                    "sort_sequence": "2.0"
                                },
                                {
                                    "series_id": "CES0500000017",
                                    "supersector_code": "5",
                                    "industry_code": "5000000",
                                    "data_type_code": "17",
                                    "seasonal": "S",
                                    "series_title": "Indexes of aggregate weekly payrolls of all employees",
                                    "footnote_codes": "NULL",
                                    "begin_year": "NULL",
                                    "begin_period": "NULL",
                                    "end_year": "NULL",
                                    "end_period": "NULL",
                                    "naics_code": "-",
                                    "publishing_status": "A",
                                    "industry_name": "Total private",
                                    "display_level": "1.0",
                                    "selectable": "T",
                                    "sort_sequence": "2.0"
                                },
                                {
                                    "series_id": "CES0500000019",
                                    "supersector_code": "5",
                                    "industry_code": "5000000",
                                    "data_type_code": "19",
                                    "seasonal": "S",
                                    "series_title": "Average weekly hours of all employees",
                                    "footnote_codes": "NULL",
                                    "begin_year": "NULL",
                                    "begin_period": "NULL",
                                    "end_year": "NULL",
                                    "end_period": "NULL",
                                    "naics_code": "-",
                                    "publishing_status": "A",
                                    "industry_name": "Total private",
                                    "display_level": "1.0",
                                    "selectable": "T",
                                    "sort_sequence": "2.0"
                                },
                                {
                                    "series_id": "CES0500000021",
                                    "supersector_code": "5",
                                    "industry_code": "5000000",
                                    "data_type_code": "21",
                                    "seasonal": "S",
                                    "series_title": "Diffusion indexes",
                                    "footnote_codes": "NULL",
                                    "begin_year": "NULL",
                                    "begin_period": "NULL",
                                    "end_year": "NULL",
                                    "end_period": "NULL",
                                    "naics_code": "-",
                                    "publishing_status": "A",
                                    "industry_name": "Total private",
                                    "display_level": "1.0",
                                    "selectable": "T",
                                    "sort_sequence": "2.0"
                                },
                                {
                                    "series_id": "CES0500000022",
                                    "supersector_code": "5",
                                    "industry_code": "5000000",
                                    "data_type_code": "22",
                                    "seasonal": "S",
                                    "series_title": "Diffusion indexes",
                                    "footnote_codes": "NULL",
                                    "begin_year": "NULL",
                                    "begin_period": "NULL",
                                    "end_year": "NULL",
                                    "end_period": "NULL",
                                    "naics_code": "-",
                                    "publishing_status": "A",
                                    "industry_name": "Total private",
                                    "display_level": "1.0",
                                    "selectable": "T",
                                    "sort_sequence": "2.0"
                                },
                                {
                                    "series_id": "CES0500000023",
                                    "supersector_code": "5",
                                    "industry_code": "5000000",
                                    "data_type_code": "23",
                                    "seasonal": "S",
                                    "series_title": "Diffusion indexes",
                                    "footnote_codes": "NULL",
                                    "begin_year": "NULL",
                                    "begin_period": "NULL",
                                    "end_year": "NULL",
                                    "end_period": "NULL",
                                    "naics_code": "-",
                                    "publishing_status": "A",
                                    "industry_name": "Total private",
                                    "display_level": "1.0",
                                    "selectable": "T",
                                    "sort_sequence": "2.0"
                                },
                                {
                                    "series_id": "CES0500000025",
                                    "supersector_code": "5",
                                    "industry_code": "5000000",
                                    "data_type_code": "25",
                                    "seasonal": "S",
                                    "series_title": "All employees",
                                    "footnote_codes": "NULL",
                                    "begin_year": "NULL",
                                    "begin_period": "NULL",
                                    "end_year": "NULL",
                                    "end_period": "NULL",
                                    "naics_code": "-",
                                    "publishing_status": "A",
                                    "industry_name": "Total private",
                                    "display_level": "1.0",
                                    "selectable": "T",
                                    "sort_sequence": "2.0"
                                },
                                {
                                    "series_id": "CES0500000026",
                                    "supersector_code": "5",
                                    "industry_code": "5000000",
                                    "data_type_code": "26",
                                    "seasonal": "S",
                                    "series_title": "All employees",
                                    "footnote_codes": "NULL",
                                    "begin_year": "NULL",
                                    "begin_period": "NULL",
                                    "end_year": "NULL",
                                    "end_period": "NULL",
                                    "naics_code": "-",
                                    "publishing_status": "A",
                                    "industry_name": "Total private",
                                    "display_level": "1.0",
                                    "selectable": "T",
                                    "sort_sequence": "2.0"
                                },
                                {
                                    "series_id": "CES0500000030",
                                    "supersector_code": "5",
                                    "industry_code": "5000000",
                                    "data_type_code": "30",
                                    "seasonal": "S",
                                    "series_title": "Average weekly earnings of production and nonsupervisory employees",
                                    "footnote_codes": "NULL",
                                    "begin_year": "NULL",
                                    "begin_period": "NULL",
                                    "end_year": "NULL",
                                    "end_period": "NULL",
                                    "naics_code": "-",
                                    "publishing_status": "A",
                                    "industry_name": "Total private",
                                    "display_level": "1.0",
                                    "selectable": "T",
                                    "sort_sequence": "2.0"
                                },
                                {
                                    "series_id": "CES0500000031",
                                    "supersector_code": "5",
                                    "industry_code": "5000000",
                                    "data_type_code": "31",
                                    "seasonal": "S",
                                    "series_title": "Average weekly earnings of production and nonsupervisory employees",
                                    "footnote_codes": "NULL",
                                    "begin_year": "NULL",
                                    "begin_period": "NULL",
                                    "end_year": "NULL",
                                    "end_period": "NULL",
                                    "naics_code": "-",
                                    "publishing_status": "A",
                                    "industry_name": "Total private",
                                    "display_level": "1.0",
                                    "selectable": "T",
                                    "sort_sequence": "2.0"
                                },
                                {
                                    "series_id": "CES0500000032",
                                    "supersector_code": "5",
                                    "industry_code": "5000000",
                                    "data_type_code": "32",
                                    "seasonal": "S",
                                    "series_title": "Average hourly earnings of production and nonsupervisory employees",
                                    "footnote_codes": "NULL",
                                    "begin_year": "NULL",
                                    "begin_period": "NULL",
                                    "end_year": "NULL",
                                    "end_period": "NULL",
                                    "naics_code": "-",
                                    "publishing_status": "A",
                                    "industry_name": "Total private",
                                    "display_level": "1.0",
                                    "selectable": "T",
                                    "sort_sequence": "2.0"
                                },
                                {
                                    "series_id": "CES0500000034",
                                    "supersector_code": "5",
                                    "industry_code": "5000000",
                                    "data_type_code": "34",
                                    "seasonal": "S",
                                    "series_title": "Indexes of aggregate weekly hours of production and nonsupervisory employees",
                                    "footnote_codes": "NULL",
                                    "begin_year": "NULL",
                                    "begin_period": "NULL",
                                    "end_year": "NULL",
                                    "end_period": "NULL",
                                    "naics_code": "-",
                                    "publishing_status": "A",
                                    "industry_name": "Total private",
                                    "display_level": "1.0",
                                    "selectable": "T",
                                    "sort_sequence": "2.0"
                                },
                                {
                                    "series_id": "CES0500000035",
                                    "supersector_code": "5",
                                    "industry_code": "5000000",
                                    "data_type_code": "35",
                                    "seasonal": "S",
                                    "series_title": "Indexes of aggregate weekly payrolls of production and nonsupervisory employees",
                                    "footnote_codes": "NULL",
                                    "begin_year": "NULL",
                                    "begin_period": "NULL",
                                    "end_year": "NULL",
                                    "end_period": "NULL",
                                    "naics_code": "-",
                                    "publishing_status": "A",
                                    "industry_name": "Total private",
                                    "display_level": "1.0",
                                    "selectable": "T",
                                    "sort_sequence": "2.0"
                                },
                                {
                                    "series_id": "CES0500000036",
                                    "supersector_code": "5",
                                    "industry_code": "5000000",
                                    "data_type_code": "36",
                                    "seasonal": "S",
                                    "series_title": "Average weekly hours",
                                    "footnote_codes": "NULL",
                                    "begin_year": "NULL",
                                    "begin_period": "NULL",
                                    "end_year": "NULL",
                                    "end_period": "NULL",
                                    "naics_code": "-",
                                    "publishing_status": "A",
                                    "industry_name": "Total private",
                                    "display_level": "1.0",
                                    "selectable": "T",
                                    "sort_sequence": "2.0"
                                },
                                {
                                    "series_id": "CES0500000056",
                                    "supersector_code": "5",
                                    "industry_code": "5000000",
                                    "data_type_code": "56",
                                    "seasonal": "S",
                                    "series_title": "Aggregate weekly hours of all employees",
                                    "footnote_codes": "NULL",
                                    "begin_year": "NULL",
                                    "begin_period": "NULL",
                                    "end_year": "NULL",
                                    "end_period": "NULL",
                                    "naics_code": "-",
                                    "publishing_status": "A",
                                    "industry_name": "Total private",
                                    "display_level": "1.0",
                                    "selectable": "T",
                                    "sort_sequence": "2.0"
                                },
                                {
                                    "series_id": "CES0500000057",
                                    "supersector_code": "5",
                                    "industry_code": "5000000",
                                    "data_type_code": "57",
                                    "seasonal": "S",
                                    "series_title": "Aggregate weekly payrolls of all employees",
                                    "footnote_codes": "NULL",
                                    "begin_year": "NULL",
                                    "begin_period": "NULL",
                                    "end_year": "NULL",
                                    "end_period": "NULL",
                                    "naics_code": "-",
                                    "publishing_status": "A",
                                    "industry_name": "Total private",
                                    "display_level": "1.0",
                                    "selectable": "T",
                                    "sort_sequence": "2.0"
                                },
                                {
                                    "series_id": "CES0500000081",
                                    "supersector_code": "5",
                                    "industry_code": "5000000",
                                    "data_type_code": "81",
                                    "seasonal": "S",
                                    "series_title": "Aggregate weekly hours of production and nonsupervisory employees",
                                    "footnote_codes": "NULL",
                                    "begin_year": "NULL",
                                    "begin_period": "NULL",
                                    "end_year": "NULL",
                                    "end_period": "NULL",
                                    "naics_code": "-",
                                    "publishing_status": "A",
                                    "industry_name": "Total private",
                                    "display_level": "1.0",
                                    "selectable": "T",
                                    "sort_sequence": "2.0"
                                },
                                {
                                    "series_id": "CES0500000082",
                                    "supersector_code": "5",
                                    "industry_code": "5000000",
                                    "data_type_code": "82",
                                    "seasonal": "S",
                                    "series_title": "Aggregate weekly payrolls of production and nonsupervisory employees",
                                    "footnote_codes": "NULL",
                                    "begin_year": "NULL",
                                    "begin_period": "NULL",
                                    "end_year": "NULL",
                                    "end_period": "NULL",
                                    "naics_code": "-",
                                    "publishing_status": "A",
                                    "industry_name": "Total private",
                                    "display_level": "1.0",
                                    "selectable": "T",
                                    "sort_sequence": "2.0"
                                },
                                {
                                    "series_id": "CES0600000001",
                                    "supersector_code": "6",
                                    "industry_code": "6000000",
                                    "data_type_code": "1",
                                    "seasonal": "S",
                                    "series_title": "All employees",
                                    "footnote_codes": "NULL",
                                    "begin_year": "NULL",
                                    "begin_period": "NULL",
                                    "end_year": "NULL",
                                    "end_period": "NULL",
                                    "naics_code": "-",
                                    "publishing_status": "A",
                                    "industry_name": "Goods-producing",
                                    "display_level": "1.0",
                                    "selectable": "T",
                                    "sort_sequence": "3.0"
                                },
                                {
                                    "series_id": "CES0600000002",
                                    "supersector_code": "6",
                                    "industry_code": "6000000",
                                    "data_type_code": "2",
                                    "seasonal": "S",
                                    "series_title": "Average weekly hours of all employees",
                                    "footnote_codes": "NULL",
                                    "begin_year": "NULL",
                                    "begin_period": "NULL",
                                    "end_year": "NULL",
                                    "end_period": "NULL",
                                    "naics_code": "-",
                                    "publishing_status": "A",
                                    "industry_name": "Goods-producing",
                                    "display_level": "1.0",
                                    "selectable": "T",
                                    "sort_sequence": "3.0"
                                },
                                {
                                    "series_id": "CES0600000003",
                                    "supersector_code": "6",
                                    "industry_code": "6000000",
                                    "data_type_code": "3",
                                    "seasonal": "S",
                                    "series_title": "Average hourly earnings of all employees",
                                    "footnote_codes": "NULL",
                                    "begin_year": "NULL",
                                    "begin_period": "NULL",
                                    "end_year": "NULL",
                                    "end_period": "NULL",
                                    "naics_code": "-",
                                    "publishing_status": "A",
                                    "industry_name": "Goods-producing",
                                    "display_level": "1.0",
                                    "selectable": "T",
                                    "sort_sequence": "3.0"
                                },
                                {
                                    "series_id": "CES0600000006",
                                    "supersector_code": "6",
                                    "industry_code": "6000000",
                                    "data_type_code": "6",
                                    "seasonal": "S",
                                    "series_title": "Production and nonsupervisory employees",
                                    "footnote_codes": "NULL",
                                    "begin_year": "NULL",
                                    "begin_period": "NULL",
                                    "end_year": "NULL",
                                    "end_period": "NULL",
                                    "naics_code": "-",
                                    "publishing_status": "A",
                                    "industry_name": "Goods-producing",
                                    "display_level": "1.0",
                                    "selectable": "T",
                                    "sort_sequence": "3.0"
                                },
                                {
                                    "series_id": "CES0600000007",
                                    "supersector_code": "6",
                                    "industry_code": "6000000",
                                    "data_type_code": "7",
                                    "seasonal": "S",
                                    "series_title": "Average weekly hours of production and nonsupervisory employees",
                                    "footnote_codes": "NULL",
                                    "begin_year": "NULL",
                                    "begin_period": "NULL",
                                    "end_year": "NULL",
                                    "end_period": "NULL",
                                    "naics_code": "-",
                                    "publishing_status": "A",
                                    "industry_name": "Goods-producing",
                                    "display_level": "1.0",
                                    "selectable": "T",
                                    "sort_sequence": "3.0"
                                },
                                {
                                    "series_id": "CES0600000008",
                                    "supersector_code": "6",
                                    "industry_code": "6000000",
                                    "data_type_code": "8",
                                    "seasonal": "S",
                                    "series_title": "Average hourly earnings of production and nonsupervisory employees",
                                    "footnote_codes": "NULL",
                                    "begin_year": "NULL",
                                    "begin_period": "NULL",
                                    "end_year": "NULL",
                                    "end_period": "NULL",
                                    "naics_code": "-",
                                    "publishing_status": "A",
                                    "industry_name": "Goods-producing",
                                    "display_level": "1.0",
                                    "selectable": "T",
                                    "sort_sequence": "3.0"
                                },
                                {
                                    "series_id": "CES0600000010",
                                    "supersector_code": "6",
                                    "industry_code": "6000000",
                                    "data_type_code": "10",
                                    "seasonal": "S",
                                    "series_title": "Women employees",
                                    "footnote_codes": "NULL",
                                    "begin_year": "NULL",
                                    "begin_period": "NULL",
                                    "end_year": "NULL",
                                    "end_period": "NULL",
                                    "naics_code": "-",
                                    "publishing_status": "A",
                                    "industry_name": "Goods-producing",
                                    "display_level": "1.0",
                                    "selectable": "T",
                                    "sort_sequence": "3.0"
                                },
                                {
                                    "series_id": "CES0600000011",
                                    "supersector_code": "6",
                                    "industry_code": "6000000",
                                    "data_type_code": "11",
                                    "seasonal": "S",
                                    "series_title": "Average weekly earnings of all employees",
                                    "footnote_codes": "NULL",
                                    "begin_year": "NULL",
                                    "begin_period": "NULL",
                                    "end_year": "NULL",
                                    "end_period": "NULL",
                                    "naics_code": "-",
                                    "publishing_status": "A",
                                    "industry_name": "Goods-producing",
                                    "display_level": "1.0",
                                    "selectable": "T",
                                    "sort_sequence": "3.0"
                                },
                                {
                                    "series_id": "CES0600000012",
                                    "supersector_code": "6",
                                    "industry_code": "6000000",
                                    "data_type_code": "12",
                                    "seasonal": "S",
                                    "series_title": "Average weekly earnings of all employees",
                                    "footnote_codes": "NULL",
                                    "begin_year": "NULL",
                                    "begin_period": "NULL",
                                    "end_year": "NULL",
                                    "end_period": "NULL",
                                    "naics_code": "-",
                                    "publishing_status": "A",
                                    "industry_name": "Goods-producing",
                                    "display_level": "1.0",
                                    "selectable": "T",
                                    "sort_sequence": "3.0"
                                },
                                {
                                    "series_id": "CES0600000013",
                                    "supersector_code": "6",
                                    "industry_code": "6000000",
                                    "data_type_code": "13",
                                    "seasonal": "S",
                                    "series_title": "Average hourly earnings of all employees",
                                    "footnote_codes": "NULL",
                                    "begin_year": "NULL",
                                    "begin_period": "NULL",
                                    "end_year": "NULL",
                                    "end_period": "NULL",
                                    "naics_code": "-",
                                    "publishing_status": "A",
                                    "industry_name": "Goods-producing",
                                    "display_level": "1.0",
                                    "selectable": "T",
                                    "sort_sequence": "3.0"
                                },
                                {
                                    "series_id": "CES0600000016",
                                    "supersector_code": "6",
                                    "industry_code": "6000000",
                                    "data_type_code": "16",
                                    "seasonal": "S",
                                    "series_title": "Indexes of aggregate weekly hours of all employees",
                                    "footnote_codes": "NULL",
                                    "begin_year": "NULL",
                                    "begin_period": "NULL",
                                    "end_year": "NULL",
                                    "end_period": "NULL",
                                    "naics_code": "-",
                                    "publishing_status": "A",
                                    "industry_name": "Goods-producing",
                                    "display_level": "1.0",
                                    "selectable": "T",
                                    "sort_sequence": "3.0"
                                },
                                {
                                    "series_id": "CES0600000017",
                                    "supersector_code": "6",
                                    "industry_code": "6000000",
                                    "data_type_code": "17",
                                    "seasonal": "S",
                                    "series_title": "Indexes of aggregate weekly payrolls of all employees",
                                    "footnote_codes": "NULL",
                                    "begin_year": "NULL",
                                    "begin_period": "NULL",
                                    "end_year": "NULL",
                                    "end_period": "NULL",
                                    "naics_code": "-",
                                    "publishing_status": "A",
                                    "industry_name": "Goods-producing",
                                    "display_level": "1.0",
                                    "selectable": "T",
                                    "sort_sequence": "3.0"
                                },
                                {
                                    "series_id": "CES0600000025",
                                    "supersector_code": "6",
                                    "industry_code": "6000000",
                                    "data_type_code": "25",
                                    "seasonal": "S",
                                    "series_title": "All employees",
                                    "footnote_codes": "NULL",
                                    "begin_year": "NULL",
                                    "begin_period": "NULL",
                                    "end_year": "NULL",
                                    "end_period": "NULL",
                                    "naics_code": "-",
                                    "publishing_status": "A",
                                    "industry_name": "Goods-producing",
                                    "display_level": "1.0",
                                    "selectable": "T",
                                    "sort_sequence": "3.0"
                                },
                                {
                                    "series_id": "CES0600000030",
                                    "supersector_code": "6",
                                    "industry_code": "6000000",
                                    "data_type_code": "30",
                                    "seasonal": "S",
                                    "series_title": "Average weekly earnings of production and nonsupervisory employees",
                                    "footnote_codes": "NULL",
                                    "begin_year": "NULL",
                                    "begin_period": "NULL",
                                    "end_year": "NULL",
                                    "end_period": "NULL",
                                    "naics_code": "-",
                                    "publishing_status": "A",
                                    "industry_name": "Goods-producing",
                                    "display_level": "1.0",
                                    "selectable": "T",
                                    "sort_sequence": "3.0"
                                },
                                {
                                    "series_id": "CES0600000031",
                                    "supersector_code": "6",
                                    "industry_code": "6000000",
                                    "data_type_code": "31",
                                    "seasonal": "S",
                                    "series_title": "Average weekly earnings of production and nonsupervisory employees",
                                    "footnote_codes": "NULL",
                                    "begin_year": "NULL",
                                    "begin_period": "NULL",
                                    "end_year": "NULL",
                                    "end_period": "NULL",
                                    "naics_code": "-",
                                    "publishing_status": "A",
                                    "industry_name": "Goods-producing",
                                    "display_level": "1.0",
                                    "selectable": "T",
                                    "sort_sequence": "3.0"
                                },
                                {
                                    "series_id": "CES0600000032",
                                    "supersector_code": "6",
                                    "industry_code": "6000000",
                                    "data_type_code": "32",
                                    "seasonal": "S",
                                    "series_title": "Average hourly earnings of production and nonsupervisory employees",
                                    "footnote_codes": "NULL",
                                    "begin_year": "NULL",
                                    "begin_period": "NULL",
                                    "end_year": "NULL",
                                    "end_period": "NULL",
                                    "naics_code": "-",
                                    "publishing_status": "A",
                                    "industry_name": "Goods-producing",
                                    "display_level": "1.0",
                                    "selectable": "T",
                                    "sort_sequence": "3.0"
                                },
                                {
                                    "series_id": "CES0600000034",
                                    "supersector_code": "6",
                                    "industry_code": "6000000",
                                    "data_type_code": "34",
                                    "seasonal": "S",
                                    "series_title": "Indexes of aggregate weekly hours of production and nonsupervisory employees",
                                    "footnote_codes": "NULL",
                                    "begin_year": "NULL",
                                    "begin_period": "NULL",
                                    "end_year": "NULL",
                                    "end_period": "NULL",
                                    "naics_code": "-",
                                    "publishing_status": "A",
                                    "industry_name": "Goods-producing",
                                    "display_level": "1.0",
                                    "selectable": "T",
                                    "sort_sequence": "3.0"
                                },
                                {
                                    "series_id": "CES0600000035",
                                    "supersector_code": "6",
                                    "industry_code": "6000000",
                                    "data_type_code": "35",
                                    "seasonal": "S",
                                    "series_title": "Indexes of aggregate weekly payrolls of production and nonsupervisory employees",
                                    "footnote_codes": "NULL",
                                    "begin_year": "NULL",
                                    "begin_period": "NULL",
                                    "end_year": "NULL",
                                    "end_period": "NULL",
                                    "naics_code": "-",
                                    "publishing_status": "A",
                                    "industry_name": "Goods-producing",
                                    "display_level": "1.0",
                                    "selectable": "T",
                                    "sort_sequence": "3.0"
                                },
                                {
                                    "series_id": "CES0600000056",
                                    "supersector_code": "6",
                                    "industry_code": "6000000",
                                    "data_type_code": "56",
                                    "seasonal": "S",
                                    "series_title": "Aggregate weekly hours of all employees",
                                    "footnote_codes": "NULL",
                                    "begin_year": "NULL",
                                    "begin_period": "NULL",
                                    "end_year": "NULL",
                                    "end_period": "NULL",
                                    "naics_code": "-",
                                    "publishing_status": "A",
                                    "industry_name": "Goods-producing",
                                    "display_level": "1.0",
                                    "selectable": "T",
                                    "sort_sequence": "3.0"
                                },
                                {
                                    "series_id": "CES0600000057",
                                    "supersector_code": "6",
                                    "industry_code": "6000000",
                                    "data_type_code": "57",
                                    "seasonal": "S",
                                    "series_title": "Aggregate weekly payrolls of all employees",
                                    "footnote_codes": "NULL",
                                    "begin_year": "NULL",
                                    "begin_period": "NULL",
                                    "end_year": "NULL",
                                    "end_period": "NULL",
                                    "naics_code": "-",
                                    "publishing_status": "A",
                                    "industry_name": "Goods-producing",
                                    "display_level": "1.0",
                                    "selectable": "T",
                                    "sort_sequence": "3.0"
                                },
                                {
                                    "series_id": "CES0600000081",
                                    "supersector_code": "6",
                                    "industry_code": "6000000",
                                    "data_type_code": "81",
                                    "seasonal": "S",
                                    "series_title": "Aggregate weekly hours of production and nonsupervisory employees",
                                    "footnote_codes": "NULL",
                                    "begin_year": "NULL",
                                    "begin_period": "NULL",
                                    "end_year": "NULL",
                                    "end_period": "NULL",
                                    "naics_code": "-",
                                    "publishing_status": "A",
                                    "industry_name": "Goods-producing",
                                    "display_level": "1.0",
                                    "selectable": "T",
                                    "sort_sequence": "3.0"
                                },
                                {
                                    "series_id": "CES0600000082",
                                    "supersector_code": "6",
                                    "industry_code": "6000000",
                                    "data_type_code": "82",
                                    "seasonal": "S",
                                    "series_title": "Aggregate weekly payrolls of production and nonsupervisory employees",
                                    "footnote_codes": "NULL",
                                    "begin_year": "NULL",
                                    "begin_period": "NULL",
                                    "end_year": "NULL",
                                    "end_period": "NULL",
                                    "naics_code": "-",
                                    "publishing_status": "A",
                                    "industry_name": "Goods-producing",
                                    "display_level": "1.0",
                                    "selectable": "T",
                                    "sort_sequence": "3.0"
                                },
                                {
                                    "series_id": "CES0700000001",
                                    "supersector_code": "7",
                                    "industry_code": "7000000",
                                    "data_type_code": "1",
                                    "seasonal": "S",
                                    "series_title": "All employees",
                                    "footnote_codes": "NULL",
                                    "begin_year": "NULL",
                                    "begin_period": "NULL",
                                    "end_year": "NULL",
                                    "end_period": "NULL",
                                    "naics_code": "-",
                                    "publishing_status": "B",
                                    "industry_name": "Service-providing",
                                    "display_level": "1.0",
                                    "selectable": "T",
                                    "sort_sequence": "4.0"
                                },
                                {
                                    "series_id": "CES0700000010",
                                    "supersector_code": "7",
                                    "industry_code": "7000000",
                                    "data_type_code": "10",
                                    "seasonal": "S",
                                    "series_title": "Women employees",
                                    "footnote_codes": "NULL",
                                    "begin_year": "NULL",
                                    "begin_period": "NULL",
                                    "end_year": "NULL",
                                    "end_period": "NULL",
                                    "naics_code": "-",
                                    "publishing_status": "B",
                                    "industry_name": "Service-providing",
                                    "display_level": "1.0",
                                    "selectable": "T",
                                    "sort_sequence": "4.0"
                                },
                                {
                                    "series_id": "CES0700000025",
                                    "supersector_code": "7",
                                    "industry_code": "7000000",
                                    "data_type_code": "25",
                                    "seasonal": "S",
                                    "series_title": "All employees",
                                    "footnote_codes": "NULL",
                                    "begin_year": "NULL",
                                    "begin_period": "NULL",
                                    "end_year": "NULL",
                                    "end_period": "NULL",
                                    "naics_code": "-",
                                    "publishing_status": "B",
                                    "industry_name": "Service-providing",
                                    "display_level": "1.0",
                                    "selectable": "T",
                                    "sort_sequence": "4.0"
                                },
                                {
                                    "series_id": "CES0800000001",
                                    "supersector_code": "8",
                                    "industry_code": "8000000",
                                    "data_type_code": "1",
                                    "seasonal": "S",
                                    "series_title": "All employees",
                                    "footnote_codes": "NULL",
                                    "begin_year": "NULL",
                                    "begin_period": "NULL",
                                    "end_year": "NULL",
                                    "end_period": "NULL",
                                    "naics_code": "-",
                                    "publishing_status": "A",
                                    "industry_name": "Private service-providing",
                                    "display_level": "1.0",
                                    "selectable": "T",
                                    "sort_sequence": "5.0"
                                },
                                {
                                    "series_id": "CES0800000002",
                                    "supersector_code": "8",
                                    "industry_code": "8000000",
                                    "data_type_code": "2",
                                    "seasonal": "S",
                                    "series_title": "Average weekly hours of all employees",
                                    "footnote_codes": "NULL",
                                    "begin_year": "NULL",
                                    "begin_period": "NULL",
                                    "end_year": "NULL",
                                    "end_period": "NULL",
                                    "naics_code": "-",
                                    "publishing_status": "A",
                                    "industry_name": "Private service-providing",
                                    "display_level": "1.0",
                                    "selectable": "T",
                                    "sort_sequence": "5.0"
                                },
                                {
                                    "series_id": "CES0800000003",
                                    "supersector_code": "8",
                                    "industry_code": "8000000",
                                    "data_type_code": "3",
                                    "seasonal": "S",
                                    "series_title": "Average hourly earnings of all employees",
                                    "footnote_codes": "NULL",
                                    "begin_year": "NULL",
                                    "begin_period": "NULL",
                                    "end_year": "NULL",
                                    "end_period": "NULL",
                                    "naics_code": "-",
                                    "publishing_status": "A",
                                    "industry_name": "Private service-providing",
                                    "display_level": "1.0",
                                    "selectable": "T",
                                    "sort_sequence": "5.0"
                                },
                                {
                                    "series_id": "CES0800000006",
                                    "supersector_code": "8",
                                    "industry_code": "8000000",
                                    "data_type_code": "6",
                                    "seasonal": "S",
                                    "series_title": "Production and nonsupervisory employees",
                                    "footnote_codes": "NULL",
                                    "begin_year": "NULL",
                                    "begin_period": "NULL",
                                    "end_year": "NULL",
                                    "end_period": "NULL",
                                    "naics_code": "-",
                                    "publishing_status": "A",
                                    "industry_name": "Private service-providing",
                                    "display_level": "1.0",
                                    "selectable": "T",
                                    "sort_sequence": "5.0"
                                },
                                {
                                    "series_id": "CES0800000007",
                                    "supersector_code": "8",
                                    "industry_code": "8000000",
                                    "data_type_code": "7",
                                    "seasonal": "S",
                                    "series_title": "Average weekly hours of production and nonsupervisory employees",
                                    "footnote_codes": "NULL",
                                    "begin_year": "NULL",
                                    "begin_period": "NULL",
                                    "end_year": "NULL",
                                    "end_period": "NULL",
                                    "naics_code": "-",
                                    "publishing_status": "A",
                                    "industry_name": "Private service-providing",
                                    "display_level": "1.0",
                                    "selectable": "T",
                                    "sort_sequence": "5.0"
                                },
                                {
                                    "series_id": "CES0800000008",
                                    "supersector_code": "8",
                                    "industry_code": "8000000",
                                    "data_type_code": "8",
                                    "seasonal": "S",
                                    "series_title": "Average hourly earnings of production and nonsupervisory employees",
                                    "footnote_codes": "NULL",
                                    "begin_year": "NULL",
                                    "begin_period": "NULL",
                                    "end_year": "NULL",
                                    "end_period": "NULL",
                                    "naics_code": "-",
                                    "publishing_status": "A",
                                    "industry_name": "Private service-providing",
                                    "display_level": "1.0",
                                    "selectable": "T",
                                    "sort_sequence": "5.0"
                                },
                                {
                                    "series_id": "CES0800000010",
                                    "supersector_code": "8",
                                    "industry_code": "8000000",
                                    "data_type_code": "10",
                                    "seasonal": "S",
                                    "series_title": "Women employees",
                                    "footnote_codes": "NULL",
                                    "begin_year": "NULL",
                                    "begin_period": "NULL",
                                    "end_year": "NULL",
                                    "end_period": "NULL",
                                    "naics_code": "-",
                                    "publishing_status": "A",
                                    "industry_name": "Private service-providing",
                                    "display_level": "1.0",
                                    "selectable": "T",
                                    "sort_sequence": "5.0"
                                },
                                {
                                    "series_id": "CES0800000011",
                                    "supersector_code": "8",
                                    "industry_code": "8000000",
                                    "data_type_code": "11",
                                    "seasonal": "S",
                                    "series_title": "Average weekly earnings of all employees",
                                    "footnote_codes": "NULL",
                                    "begin_year": "NULL",
                                    "begin_period": "NULL",
                                    "end_year": "NULL",
                                    "end_period": "NULL",
                                    "naics_code": "-",
                                    "publishing_status": "A",
                                    "industry_name": "Private service-providing",
                                    "display_level": "1.0",
                                    "selectable": "T",
                                    "sort_sequence": "5.0"
                                },
                                {
                                    "series_id": "CES0800000012",
                                    "supersector_code": "8",
                                    "industry_code": "8000000",
                                    "data_type_code": "12",
                                    "seasonal": "S",
                                    "series_title": "Average weekly earnings of all employees",
                                    "footnote_codes": "NULL",
                                    "begin_year": "NULL",
                                    "begin_period": "NULL",
                                    "end_year": "NULL",
                                    "end_period": "NULL",
                                    "naics_code": "-",
                                    "publishing_status": "A",
                                    "industry_name": "Private service-providing",
                                    "display_level": "1.0",
                                    "selectable": "T",
                                    "sort_sequence": "5.0"
                                },
                                {
                                    "series_id": "CES0800000013",
                                    "supersector_code": "8",
                                    "industry_code": "8000000",
                                    "data_type_code": "13",
                                    "seasonal": "S",
                                    "series_title": "Average hourly earnings of all employees",
                                    "footnote_codes": "NULL",
                                    "begin_year": "NULL",
                                    "begin_period": "NULL",
                                    "end_year": "NULL",
                                    "end_period": "NULL",
                                    "naics_code": "-",
                                    "publishing_status": "A",
                                    "industry_name": "Private service-providing",
                                    "display_level": "1.0",
                                    "selectable": "T",
                                    "sort_sequence": "5.0"
                                },
                                {
                                    "series_id": "CES0800000016",
                                    "supersector_code": "8",
                                    "industry_code": "8000000",
                                    "data_type_code": "16",
                                    "seasonal": "S",
                                    "series_title": "Indexes of aggregate weekly hours of all employees",
                                    "footnote_codes": "NULL",
                                    "begin_year": "NULL",
                                    "begin_period": "NULL",
                                    "end_year": "NULL",
                                    "end_period": "NULL",
                                    "naics_code": "-",
                                    "publishing_status": "A",
                                    "industry_name": "Private service-providing",
                                    "display_level": "1.0",
                                    "selectable": "T",
                                    "sort_sequence": "5.0"
                                },
                                {
                                    "series_id": "CES0800000017",
                                    "supersector_code": "8",
                                    "industry_code": "8000000",
                                    "data_type_code": "17",
                                    "seasonal": "S",
                                    "series_title": "Indexes of aggregate weekly payrolls of all employees",
                                    "footnote_codes": "NULL",
                                    "begin_year": "NULL",
                                    "begin_period": "NULL",
                                    "end_year": "NULL",
                                    "end_period": "NULL",
                                    "naics_code": "-",
                                    "publishing_status": "A",
                                    "industry_name": "Private service-providing",
                                    "display_level": "1.0",
                                    "selectable": "T",
                                    "sort_sequence": "5.0"
                                },
                                {
                                    "series_id": "CES0800000030",
                                    "supersector_code": "8",
                                    "industry_code": "8000000",
                                    "data_type_code": "30",
                                    "seasonal": "S",
                                    "series_title": "Average weekly earnings of production and nonsupervisory employees",
                                    "footnote_codes": "NULL",
                                    "begin_year": "NULL",
                                    "begin_period": "NULL",
                                    "end_year": "NULL",
                                    "end_period": "NULL",
                                    "naics_code": "-",
                                    "publishing_status": "A",
                                    "industry_name": "Private service-providing",
                                    "display_level": "1.0",
                                    "selectable": "T",
                                    "sort_sequence": "5.0"
                                },
                                {
                                    "series_id": "CES0800000031",
                                    "supersector_code": "8",
                                    "industry_code": "8000000",
                                    "data_type_code": "31",
                                    "seasonal": "S",
                                    "series_title": "Average weekly earnings of production and nonsupervisory employees",
                                    "footnote_codes": "NULL",
                                    "begin_year": "NULL",
                                    "begin_period": "NULL",
                                    "end_year": "NULL",
                                    "end_period": "NULL",
                                    "naics_code": "-",
                                    "publishing_status": "A",
                                    "industry_name": "Private service-providing",
                                    "display_level": "1.0",
                                    "selectable": "T",
                                    "sort_sequence": "5.0"
                                },
                                {
                                    "series_id": "CES0800000032",
                                    "supersector_code": "8",
                                    "industry_code": "8000000",
                                    "data_type_code": "32",
                                    "seasonal": "S",
                                    "series_title": "Average hourly earnings of production and nonsupervisory employees",
                                    "footnote_codes": "NULL",
                                    "begin_year": "NULL",
                                    "begin_period": "NULL",
                                    "end_year": "NULL",
                                    "end_period": "NULL",
                                    "naics_code": "-",
                                    "publishing_status": "A",
                                    "industry_name": "Private service-providing",
                                    "display_level": "1.0",
                                    "selectable": "T",
                                    "sort_sequence": "5.0"
                                },
                                {
                                    "series_id": "CES0800000034",
                                    "supersector_code": "8",
                                    "industry_code": "8000000",
                                    "data_type_code": "34",
                                    "seasonal": "S",
                                    "series_title": "Indexes of aggregate weekly hours of production and nonsupervisory employees",
                                    "footnote_codes": "NULL",
                                    "begin_year": "NULL",
                                    "begin_period": "NULL",
                                    "end_year": "NULL",
                                    "end_period": "NULL",
                                    "naics_code": "-",
                                    "publishing_status": "A",
                                    "industry_name": "Private service-providing",
                                    "display_level": "1.0",
                                    "selectable": "T",
                                    "sort_sequence": "5.0"
                                },
                                {
                                    "series_id": "CES0800000035",
                                    "supersector_code": "8",
                                    "industry_code": "8000000",
                                    "data_type_code": "35",
                                    "seasonal": "S",
                                    "series_title": "Indexes of aggregate weekly payrolls of production and nonsupervisory employees",
                                    "footnote_codes": "NULL",
                                    "begin_year": "NULL",
                                    "begin_period": "NULL",
                                    "end_year": "NULL",
                                    "end_period": "NULL",
                                    "naics_code": "-",
                                    "publishing_status": "A",
                                    "industry_name": "Private service-providing",
                                    "display_level": "1.0",
                                    "selectable": "T",
                                    "sort_sequence": "5.0"
                                },
                                {
                                    "series_id": "CES0800000056",
                                    "supersector_code": "8",
                                    "industry_code": "8000000",
                                    "data_type_code": "56",
                                    "seasonal": "S",
                                    "series_title": "Aggregate weekly hours of all employees",
                                    "footnote_codes": "NULL",
                                    "begin_year": "NULL",
                                    "begin_period": "NULL",
                                    "end_year": "NULL",
                                    "end_period": "NULL",
                                    "naics_code": "-",
                                    "publishing_status": "A",
                                    "industry_name": "Private service-providing",
                                    "display_level": "1.0",
                                    "selectable": "T",
                                    "sort_sequence": "5.0"
                                },
                                {
                                    "series_id": "CES0800000057",
                                    "supersector_code": "8",
                                    "industry_code": "8000000",
                                    "data_type_code": "57",
                                    "seasonal": "S",
                                    "series_title": "Aggregate weekly payrolls of all employees",
                                    "footnote_codes": "NULL",
                                    "begin_year": "NULL",
                                    "begin_period": "NULL",
                                    "end_year": "NULL",
                                    "end_period": "NULL",
                                    "naics_code": "-",
                                    "publishing_status": "A",
                                    "industry_name": "Private service-providing",
                                    "display_level": "1.0",
                                    "selectable": "T",
                                    "sort_sequence": "5.0"
                                },
                                {
                                    "series_id": "CES0800000081",
                                    "supersector_code": "8",
                                    "industry_code": "8000000",
                                    "data_type_code": "81",
                                    "seasonal": "S",
                                    "series_title": "Aggregate weekly hours of production and nonsupervisory employees",
                                    "footnote_codes": "NULL",
                                    "begin_year": "NULL",
                                    "begin_period": "NULL",
                                    "end_year": "NULL",
                                    "end_period": "NULL",
                                    "naics_code": "-",
                                    "publishing_status": "A",
                                    "industry_name": "Private service-providing",
                                    "display_level": "1.0",
                                    "selectable": "T",
                                    "sort_sequence": "5.0"
                                },
                                {
                                    "series_id": "CES0800000082",
                                    "supersector_code": "8",
                                    "industry_code": "8000000",
                                    "data_type_code": "82",
                                    "seasonal": "S",
                                    "series_title": "Aggregate weekly payrolls of production and nonsupervisory employees",
                                    "footnote_codes": "NULL",
                                    "begin_year": "NULL",
                                    "begin_period": "NULL",
                                    "end_year": "NULL",
                                    "end_period": "NULL",
                                    "naics_code": "-",
                                    "publishing_status": "A",
                                    "industry_name": "Private service-providing",
                                    "display_level": "1.0",
                                    "selectable": "T",
                                    "sort_sequence": "5.0"
                                },
                                {
                                    "series_id": "CES1000000001",
                                    "supersector_code": "10",
                                    "industry_code": "10000000",
                                    "data_type_code": "1",
                                    "seasonal": "S",
                                    "series_title": "All employees",
                                    "footnote_codes": "NULL",
                                    "begin_year": "NULL",
                                    "begin_period": "NULL",
                                    "end_year": "NULL",
                                    "end_period": "NULL",
                                    "naics_code": "-",
                                    "publishing_status": "A",
                                    "industry_name": "Mining and logging",
                                    "display_level": "2.0",
                                    "selectable": "T",
                                    "sort_sequence": "6.0"
                                },
                                {
                                    "series_id": "CES1000000002",
                                    "supersector_code": "10",
                                    "industry_code": "10000000",
                                    "data_type_code": "2",
                                    "seasonal": "S",
                                    "series_title": "Average weekly hours of all employees",
                                    "footnote_codes": "NULL",
                                    "begin_year": "NULL",
                                    "begin_period": "NULL",
                                    "end_year": "NULL",
                                    "end_period": "NULL",
                                    "naics_code": "-",
                                    "publishing_status": "A",
                                    "industry_name": "Mining and logging",
                                    "display_level": "2.0",
                                    "selectable": "T",
                                    "sort_sequence": "6.0"
                                },
                                {
                                    "series_id": "CES1000000003",
                                    "supersector_code": "10",
                                    "industry_code": "10000000",
                                    "data_type_code": "3",
                                    "seasonal": "S",
                                    "series_title": "Average hourly earnings of all employees",
                                    "footnote_codes": "NULL",
                                    "begin_year": "NULL",
                                    "begin_period": "NULL",
                                    "end_year": "NULL",
                                    "end_period": "NULL",
                                    "naics_code": "-",
                                    "publishing_status": "A",
                                    "industry_name": "Mining and logging",
                                    "display_level": "2.0",
                                    "selectable": "T",
                                    "sort_sequence": "6.0"
                                },
                                {
                                    "series_id": "CES1000000006",
                                    "supersector_code": "10",
                                    "industry_code": "10000000",
                                    "data_type_code": "6",
                                    "seasonal": "S",
                                    "series_title": "Production and nonsupervisory employees",
                                    "footnote_codes": "NULL",
                                    "begin_year": "NULL",
                                    "begin_period": "NULL",
                                    "end_year": "NULL",
                                    "end_period": "NULL",
                                    "naics_code": "-",
                                    "publishing_status": "A",
                                    "industry_name": "Mining and logging",
                                    "display_level": "2.0",
                                    "selectable": "T",
                                    "sort_sequence": "6.0"
                                },
                                {
                                    "series_id": "CES1000000007",
                                    "supersector_code": "10",
                                    "industry_code": "10000000",
                                    "data_type_code": "7",
                                    "seasonal": "S",
                                    "series_title": "Average weekly hours of production and nonsupervisory employees",
                                    "footnote_codes": "NULL",
                                    "begin_year": "NULL",
                                    "begin_period": "NULL",
                                    "end_year": "NULL",
                                    "end_period": "NULL",
                                    "naics_code": "-",
                                    "publishing_status": "A",
                                    "industry_name": "Mining and logging",
                                    "display_level": "2.0",
                                    "selectable": "T",
                                    "sort_sequence": "6.0"
                                },
                                {
                                    "series_id": "CES1000000008",
                                    "supersector_code": "10",
                                    "industry_code": "10000000",
                                    "data_type_code": "8",
                                    "seasonal": "S",
                                    "series_title": "Average hourly earnings of production and nonsupervisory employees",
                                    "footnote_codes": "NULL",
                                    "begin_year": "NULL",
                                    "begin_period": "NULL",
                                    "end_year": "NULL",
                                    "end_period": "NULL",
                                    "naics_code": "-",
                                    "publishing_status": "A",
                                    "industry_name": "Mining and logging",
                                    "display_level": "2.0",
                                    "selectable": "T",
                                    "sort_sequence": "6.0"
                                },
                                {
                                    "series_id": "CES1000000010",
                                    "supersector_code": "10",
                                    "industry_code": "10000000",
                                    "data_type_code": "10",
                                    "seasonal": "S",
                                    "series_title": "Women employees",
                                    "footnote_codes": "NULL",
                                    "begin_year": "NULL",
                                    "begin_period": "NULL",
                                    "end_year": "NULL",
                                    "end_period": "NULL",
                                    "naics_code": "-",
                                    "publishing_status": "A",
                                    "industry_name": "Mining and logging",
                                    "display_level": "2.0",
                                    "selectable": "T",
                                    "sort_sequence": "6.0"
                                },
                                {
                                    "series_id": "CES1000000011",
                                    "supersector_code": "10",
                                    "industry_code": "10000000",
                                    "data_type_code": "11",
                                    "seasonal": "S",
                                    "series_title": "Average weekly earnings of all employees",
                                    "footnote_codes": "NULL",
                                    "begin_year": "NULL",
                                    "begin_period": "NULL",
                                    "end_year": "NULL",
                                    "end_period": "NULL",
                                    "naics_code": "-",
                                    "publishing_status": "A",
                                    "industry_name": "Mining and logging",
                                    "display_level": "2.0",
                                    "selectable": "T",
                                    "sort_sequence": "6.0"
                                },
                                {
                                    "series_id": "CES1000000012",
                                    "supersector_code": "10",
                                    "industry_code": "10000000",
                                    "data_type_code": "12",
                                    "seasonal": "S",
                                    "series_title": "Average weekly earnings of all employees",
                                    "footnote_codes": "NULL",
                                    "begin_year": "NULL",
                                    "begin_period": "NULL",
                                    "end_year": "NULL",
                                    "end_period": "NULL",
                                    "naics_code": "-",
                                    "publishing_status": "A",
                                    "industry_name": "Mining and logging",
                                    "display_level": "2.0",
                                    "selectable": "T",
                                    "sort_sequence": "6.0"
                                },
                                {
                                    "series_id": "CES1000000013",
                                    "supersector_code": "10",
                                    "industry_code": "10000000",
                                    "data_type_code": "13",
                                    "seasonal": "S",
                                    "series_title": "Average hourly earnings of all employees",
                                    "footnote_codes": "NULL",
                                    "begin_year": "NULL",
                                    "begin_period": "NULL",
                                    "end_year": "NULL",
                                    "end_period": "NULL",
                                    "naics_code": "-",
                                    "publishing_status": "A",
                                    "industry_name": "Mining and logging",
                                    "display_level": "2.0",
                                    "selectable": "T",
                                    "sort_sequence": "6.0"
                                },
                                {
                                    "series_id": "CES1000000016",
                                    "supersector_code": "10",
                                    "industry_code": "10000000",
                                    "data_type_code": "16",
                                    "seasonal": "S",
                                    "series_title": "Indexes of aggregate weekly hours of all employees",
                                    "footnote_codes": "NULL",
                                    "begin_year": "NULL",
                                    "begin_period": "NULL",
                                    "end_year": "NULL",
                                    "end_period": "NULL",
                                    "naics_code": "-",
                                    "publishing_status": "A",
                                    "industry_name": "Mining and logging",
                                    "display_level": "2.0",
                                    "selectable": "T",
                                    "sort_sequence": "6.0"
                                },
                                {
                                    "series_id": "CES1000000017",
                                    "supersector_code": "10",
                                    "industry_code": "10000000",
                                    "data_type_code": "17",
                                    "seasonal": "S",
                                    "series_title": "Indexes of aggregate weekly payrolls of all employees",
                                    "footnote_codes": "NULL",
                                    "begin_year": "NULL",
                                    "begin_period": "NULL",
                                    "end_year": "NULL",
                                    "end_period": "NULL",
                                    "naics_code": "-",
                                    "publishing_status": "A",
                                    "industry_name": "Mining and logging",
                                    "display_level": "2.0",
                                    "selectable": "T",
                                    "sort_sequence": "6.0"
                                },
                                {
                                    "series_id": "CES1000000030",
                                    "supersector_code": "10",
                                    "industry_code": "10000000",
                                    "data_type_code": "30",
                                    "seasonal": "S",
                                    "series_title": "Average weekly earnings of production and nonsupervisory employees",
                                    "footnote_codes": "NULL",
                                    "begin_year": "NULL",
                                    "begin_period": "NULL",
                                    "end_year": "NULL",
                                    "end_period": "NULL",
                                    "naics_code": "-",
                                    "publishing_status": "A",
                                    "industry_name": "Mining and logging",
                                    "display_level": "2.0",
                                    "selectable": "T",
                                    "sort_sequence": "6.0"
                                },
                                {
                                    "series_id": "CES1000000031",
                                    "supersector_code": "10",
                                    "industry_code": "10000000",
                                    "data_type_code": "31",
                                    "seasonal": "S",
                                    "series_title": "Average weekly earnings of production and nonsupervisory employees",
                                    "footnote_codes": "NULL",
                                    "begin_year": "NULL",
                                    "begin_period": "NULL",
                                    "end_year": "NULL",
                                    "end_period": "NULL",
                                    "naics_code": "-",
                                    "publishing_status": "A",
                                    "industry_name": "Mining and logging",
                                    "display_level": "2.0",
                                    "selectable": "T",
                                    "sort_sequence": "6.0"
                                },
                                {
                                    "series_id": "CES1000000032",
                                    "supersector_code": "10",
                                    "industry_code": "10000000",
                                    "data_type_code": "32",
                                    "seasonal": "S",
                                    "series_title": "Average hourly earnings of production and nonsupervisory employees",
                                    "footnote_codes": "NULL",
                                    "begin_year": "NULL",
                                    "begin_period": "NULL",
                                    "end_year": "NULL",
                                    "end_period": "NULL",
                                    "naics_code": "-",
                                    "publishing_status": "A",
                                    "industry_name": "Mining and logging",
                                    "display_level": "2.0",
                                    "selectable": "T",
                                    "sort_sequence": "6.0"
                                },
                                {
                                    "series_id": "CES1000000034",
                                    "supersector_code": "10",
                                    "industry_code": "10000000",
                                    "data_type_code": "34",
                                    "seasonal": "S",
                                    "series_title": "Indexes of aggregate weekly hours of production and nonsupervisory employees",
                                    "footnote_codes": "NULL",
                                    "begin_year": "NULL",
                                    "begin_period": "NULL",
                                    "end_year": "NULL",
                                    "end_period": "NULL",
                                    "naics_code": "-",
                                    "publishing_status": "A",
                                    "industry_name": "Mining and logging",
                                    "display_level": "2.0",
                                    "selectable": "T",
                                    "sort_sequence": "6.0"
                                },
                                {
                                    "series_id": "CES1000000035",
                                    "supersector_code": "10",
                                    "industry_code": "10000000",
                                    "data_type_code": "35",
                                    "seasonal": "S",
                                    "series_title": "Indexes of aggregate weekly payrolls of production and nonsupervisory employees",
                                    "footnote_codes": "NULL",
                                    "begin_year": "NULL",
                                    "begin_period": "NULL",
                                    "end_year": "NULL",
                                    "end_period": "NULL",
                                    "naics_code": "-",
                                    "publishing_status": "A",
                                    "industry_name": "Mining and logging",
                                    "display_level": "2.0",
                                    "selectable": "T",
                                    "sort_sequence": "6.0"
                                },
                                {
                                    "series_id": "CES1000000056",
                                    "supersector_code": "10",
                                    "industry_code": "10000000",
                                    "data_type_code": "56",
                                    "seasonal": "S",
                                    "series_title": "Aggregate weekly hours of all employees",
                                    "footnote_codes": "NULL",
                                    "begin_year": "NULL",
                                    "begin_period": "NULL",
                                    "end_year": "NULL",
                                    "end_period": "NULL",
                                    "naics_code": "-",
                                    "publishing_status": "A",
                                    "industry_name": "Mining and logging",
                                    "display_level": "2.0",
                                    "selectable": "T",
                                    "sort_sequence": "6.0"
                                },
                                {
                                    "series_id": "CES1000000057",
                                    "supersector_code": "10",
                                    "industry_code": "10000000",
                                    "data_type_code": "57",
                                    "seasonal": "S",
                                    "series_title": "Aggregate weekly payrolls of all employees",
                                    "footnote_codes": "NULL",
                                    "begin_year": "NULL",
                                    "begin_period": "NULL",
                                    "end_year": "NULL",
                                    "end_period": "NULL",
                                    "naics_code": "-",
                                    "publishing_status": "A",
                                    "industry_name": "Mining and logging",
                                    "display_level": "2.0",
                                    "selectable": "T",
                                    "sort_sequence": "6.0"
                                },
                                {
                                    "series_id": "CES1000000081",
                                    "supersector_code": "10",
                                    "industry_code": "10000000",
                                    "data_type_code": "81",
                                    "seasonal": "S",
                                    "series_title": "Aggregate weekly hours of production and nonsupervisory employees",
                                    "footnote_codes": "NULL",
                                    "begin_year": "NULL",
                                    "begin_period": "NULL",
                                    "end_year": "NULL",
                                    "end_period": "NULL",
                                    "naics_code": "-",
                                    "publishing_status": "A",
                                    "industry_name": "Mining and logging",
                                    "display_level": "2.0",
                                    "selectable": "T",
                                    "sort_sequence": "6.0"
                                },
                                {
                                    "series_id": "CES1000000082",
                                    "supersector_code": "10",
                                    "industry_code": "10000000",
                                    "data_type_code": "82",
                                    "seasonal": "S",
                                    "series_title": "Aggregate weekly payrolls of production and nonsupervisory employees",
                                    "footnote_codes": "NULL",
                                    "begin_year": "NULL",
                                    "begin_period": "NULL",
                                    "end_year": "NULL",
                                    "end_period": "NULL",
                                    "naics_code": "-",
                                    "publishing_status": "A",
                                    "industry_name": "Mining and logging",
                                    "display_level": "2.0",
                                    "selectable": "T",
                                    "sort_sequence": "6.0"
                                },
                                {
                                    "series_id": "CES1011330001",
                                    "supersector_code": "10",
                                    "industry_code": "10113300",
                                    "data_type_code": "1",
                                    "seasonal": "S",
                                    "series_title": "All employees",
                                    "footnote_codes": "NULL",
                                    "begin_year": "NULL",
                                    "begin_period": "NULL",
                                    "end_year": "NULL",
                                    "end_period": "NULL",
                                    "naics_code": "1133",
                                    "publishing_status": "A",
                                    "industry_name": "Logging",
                                    "display_level": "5.0",
                                    "selectable": "T",
                                    "sort_sequence": "7.0"
                                }
                            ]
                        },
                        "text/html": [
                            "<table>",
                            "<tr><th>series_id</th><th>supersector_code</th><th>industry_code</th><th>data_type_code</th><th>seasonal</th><th>series_title</th><th>footnote_codes</th><th>begin_year</th><th>begin_period</th><th>end_year</th><th>end_period</th><th>industry_code</th><th>naics_code</th><th>publishing_status</th><th>industry_name</th><th>display_level</th><th>selectable</th><th>sort_sequence</th></tr>",
                            "<tr><td>CES0000000001</td><td>0</td><td>0</td><td>1</td><td>S</td><td>All employees</td><td>NULL</td><td>NULL</td><td>NULL</td><td>NULL</td><td>NULL</td><td>0</td><td>-</td><td>B</td><td>Total nonfarm</td><td>0.0</td><td>T</td><td>1.0</td></tr>",
                            "<tr><td>CES0000000010</td><td>0</td><td>0</td><td>10</td><td>S</td><td>Women employees</td><td>NULL</td><td>NULL</td><td>NULL</td><td>NULL</td><td>NULL</td><td>0</td><td>-</td><td>B</td><td>Total nonfarm</td><td>0.0</td><td>T</td><td>1.0</td></tr>",
                            "<tr><td>CES0000000025</td><td>0</td><td>0</td><td>25</td><td>S</td><td>All employees</td><td>NULL</td><td>NULL</td><td>NULL</td><td>NULL</td><td>NULL</td><td>0</td><td>-</td><td>B</td><td>Total nonfarm</td><td>0.0</td><td>T</td><td>1.0</td></tr>",
                            "<tr><td>CES0000000026</td><td>0</td><td>0</td><td>26</td><td>S</td><td>All employees</td><td>NULL</td><td>NULL</td><td>NULL</td><td>NULL</td><td>NULL</td><td>0</td><td>-</td><td>B</td><td>Total nonfarm</td><td>0.0</td><td>T</td><td>1.0</td></tr>",
                            "<tr><td>CES0500000001</td><td>5</td><td>5000000</td><td>1</td><td>S</td><td>All employees</td><td>NULL</td><td>NULL</td><td>NULL</td><td>NULL</td><td>NULL</td><td>5000000</td><td>-</td><td>A</td><td>Total private</td><td>1.0</td><td>T</td><td>2.0</td></tr>",
                            "<tr><td>CES0500000002</td><td>5</td><td>5000000</td><td>2</td><td>S</td><td>Average weekly hours of all employees</td><td>NULL</td><td>NULL</td><td>NULL</td><td>NULL</td><td>NULL</td><td>5000000</td><td>-</td><td>A</td><td>Total private</td><td>1.0</td><td>T</td><td>2.0</td></tr>",
                            "<tr><td>CES0500000003</td><td>5</td><td>5000000</td><td>3</td><td>S</td><td>Average hourly earnings of all employees</td><td>NULL</td><td>NULL</td><td>NULL</td><td>NULL</td><td>NULL</td><td>5000000</td><td>-</td><td>A</td><td>Total private</td><td>1.0</td><td>T</td><td>2.0</td></tr>",
                            "<tr><td>CES0500000006</td><td>5</td><td>5000000</td><td>6</td><td>S</td><td>Production and nonsupervisory employees</td><td>NULL</td><td>NULL</td><td>NULL</td><td>NULL</td><td>NULL</td><td>5000000</td><td>-</td><td>A</td><td>Total private</td><td>1.0</td><td>T</td><td>2.0</td></tr>",
                            "<tr><td>CES0500000007</td><td>5</td><td>5000000</td><td>7</td><td>S</td><td>Average weekly hours of production and nonsupervisory employees</td><td>NULL</td><td>NULL</td><td>NULL</td><td>NULL</td><td>NULL</td><td>5000000</td><td>-</td><td>A</td><td>Total private</td><td>1.0</td><td>T</td><td>2.0</td></tr>",
                            "<tr><td>CES0500000008</td><td>5</td><td>5000000</td><td>8</td><td>S</td><td>Average hourly earnings of production and nonsupervisory employees</td><td>NULL</td><td>NULL</td><td>NULL</td><td>NULL</td><td>NULL</td><td>5000000</td><td>-</td><td>A</td><td>Total private</td><td>1.0</td><td>T</td><td>2.0</td></tr>",
                            "<tr><td>CES0500000010</td><td>5</td><td>5000000</td><td>10</td><td>S</td><td>Women employees</td><td>NULL</td><td>NULL</td><td>NULL</td><td>NULL</td><td>NULL</td><td>5000000</td><td>-</td><td>A</td><td>Total private</td><td>1.0</td><td>T</td><td>2.0</td></tr>",
                            "<tr><td>CES0500000011</td><td>5</td><td>5000000</td><td>11</td><td>S</td><td>Average weekly earnings of all employees</td><td>NULL</td><td>NULL</td><td>NULL</td><td>NULL</td><td>NULL</td><td>5000000</td><td>-</td><td>A</td><td>Total private</td><td>1.0</td><td>T</td><td>2.0</td></tr>",
                            "<tr><td>CES0500000012</td><td>5</td><td>5000000</td><td>12</td><td>S</td><td>Average weekly earnings of all employees</td><td>NULL</td><td>NULL</td><td>NULL</td><td>NULL</td><td>NULL</td><td>5000000</td><td>-</td><td>A</td><td>Total private</td><td>1.0</td><td>T</td><td>2.0</td></tr>",
                            "<tr><td>CES0500000013</td><td>5</td><td>5000000</td><td>13</td><td>S</td><td>Average hourly earnings of all employees</td><td>NULL</td><td>NULL</td><td>NULL</td><td>NULL</td><td>NULL</td><td>5000000</td><td>-</td><td>A</td><td>Total private</td><td>1.0</td><td>T</td><td>2.0</td></tr>",
                            "<tr><td>CES0500000016</td><td>5</td><td>5000000</td><td>16</td><td>S</td><td>Indexes of aggregate weekly hours of all employees</td><td>NULL</td><td>NULL</td><td>NULL</td><td>NULL</td><td>NULL</td><td>5000000</td><td>-</td><td>A</td><td>Total private</td><td>1.0</td><td>T</td><td>2.0</td></tr>",
                            "<tr><td>CES0500000017</td><td>5</td><td>5000000</td><td>17</td><td>S</td><td>Indexes of aggregate weekly payrolls of all employees</td><td>NULL</td><td>NULL</td><td>NULL</td><td>NULL</td><td>NULL</td><td>5000000</td><td>-</td><td>A</td><td>Total private</td><td>1.0</td><td>T</td><td>2.0</td></tr>",
                            "<tr><td>CES0500000019</td><td>5</td><td>5000000</td><td>19</td><td>S</td><td>Average weekly hours of all employees</td><td>NULL</td><td>NULL</td><td>NULL</td><td>NULL</td><td>NULL</td><td>5000000</td><td>-</td><td>A</td><td>Total private</td><td>1.0</td><td>T</td><td>2.0</td></tr>",
                            "<tr><td>CES0500000021</td><td>5</td><td>5000000</td><td>21</td><td>S</td><td>Diffusion indexes</td><td>NULL</td><td>NULL</td><td>NULL</td><td>NULL</td><td>NULL</td><td>5000000</td><td>-</td><td>A</td><td>Total private</td><td>1.0</td><td>T</td><td>2.0</td></tr>",
                            "<tr><td>CES0500000022</td><td>5</td><td>5000000</td><td>22</td><td>S</td><td>Diffusion indexes</td><td>NULL</td><td>NULL</td><td>NULL</td><td>NULL</td><td>NULL</td><td>5000000</td><td>-</td><td>A</td><td>Total private</td><td>1.0</td><td>T</td><td>2.0</td></tr>",
                            "<tr><td>CES0500000023</td><td>5</td><td>5000000</td><td>23</td><td>S</td><td>Diffusion indexes</td><td>NULL</td><td>NULL</td><td>NULL</td><td>NULL</td><td>NULL</td><td>5000000</td><td>-</td><td>A</td><td>Total private</td><td>1.0</td><td>T</td><td>2.0</td></tr>",
                            "<tr><td>CES0500000025</td><td>5</td><td>5000000</td><td>25</td><td>S</td><td>All employees</td><td>NULL</td><td>NULL</td><td>NULL</td><td>NULL</td><td>NULL</td><td>5000000</td><td>-</td><td>A</td><td>Total private</td><td>1.0</td><td>T</td><td>2.0</td></tr>",
                            "<tr><td>CES0500000026</td><td>5</td><td>5000000</td><td>26</td><td>S</td><td>All employees</td><td>NULL</td><td>NULL</td><td>NULL</td><td>NULL</td><td>NULL</td><td>5000000</td><td>-</td><td>A</td><td>Total private</td><td>1.0</td><td>T</td><td>2.0</td></tr>",
                            "<tr><td>CES0500000030</td><td>5</td><td>5000000</td><td>30</td><td>S</td><td>Average weekly earnings of production and nonsupervisory employees</td><td>NULL</td><td>NULL</td><td>NULL</td><td>NULL</td><td>NULL</td><td>5000000</td><td>-</td><td>A</td><td>Total private</td><td>1.0</td><td>T</td><td>2.0</td></tr>",
                            "<tr><td>CES0500000031</td><td>5</td><td>5000000</td><td>31</td><td>S</td><td>Average weekly earnings of production and nonsupervisory employees</td><td>NULL</td><td>NULL</td><td>NULL</td><td>NULL</td><td>NULL</td><td>5000000</td><td>-</td><td>A</td><td>Total private</td><td>1.0</td><td>T</td><td>2.0</td></tr>",
                            "<tr><td>CES0500000032</td><td>5</td><td>5000000</td><td>32</td><td>S</td><td>Average hourly earnings of production and nonsupervisory employees</td><td>NULL</td><td>NULL</td><td>NULL</td><td>NULL</td><td>NULL</td><td>5000000</td><td>-</td><td>A</td><td>Total private</td><td>1.0</td><td>T</td><td>2.0</td></tr>",
                            "<tr><td>CES0500000034</td><td>5</td><td>5000000</td><td>34</td><td>S</td><td>Indexes of aggregate weekly hours of production and nonsupervisory employees</td><td>NULL</td><td>NULL</td><td>NULL</td><td>NULL</td><td>NULL</td><td>5000000</td><td>-</td><td>A</td><td>Total private</td><td>1.0</td><td>T</td><td>2.0</td></tr>",
                            "<tr><td>CES0500000035</td><td>5</td><td>5000000</td><td>35</td><td>S</td><td>Indexes of aggregate weekly payrolls of production and nonsupervisory employees</td><td>NULL</td><td>NULL</td><td>NULL</td><td>NULL</td><td>NULL</td><td>5000000</td><td>-</td><td>A</td><td>Total private</td><td>1.0</td><td>T</td><td>2.0</td></tr>",
                            "<tr><td>CES0500000036</td><td>5</td><td>5000000</td><td>36</td><td>S</td><td>Average weekly hours</td><td>NULL</td><td>NULL</td><td>NULL</td><td>NULL</td><td>NULL</td><td>5000000</td><td>-</td><td>A</td><td>Total private</td><td>1.0</td><td>T</td><td>2.0</td></tr>",
                            "<tr><td>CES0500000056</td><td>5</td><td>5000000</td><td>56</td><td>S</td><td>Aggregate weekly hours of all employees</td><td>NULL</td><td>NULL</td><td>NULL</td><td>NULL</td><td>NULL</td><td>5000000</td><td>-</td><td>A</td><td>Total private</td><td>1.0</td><td>T</td><td>2.0</td></tr>",
                            "<tr><td>CES0500000057</td><td>5</td><td>5000000</td><td>57</td><td>S</td><td>Aggregate weekly payrolls of all employees</td><td>NULL</td><td>NULL</td><td>NULL</td><td>NULL</td><td>NULL</td><td>5000000</td><td>-</td><td>A</td><td>Total private</td><td>1.0</td><td>T</td><td>2.0</td></tr>",
                            "<tr><td>CES0500000081</td><td>5</td><td>5000000</td><td>81</td><td>S</td><td>Aggregate weekly hours of production and nonsupervisory employees</td><td>NULL</td><td>NULL</td><td>NULL</td><td>NULL</td><td>NULL</td><td>5000000</td><td>-</td><td>A</td><td>Total private</td><td>1.0</td><td>T</td><td>2.0</td></tr>",
                            "<tr><td>CES0500000082</td><td>5</td><td>5000000</td><td>82</td><td>S</td><td>Aggregate weekly payrolls of production and nonsupervisory employees</td><td>NULL</td><td>NULL</td><td>NULL</td><td>NULL</td><td>NULL</td><td>5000000</td><td>-</td><td>A</td><td>Total private</td><td>1.0</td><td>T</td><td>2.0</td></tr>",
                            "<tr><td>CES0600000001</td><td>6</td><td>6000000</td><td>1</td><td>S</td><td>All employees</td><td>NULL</td><td>NULL</td><td>NULL</td><td>NULL</td><td>NULL</td><td>6000000</td><td>-</td><td>A</td><td>Goods-producing</td><td>1.0</td><td>T</td><td>3.0</td></tr>",
                            "<tr><td>CES0600000002</td><td>6</td><td>6000000</td><td>2</td><td>S</td><td>Average weekly hours of all employees</td><td>NULL</td><td>NULL</td><td>NULL</td><td>NULL</td><td>NULL</td><td>6000000</td><td>-</td><td>A</td><td>Goods-producing</td><td>1.0</td><td>T</td><td>3.0</td></tr>",
                            "<tr><td>CES0600000003</td><td>6</td><td>6000000</td><td>3</td><td>S</td><td>Average hourly earnings of all employees</td><td>NULL</td><td>NULL</td><td>NULL</td><td>NULL</td><td>NULL</td><td>6000000</td><td>-</td><td>A</td><td>Goods-producing</td><td>1.0</td><td>T</td><td>3.0</td></tr>",
                            "<tr><td>CES0600000006</td><td>6</td><td>6000000</td><td>6</td><td>S</td><td>Production and nonsupervisory employees</td><td>NULL</td><td>NULL</td><td>NULL</td><td>NULL</td><td>NULL</td><td>6000000</td><td>-</td><td>A</td><td>Goods-producing</td><td>1.0</td><td>T</td><td>3.0</td></tr>",
                            "<tr><td>CES0600000007</td><td>6</td><td>6000000</td><td>7</td><td>S</td><td>Average weekly hours of production and nonsupervisory employees</td><td>NULL</td><td>NULL</td><td>NULL</td><td>NULL</td><td>NULL</td><td>6000000</td><td>-</td><td>A</td><td>Goods-producing</td><td>1.0</td><td>T</td><td>3.0</td></tr>",
                            "<tr><td>CES0600000008</td><td>6</td><td>6000000</td><td>8</td><td>S</td><td>Average hourly earnings of production and nonsupervisory employees</td><td>NULL</td><td>NULL</td><td>NULL</td><td>NULL</td><td>NULL</td><td>6000000</td><td>-</td><td>A</td><td>Goods-producing</td><td>1.0</td><td>T</td><td>3.0</td></tr>",
                            "<tr><td>CES0600000010</td><td>6</td><td>6000000</td><td>10</td><td>S</td><td>Women employees</td><td>NULL</td><td>NULL</td><td>NULL</td><td>NULL</td><td>NULL</td><td>6000000</td><td>-</td><td>A</td><td>Goods-producing</td><td>1.0</td><td>T</td><td>3.0</td></tr>",
                            "<tr><td>CES0600000011</td><td>6</td><td>6000000</td><td>11</td><td>S</td><td>Average weekly earnings of all employees</td><td>NULL</td><td>NULL</td><td>NULL</td><td>NULL</td><td>NULL</td><td>6000000</td><td>-</td><td>A</td><td>Goods-producing</td><td>1.0</td><td>T</td><td>3.0</td></tr>",
                            "<tr><td>CES0600000012</td><td>6</td><td>6000000</td><td>12</td><td>S</td><td>Average weekly earnings of all employees</td><td>NULL</td><td>NULL</td><td>NULL</td><td>NULL</td><td>NULL</td><td>6000000</td><td>-</td><td>A</td><td>Goods-producing</td><td>1.0</td><td>T</td><td>3.0</td></tr>",
                            "<tr><td>CES0600000013</td><td>6</td><td>6000000</td><td>13</td><td>S</td><td>Average hourly earnings of all employees</td><td>NULL</td><td>NULL</td><td>NULL</td><td>NULL</td><td>NULL</td><td>6000000</td><td>-</td><td>A</td><td>Goods-producing</td><td>1.0</td><td>T</td><td>3.0</td></tr>",
                            "<tr><td>CES0600000016</td><td>6</td><td>6000000</td><td>16</td><td>S</td><td>Indexes of aggregate weekly hours of all employees</td><td>NULL</td><td>NULL</td><td>NULL</td><td>NULL</td><td>NULL</td><td>6000000</td><td>-</td><td>A</td><td>Goods-producing</td><td>1.0</td><td>T</td><td>3.0</td></tr>",
                            "<tr><td>CES0600000017</td><td>6</td><td>6000000</td><td>17</td><td>S</td><td>Indexes of aggregate weekly payrolls of all employees</td><td>NULL</td><td>NULL</td><td>NULL</td><td>NULL</td><td>NULL</td><td>6000000</td><td>-</td><td>A</td><td>Goods-producing</td><td>1.0</td><td>T</td><td>3.0</td></tr>",
                            "<tr><td>CES0600000025</td><td>6</td><td>6000000</td><td>25</td><td>S</td><td>All employees</td><td>NULL</td><td>NULL</td><td>NULL</td><td>NULL</td><td>NULL</td><td>6000000</td><td>-</td><td>A</td><td>Goods-producing</td><td>1.0</td><td>T</td><td>3.0</td></tr>",
                            "<tr><td>CES0600000030</td><td>6</td><td>6000000</td><td>30</td><td>S</td><td>Average weekly earnings of production and nonsupervisory employees</td><td>NULL</td><td>NULL</td><td>NULL</td><td>NULL</td><td>NULL</td><td>6000000</td><td>-</td><td>A</td><td>Goods-producing</td><td>1.0</td><td>T</td><td>3.0</td></tr>",
                            "<tr><td>CES0600000031</td><td>6</td><td>6000000</td><td>31</td><td>S</td><td>Average weekly earnings of production and nonsupervisory employees</td><td>NULL</td><td>NULL</td><td>NULL</td><td>NULL</td><td>NULL</td><td>6000000</td><td>-</td><td>A</td><td>Goods-producing</td><td>1.0</td><td>T</td><td>3.0</td></tr>",
                            "<tr><td>CES0600000032</td><td>6</td><td>6000000</td><td>32</td><td>S</td><td>Average hourly earnings of production and nonsupervisory employees</td><td>NULL</td><td>NULL</td><td>NULL</td><td>NULL</td><td>NULL</td><td>6000000</td><td>-</td><td>A</td><td>Goods-producing</td><td>1.0</td><td>T</td><td>3.0</td></tr>",
                            "<tr><td>CES0600000034</td><td>6</td><td>6000000</td><td>34</td><td>S</td><td>Indexes of aggregate weekly hours of production and nonsupervisory employees</td><td>NULL</td><td>NULL</td><td>NULL</td><td>NULL</td><td>NULL</td><td>6000000</td><td>-</td><td>A</td><td>Goods-producing</td><td>1.0</td><td>T</td><td>3.0</td></tr>",
                            "<tr><td>CES0600000035</td><td>6</td><td>6000000</td><td>35</td><td>S</td><td>Indexes of aggregate weekly payrolls of production and nonsupervisory employees</td><td>NULL</td><td>NULL</td><td>NULL</td><td>NULL</td><td>NULL</td><td>6000000</td><td>-</td><td>A</td><td>Goods-producing</td><td>1.0</td><td>T</td><td>3.0</td></tr>",
                            "<tr><td>CES0600000056</td><td>6</td><td>6000000</td><td>56</td><td>S</td><td>Aggregate weekly hours of all employees</td><td>NULL</td><td>NULL</td><td>NULL</td><td>NULL</td><td>NULL</td><td>6000000</td><td>-</td><td>A</td><td>Goods-producing</td><td>1.0</td><td>T</td><td>3.0</td></tr>",
                            "<tr><td>CES0600000057</td><td>6</td><td>6000000</td><td>57</td><td>S</td><td>Aggregate weekly payrolls of all employees</td><td>NULL</td><td>NULL</td><td>NULL</td><td>NULL</td><td>NULL</td><td>6000000</td><td>-</td><td>A</td><td>Goods-producing</td><td>1.0</td><td>T</td><td>3.0</td></tr>",
                            "<tr><td>CES0600000081</td><td>6</td><td>6000000</td><td>81</td><td>S</td><td>Aggregate weekly hours of production and nonsupervisory employees</td><td>NULL</td><td>NULL</td><td>NULL</td><td>NULL</td><td>NULL</td><td>6000000</td><td>-</td><td>A</td><td>Goods-producing</td><td>1.0</td><td>T</td><td>3.0</td></tr>",
                            "<tr><td>CES0600000082</td><td>6</td><td>6000000</td><td>82</td><td>S</td><td>Aggregate weekly payrolls of production and nonsupervisory employees</td><td>NULL</td><td>NULL</td><td>NULL</td><td>NULL</td><td>NULL</td><td>6000000</td><td>-</td><td>A</td><td>Goods-producing</td><td>1.0</td><td>T</td><td>3.0</td></tr>",
                            "<tr><td>CES0700000001</td><td>7</td><td>7000000</td><td>1</td><td>S</td><td>All employees</td><td>NULL</td><td>NULL</td><td>NULL</td><td>NULL</td><td>NULL</td><td>7000000</td><td>-</td><td>B</td><td>Service-providing</td><td>1.0</td><td>T</td><td>4.0</td></tr>",
                            "<tr><td>CES0700000010</td><td>7</td><td>7000000</td><td>10</td><td>S</td><td>Women employees</td><td>NULL</td><td>NULL</td><td>NULL</td><td>NULL</td><td>NULL</td><td>7000000</td><td>-</td><td>B</td><td>Service-providing</td><td>1.0</td><td>T</td><td>4.0</td></tr>",
                            "<tr><td>CES0700000025</td><td>7</td><td>7000000</td><td>25</td><td>S</td><td>All employees</td><td>NULL</td><td>NULL</td><td>NULL</td><td>NULL</td><td>NULL</td><td>7000000</td><td>-</td><td>B</td><td>Service-providing</td><td>1.0</td><td>T</td><td>4.0</td></tr>",
                            "<tr><td>CES0800000001</td><td>8</td><td>8000000</td><td>1</td><td>S</td><td>All employees</td><td>NULL</td><td>NULL</td><td>NULL</td><td>NULL</td><td>NULL</td><td>8000000</td><td>-</td><td>A</td><td>Private service-providing</td><td>1.0</td><td>T</td><td>5.0</td></tr>",
                            "<tr><td>CES0800000002</td><td>8</td><td>8000000</td><td>2</td><td>S</td><td>Average weekly hours of all employees</td><td>NULL</td><td>NULL</td><td>NULL</td><td>NULL</td><td>NULL</td><td>8000000</td><td>-</td><td>A</td><td>Private service-providing</td><td>1.0</td><td>T</td><td>5.0</td></tr>",
                            "<tr><td>CES0800000003</td><td>8</td><td>8000000</td><td>3</td><td>S</td><td>Average hourly earnings of all employees</td><td>NULL</td><td>NULL</td><td>NULL</td><td>NULL</td><td>NULL</td><td>8000000</td><td>-</td><td>A</td><td>Private service-providing</td><td>1.0</td><td>T</td><td>5.0</td></tr>",
                            "<tr><td>CES0800000006</td><td>8</td><td>8000000</td><td>6</td><td>S</td><td>Production and nonsupervisory employees</td><td>NULL</td><td>NULL</td><td>NULL</td><td>NULL</td><td>NULL</td><td>8000000</td><td>-</td><td>A</td><td>Private service-providing</td><td>1.0</td><td>T</td><td>5.0</td></tr>",
                            "<tr><td>CES0800000007</td><td>8</td><td>8000000</td><td>7</td><td>S</td><td>Average weekly hours of production and nonsupervisory employees</td><td>NULL</td><td>NULL</td><td>NULL</td><td>NULL</td><td>NULL</td><td>8000000</td><td>-</td><td>A</td><td>Private service-providing</td><td>1.0</td><td>T</td><td>5.0</td></tr>",
                            "<tr><td>CES0800000008</td><td>8</td><td>8000000</td><td>8</td><td>S</td><td>Average hourly earnings of production and nonsupervisory employees</td><td>NULL</td><td>NULL</td><td>NULL</td><td>NULL</td><td>NULL</td><td>8000000</td><td>-</td><td>A</td><td>Private service-providing</td><td>1.0</td><td>T</td><td>5.0</td></tr>",
                            "<tr><td>CES0800000010</td><td>8</td><td>8000000</td><td>10</td><td>S</td><td>Women employees</td><td>NULL</td><td>NULL</td><td>NULL</td><td>NULL</td><td>NULL</td><td>8000000</td><td>-</td><td>A</td><td>Private service-providing</td><td>1.0</td><td>T</td><td>5.0</td></tr>",
                            "<tr><td>CES0800000011</td><td>8</td><td>8000000</td><td>11</td><td>S</td><td>Average weekly earnings of all employees</td><td>NULL</td><td>NULL</td><td>NULL</td><td>NULL</td><td>NULL</td><td>8000000</td><td>-</td><td>A</td><td>Private service-providing</td><td>1.0</td><td>T</td><td>5.0</td></tr>",
                            "<tr><td>CES0800000012</td><td>8</td><td>8000000</td><td>12</td><td>S</td><td>Average weekly earnings of all employees</td><td>NULL</td><td>NULL</td><td>NULL</td><td>NULL</td><td>NULL</td><td>8000000</td><td>-</td><td>A</td><td>Private service-providing</td><td>1.0</td><td>T</td><td>5.0</td></tr>",
                            "<tr><td>CES0800000013</td><td>8</td><td>8000000</td><td>13</td><td>S</td><td>Average hourly earnings of all employees</td><td>NULL</td><td>NULL</td><td>NULL</td><td>NULL</td><td>NULL</td><td>8000000</td><td>-</td><td>A</td><td>Private service-providing</td><td>1.0</td><td>T</td><td>5.0</td></tr>",
                            "<tr><td>CES0800000016</td><td>8</td><td>8000000</td><td>16</td><td>S</td><td>Indexes of aggregate weekly hours of all employees</td><td>NULL</td><td>NULL</td><td>NULL</td><td>NULL</td><td>NULL</td><td>8000000</td><td>-</td><td>A</td><td>Private service-providing</td><td>1.0</td><td>T</td><td>5.0</td></tr>",
                            "<tr><td>CES0800000017</td><td>8</td><td>8000000</td><td>17</td><td>S</td><td>Indexes of aggregate weekly payrolls of all employees</td><td>NULL</td><td>NULL</td><td>NULL</td><td>NULL</td><td>NULL</td><td>8000000</td><td>-</td><td>A</td><td>Private service-providing</td><td>1.0</td><td>T</td><td>5.0</td></tr>",
                            "<tr><td>CES0800000030</td><td>8</td><td>8000000</td><td>30</td><td>S</td><td>Average weekly earnings of production and nonsupervisory employees</td><td>NULL</td><td>NULL</td><td>NULL</td><td>NULL</td><td>NULL</td><td>8000000</td><td>-</td><td>A</td><td>Private service-providing</td><td>1.0</td><td>T</td><td>5.0</td></tr>",
                            "<tr><td>CES0800000031</td><td>8</td><td>8000000</td><td>31</td><td>S</td><td>Average weekly earnings of production and nonsupervisory employees</td><td>NULL</td><td>NULL</td><td>NULL</td><td>NULL</td><td>NULL</td><td>8000000</td><td>-</td><td>A</td><td>Private service-providing</td><td>1.0</td><td>T</td><td>5.0</td></tr>",
                            "<tr><td>CES0800000032</td><td>8</td><td>8000000</td><td>32</td><td>S</td><td>Average hourly earnings of production and nonsupervisory employees</td><td>NULL</td><td>NULL</td><td>NULL</td><td>NULL</td><td>NULL</td><td>8000000</td><td>-</td><td>A</td><td>Private service-providing</td><td>1.0</td><td>T</td><td>5.0</td></tr>",
                            "<tr><td>CES0800000034</td><td>8</td><td>8000000</td><td>34</td><td>S</td><td>Indexes of aggregate weekly hours of production and nonsupervisory employees</td><td>NULL</td><td>NULL</td><td>NULL</td><td>NULL</td><td>NULL</td><td>8000000</td><td>-</td><td>A</td><td>Private service-providing</td><td>1.0</td><td>T</td><td>5.0</td></tr>",
                            "<tr><td>CES0800000035</td><td>8</td><td>8000000</td><td>35</td><td>S</td><td>Indexes of aggregate weekly payrolls of production and nonsupervisory employees</td><td>NULL</td><td>NULL</td><td>NULL</td><td>NULL</td><td>NULL</td><td>8000000</td><td>-</td><td>A</td><td>Private service-providing</td><td>1.0</td><td>T</td><td>5.0</td></tr>",
                            "<tr><td>CES0800000056</td><td>8</td><td>8000000</td><td>56</td><td>S</td><td>Aggregate weekly hours of all employees</td><td>NULL</td><td>NULL</td><td>NULL</td><td>NULL</td><td>NULL</td><td>8000000</td><td>-</td><td>A</td><td>Private service-providing</td><td>1.0</td><td>T</td><td>5.0</td></tr>",
                            "<tr><td>CES0800000057</td><td>8</td><td>8000000</td><td>57</td><td>S</td><td>Aggregate weekly payrolls of all employees</td><td>NULL</td><td>NULL</td><td>NULL</td><td>NULL</td><td>NULL</td><td>8000000</td><td>-</td><td>A</td><td>Private service-providing</td><td>1.0</td><td>T</td><td>5.0</td></tr>",
                            "<tr><td>CES0800000081</td><td>8</td><td>8000000</td><td>81</td><td>S</td><td>Aggregate weekly hours of production and nonsupervisory employees</td><td>NULL</td><td>NULL</td><td>NULL</td><td>NULL</td><td>NULL</td><td>8000000</td><td>-</td><td>A</td><td>Private service-providing</td><td>1.0</td><td>T</td><td>5.0</td></tr>",
                            "<tr><td>CES0800000082</td><td>8</td><td>8000000</td><td>82</td><td>S</td><td>Aggregate weekly payrolls of production and nonsupervisory employees</td><td>NULL</td><td>NULL</td><td>NULL</td><td>NULL</td><td>NULL</td><td>8000000</td><td>-</td><td>A</td><td>Private service-providing</td><td>1.0</td><td>T</td><td>5.0</td></tr>",
                            "<tr><td>CES1000000001</td><td>10</td><td>10000000</td><td>1</td><td>S</td><td>All employees</td><td>NULL</td><td>NULL</td><td>NULL</td><td>NULL</td><td>NULL</td><td>10000000</td><td>-</td><td>A</td><td>Mining and logging</td><td>2.0</td><td>T</td><td>6.0</td></tr>",
                            "<tr><td>CES1000000002</td><td>10</td><td>10000000</td><td>2</td><td>S</td><td>Average weekly hours of all employees</td><td>NULL</td><td>NULL</td><td>NULL</td><td>NULL</td><td>NULL</td><td>10000000</td><td>-</td><td>A</td><td>Mining and logging</td><td>2.0</td><td>T</td><td>6.0</td></tr>",
                            "<tr><td>CES1000000003</td><td>10</td><td>10000000</td><td>3</td><td>S</td><td>Average hourly earnings of all employees</td><td>NULL</td><td>NULL</td><td>NULL</td><td>NULL</td><td>NULL</td><td>10000000</td><td>-</td><td>A</td><td>Mining and logging</td><td>2.0</td><td>T</td><td>6.0</td></tr>",
                            "<tr><td>CES1000000006</td><td>10</td><td>10000000</td><td>6</td><td>S</td><td>Production and nonsupervisory employees</td><td>NULL</td><td>NULL</td><td>NULL</td><td>NULL</td><td>NULL</td><td>10000000</td><td>-</td><td>A</td><td>Mining and logging</td><td>2.0</td><td>T</td><td>6.0</td></tr>",
                            "<tr><td>CES1000000007</td><td>10</td><td>10000000</td><td>7</td><td>S</td><td>Average weekly hours of production and nonsupervisory employees</td><td>NULL</td><td>NULL</td><td>NULL</td><td>NULL</td><td>NULL</td><td>10000000</td><td>-</td><td>A</td><td>Mining and logging</td><td>2.0</td><td>T</td><td>6.0</td></tr>",
                            "<tr><td>CES1000000008</td><td>10</td><td>10000000</td><td>8</td><td>S</td><td>Average hourly earnings of production and nonsupervisory employees</td><td>NULL</td><td>NULL</td><td>NULL</td><td>NULL</td><td>NULL</td><td>10000000</td><td>-</td><td>A</td><td>Mining and logging</td><td>2.0</td><td>T</td><td>6.0</td></tr>",
                            "<tr><td>CES1000000010</td><td>10</td><td>10000000</td><td>10</td><td>S</td><td>Women employees</td><td>NULL</td><td>NULL</td><td>NULL</td><td>NULL</td><td>NULL</td><td>10000000</td><td>-</td><td>A</td><td>Mining and logging</td><td>2.0</td><td>T</td><td>6.0</td></tr>",
                            "<tr><td>CES1000000011</td><td>10</td><td>10000000</td><td>11</td><td>S</td><td>Average weekly earnings of all employees</td><td>NULL</td><td>NULL</td><td>NULL</td><td>NULL</td><td>NULL</td><td>10000000</td><td>-</td><td>A</td><td>Mining and logging</td><td>2.0</td><td>T</td><td>6.0</td></tr>",
                            "<tr><td>CES1000000012</td><td>10</td><td>10000000</td><td>12</td><td>S</td><td>Average weekly earnings of all employees</td><td>NULL</td><td>NULL</td><td>NULL</td><td>NULL</td><td>NULL</td><td>10000000</td><td>-</td><td>A</td><td>Mining and logging</td><td>2.0</td><td>T</td><td>6.0</td></tr>",
                            "<tr><td>CES1000000013</td><td>10</td><td>10000000</td><td>13</td><td>S</td><td>Average hourly earnings of all employees</td><td>NULL</td><td>NULL</td><td>NULL</td><td>NULL</td><td>NULL</td><td>10000000</td><td>-</td><td>A</td><td>Mining and logging</td><td>2.0</td><td>T</td><td>6.0</td></tr>",
                            "<tr><td>CES1000000016</td><td>10</td><td>10000000</td><td>16</td><td>S</td><td>Indexes of aggregate weekly hours of all employees</td><td>NULL</td><td>NULL</td><td>NULL</td><td>NULL</td><td>NULL</td><td>10000000</td><td>-</td><td>A</td><td>Mining and logging</td><td>2.0</td><td>T</td><td>6.0</td></tr>",
                            "<tr><td>CES1000000017</td><td>10</td><td>10000000</td><td>17</td><td>S</td><td>Indexes of aggregate weekly payrolls of all employees</td><td>NULL</td><td>NULL</td><td>NULL</td><td>NULL</td><td>NULL</td><td>10000000</td><td>-</td><td>A</td><td>Mining and logging</td><td>2.0</td><td>T</td><td>6.0</td></tr>",
                            "<tr><td>CES1000000030</td><td>10</td><td>10000000</td><td>30</td><td>S</td><td>Average weekly earnings of production and nonsupervisory employees</td><td>NULL</td><td>NULL</td><td>NULL</td><td>NULL</td><td>NULL</td><td>10000000</td><td>-</td><td>A</td><td>Mining and logging</td><td>2.0</td><td>T</td><td>6.0</td></tr>",
                            "<tr><td>CES1000000031</td><td>10</td><td>10000000</td><td>31</td><td>S</td><td>Average weekly earnings of production and nonsupervisory employees</td><td>NULL</td><td>NULL</td><td>NULL</td><td>NULL</td><td>NULL</td><td>10000000</td><td>-</td><td>A</td><td>Mining and logging</td><td>2.0</td><td>T</td><td>6.0</td></tr>",
                            "<tr><td>CES1000000032</td><td>10</td><td>10000000</td><td>32</td><td>S</td><td>Average hourly earnings of production and nonsupervisory employees</td><td>NULL</td><td>NULL</td><td>NULL</td><td>NULL</td><td>NULL</td><td>10000000</td><td>-</td><td>A</td><td>Mining and logging</td><td>2.0</td><td>T</td><td>6.0</td></tr>",
                            "<tr><td>CES1000000034</td><td>10</td><td>10000000</td><td>34</td><td>S</td><td>Indexes of aggregate weekly hours of production and nonsupervisory employees</td><td>NULL</td><td>NULL</td><td>NULL</td><td>NULL</td><td>NULL</td><td>10000000</td><td>-</td><td>A</td><td>Mining and logging</td><td>2.0</td><td>T</td><td>6.0</td></tr>",
                            "<tr><td>CES1000000035</td><td>10</td><td>10000000</td><td>35</td><td>S</td><td>Indexes of aggregate weekly payrolls of production and nonsupervisory employees</td><td>NULL</td><td>NULL</td><td>NULL</td><td>NULL</td><td>NULL</td><td>10000000</td><td>-</td><td>A</td><td>Mining and logging</td><td>2.0</td><td>T</td><td>6.0</td></tr>",
                            "<tr><td>CES1000000056</td><td>10</td><td>10000000</td><td>56</td><td>S</td><td>Aggregate weekly hours of all employees</td><td>NULL</td><td>NULL</td><td>NULL</td><td>NULL</td><td>NULL</td><td>10000000</td><td>-</td><td>A</td><td>Mining and logging</td><td>2.0</td><td>T</td><td>6.0</td></tr>",
                            "<tr><td>CES1000000057</td><td>10</td><td>10000000</td><td>57</td><td>S</td><td>Aggregate weekly payrolls of all employees</td><td>NULL</td><td>NULL</td><td>NULL</td><td>NULL</td><td>NULL</td><td>10000000</td><td>-</td><td>A</td><td>Mining and logging</td><td>2.0</td><td>T</td><td>6.0</td></tr>",
                            "<tr><td>CES1000000081</td><td>10</td><td>10000000</td><td>81</td><td>S</td><td>Aggregate weekly hours of production and nonsupervisory employees</td><td>NULL</td><td>NULL</td><td>NULL</td><td>NULL</td><td>NULL</td><td>10000000</td><td>-</td><td>A</td><td>Mining and logging</td><td>2.0</td><td>T</td><td>6.0</td></tr>",
                            "<tr><td>CES1000000082</td><td>10</td><td>10000000</td><td>82</td><td>S</td><td>Aggregate weekly payrolls of production and nonsupervisory employees</td><td>NULL</td><td>NULL</td><td>NULL</td><td>NULL</td><td>NULL</td><td>10000000</td><td>-</td><td>A</td><td>Mining and logging</td><td>2.0</td><td>T</td><td>6.0</td></tr>",
                            "<tr><td>CES1011330001</td><td>10</td><td>10113300</td><td>1</td><td>S</td><td>All employees</td><td>NULL</td><td>NULL</td><td>NULL</td><td>NULL</td><td>NULL</td><td>10113300</td><td>1133</td><td>A</td><td>Logging</td><td>5.0</td><td>T</td><td>7.0</td></tr>",
                            "</table>"
                        ]
                    }
                }
            ],
            "execution_count": 21
        },
        {
            "cell_type": "markdown",
            "source": [
                "## <span style=\"font-size: 12pt; font-family: Montserrat, sans-serif; color: rgb(53, 74, 95); background-color: rgb(255, 255, 255); font-weight: 700; font-variant-numeric: normal; font-variant-east-asian: normal; vertical-align: baseline; white-space: pre-wrap;\">Aggregate Your Friends and Code some SQL</span>\n",
                "\n",
                "<span style=\"font-size: 10pt; font-family: Arvo, serif; color: rgb(102, 102, 102); background-color: rgb(255, 255, 255); font-variant-numeric: normal; font-variant-east-asian: normal; vertical-align: baseline; white-space: pre-wrap;\">Put together the following:</span>\n",
                "\n",
                "1. <span style=\"background-color: rgb(255, 255, 255); font-size: 10pt; white-space: pre-wrap; color: rgb(102, 102, 102); font-family: Arvo, serif;\">How many employees were reported in 2016 in all industries? Round to the nearest whole number.&nbsp; No chopping people into little bits, please.</span>"
            ],
            "metadata": {
                "azdata_cell_guid": "f4290cc1-f824-4586-8850-59d926bf4460"
            },
            "attachments": {}
        },
        {
            "cell_type": "code",
            "source": [
                "SELECT ROUND(SUM(value)) FROM alldata WHERE year = 2016;\r\n",
                "\r\n",
                "-- I HAVE NO IDEA WHERE THE NUMBER OF EMPLOYEES IS LISTED\r\n",
                "-- I AM GOING TO ASSUME IT IS \"value\"\r\n",
                "\r\n",
                "-- SELECT year, COUNT(*)\r\n",
                "-- FROM alldata\r\n",
                "-- WHERE year = 2016\r\n",
                "-- GROUP BY year;"
            ],
            "metadata": {
                "azdata_cell_guid": "25099068-a629-4eb5-afca-ed3748c40605",
                "language": "sql"
            },
            "outputs": [
                {
                    "output_type": "display_data",
                    "data": {
                        "text/html": "(1 row(s) affected)"
                    },
                    "metadata": {}
                },
                {
                    "output_type": "display_data",
                    "data": {
                        "text/html": "Total execution time: 00:00:15.634"
                    },
                    "metadata": {}
                },
                {
                    "output_type": "execute_result",
                    "metadata": {},
                    "execution_count": 32,
                    "data": {
                        "application/vnd.dataresource+json": {
                            "schema": {
                                "fields": [
                                    {
                                        "name": "ROUND(SUM(value))"
                                    }
                                ]
                            },
                            "data": [
                                {
                                    "ROUND(SUM(value))": "58839854514.0"
                                }
                            ]
                        },
                        "text/html": [
                            "<table>",
                            "<tr><th>ROUND(SUM(value))</th></tr>",
                            "<tr><td>58839854514.0</td></tr>",
                            "</table>"
                        ]
                    }
                }
            ],
            "execution_count": 32
        },
        {
            "cell_type": "markdown",
            "source": [
                "2. <span style=\"background-color: rgb(255, 255, 255); font-size: 10pt; white-space: pre-wrap; color: rgb(102, 102, 102); font-family: Arvo, serif;\">How many women employees were reported in 2016 in all industries? Round to the nearest whole number.&nbsp;</span>"
            ],
            "metadata": {
                "azdata_cell_guid": "6358fab4-b933-4646-bef1-4be66dcd4317"
            },
            "attachments": {}
        },
        {
            "cell_type": "code",
            "source": [
                "\r\n",
                "SELECT ROUND(SUM(value)) FROM alldata ad\r\n",
                "JOIN series s ON ad.series_id = s.series_id WHERE year = 2016 AND series_title = \"Women Employees\";\r\n",
                ""
            ],
            "metadata": {
                "azdata_cell_guid": "7bb0bfb7-b9e3-4672-b354-7ca705bb0c3b",
                "language": "sql"
            },
            "outputs": [
                {
                    "output_type": "display_data",
                    "data": {
                        "text/html": "(1 row(s) affected)"
                    },
                    "metadata": {}
                },
                {
                    "output_type": "display_data",
                    "data": {
                        "text/html": "Total execution time: 00:00:16.025"
                    },
                    "metadata": {}
                },
                {
                    "output_type": "execute_result",
                    "metadata": {},
                    "execution_count": 34,
                    "data": {
                        "application/vnd.dataresource+json": {
                            "schema": {
                                "fields": [
                                    {
                                        "name": "ROUND(SUM(value))"
                                    }
                                ]
                            },
                            "data": [
                                {
                                    "ROUND(SUM(value))": "28136652.0"
                                }
                            ]
                        },
                        "text/html": [
                            "<table>",
                            "<tr><th>ROUND(SUM(value))</th></tr>",
                            "<tr><td>28136652.0</td></tr>",
                            "</table>"
                        ]
                    }
                }
            ],
            "execution_count": 34
        },
        {
            "cell_type": "markdown",
            "source": [
                "3. <span style=\"background-color: rgb(255, 255, 255); font-size: 10pt; white-space: pre-wrap; color: rgb(102, 102, 102); font-family: Arvo, serif;\">How many production/nonsupervisory employees were reported in 2016? Round to the nearest whole number.&nbsp;</span>"
            ],
            "metadata": {
                "azdata_cell_guid": "246ea683-2075-4337-878d-fbfdd49b2dd7"
            },
            "attachments": {}
        },
        {
            "cell_type": "code",
            "source": [
                ""
            ],
            "metadata": {
                "azdata_cell_guid": "110f2591-069b-4bbe-87c7-2bcf76c3d36f",
                "language": "sql"
            },
            "outputs": [],
            "execution_count": null
        },
        {
            "cell_type": "markdown",
            "source": [
                "4. <span style=\"background-color: rgb(255, 255, 255); font-size: 10pt; white-space: pre-wrap; color: rgb(102, 102, 102); font-family: Arvo, serif;\">In January 2017, what is the average weekly hours worked by production and nonsupervisory employees across all industries?</span>"
            ],
            "metadata": {
                "azdata_cell_guid": "9caa7f57-e39d-4b7a-b705-25f8fe29d60b"
            },
            "attachments": {}
        },
        {
            "cell_type": "code",
            "source": [
                ""
            ],
            "metadata": {
                "azdata_cell_guid": "9f07fa8a-4217-439a-a9cd-831240d4bc9e",
                "language": "sql"
            },
            "outputs": [],
            "execution_count": null
        },
        {
            "cell_type": "markdown",
            "source": [
                "5. <span style=\"background-color: rgb(255, 255, 255); font-size: 10pt; white-space: pre-wrap; color: rgb(102, 102, 102); font-family: Arvo, serif;\">What is the total weekly payroll for production and nonsupervisory employees across all industries in January 2017? Round to the nearest penny, please.</span>"
            ],
            "metadata": {
                "azdata_cell_guid": "9c48ff2e-a6eb-4f02-8df2-988e219fbc00"
            },
            "attachments": {}
        },
        {
            "cell_type": "code",
            "source": [
                ""
            ],
            "metadata": {
                "azdata_cell_guid": "c565641b-f1fa-4dbb-9320-24adfda97ca5",
                "language": "sql"
            },
            "outputs": [],
            "execution_count": null
        },
        {
            "cell_type": "markdown",
            "source": [
                "6. <span style=\"background-color: rgb(255, 255, 255); font-size: 10pt; white-space: pre-wrap; color: rgb(102, 102, 102); font-family: Arvo, serif;\">In January 2017, which industry was the average weekly hours worked by production and nonsupervisory employees the highest? Which industry was the lowest?</span>"
            ],
            "metadata": {
                "azdata_cell_guid": "862fd406-4fff-49bb-9d2b-232275a06405"
            },
            "attachments": {}
        },
        {
            "cell_type": "code",
            "source": [
                ""
            ],
            "metadata": {
                "azdata_cell_guid": "01e11050-5f2f-4d22-92e0-2b3024b80a5f",
                "language": "sql"
            },
            "outputs": [],
            "execution_count": null
        },
        {
            "cell_type": "markdown",
            "source": [
                "7. <span style=\"background-color: rgb(255, 255, 255); font-size: 10pt; white-space: pre-wrap; color: rgb(102, 102, 102); font-family: Arvo, serif;\">In January 2021, which industry was the total weekly payroll for production and nonsupervisory employees the highest? Which industry was the lowest?</span>"
            ],
            "metadata": {
                "azdata_cell_guid": "a53f4113-60c6-46d1-b9a3-34610c61d4f9"
            },
            "attachments": {}
        },
        {
            "cell_type": "code",
            "source": [
                ""
            ],
            "metadata": {
                "azdata_cell_guid": "583695e6-7438-4e03-8970-1fe0c677a793",
                "language": "sql"
            },
            "outputs": [],
            "execution_count": null
        },
        {
            "cell_type": "markdown",
            "source": [
                "## <span style=\"font-size: 12pt; font-family: Montserrat, sans-serif; color: rgb(53, 74, 95); background-color: rgb(255, 255, 255); font-weight: 700; font-variant-numeric: normal; font-variant-east-asian: normal; vertical-align: baseline; white-space: pre-wrap;\">Subqueries, Unions, Derived Tables, Oh My!</span>\n",
                "\n",
                "1. <span style=\"background-color: rgb(255, 255, 255); font-size: 10pt; white-space: pre-wrap; color: rgb(102, 102, 102); font-family: Arvo, serif;\">Write a query that returns the series_id, industry_code, industry_name, and value from the january_2017 table but only if that value is greater than the average value for annual_2016 of data_type_code 82.</span>"
            ],
            "metadata": {
                "azdata_cell_guid": "e98ec195-5399-4718-83ef-54fb954662a5"
            },
            "attachments": {}
        },
        {
            "cell_type": "code",
            "source": [
                ""
            ],
            "metadata": {
                "azdata_cell_guid": "7c85f70b-528f-4cbd-bd8e-a6efab1c18df",
                "language": "sql"
            },
            "outputs": [],
            "execution_count": null
        },
        {
            "cell_type": "markdown",
            "source": [
                "2. <span style=\"background-color: rgb(255, 255, 255); font-size: 10pt; white-space: pre-wrap; color: rgb(102, 102, 102); font-family: Arvo, serif;\">Create a Union table comparing average weekly earnings&nbsp; of production and nonsupervisory employees between annual_16 and january_17 using the data type 30.&nbsp; Round to the nearest penny.&nbsp; You should have a column for the average earnings and a column for the year, and the period.</span>"
            ],
            "metadata": {
                "azdata_cell_guid": "1bb0ed09-4b02-4132-910e-5903697628af"
            },
            "attachments": {}
        },
        {
            "cell_type": "code",
            "source": [
                ""
            ],
            "metadata": {
                "azdata_cell_guid": "0841b6d6-9af2-41ba-8e28-dc40d08bd061",
                "language": "sql"
            },
            "outputs": [],
            "execution_count": null
        },
        {
            "cell_type": "markdown",
            "source": [
                "## <span style=\"font-size:12pt;font-family:Montserrat, sans-serif;color:rgb(53, 74, 95);background-color:rgb(255, 255, 255);font-weight:700;vertical-align:baseline;white-space:pre-wrap;\">Summarize Your Results</span>\n",
                "\n",
                "<span style=\"font-size:10pt;font-family:Arvo, serif;color:rgb(102, 102, 102);background-color:rgb(255, 255, 255);vertical-align:baseline;white-space:pre-wrap;\">With what you know now about the </span> <span style=\"background-color:rgb(255, 255, 255);color:rgb(102, 102, 102);font-family:&quot;Times New Roman&quot;;font-size:13.3333px;white-space:pre-wrap;\">Bureau of Labor Statistics (BLS) Current Employment Survey (CES) results and working with the</span> <span style=\"color:rgb(102, 102, 102);white-space:pre-wrap;font-family:&quot;Times New Roman&quot;;font-size:13.3333px;\">Labor Statistics Database</span><span style=\"background-color:rgb(255, 255, 255);color:rgb(102, 102, 102);font-family:Arvo, serif;font-size:10pt;white-space:pre-wrap;\">, answer the following questions. Note that while this is subjective, you should include relevant data to back up your opinion.</span>\n",
                "\n",
                "1. <span style=\"background-color:rgb(255, 255, 255);font-size:10pt;white-space:pre-wrap;color:rgb(102, 102, 102);font-family:Arvo, serif;\">During which time period did production and nonsupervisory employees fare better?</span>"
            ],
            "metadata": {
                "azdata_cell_guid": "780f65a6-b9e7-4f24-9132-293c47f559e8"
            },
            "attachments": {}
        },
        {
            "cell_type": "markdown",
            "source": [
                "Double click here to add your answer"
            ],
            "metadata": {
                "azdata_cell_guid": "f11f1fb2-f7d1-41e5-bc9c-84087d7cfc93"
            },
            "attachments": {}
        },
        {
            "cell_type": "markdown",
            "source": [
                "2. <span style=\"background-color: rgb(255, 255, 255); font-size: 10pt; white-space: pre-wrap; color: rgb(102, 102, 102); font-family: Arvo, serif;\">In which industries did production and nonsupervisory employees fare better?</span>"
            ],
            "metadata": {
                "azdata_cell_guid": "f606e5e5-f6f1-4070-bbfa-e31617b43e56"
            },
            "attachments": {}
        },
        {
            "cell_type": "markdown",
            "source": [
                "Double click here to add your answer."
            ],
            "metadata": {
                "azdata_cell_guid": "94e18f5d-b87b-4ba6-b1fd-bde035dafc04"
            },
            "attachments": {}
        },
        {
            "cell_type": "markdown",
            "source": [
                "3. <span style=\"font-size: 10pt; font-family: Arvo, serif; color: rgb(102, 102, 102); background-color: rgb(255, 255, 255); font-variant-numeric: normal; font-variant-east-asian: normal; vertical-align: baseline; white-space: pre-wrap;\">Now that you have explored the datasets, is there any data or information that you wish you had in this analysis?</span>"
            ],
            "metadata": {
                "azdata_cell_guid": "101e4449-601a-46c6-b217-23f3339cfa76"
            },
            "attachments": {}
        },
        {
            "cell_type": "markdown",
            "source": [
                "Double click here to add your answer."
            ],
            "metadata": {
                "azdata_cell_guid": "d07e9180-f5e0-49b4-b395-2c6c8a5f8aac"
            },
            "attachments": {}
        }
    ]
}