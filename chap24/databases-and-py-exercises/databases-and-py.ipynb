{
    "metadata": {
        "kernelspec": {
            "name": "python3",
            "display_name": "Python 3",
            "language": "python"
        },
        "language_info": {
            "name": "python",
            "version": "3.11.7",
            "mimetype": "text/x-python",
            "codemirror_mode": {
                "name": "ipython",
                "version": 3
            },
            "pygments_lexer": "ipython3",
            "nbconvert_exporter": "python",
            "file_extension": ".py"
        }
    },
    "nbformat_minor": 2,
    "nbformat": 4,
    "cells": [
        {
            "cell_type": "markdown",
            "source": [
                "# Exercises: Working with Databases in Python\n",
                "\n",
                "For the exercises, we will be practicing the steps outlined in this [article](https://towardsdatascience.com/do-you-know-python-has-a-built-in-database-d553989c87bd). You can skip the portion where the author downloads a separate SQL client to examine the database. "
            ],
            "metadata": {
                "azdata_cell_guid": "d7b89799-a102-479f-87b7-f2759ff1962e"
            }
        },
        {
            "cell_type": "markdown",
            "source": [
                "## Import Libraries\n",
                "\n",
                "We will need `pandas` and `sqlite3`. SQLite is a small, self-contained database engine that comes with Python so you will not have to do any additional installations for this lesson. If you want to connect to a different database engine, such as SQL server, you may need additional libraries such as `sqlalchemy` or `pyodbc` and a tool called a driver which helps to connect a database to an application.\n"
            ],
            "metadata": {
                "azdata_cell_guid": "89a0b6d9-821d-44f5-9795-9519809b9108"
            }
        },
        {
            "cell_type": "code",
            "source": [
                "# Import sqlite3 and pandas.\n",
                "import sqlite3 \n",
                "import pandas as pd "
            ],
            "metadata": {
                "azdata_cell_guid": "865655b0-22e9-47f4-a5df-4bfe97dda4a3",
                "tags": [],
                "language": "python"
            },
            "outputs": [],
            "execution_count": 2
        },
        {
            "cell_type": "markdown",
            "source": [
                "## Create a Database\n",
                "\n",
                "In the article, the author shows how to use `sqlite3` to open a connection to an existing database or create a new one. Use this method to make a new database called `exercises.db`."
            ],
            "metadata": {
                "azdata_cell_guid": "be8436e2-68be-47f8-9fc9-06c235a6a128"
            }
        },
        {
            "cell_type": "code",
            "source": [
                "# Create a new database called exercises.db.\n",
                "conn = sqlite3.connect('exercises.db')\n",
                "conn.close()\n",
                ""
            ],
            "metadata": {
                "azdata_cell_guid": "707abc33-c6ee-416e-9358-c799f1fcbb12",
                "language": "python",
                "tags": []
            },
            "outputs": [],
            "execution_count": 3
        },
        {
            "cell_type": "markdown",
            "source": [
                "## Create a Table\n",
                "\n",
                "Follow the steps in the article to create a table called `favorite_books.db`. This table should include columns for the title, author, and a short description of why it is a favorite."
            ],
            "metadata": {
                "azdata_cell_guid": "dc9df060-ddc9-4573-bd74-3c97323f85a7"
            }
        },
        {
            "cell_type": "code",
            "source": [
                "# Create a new table in your database.\n",
                "conn = sqlite3.connect('exercises.db')\n",
                "\n",
                "query = '''\n",
                "CREATE TABLE favorite_books (\n",
                "    id INTEGER PRIMARY KEY,\n",
                "    title VARCHAR(100) NOT NULL CHECK(length(title) <= 100),\n",
                "    author VARCHAR(100) NOT NULL CHECK(length(author) <= 100),\n",
                "    description TEXT NOT NULL\n",
                ");\n",
                "'''\n",
                "\n",
                "conn.execute(query)\n",
                "\n",
                "conn.close()\n",
                ""
            ],
            "metadata": {
                "azdata_cell_guid": "3cc6b80e-3fa2-4d2e-b2a9-1ea5d68ba01e",
                "language": "python"
            },
            "outputs": [
                {
                    "traceback": [
                        "\u001b[1;31m---------------------------------------------------------------------------\u001b[0m",
                        "\u001b[1;31mOperationalError\u001b[0m                          Traceback (most recent call last)",
                        "Cell \u001b[1;32mIn[11], line 13\u001b[0m\n\u001b[0;32m      2\u001b[0m conn \u001b[38;5;241m=\u001b[39m sqlite3\u001b[38;5;241m.\u001b[39mconnect(\u001b[38;5;124m'\u001b[39m\u001b[38;5;124mexercises.db\u001b[39m\u001b[38;5;124m'\u001b[39m)\n\u001b[0;32m      4\u001b[0m query \u001b[38;5;241m=\u001b[39m \u001b[38;5;124m'''\u001b[39m\n\u001b[0;32m      5\u001b[0m \u001b[38;5;124mCREATE TABLE favorite_books (\u001b[39m\n\u001b[0;32m      6\u001b[0m \u001b[38;5;124m    id INTEGER PRIMARY KEY,\u001b[39m\n\u001b[1;32m   (...)\u001b[0m\n\u001b[0;32m     10\u001b[0m \u001b[38;5;124m);\u001b[39m\n\u001b[0;32m     11\u001b[0m \u001b[38;5;124m'''\u001b[39m\n\u001b[1;32m---> 13\u001b[0m conn\u001b[38;5;241m.\u001b[39mexecute(query)\n\u001b[0;32m     15\u001b[0m conn\u001b[38;5;241m.\u001b[39mclose()\n",
                        "\u001b[1;31mOperationalError\u001b[0m: table favorite_books already exists"
                    ],
                    "ename": "OperationalError",
                    "evalue": "table favorite_books already exists",
                    "output_type": "error"
                }
            ],
            "execution_count": 11
        },
        {
            "cell_type": "markdown",
            "source": [
                "## Insert Records\n",
                "\n",
                "Add 3 entries to your table for your top 3 favorite books."
            ],
            "metadata": {
                "azdata_cell_guid": "e9acec60-1485-45c8-9f12-997f959d44cc"
            }
        },
        {
            "cell_type": "code",
            "source": [
                "# Add your 3 favorite books to your table.\n",
                "conn = sqlite3.connect('exercises.db')\n",
                "\n",
                "conn.execute(\"INSERT INTO favorite_books (id,title,author,description) \\\n",
                "      VALUES (1, 'book1', 'author1', 'this is book1 desc' )\");\n",
                "\n",
                "conn.execute(\"INSERT INTO favorite_books (id,title,author,description) \\\n",
                "      VALUES (2, 'book2', 'author2', 'this is book2 desc' )\");\n",
                "      \n",
                "conn.execute(\"INSERT INTO favorite_books (id,title,author,description) \\\n",
                "      VALUES (3, 'book3', 'author3', 'this is book3 desc')\");\n",
                "\n",
                "conn.commit()\n",
                "conn.close()"
            ],
            "metadata": {
                "azdata_cell_guid": "c7b8e386-f3f4-42ad-aa91-a2da2e7904a5",
                "language": "python"
            },
            "outputs": [],
            "execution_count": 12
        },
        {
            "cell_type": "markdown",
            "source": [
                "## Query Your Table\n",
                "\n",
                "Write a `SELECT` query to output the 3 records in your table."
            ],
            "metadata": {
                "azdata_cell_guid": "b2e48ba7-b418-4418-bb16-598fb82b964c"
            }
        },
        {
            "cell_type": "code",
            "source": [
                "# Write your SELECT query here.\n",
                "\n",
                "conn = sqlite3.connect('exercises.db')\n",
                "\n",
                "cursor = conn.execute(\"SELECT * FROM favorite_books\")\n",
                "\n",
                "for row in cursor:\n",
                "   print(\"ID = \", row[0])\n",
                "   print( \"NAME = \", row[1])\n",
                "   print(\"TITLE = \", row[2])\n",
                "   print(\"DESCRIPTION = \", row[3], \"\\n\")\n",
                "\n",
                "\n",
                "conn.close()"
            ],
            "metadata": {
                "azdata_cell_guid": "c341e7e2-d635-4c26-b744-237c762f7f41",
                "tags": [],
                "language": "python"
            },
            "outputs": [
                {
                    "name": "stdout",
                    "text": "ID =  1\nNAME =  book1\nTITLE =  author1\nDESCRIPTION =  this is book1 desc \n\nID =  2\nNAME =  book2\nTITLE =  author2\nDESCRIPTION =  this is book2 desc \n\nID =  3\nNAME =  book3\nTITLE =  author3\nDESCRIPTION =  this is book3 desc \n\n",
                    "output_type": "stream"
                }
            ],
            "execution_count": 24
        },
        {
            "cell_type": "markdown",
            "source": [
                "## Create a New Table with Pandas\n",
                "\n",
                "Create a new table called `favorite_movies` with your top 3 favorite movies. Each movie should have an id and a title. This time, use Pandas to first make a dataframe and then write the dataframe to SQL. Write a `SELECT` query to confirm that the new table does have your top 3 favorite movies."
            ],
            "metadata": {
                "azdata_cell_guid": "2127737d-71cd-4f0d-a84e-b1db8ad54af7"
            }
        },
        {
            "cell_type": "code",
            "source": [
                "# Use Pandas to make a new table in your database.\n",
                "data = [\n",
                "    {'id': 1, 'title': 'movie1'},\n",
                "    {'id': 2, 'title': 'movie2'},\n",
                "    {'id': 3, 'title': 'movie3'}\n",
                "]\n",
                "\n",
                "df = pd.DataFrame(data)\n",
                "\n",
                "conn = sqlite3.connect('exercises.db')\n",
                "\n",
                "\n",
                "df.to_sql(\"favorite_movies\", con=conn, index=False, if_exists='replace')\n",
                "\n",
                "data = pd.read_sql_query('Select * FROM favorite_movies;', conn) \n",
                "\n",
                "print(data.head())\n",
                "\n",
                "\n",
                "conn.commit()\n",
                "conn.close()\n",
                ""
            ],
            "metadata": {
                "azdata_cell_guid": "b4b6dd20-ccc0-42e7-b1e7-79d8596b3f9c",
                "language": "python"
            },
            "outputs": [
                {
                    "name": "stdout",
                    "text": "   id   title\n0   1  movie1\n1   2  movie2\n2   3  movie3\n",
                    "output_type": "stream"
                }
            ],
            "execution_count": 29
        }
    ]
}