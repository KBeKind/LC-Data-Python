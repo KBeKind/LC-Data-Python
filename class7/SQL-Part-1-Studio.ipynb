{
    "metadata": {
        "kernelspec": {
            "name": "SQL",
            "display_name": "SQL",
            "language": "sql"
        },
        "language_info": {
            "name": "sql",
            "version": ""
        }
    },
    "nbformat_minor": 2,
    "nbformat": 4,
    "cells": [
        {
            "cell_type": "markdown",
            "source": [
                "# SQL Part 1 Studio\n",
                "\n",
                "Let's practice your SQL querying skills!  For each question, work along in the notebook adding your query and answering the questions.\n",
                "\n",
                "## Dataset\n",
                "\n",
                "We will be using the same Goodreads dataset that was used for the exercises in the prep work. Feel free to reference your exercises notebook as you work on the studio. The Kaggle dataset can be found here: [goodbooks-10k](https://www.kaggle.com/zygmunt/goodbooks-10k).\n",
                "\n",
                "You can access **BooksDB** in the Launchcode server.\n",
                "\n",
                "## Business Issue\n",
                "\n",
                "You work for a small independent book store and you want to increase sales by running a new marketing campaign. Before you can design your campaign, you need to get more familiar with what is going on with the world of book publishing. Time to get more familar with BooksDB!"
            ],
            "metadata": {
                "azdata_cell_guid": "8859d186-e379-475a-a147-19812be60f60"
            }
        },
        {
            "cell_type": "markdown",
            "source": [
                "## Part 1: BooksDB Questions\n",
                "\n",
                "Question 1: Write a query of the `books` table that returns the top 100 results and includes `book_id`, `authors`, `title`, and `average_rating`. Use an alias for at least one column and sort the result set in descending order of rating. What is the number one book?"
            ],
            "metadata": {
                "azdata_cell_guid": "25d92703-a6fd-4f0d-99c5-5224a3c10a08"
            }
        },
        {
            "cell_type": "code",
            "source": [
                "\r\n",
                "SELECT TOP 100 book_id, authors, title, average_rating AS \"rating average\" FROM books ORDER BY average_rating DESC;"
            ],
            "metadata": {
                "vscode": {
                    "languageId": "sql"
                },
                "azdata_cell_guid": "4ae8169c-07b0-4dd9-b500-d48f6fc8534b",
                "language": "sql"
            },
            "outputs": [
                {
                    "output_type": "display_data",
                    "data": {
                        "text/html": "(100 rows affected)"
                    },
                    "metadata": {}
                },
                {
                    "output_type": "display_data",
                    "data": {
                        "text/html": "Total execution time: 00:00:00.220"
                    },
                    "metadata": {}
                },
                {
                    "output_type": "execute_result",
                    "metadata": {},
                    "execution_count": 2,
                    "data": {
                        "application/vnd.dataresource+json": {
                            "schema": {
                                "fields": [
                                    {
                                        "name": "book_id"
                                    },
                                    {
                                        "name": "authors"
                                    },
                                    {
                                        "name": "title"
                                    },
                                    {
                                        "name": "rating average"
                                    }
                                ]
                            },
                            "data": [
                                {
                                    "book_id": "24812",
                                    "authors": "Bill Watterson",
                                    "title": "The Complete Calvin and Hobbes",
                                    "rating average": "4.82"
                                },
                                {
                                    "book_id": "17332218",
                                    "authors": "Brandon Sanderson",
                                    "title": "Words of Radiance (The Stormlight Archive, #2)",
                                    "rating average": "4.77"
                                },
                                {
                                    "book_id": "8",
                                    "authors": "J.K. Rowling, Mary GrandPré",
                                    "title": "Harry Potter Boxed Set, Books 1-5 (Harry Potter, #1-5)",
                                    "rating average": "4.77"
                                },
                                {
                                    "book_id": "5031805",
                                    "authors": "Anonymous, Lane T. Dennis, Wayne A. Grudem",
                                    "title": "ESV Study Bible",
                                    "rating average": "4.76"
                                },
                                {
                                    "book_id": "95602",
                                    "authors": "Francine Rivers",
                                    "title": "Mark of the Lion Trilogy",
                                    "rating average": "4.76"
                                },
                                {
                                    "book_id": "24814",
                                    "authors": "Bill Watterson",
                                    "title": "It's a Magical World: A Calvin and Hobbes Collection",
                                    "rating average": "4.75"
                                },
                                {
                                    "book_id": "862041",
                                    "authors": "J.K. Rowling",
                                    "title": "Harry Potter Boxset (Harry Potter, #1-7)",
                                    "rating average": "4.74"
                                },
                                {
                                    "book_id": "70489",
                                    "authors": "Bill Watterson",
                                    "title": "There's Treasure Everywhere: A Calvin and Hobbes Collection",
                                    "rating average": "4.74"
                                },
                                {
                                    "book_id": "10",
                                    "authors": "J.K. Rowling",
                                    "title": "Harry Potter Collection (Harry Potter, #1-6)",
                                    "rating average": "4.73"
                                },
                                {
                                    "book_id": "59715",
                                    "authors": "Bill Watterson",
                                    "title": "The Authoritative Calvin and Hobbes: A Calvin and Hobbes Treasury",
                                    "rating average": "4.73"
                                },
                                {
                                    "book_id": "24815",
                                    "authors": "Bill Watterson",
                                    "title": "The Indispensable Calvin and Hobbes",
                                    "rating average": "4.73"
                                },
                                {
                                    "book_id": "17927395",
                                    "authors": "Sarah J. Maas",
                                    "title": "A Court of Mist and Fury (A Court of Thorns and Roses, #2)",
                                    "rating average": "4.72"
                                },
                                {
                                    "book_id": "70487",
                                    "authors": "Bill Watterson",
                                    "title": "Attack of the Deranged Mutant Killer Monster Snow Goons",
                                    "rating average": "4.72"
                                },
                                {
                                    "book_id": "24816",
                                    "authors": "Bill Watterson",
                                    "title": "Homicidal Psycho Jungle Cat: A Calvin and Hobbes Collection",
                                    "rating average": "4.71"
                                },
                                {
                                    "book_id": "121792",
                                    "authors": "Bill Watterson",
                                    "title": "The Revenge of the Baby-Sat",
                                    "rating average": "4.71"
                                },
                                {
                                    "book_id": "2350129",
                                    "authors": "The Church of Jesus Christ of Latter-day Saints",
                                    "title": "Preach My Gospel: A Guide To Missionary Service",
                                    "rating average": "4.71"
                                },
                                {
                                    "book_id": "24818",
                                    "authors": "Bill Watterson",
                                    "title": "The Days Are Just Packed: A Calvin and Hobbes Collection",
                                    "rating average": "4.68"
                                },
                                {
                                    "book_id": "265205",
                                    "authors": "Anonymous, Ronald A. Beers, Ronald A. Beers",
                                    "title": "Life Application Study Bible: NIV",
                                    "rating average": "4.67"
                                },
                                {
                                    "book_id": "9329354",
                                    "authors": "Brandon Sanderson",
                                    "title": "The Way of Kings, Part 1 (The Stormlight Archive #1.1)",
                                    "rating average": "4.67"
                                },
                                {
                                    "book_id": "99298",
                                    "authors": "J.K. Rowling, Mary GrandPré",
                                    "title": "The Harry Potter Collection 1-4 (Harry Potter, #1-4)",
                                    "rating average": "4.66"
                                },
                                {
                                    "book_id": "5883777",
                                    "authors": "Anonymous",
                                    "title": "The Holy Bible: English Standard Version",
                                    "rating average": "4.66"
                                },
                                {
                                    "book_id": "24494",
                                    "authors": "Bill Watterson",
                                    "title": "The Calvin and Hobbes Lazy Sunday Book",
                                    "rating average": "4.66"
                                },
                                {
                                    "book_id": "43070",
                                    "authors": "Bill Watterson",
                                    "title": "The Essential Calvin and Hobbes: A Calvin and Hobbes Treasury",
                                    "rating average": "4.65"
                                },
                                {
                                    "book_id": "18337259",
                                    "authors": "Daniel Abraham, George R.R. Martin, Tommy Patterson",
                                    "title": "A Game of Thrones: Comic Book, Issue 1",
                                    "rating average": "4.65"
                                },
                                {
                                    "book_id": "23753",
                                    "authors": "Neil Gaiman, Mike Dringenberg, Chris Bachalo, Michael Zulli, Kelly Jones, Charles Vess, Colleen Doran, Malcolm Jones III, Steve Parkhouse, Daniel Vozzo, Lee Loughridge, Steve Oliff, Todd Klein, Dave McKean, Sam Kieth",
                                    "title": "The Absolute Sandman, Volume One",
                                    "rating average": "4.65"
                                },
                                {
                                    "book_id": "7235533",
                                    "authors": "Brandon Sanderson",
                                    "title": "The Way of Kings (The Stormlight Archive, #1)",
                                    "rating average": "4.64"
                                },
                                {
                                    "book_id": "24813",
                                    "authors": "Bill Watterson",
                                    "title": "The Calvin and Hobbes Tenth Anniversary Book",
                                    "rating average": "4.63"
                                },
                                {
                                    "book_id": "9814682",
                                    "authors": "George R.R. Martin",
                                    "title": "A Song of Ice and Fire (A Song of Ice and Fire, #1-4)",
                                    "rating average": "4.63"
                                },
                                {
                                    "book_id": "12177850",
                                    "authors": "George R.R. Martin",
                                    "title": "A Song of Ice and Fire (A Song of Ice and Fire, #1-5)",
                                    "rating average": "4.63"
                                },
                                {
                                    "book_id": "481749",
                                    "authors": "James E. Talmage",
                                    "title": "Jesus the Christ",
                                    "rating average": "4.63"
                                },
                                {
                                    "book_id": "46292",
                                    "authors": "Hafez",
                                    "title": "The Divan",
                                    "rating average": "4.63"
                                },
                                {
                                    "book_id": "6801614",
                                    "authors": "Eiichirō Oda",
                                    "title": "One Piece, Volume 38: Rocketman!! (One Piece, #38)",
                                    "rating average": "4.63"
                                },
                                {
                                    "book_id": "22299763",
                                    "authors": "Leigh Bardugo",
                                    "title": "Crooked Kingdom (Six of Crows, #2)",
                                    "rating average": "4.62"
                                },
                                {
                                    "book_id": "32075671",
                                    "authors": "Angie Thomas",
                                    "title": "The Hate U Give",
                                    "rating average": "4.62"
                                },
                                {
                                    "book_id": "136251",
                                    "authors": "J.K. Rowling, Mary GrandPré",
                                    "title": "Harry Potter and the Deathly Hallows (Harry Potter, #7)",
                                    "rating average": "4.61"
                                },
                                {
                                    "book_id": "77727",
                                    "authors": "Bill Watterson, G.B. Trudeau",
                                    "title": "Calvin and Hobbes",
                                    "rating average": "4.61"
                                },
                                {
                                    "book_id": "280111",
                                    "authors": "Anonymous",
                                    "title": "Holy Bible: New International Version",
                                    "rating average": "4.61"
                                },
                                {
                                    "book_id": "2223324",
                                    "authors": "John   Williams",
                                    "title": "Harry Potter and the Chamber of Secrets: Sheet Music for Flute with C.D",
                                    "rating average": "4.61"
                                },
                                {
                                    "book_id": "6339989",
                                    "authors": "Richelle Mead",
                                    "title": "Vampire Academy Collection (Vampire Academy, #1-3)",
                                    "rating average": "4.61"
                                },
                                {
                                    "book_id": "596259",
                                    "authors": "Gordon B. Hinckley",
                                    "title": "Standing for Something: 10 Neglected Virtues That Will Heal Our Hearts and Homes",
                                    "rating average": "4.61"
                                },
                                {
                                    "book_id": "47697",
                                    "authors": "Alisa Kwitney, Neil Gaiman",
                                    "title": "The Sandman: King of Dreams",
                                    "rating average": "4.61"
                                },
                                {
                                    "book_id": "18006496",
                                    "authors": "Sarah J. Maas",
                                    "title": "Queen of Shadows (Throne of Glass, #4)",
                                    "rating average": "4.6"
                                },
                                {
                                    "book_id": "95617",
                                    "authors": "Francine Rivers, Richard Ferrone",
                                    "title": "A Voice in the Wind (Mark of the Lion, #1)",
                                    "rating average": "4.6"
                                },
                                {
                                    "book_id": "46601",
                                    "authors": "Francine Rivers",
                                    "title": "An Echo in the Darkness (Mark of the Lion, #2)",
                                    "rating average": "4.6"
                                },
                                {
                                    "book_id": "7025086",
                                    "authors": "Christopher Yost, Pasqual Ferry, Orson Scott Card",
                                    "title": "Ender's Game, Volume 2: Command School",
                                    "rating average": "4.6"
                                },
                                {
                                    "book_id": "18335634",
                                    "authors": "Cassandra Clare",
                                    "title": "Clockwork Princess (The Infernal Devices, #3)",
                                    "rating average": "4.59"
                                },
                                {
                                    "book_id": "30",
                                    "authors": "J.R.R. Tolkien",
                                    "title": "J.R.R. Tolkien 4-Book Boxed Set: The Hobbit and The Lord of the Rings",
                                    "rating average": "4.59"
                                },
                                {
                                    "book_id": "2299110",
                                    "authors": "Sherrilyn Kenyon",
                                    "title": "Acheron (Dark-Hunter #14)",
                                    "rating average": "4.59"
                                },
                                {
                                    "book_id": "119",
                                    "authors": "Gary Russell",
                                    "title": "The Lord of the Rings: The Art of The Fellowship of the Ring",
                                    "rating average": "4.59"
                                },
                                {
                                    "book_id": "71252",
                                    "authors": "Neil Gaiman, Marc Hempel, Richard Case, D'Israeli, Teddy Kristiansen, Glyn Dillon, Charles Vess, Dean Ormston, Kevin Nowlan, Todd Klein, Frank McConnell",
                                    "title": "The Kindly Ones (The Sandman #9)",
                                    "rating average": "4.59"
                                },
                                {
                                    "book_id": "349254",
                                    "authors": "Jude Fisher",
                                    "title": "The Lord of the Rings: The Return of the King: Visual Companion",
                                    "rating average": "4.59"
                                },
                                {
                                    "book_id": "9832370",
                                    "authors": "BookRags",
                                    "title": "BookRags Summary:  A Storm of Swords",
                                    "rating average": "4.59"
                                },
                                {
                                    "book_id": "11106458",
                                    "authors": "Cassandra Clare",
                                    "title": "The Mortal Instruments (The Mortal Instruments #1-4)",
                                    "rating average": "4.59"
                                },
                                {
                                    "book_id": "14367051",
                                    "authors": "Cassandra Clare",
                                    "title": "City of Bones / City of Ashes / City of Glass / City of Fallen Angels / City of Lost Souls (The Mortal Instruments, #1-5)",
                                    "rating average": "4.59"
                                },
                                {
                                    "book_id": "28260587",
                                    "authors": "Sarah J. Maas",
                                    "title": "Empire of Storms (Throne of Glass, #5)",
                                    "rating average": "4.58"
                                },
                                {
                                    "book_id": "3165162",
                                    "authors": "Rick Riordan",
                                    "title": "Percy Jackson and the Olympians (Percy Jackson and the Olympians, #1-3)",
                                    "rating average": "4.58"
                                },
                                {
                                    "book_id": "20342617",
                                    "authors": "Bryan Stevenson",
                                    "title": "Just Mercy: A Story of Justice and Redemption",
                                    "rating average": "4.58"
                                },
                                {
                                    "book_id": "17961",
                                    "authors": "Jorge Luis Borges, Andrew Hurley",
                                    "title": "Collected Fictions",
                                    "rating average": "4.58"
                                },
                                {
                                    "book_id": "4808763",
                                    "authors": "Isaac Asimov, Bob E. Flick, Jim Gallant",
                                    "title": "The Last Question",
                                    "rating average": "4.58"
                                },
                                {
                                    "book_id": "15767586",
                                    "authors": "Sherrilyn Kenyon",
                                    "title": "Styxx (Dark-Hunter, #22)",
                                    "rating average": "4.58"
                                },
                                {
                                    "book_id": "892295",
                                    "authors": "Arthur Conan Doyle, William S. Baring-Gould",
                                    "title": "The Annotated Sherlock Holmes: The Four Novels and the Fifty-Six Short Stories Complete (2 Volume Set)",
                                    "rating average": "4.58"
                                },
                                {
                                    "book_id": "1215032",
                                    "authors": "Patrick Rothfuss",
                                    "title": "The Wise Man's Fear (The Kingkiller Chronicle, #2)",
                                    "rating average": "4.57"
                                },
                                {
                                    "book_id": "6485421",
                                    "authors": "Cassandra Clare",
                                    "title": "The Mortal Instruments Boxed Set: City of Bones; City of Ashes; City of Glass (The Mortal Instruments, #1-3)",
                                    "rating average": "4.57"
                                },
                                {
                                    "book_id": "17131869",
                                    "authors": "Brian K. Vaughan, Fiona Staples",
                                    "title": "Saga, Vol. 2 (Saga, #2)",
                                    "rating average": "4.57"
                                },
                                {
                                    "book_id": "8718952",
                                    "authors": "Richelle Mead",
                                    "title": "Vampire Academy Box Set (Vampire Academy, #1-4)",
                                    "rating average": "4.57"
                                },
                                {
                                    "book_id": "4634266",
                                    "authors": "Masashi Kishimoto",
                                    "title": "NARUTO -ナルト- 巻ノ四十三",
                                    "rating average": "4.57"
                                },
                                {
                                    "book_id": "6443349",
                                    "authors": "Rick Riordan, Tk",
                                    "title": "Percy Jackson and the Olympians Boxed Set (Percy Jackson and the Olympians, #1-5)",
                                    "rating average": "4.57"
                                },
                                {
                                    "book_id": "545425",
                                    "authors": "Safiy al-Rahman al-Mubarakfuri",
                                    "title": "الرحيق المختوم",
                                    "rating average": "4.57"
                                },
                                {
                                    "book_id": "17333174",
                                    "authors": "Ilona Andrews",
                                    "title": "Magic Binds (Kate Daniels, #9)",
                                    "rating average": "4.57"
                                },
                                {
                                    "book_id": "147915",
                                    "authors": "George R.R. Martin",
                                    "title": "A Storm of Swords: Blood and Gold (A Song of Ice and Fire, #3: Part 2 of 2)",
                                    "rating average": "4.56"
                                },
                                {
                                    "book_id": "19358975",
                                    "authors": "Brian K. Vaughan, Fiona Staples",
                                    "title": "Saga, Vol. 3 (Saga, #3)",
                                    "rating average": "4.56"
                                },
                                {
                                    "book_id": "10785687",
                                    "authors": "Bob McCabe",
                                    "title": "Harry Potter Page to Screen: The Complete Filmmaking Journey",
                                    "rating average": "4.56"
                                },
                                {
                                    "book_id": "17880714",
                                    "authors": "K. Bromberg",
                                    "title": "Crashed (Driven, #3)",
                                    "rating average": "4.56"
                                },
                                {
                                    "book_id": "1317181",
                                    "authors": "J.K. Rowling",
                                    "title": "Harry Potter and the Order of the Phoenix (Harry Potter, #5, Part 1)",
                                    "rating average": "4.56"
                                },
                                {
                                    "book_id": "15743078",
                                    "authors": "Veronica Roth",
                                    "title": "The Divergent Series 2-Book Collection (Divergent, #1-2)",
                                    "rating average": "4.56"
                                },
                                {
                                    "book_id": "29236299",
                                    "authors": "Amie Kaufman, Jay Kristoff, Marie Lu",
                                    "title": "Gemina (The Illuminae Files, #2)",
                                    "rating average": "4.56"
                                },
                                {
                                    "book_id": "186074",
                                    "authors": "Patrick Rothfuss",
                                    "title": "The Name of the Wind (The Kingkiller Chronicle, #1)",
                                    "rating average": "4.55"
                                },
                                {
                                    "book_id": "19486421",
                                    "authors": "Jim Butcher",
                                    "title": "Skin Game (The Dresden Files, #15)",
                                    "rating average": "4.55"
                                },
                                {
                                    "book_id": "6604209",
                                    "authors": "Brandon Sanderson",
                                    "title": "Mistborn Trilogy Boxed Set (Mistborn, #1-3)",
                                    "rating average": "4.55"
                                },
                                {
                                    "book_id": "25105",
                                    "authors": "Neil Gaiman, Jill Thompson, Vince Locke, Peter Straub",
                                    "title": "Brief Lives (The Sandman #7)",
                                    "rating average": "4.55"
                                },
                                {
                                    "book_id": "8346300",
                                    "authors": "Andrew Williamson, Andrew Williamson",
                                    "title": "Harry Potter: A Pop-Up Book: Based on the Film Phenomenon",
                                    "rating average": "4.55"
                                },
                                {
                                    "book_id": "14905",
                                    "authors": "Jane Austen",
                                    "title": "The Complete Novels",
                                    "rating average": "4.55"
                                },
                                {
                                    "book_id": "13184992",
                                    "authors": "Kristen Ashley",
                                    "title": "Rock Chick Regret (Rock Chick, #7)",
                                    "rating average": "4.55"
                                },
                                {
                                    "book_id": "71823",
                                    "authors": "Stephen King",
                                    "title": "The Green Mile, Part 6: Coffey on the Mile",
                                    "rating average": "4.55"
                                },
                                {
                                    "book_id": "1",
                                    "authors": "J.K. Rowling, Mary GrandPré",
                                    "title": "Harry Potter and the Half-Blood Prince (Harry Potter, #6)",
                                    "rating average": "4.54"
                                },
                                {
                                    "book_id": "62291",
                                    "authors": "George R.R. Martin",
                                    "title": "A Storm of Swords (A Song of Ice and Fire, #3)",
                                    "rating average": "4.54"
                                },
                                {
                                    "book_id": "21853621",
                                    "authors": "Kristin Hannah",
                                    "title": "The Nightingale",
                                    "rating average": "4.54"
                                },
                                {
                                    "book_id": "12127810",
                                    "authors": "Rick Riordan",
                                    "title": "The House of Hades (The Heroes of Olympus, #4)",
                                    "rating average": "4.54"
                                },
                                {
                                    "book_id": "6585201",
                                    "authors": "Jim Butcher",
                                    "title": "Changes (The Dresden Files, #12)",
                                    "rating average": "4.54"
                                },
                                {
                                    "book_id": "381421",
                                    "authors": "Sarah  Young",
                                    "title": "Jesus Calling: Enjoying Peace in His Presence",
                                    "rating average": "4.54"
                                },
                                {
                                    "book_id": "25101",
                                    "authors": "Neil Gaiman, Matt Wagner, George Pratt, Dick Giordano, Kelley Jones, P. Craig Russell, Mike Dringenberg, Malcolm Jones III, Todd Klein, Harlan Ellison",
                                    "title": "Season of Mists (The Sandman #4)",
                                    "rating average": "4.54"
                                },
                                {
                                    "book_id": "89959",
                                    "authors": "Founding Fathers",
                                    "title": "The Constitution of the United States of America",
                                    "rating average": "4.54"
                                },
                                {
                                    "book_id": "23766634",
                                    "authors": "Sarah J. Maas",
                                    "title": "A Court of Wings and Ruin (A Court of Thorns and Roses, #3)",
                                    "rating average": "4.54"
                                },
                                {
                                    "book_id": "20706320",
                                    "authors": "Chris Colfer, Brandon Dorman",
                                    "title": "A Grimm Warning (The Land of Stories, #3)",
                                    "rating average": "4.54"
                                },
                                {
                                    "book_id": "8163161",
                                    "authors": "Bisco Hatori",
                                    "title": "Ouran High School Host Club, Vol. 15 (Ouran High School Host Club, #15)",
                                    "rating average": "4.54"
                                },
                                {
                                    "book_id": "5",
                                    "authors": "J.K. Rowling, Mary GrandPré, Rufus Beck",
                                    "title": "Harry Potter and the Prisoner of Azkaban (Harry Potter, #3)",
                                    "rating average": "4.53"
                                },
                                {
                                    "book_id": "6",
                                    "authors": "J.K. Rowling, Mary GrandPré",
                                    "title": "Harry Potter and the Goblet of Fire (Harry Potter, #4)",
                                    "rating average": "4.53"
                                },
                                {
                                    "book_id": "20613470",
                                    "authors": "Sarah J. Maas",
                                    "title": "Heir of Fire (Throne of Glass, #3)",
                                    "rating average": "4.53"
                                },
                                {
                                    "book_id": "15195",
                                    "authors": "Art Spiegelman",
                                    "title": "The Complete Maus (Maus, #1-2)",
                                    "rating average": "4.53"
                                },
                                {
                                    "book_id": "25104",
                                    "authors": "Neil Gaiman, Michael Zulli, Jon J. Muth, Charles Vess, Mikal Gilmore",
                                    "title": "The Wake (The Sandman #10)",
                                    "rating average": "4.53"
                                }
                            ]
                        },
                        "text/html": [
                            "<table>",
                            "<tr><th>book_id</th><th>authors</th><th>title</th><th>rating average</th></tr>",
                            "<tr><td>24812</td><td>Bill Watterson</td><td>The Complete Calvin and Hobbes</td><td>4.82</td></tr>",
                            "<tr><td>17332218</td><td>Brandon Sanderson</td><td>Words of Radiance (The Stormlight Archive, #2)</td><td>4.77</td></tr>",
                            "<tr><td>8</td><td>J.K. Rowling, Mary GrandPré</td><td>Harry Potter Boxed Set, Books 1-5 (Harry Potter, #1-5)</td><td>4.77</td></tr>",
                            "<tr><td>5031805</td><td>Anonymous, Lane T. Dennis, Wayne A. Grudem</td><td>ESV Study Bible</td><td>4.76</td></tr>",
                            "<tr><td>95602</td><td>Francine Rivers</td><td>Mark of the Lion Trilogy</td><td>4.76</td></tr>",
                            "<tr><td>24814</td><td>Bill Watterson</td><td>It&#39;s a Magical World: A Calvin and Hobbes Collection</td><td>4.75</td></tr>",
                            "<tr><td>862041</td><td>J.K. Rowling</td><td>Harry Potter Boxset (Harry Potter, #1-7)</td><td>4.74</td></tr>",
                            "<tr><td>70489</td><td>Bill Watterson</td><td>There&#39;s Treasure Everywhere: A Calvin and Hobbes Collection</td><td>4.74</td></tr>",
                            "<tr><td>10</td><td>J.K. Rowling</td><td>Harry Potter Collection (Harry Potter, #1-6)</td><td>4.73</td></tr>",
                            "<tr><td>59715</td><td>Bill Watterson</td><td>The Authoritative Calvin and Hobbes: A Calvin and Hobbes Treasury</td><td>4.73</td></tr>",
                            "<tr><td>24815</td><td>Bill Watterson</td><td>The Indispensable Calvin and Hobbes</td><td>4.73</td></tr>",
                            "<tr><td>17927395</td><td>Sarah J. Maas</td><td>A Court of Mist and Fury (A Court of Thorns and Roses, #2)</td><td>4.72</td></tr>",
                            "<tr><td>70487</td><td>Bill Watterson</td><td>Attack of the Deranged Mutant Killer Monster Snow Goons</td><td>4.72</td></tr>",
                            "<tr><td>24816</td><td>Bill Watterson</td><td>Homicidal Psycho Jungle Cat: A Calvin and Hobbes Collection</td><td>4.71</td></tr>",
                            "<tr><td>121792</td><td>Bill Watterson</td><td>The Revenge of the Baby-Sat</td><td>4.71</td></tr>",
                            "<tr><td>2350129</td><td>The Church of Jesus Christ of Latter-day Saints</td><td>Preach My Gospel: A Guide To Missionary Service</td><td>4.71</td></tr>",
                            "<tr><td>24818</td><td>Bill Watterson</td><td>The Days Are Just Packed: A Calvin and Hobbes Collection</td><td>4.68</td></tr>",
                            "<tr><td>265205</td><td>Anonymous, Ronald A. Beers, Ronald A. Beers</td><td>Life Application Study Bible: NIV</td><td>4.67</td></tr>",
                            "<tr><td>9329354</td><td>Brandon Sanderson</td><td>The Way of Kings, Part 1 (The Stormlight Archive #1.1)</td><td>4.67</td></tr>",
                            "<tr><td>99298</td><td>J.K. Rowling, Mary GrandPré</td><td>The Harry Potter Collection 1-4 (Harry Potter, #1-4)</td><td>4.66</td></tr>",
                            "<tr><td>5883777</td><td>Anonymous</td><td>The Holy Bible: English Standard Version</td><td>4.66</td></tr>",
                            "<tr><td>24494</td><td>Bill Watterson</td><td>The Calvin and Hobbes Lazy Sunday Book</td><td>4.66</td></tr>",
                            "<tr><td>43070</td><td>Bill Watterson</td><td>The Essential Calvin and Hobbes: A Calvin and Hobbes Treasury</td><td>4.65</td></tr>",
                            "<tr><td>18337259</td><td>Daniel Abraham, George R.R. Martin, Tommy Patterson</td><td>A Game of Thrones: Comic Book, Issue 1</td><td>4.65</td></tr>",
                            "<tr><td>23753</td><td>Neil Gaiman, Mike Dringenberg, Chris Bachalo, Michael Zulli, Kelly Jones, Charles Vess, Colleen Doran, Malcolm Jones III, Steve Parkhouse, Daniel Vozzo, Lee Loughridge, Steve Oliff, Todd Klein, Dave McKean, Sam Kieth</td><td>The Absolute Sandman, Volume One</td><td>4.65</td></tr>",
                            "<tr><td>7235533</td><td>Brandon Sanderson</td><td>The Way of Kings (The Stormlight Archive, #1)</td><td>4.64</td></tr>",
                            "<tr><td>24813</td><td>Bill Watterson</td><td>The Calvin and Hobbes Tenth Anniversary Book</td><td>4.63</td></tr>",
                            "<tr><td>9814682</td><td>George R.R. Martin</td><td>A Song of Ice and Fire (A Song of Ice and Fire, #1-4)</td><td>4.63</td></tr>",
                            "<tr><td>12177850</td><td>George R.R. Martin</td><td>A Song of Ice and Fire (A Song of Ice and Fire, #1-5)</td><td>4.63</td></tr>",
                            "<tr><td>481749</td><td>James E. Talmage</td><td>Jesus the Christ</td><td>4.63</td></tr>",
                            "<tr><td>46292</td><td>Hafez</td><td>The Divan</td><td>4.63</td></tr>",
                            "<tr><td>6801614</td><td>Eiichirō Oda</td><td>One Piece, Volume 38: Rocketman!! (One Piece, #38)</td><td>4.63</td></tr>",
                            "<tr><td>22299763</td><td>Leigh Bardugo</td><td>Crooked Kingdom (Six of Crows, #2)</td><td>4.62</td></tr>",
                            "<tr><td>32075671</td><td>Angie Thomas</td><td>The Hate U Give</td><td>4.62</td></tr>",
                            "<tr><td>136251</td><td>J.K. Rowling, Mary GrandPré</td><td>Harry Potter and the Deathly Hallows (Harry Potter, #7)</td><td>4.61</td></tr>",
                            "<tr><td>77727</td><td>Bill Watterson, G.B. Trudeau</td><td>Calvin and Hobbes</td><td>4.61</td></tr>",
                            "<tr><td>280111</td><td>Anonymous</td><td>Holy Bible: New International Version</td><td>4.61</td></tr>",
                            "<tr><td>2223324</td><td>John   Williams</td><td>Harry Potter and the Chamber of Secrets: Sheet Music for Flute with C.D</td><td>4.61</td></tr>",
                            "<tr><td>6339989</td><td>Richelle Mead</td><td>Vampire Academy Collection (Vampire Academy, #1-3)</td><td>4.61</td></tr>",
                            "<tr><td>596259</td><td>Gordon B. Hinckley</td><td>Standing for Something: 10 Neglected Virtues That Will Heal Our Hearts and Homes</td><td>4.61</td></tr>",
                            "<tr><td>47697</td><td>Alisa Kwitney, Neil Gaiman</td><td>The Sandman: King of Dreams</td><td>4.61</td></tr>",
                            "<tr><td>18006496</td><td>Sarah J. Maas</td><td>Queen of Shadows (Throne of Glass, #4)</td><td>4.6</td></tr>",
                            "<tr><td>95617</td><td>Francine Rivers, Richard Ferrone</td><td>A Voice in the Wind (Mark of the Lion, #1)</td><td>4.6</td></tr>",
                            "<tr><td>46601</td><td>Francine Rivers</td><td>An Echo in the Darkness (Mark of the Lion, #2)</td><td>4.6</td></tr>",
                            "<tr><td>7025086</td><td>Christopher Yost, Pasqual Ferry, Orson Scott Card</td><td>Ender&#39;s Game, Volume 2: Command School</td><td>4.6</td></tr>",
                            "<tr><td>18335634</td><td>Cassandra Clare</td><td>Clockwork Princess (The Infernal Devices, #3)</td><td>4.59</td></tr>",
                            "<tr><td>30</td><td>J.R.R. Tolkien</td><td>J.R.R. Tolkien 4-Book Boxed Set: The Hobbit and The Lord of the Rings</td><td>4.59</td></tr>",
                            "<tr><td>2299110</td><td>Sherrilyn Kenyon</td><td>Acheron (Dark-Hunter #14)</td><td>4.59</td></tr>",
                            "<tr><td>119</td><td>Gary Russell</td><td>The Lord of the Rings: The Art of The Fellowship of the Ring</td><td>4.59</td></tr>",
                            "<tr><td>71252</td><td>Neil Gaiman, Marc Hempel, Richard Case, D&#39;Israeli, Teddy Kristiansen, Glyn Dillon, Charles Vess, Dean Ormston, Kevin Nowlan, Todd Klein, Frank McConnell</td><td>The Kindly Ones (The Sandman #9)</td><td>4.59</td></tr>",
                            "<tr><td>349254</td><td>Jude Fisher</td><td>The Lord of the Rings: The Return of the King: Visual Companion</td><td>4.59</td></tr>",
                            "<tr><td>9832370</td><td>BookRags</td><td>BookRags Summary:  A Storm of Swords</td><td>4.59</td></tr>",
                            "<tr><td>11106458</td><td>Cassandra Clare</td><td>The Mortal Instruments (The Mortal Instruments #1-4)</td><td>4.59</td></tr>",
                            "<tr><td>14367051</td><td>Cassandra Clare</td><td>City of Bones / City of Ashes / City of Glass / City of Fallen Angels / City of Lost Souls (The Mortal Instruments, #1-5)</td><td>4.59</td></tr>",
                            "<tr><td>28260587</td><td>Sarah J. Maas</td><td>Empire of Storms (Throne of Glass, #5)</td><td>4.58</td></tr>",
                            "<tr><td>3165162</td><td>Rick Riordan</td><td>Percy Jackson and the Olympians (Percy Jackson and the Olympians, #1-3)</td><td>4.58</td></tr>",
                            "<tr><td>20342617</td><td>Bryan Stevenson</td><td>Just Mercy: A Story of Justice and Redemption</td><td>4.58</td></tr>",
                            "<tr><td>17961</td><td>Jorge Luis Borges, Andrew Hurley</td><td>Collected Fictions</td><td>4.58</td></tr>",
                            "<tr><td>4808763</td><td>Isaac Asimov, Bob E. Flick, Jim Gallant</td><td>The Last Question</td><td>4.58</td></tr>",
                            "<tr><td>15767586</td><td>Sherrilyn Kenyon</td><td>Styxx (Dark-Hunter, #22)</td><td>4.58</td></tr>",
                            "<tr><td>892295</td><td>Arthur Conan Doyle, William S. Baring-Gould</td><td>The Annotated Sherlock Holmes: The Four Novels and the Fifty-Six Short Stories Complete (2 Volume Set)</td><td>4.58</td></tr>",
                            "<tr><td>1215032</td><td>Patrick Rothfuss</td><td>The Wise Man&#39;s Fear (The Kingkiller Chronicle, #2)</td><td>4.57</td></tr>",
                            "<tr><td>6485421</td><td>Cassandra Clare</td><td>The Mortal Instruments Boxed Set: City of Bones; City of Ashes; City of Glass (The Mortal Instruments, #1-3)</td><td>4.57</td></tr>",
                            "<tr><td>17131869</td><td>Brian K. Vaughan, Fiona Staples</td><td>Saga, Vol. 2 (Saga, #2)</td><td>4.57</td></tr>",
                            "<tr><td>8718952</td><td>Richelle Mead</td><td>Vampire Academy Box Set (Vampire Academy, #1-4)</td><td>4.57</td></tr>",
                            "<tr><td>4634266</td><td>Masashi Kishimoto</td><td>NARUTO -ナルト- 巻ノ四十三</td><td>4.57</td></tr>",
                            "<tr><td>6443349</td><td>Rick Riordan, Tk</td><td>Percy Jackson and the Olympians Boxed Set (Percy Jackson and the Olympians, #1-5)</td><td>4.57</td></tr>",
                            "<tr><td>545425</td><td>Safiy al-Rahman al-Mubarakfuri</td><td>الرحيق المختوم</td><td>4.57</td></tr>",
                            "<tr><td>17333174</td><td>Ilona Andrews</td><td>Magic Binds (Kate Daniels, #9)</td><td>4.57</td></tr>",
                            "<tr><td>147915</td><td>George R.R. Martin</td><td>A Storm of Swords: Blood and Gold (A Song of Ice and Fire, #3: Part 2 of 2)</td><td>4.56</td></tr>",
                            "<tr><td>19358975</td><td>Brian K. Vaughan, Fiona Staples</td><td>Saga, Vol. 3 (Saga, #3)</td><td>4.56</td></tr>",
                            "<tr><td>10785687</td><td>Bob McCabe</td><td>Harry Potter Page to Screen: The Complete Filmmaking Journey</td><td>4.56</td></tr>",
                            "<tr><td>17880714</td><td>K. Bromberg</td><td>Crashed (Driven, #3)</td><td>4.56</td></tr>",
                            "<tr><td>1317181</td><td>J.K. Rowling</td><td>Harry Potter and the Order of the Phoenix (Harry Potter, #5, Part 1)</td><td>4.56</td></tr>",
                            "<tr><td>15743078</td><td>Veronica Roth</td><td>The Divergent Series 2-Book Collection (Divergent, #1-2)</td><td>4.56</td></tr>",
                            "<tr><td>29236299</td><td>Amie Kaufman, Jay Kristoff, Marie Lu</td><td>Gemina (The Illuminae Files, #2)</td><td>4.56</td></tr>",
                            "<tr><td>186074</td><td>Patrick Rothfuss</td><td>The Name of the Wind (The Kingkiller Chronicle, #1)</td><td>4.55</td></tr>",
                            "<tr><td>19486421</td><td>Jim Butcher</td><td>Skin Game (The Dresden Files, #15)</td><td>4.55</td></tr>",
                            "<tr><td>6604209</td><td>Brandon Sanderson</td><td>Mistborn Trilogy Boxed Set (Mistborn, #1-3)</td><td>4.55</td></tr>",
                            "<tr><td>25105</td><td>Neil Gaiman, Jill Thompson, Vince Locke, Peter Straub</td><td>Brief Lives (The Sandman #7)</td><td>4.55</td></tr>",
                            "<tr><td>8346300</td><td>Andrew Williamson, Andrew Williamson</td><td>Harry Potter: A Pop-Up Book: Based on the Film Phenomenon</td><td>4.55</td></tr>",
                            "<tr><td>14905</td><td>Jane Austen</td><td>The Complete Novels</td><td>4.55</td></tr>",
                            "<tr><td>13184992</td><td>Kristen Ashley</td><td>Rock Chick Regret (Rock Chick, #7)</td><td>4.55</td></tr>",
                            "<tr><td>71823</td><td>Stephen King</td><td>The Green Mile, Part 6: Coffey on the Mile</td><td>4.55</td></tr>",
                            "<tr><td>1</td><td>J.K. Rowling, Mary GrandPré</td><td>Harry Potter and the Half-Blood Prince (Harry Potter, #6)</td><td>4.54</td></tr>",
                            "<tr><td>62291</td><td>George R.R. Martin</td><td>A Storm of Swords (A Song of Ice and Fire, #3)</td><td>4.54</td></tr>",
                            "<tr><td>21853621</td><td>Kristin Hannah</td><td>The Nightingale</td><td>4.54</td></tr>",
                            "<tr><td>12127810</td><td>Rick Riordan</td><td>The House of Hades (The Heroes of Olympus, #4)</td><td>4.54</td></tr>",
                            "<tr><td>6585201</td><td>Jim Butcher</td><td>Changes (The Dresden Files, #12)</td><td>4.54</td></tr>",
                            "<tr><td>381421</td><td>Sarah  Young</td><td>Jesus Calling: Enjoying Peace in His Presence</td><td>4.54</td></tr>",
                            "<tr><td>25101</td><td>Neil Gaiman, Matt Wagner, George Pratt, Dick Giordano, Kelley Jones, P. Craig Russell, Mike Dringenberg, Malcolm Jones III, Todd Klein, Harlan Ellison</td><td>Season of Mists (The Sandman #4)</td><td>4.54</td></tr>",
                            "<tr><td>89959</td><td>Founding Fathers</td><td>The Constitution of the United States of America</td><td>4.54</td></tr>",
                            "<tr><td>23766634</td><td>Sarah J. Maas</td><td>A Court of Wings and Ruin (A Court of Thorns and Roses, #3)</td><td>4.54</td></tr>",
                            "<tr><td>20706320</td><td>Chris Colfer, Brandon Dorman</td><td>A Grimm Warning (The Land of Stories, #3)</td><td>4.54</td></tr>",
                            "<tr><td>8163161</td><td>Bisco Hatori</td><td>Ouran High School Host Club, Vol. 15 (Ouran High School Host Club, #15)</td><td>4.54</td></tr>",
                            "<tr><td>5</td><td>J.K. Rowling, Mary GrandPré, Rufus Beck</td><td>Harry Potter and the Prisoner of Azkaban (Harry Potter, #3)</td><td>4.53</td></tr>",
                            "<tr><td>6</td><td>J.K. Rowling, Mary GrandPré</td><td>Harry Potter and the Goblet of Fire (Harry Potter, #4)</td><td>4.53</td></tr>",
                            "<tr><td>20613470</td><td>Sarah J. Maas</td><td>Heir of Fire (Throne of Glass, #3)</td><td>4.53</td></tr>",
                            "<tr><td>15195</td><td>Art Spiegelman</td><td>The Complete Maus (Maus, #1-2)</td><td>4.53</td></tr>",
                            "<tr><td>25104</td><td>Neil Gaiman, Michael Zulli, Jon J. Muth, Charles Vess, Mikal Gilmore</td><td>The Wake (The Sandman #10)</td><td>4.53</td></tr>",
                            "</table>"
                        ]
                    }
                },
                {
                    "output_type": "error",
                    "evalue": "Msg 2812, Level 16, State 62, Line 1\r\nCould not find stored procedure '#'.",
                    "ename": "",
                    "traceback": []
                }
            ],
            "execution_count": 2
        },
        {
            "cell_type": "markdown",
            "source": [
                "Question 2: Write a query to find the least popular book."
            ],
            "metadata": {
                "azdata_cell_guid": "51d1d6a5-4d45-416c-9573-4583482c39aa"
            }
        },
        {
            "cell_type": "code",
            "source": [
                "\r\n",
                "SELECT TOP 1 book_id, authors, title, average_rating AS 'rating average' FROM books ORDER BY average_rating ASC;"
            ],
            "metadata": {
                "vscode": {
                    "languageId": "sql"
                },
                "azdata_cell_guid": "ea180bf2-35c3-480e-8182-3f2797ac401a",
                "language": "sql"
            },
            "outputs": [
                {
                    "output_type": "display_data",
                    "data": {
                        "text/html": "(1 row affected)"
                    },
                    "metadata": {}
                },
                {
                    "output_type": "display_data",
                    "data": {
                        "text/html": "Total execution time: 00:00:00.115"
                    },
                    "metadata": {}
                },
                {
                    "output_type": "execute_result",
                    "metadata": {},
                    "execution_count": 5,
                    "data": {
                        "application/vnd.dataresource+json": {
                            "schema": {
                                "fields": [
                                    {
                                        "name": "book_id"
                                    },
                                    {
                                        "name": "authors"
                                    },
                                    {
                                        "name": "title"
                                    },
                                    {
                                        "name": "rating average"
                                    }
                                ]
                            },
                            "data": [
                                {
                                    "book_id": "105578",
                                    "authors": "Chetan Bhagat",
                                    "title": "One Night at the Call Center",
                                    "rating average": "2.47"
                                }
                            ]
                        },
                        "text/html": [
                            "<table>",
                            "<tr><th>book_id</th><th>authors</th><th>title</th><th>rating average</th></tr>",
                            "<tr><td>105578</td><td>Chetan Bhagat</td><td>One Night at the Call Center</td><td>2.47</td></tr>",
                            "</table>"
                        ]
                    }
                }
            ],
            "execution_count": 5
        },
        {
            "cell_type": "markdown",
            "source": [
                "Question 3: Which tag is the most popular?"
            ],
            "metadata": {
                "azdata_cell_guid": "0290e022-fa2b-43c4-adb5-472264920b6d"
            }
        },
        {
            "cell_type": "code",
            "source": [
                "-- return most popular tag\r\n",
                "SELECT TOP 1 * FROM book_tags ORDER BY count DESC;"
            ],
            "metadata": {
                "vscode": {
                    "languageId": "sql"
                },
                "azdata_cell_guid": "048d584a-6fb7-4c76-a7fc-60e223456199",
                "language": "sql"
            },
            "outputs": [
                {
                    "output_type": "display_data",
                    "data": {
                        "text/html": "(1 row affected)"
                    },
                    "metadata": {}
                },
                {
                    "output_type": "display_data",
                    "data": {
                        "text/html": "Total execution time: 00:00:00.672"
                    },
                    "metadata": {}
                },
                {
                    "output_type": "execute_result",
                    "metadata": {},
                    "execution_count": 7,
                    "data": {
                        "application/vnd.dataresource+json": {
                            "schema": {
                                "fields": [
                                    {
                                        "name": "goodreads_book_id"
                                    },
                                    {
                                        "name": "tag_id"
                                    },
                                    {
                                        "name": "count"
                                    }
                                ]
                            },
                            "data": [
                                {
                                    "goodreads_book_id": "865",
                                    "tag_id": "30574",
                                    "count": "596234"
                                }
                            ]
                        },
                        "text/html": [
                            "<table>",
                            "<tr><th>goodreads_book_id</th><th>tag_id</th><th>count</th></tr>",
                            "<tr><td>865</td><td>30574</td><td>596234</td></tr>",
                            "</table>"
                        ]
                    }
                }
            ],
            "execution_count": 7
        },
        {
            "cell_type": "markdown",
            "source": [
                "Question 4: What is the name of the most popular tag?"
            ],
            "metadata": {
                "azdata_cell_guid": "1301f22c-2052-4ce2-8707-848a7f2e817a"
            }
        },
        {
            "cell_type": "code",
            "source": [
                "-- return name of most popular tag\r\n",
                "SELECT TOP 1 * FROM book_tags ORDER BY count DESC;\r\n",
                "SELECT * FROM book_tags WHERE count = (SELECT MAX(count) FROM book_tags);\r\n",
                "\r\n",
                "SELECT * FROM tags WHERE tag_id = (\r\n",
                "    SELECT tag_id FROM book_tags WHERE count = (\r\n",
                "        SELECT MAX(count) FROM book_tags\r\n",
                "        )\r\n",
                "    );"
            ],
            "metadata": {
                "vscode": {
                    "languageId": "sql"
                },
                "azdata_cell_guid": "e2adc639-1533-4285-a7c3-3c21cb21f3bc",
                "language": "sql"
            },
            "outputs": [
                {
                    "output_type": "display_data",
                    "data": {
                        "text/html": "(1 row affected)"
                    },
                    "metadata": {}
                },
                {
                    "output_type": "display_data",
                    "data": {
                        "text/html": "(1 row affected)"
                    },
                    "metadata": {}
                },
                {
                    "output_type": "display_data",
                    "data": {
                        "text/html": "(1 row affected)"
                    },
                    "metadata": {}
                },
                {
                    "output_type": "display_data",
                    "data": {
                        "text/html": "Total execution time: 00:00:02.463"
                    },
                    "metadata": {}
                },
                {
                    "output_type": "execute_result",
                    "metadata": {},
                    "execution_count": 10,
                    "data": {
                        "application/vnd.dataresource+json": {
                            "schema": {
                                "fields": [
                                    {
                                        "name": "goodreads_book_id"
                                    },
                                    {
                                        "name": "tag_id"
                                    },
                                    {
                                        "name": "count"
                                    }
                                ]
                            },
                            "data": [
                                {
                                    "goodreads_book_id": "865",
                                    "tag_id": "30574",
                                    "count": "596234"
                                }
                            ]
                        },
                        "text/html": [
                            "<table>",
                            "<tr><th>goodreads_book_id</th><th>tag_id</th><th>count</th></tr>",
                            "<tr><td>865</td><td>30574</td><td>596234</td></tr>",
                            "</table>"
                        ]
                    }
                },
                {
                    "output_type": "execute_result",
                    "metadata": {},
                    "execution_count": 10,
                    "data": {
                        "application/vnd.dataresource+json": {
                            "schema": {
                                "fields": [
                                    {
                                        "name": "goodreads_book_id"
                                    },
                                    {
                                        "name": "tag_id"
                                    },
                                    {
                                        "name": "count"
                                    }
                                ]
                            },
                            "data": [
                                {
                                    "goodreads_book_id": "865",
                                    "tag_id": "30574",
                                    "count": "596234"
                                }
                            ]
                        },
                        "text/html": [
                            "<table>",
                            "<tr><th>goodreads_book_id</th><th>tag_id</th><th>count</th></tr>",
                            "<tr><td>865</td><td>30574</td><td>596234</td></tr>",
                            "</table>"
                        ]
                    }
                },
                {
                    "output_type": "execute_result",
                    "metadata": {},
                    "execution_count": 10,
                    "data": {
                        "application/vnd.dataresource+json": {
                            "schema": {
                                "fields": [
                                    {
                                        "name": "tag_id"
                                    },
                                    {
                                        "name": "tag_name"
                                    }
                                ]
                            },
                            "data": [
                                {
                                    "tag_id": "30574",
                                    "tag_name": "to-read"
                                }
                            ]
                        },
                        "text/html": [
                            "<table>",
                            "<tr><th>tag_id</th><th>tag_name</th></tr>",
                            "<tr><td>30574</td><td>to-read</td></tr>",
                            "</table>"
                        ]
                    }
                }
            ],
            "execution_count": 10
        },
        {
            "cell_type": "markdown",
            "source": [
                "Question 5: How many books where released in the first decade of 2000?"
            ],
            "metadata": {
                "azdata_cell_guid": "c5c74d56-5138-4a0f-b780-4db8e5bdc2c0"
            }
        },
        {
            "cell_type": "code",
            "source": [
                "-- return number of books published in the first decade of 2000\r\n",
                "SELECT COUNT(title) FROM books WHERE original_publication_year >= 2000 AND original_publication_year <= 2010;"
            ],
            "metadata": {
                "vscode": {
                    "languageId": "sql"
                },
                "azdata_cell_guid": "88f1906c-1527-4e8a-8220-f0ffde9f2e97",
                "language": "sql"
            },
            "outputs": [
                {
                    "output_type": "display_data",
                    "data": {
                        "text/html": "(1 row affected)"
                    },
                    "metadata": {}
                },
                {
                    "output_type": "display_data",
                    "data": {
                        "text/html": "Total execution time: 00:00:00.106"
                    },
                    "metadata": {}
                },
                {
                    "output_type": "execute_result",
                    "metadata": {},
                    "execution_count": 11,
                    "data": {
                        "application/vnd.dataresource+json": {
                            "schema": {
                                "fields": [
                                    {
                                        "name": "(No column name)"
                                    }
                                ]
                            },
                            "data": [
                                {
                                    "(No column name)": "3594"
                                }
                            ]
                        },
                        "text/html": [
                            "<table>",
                            "<tr><th>(No column name)</th></tr>",
                            "<tr><td>3594</td></tr>",
                            "</table>"
                        ]
                    }
                }
            ],
            "execution_count": 11
        },
        {
            "cell_type": "markdown",
            "source": [
                "Question 6: How many book titles contain the word, \"happy\"?"
            ],
            "metadata": {
                "azdata_cell_guid": "4b2cb56a-3995-42ed-a857-cad71b4f967b"
            }
        },
        {
            "cell_type": "code",
            "source": [
                "-- return number of books that contain the word, \"happy\"\r\n",
                "SELECT COUNT(title) FROM books WHERE title LIKE '%happy%';"
            ],
            "metadata": {
                "vscode": {
                    "languageId": "sql"
                },
                "azdata_cell_guid": "0b0847e1-e965-4423-84e7-a09fb08584ee",
                "language": "sql"
            },
            "outputs": [
                {
                    "output_type": "display_data",
                    "data": {
                        "text/html": "(1 row affected)"
                    },
                    "metadata": {}
                },
                {
                    "output_type": "display_data",
                    "data": {
                        "text/html": "Total execution time: 00:00:00.170"
                    },
                    "metadata": {}
                },
                {
                    "output_type": "execute_result",
                    "metadata": {},
                    "execution_count": 12,
                    "data": {
                        "application/vnd.dataresource+json": {
                            "schema": {
                                "fields": [
                                    {
                                        "name": "(No column name)"
                                    }
                                ]
                            },
                            "data": [
                                {
                                    "(No column name)": "13"
                                }
                            ]
                        },
                        "text/html": [
                            "<table>",
                            "<tr><th>(No column name)</th></tr>",
                            "<tr><td>13</td></tr>",
                            "</table>"
                        ]
                    }
                }
            ],
            "execution_count": 12
        },
        {
            "cell_type": "markdown",
            "source": [
                "Question 7: List the books from the top 3 authors from Question 1.  If there is more than one author just use the first one. Sort the title alphabetically by `author` and then by `average_rating`, best rated to lowest. Does this order matter in sorting?"
            ],
            "metadata": {
                "azdata_cell_guid": "f01b68f9-14bf-42fd-b6c9-f443e3ac8bfe"
            }
        },
        {
            "cell_type": "code",
            "source": [
                "-- return all books from the top 3 authors, sort by author and rating\r\n",
                "SELECT TOP 100 * FROM books WHERE authors LIKE '%Bill Watterson%' OR authors LIKE 'Brandon Sanderson%' OR authors LIKE '%J.K. Rowling%' ORDER BY authors, average_rating DESC;\r\n",
                ""
            ],
            "metadata": {
                "vscode": {
                    "languageId": "sql"
                },
                "azdata_cell_guid": "a651827e-41c7-48a2-9789-765e81448f8e",
                "language": "sql"
            },
            "outputs": [
                {
                    "output_type": "display_data",
                    "data": {
                        "text/html": "(62 rows affected)"
                    },
                    "metadata": {}
                },
                {
                    "output_type": "display_data",
                    "data": {
                        "text/html": "Total execution time: 00:00:00.214"
                    },
                    "metadata": {}
                },
                {
                    "output_type": "execute_result",
                    "metadata": {},
                    "execution_count": 16,
                    "data": {
                        "application/vnd.dataresource+json": {
                            "schema": {
                                "fields": [
                                    {
                                        "name": "id"
                                    },
                                    {
                                        "name": "book_id"
                                    },
                                    {
                                        "name": "best_book_id"
                                    },
                                    {
                                        "name": "work_id"
                                    },
                                    {
                                        "name": "books_count"
                                    },
                                    {
                                        "name": "isbn"
                                    },
                                    {
                                        "name": "isbn13"
                                    },
                                    {
                                        "name": "authors"
                                    },
                                    {
                                        "name": "original_publication_year"
                                    },
                                    {
                                        "name": "original_title"
                                    },
                                    {
                                        "name": "title"
                                    },
                                    {
                                        "name": "language_code"
                                    },
                                    {
                                        "name": "average_rating"
                                    },
                                    {
                                        "name": "ratings_count"
                                    },
                                    {
                                        "name": "work_ratings_count"
                                    },
                                    {
                                        "name": "work_text_reviews_count"
                                    },
                                    {
                                        "name": "ratings_1"
                                    },
                                    {
                                        "name": "ratings_2"
                                    },
                                    {
                                        "name": "ratings_3"
                                    },
                                    {
                                        "name": "ratings_4"
                                    },
                                    {
                                        "name": "ratings_5"
                                    },
                                    {
                                        "name": "image_url"
                                    },
                                    {
                                        "name": "small_image_url"
                                    }
                                ]
                            },
                            "data": [
                                {
                                    "id": "3628",
                                    "book_id": "24812",
                                    "best_book_id": "24812",
                                    "work_id": "25599",
                                    "books_count": "14",
                                    "isbn": "740748475",
                                    "isbn13": "9780740748480",
                                    "authors": "Bill Watterson",
                                    "original_publication_year": "2005",
                                    "original_title": "The Complete Calvin and Hobbes",
                                    "title": "The Complete Calvin and Hobbes",
                                    "language_code": "eng",
                                    "average_rating": "4.82",
                                    "ratings_count": "28900",
                                    "work_ratings_count": "29968",
                                    "work_text_reviews_count": "861",
                                    "ratings_1": "120",
                                    "ratings_2": "154",
                                    "ratings_3": "693",
                                    "ratings_4": "3117",
                                    "ratings_5": "25884",
                                    "image_url": "https://images.gr-assets.com/books/1473064526m/24812.jpg",
                                    "small_image_url": "https://images.gr-assets.com/books/1473064526s/24812.jpg"
                                },
                                {
                                    "id": "4483",
                                    "book_id": "24814",
                                    "best_book_id": "24814",
                                    "work_id": "25601",
                                    "books_count": "21",
                                    "isbn": "836221362",
                                    "isbn13": "9780836221370",
                                    "authors": "Bill Watterson",
                                    "original_publication_year": "1996",
                                    "original_title": "It's a Magical World: A Calvin and Hobbes Collection",
                                    "title": "It's a Magical World: A Calvin and Hobbes Collection",
                                    "language_code": "eng",
                                    "average_rating": "4.75",
                                    "ratings_count": "22351",
                                    "work_ratings_count": "23429",
                                    "work_text_reviews_count": "264",
                                    "ratings_1": "36",
                                    "ratings_2": "57",
                                    "ratings_3": "850",
                                    "ratings_4": "3737",
                                    "ratings_5": "18749",
                                    "image_url": "https://images.gr-assets.com/books/1437420710m/24814.jpg",
                                    "small_image_url": "https://images.gr-assets.com/books/1437420710s/24814.jpg"
                                },
                                {
                                    "id": "6361",
                                    "book_id": "70489",
                                    "best_book_id": "70489",
                                    "work_id": "170846",
                                    "books_count": "22",
                                    "isbn": "836213122",
                                    "isbn13": "9780836213130",
                                    "authors": "Bill Watterson",
                                    "original_publication_year": "1996",
                                    "original_title": "There's Treasure Everywhere: A Calvin and Hobbes Collection",
                                    "title": "There's Treasure Everywhere: A Calvin and Hobbes Collection",
                                    "language_code": "eng",
                                    "average_rating": "4.74",
                                    "ratings_count": "16766",
                                    "work_ratings_count": "17285",
                                    "work_text_reviews_count": "149",
                                    "ratings_1": "22",
                                    "ratings_2": "69",
                                    "ratings_3": "680",
                                    "ratings_4": "2822",
                                    "ratings_5": "13692",
                                    "image_url": "https://s.gr-assets.com/assets/nophoto/book/111x148-bcc042a9c91a29c1d680899eff700a03.png",
                                    "small_image_url": "https://s.gr-assets.com/assets/nophoto/book/50x75-a91bf249278a81aabab721ef782c4a74.png"
                                },
                                {
                                    "id": "6920",
                                    "book_id": "24815",
                                    "best_book_id": "24815",
                                    "work_id": "25602",
                                    "books_count": "19",
                                    "isbn": "751500283",
                                    "isbn13": "9780751500290",
                                    "authors": "Bill Watterson",
                                    "original_publication_year": "1992",
                                    "original_title": "The Indispensable Calvin and Hobbes: A Calvin and Hobbes Treasury",
                                    "title": "The Indispensable Calvin and Hobbes",
                                    "language_code": "eng",
                                    "average_rating": "4.73",
                                    "ratings_count": "14597",
                                    "work_ratings_count": "16911",
                                    "work_text_reviews_count": "325",
                                    "ratings_1": "19",
                                    "ratings_2": "62",
                                    "ratings_3": "666",
                                    "ratings_4": "2969",
                                    "ratings_5": "13195",
                                    "image_url": "https://s.gr-assets.com/assets/nophoto/book/111x148-bcc042a9c91a29c1d680899eff700a03.png",
                                    "small_image_url": "https://s.gr-assets.com/assets/nophoto/book/50x75-a91bf249278a81aabab721ef782c4a74.png"
                                },
                                {
                                    "id": "6590",
                                    "book_id": "59715",
                                    "best_book_id": "59715",
                                    "work_id": "1010526",
                                    "books_count": "21",
                                    "isbn": "751507954",
                                    "isbn13": "9780751507960",
                                    "authors": "Bill Watterson",
                                    "original_publication_year": "1990",
                                    "original_title": "The Authoritative Calvin and Hobbes",
                                    "title": "The Authoritative Calvin and Hobbes: A Calvin and Hobbes Treasury",
                                    "language_code": "eng",
                                    "average_rating": "4.73",
                                    "ratings_count": "16087",
                                    "work_ratings_count": "18198",
                                    "work_text_reviews_count": "425",
                                    "ratings_1": "20",
                                    "ratings_2": "61",
                                    "ratings_3": "701",
                                    "ratings_4": "3295",
                                    "ratings_5": "14121",
                                    "image_url": "https://images.gr-assets.com/books/1391114055m/59715.jpg",
                                    "small_image_url": "https://images.gr-assets.com/books/1391114055s/59715.jpg"
                                },
                                {
                                    "id": "9566",
                                    "book_id": "70487",
                                    "best_book_id": "70487",
                                    "work_id": "2244439",
                                    "books_count": "24",
                                    "isbn": "1417642165",
                                    "isbn13": "9781417642170",
                                    "authors": "Bill Watterson",
                                    "original_publication_year": "1992",
                                    "original_title": "Attack of the Deranged Mutant Killer Monster Snow Goons: A Calvin and Hobbes Collection",
                                    "title": "Attack of the Deranged Mutant Killer Monster Snow Goons",
                                    "language_code": "eng",
                                    "average_rating": "4.72",
                                    "ratings_count": "9713",
                                    "work_ratings_count": "12197",
                                    "work_text_reviews_count": "233",
                                    "ratings_1": "15",
                                    "ratings_2": "30",
                                    "ratings_3": "514",
                                    "ratings_4": "2292",
                                    "ratings_5": "9346",
                                    "image_url": "https://images.gr-assets.com/books/1384735429m/70487.jpg",
                                    "small_image_url": "https://images.gr-assets.com/books/1384735429s/70487.jpg"
                                },
                                {
                                    "id": "8978",
                                    "book_id": "121792",
                                    "best_book_id": "121792",
                                    "work_id": "1429035",
                                    "books_count": "20",
                                    "isbn": "1417642122",
                                    "isbn13": "9781417642120",
                                    "authors": "Bill Watterson",
                                    "original_publication_year": "1991",
                                    "original_title": "The Revenge of the Baby-Sat: A Calvin and Hobbes Collection",
                                    "title": "The Revenge of the Baby-Sat",
                                    "language_code": "NULL",
                                    "average_rating": "4.71",
                                    "ratings_count": "11503",
                                    "work_ratings_count": "12946",
                                    "work_text_reviews_count": "206",
                                    "ratings_1": "12",
                                    "ratings_2": "40",
                                    "ratings_3": "570",
                                    "ratings_4": "2428",
                                    "ratings_5": "9896",
                                    "image_url": "https://images.gr-assets.com/books/1384734025m/121792.jpg",
                                    "small_image_url": "https://images.gr-assets.com/books/1384734025s/121792.jpg"
                                },
                                {
                                    "id": "7254",
                                    "book_id": "24816",
                                    "best_book_id": "24816",
                                    "work_id": "2369970",
                                    "books_count": "23",
                                    "isbn": "836217691",
                                    "isbn13": "9780836217700",
                                    "authors": "Bill Watterson",
                                    "original_publication_year": "1994",
                                    "original_title": "Homicidal Psycho Jungle Cat: A Calvin and Hobbes Collection",
                                    "title": "Homicidal Psycho Jungle Cat: A Calvin and Hobbes Collection",
                                    "language_code": "eng",
                                    "average_rating": "4.71",
                                    "ratings_count": "14113",
                                    "work_ratings_count": "15729",
                                    "work_text_reviews_count": "289",
                                    "ratings_1": "13",
                                    "ratings_2": "53",
                                    "ratings_3": "696",
                                    "ratings_4": "2900",
                                    "ratings_5": "12067",
                                    "image_url": "https://images.gr-assets.com/books/1448818381m/24816.jpg",
                                    "small_image_url": "https://images.gr-assets.com/books/1448818381s/24816.jpg"
                                },
                                {
                                    "id": "5207",
                                    "book_id": "24818",
                                    "best_book_id": "24818",
                                    "work_id": "946589",
                                    "books_count": "28",
                                    "isbn": "836217357",
                                    "isbn13": "9780836217350",
                                    "authors": "Bill Watterson",
                                    "original_publication_year": "1993",
                                    "original_title": "The Days Are Just Packed: A Calvin and Hobbes Collection",
                                    "title": "The Days Are Just Packed: A Calvin and Hobbes Collection",
                                    "language_code": "en-US",
                                    "average_rating": "4.68",
                                    "ratings_count": "19143",
                                    "work_ratings_count": "20374",
                                    "work_text_reviews_count": "228",
                                    "ratings_1": "114",
                                    "ratings_2": "149",
                                    "ratings_3": "942",
                                    "ratings_4": "3636",
                                    "ratings_5": "15533",
                                    "image_url": "https://images.gr-assets.com/books/1418211162m/24818.jpg",
                                    "small_image_url": "https://images.gr-assets.com/books/1418211162s/24818.jpg"
                                },
                                {
                                    "id": "5580",
                                    "book_id": "24494",
                                    "best_book_id": "24494",
                                    "work_id": "25344",
                                    "books_count": "15",
                                    "isbn": "836218523",
                                    "isbn13": "9780836218530",
                                    "authors": "Bill Watterson",
                                    "original_publication_year": "1989",
                                    "original_title": "The Calvin and Hobbes Lazy Sunday Book",
                                    "title": "The Calvin and Hobbes Lazy Sunday Book",
                                    "language_code": "eng",
                                    "average_rating": "4.66",
                                    "ratings_count": "18641",
                                    "work_ratings_count": "18840",
                                    "work_text_reviews_count": "187",
                                    "ratings_1": "60",
                                    "ratings_2": "157",
                                    "ratings_3": "1075",
                                    "ratings_4": "3478",
                                    "ratings_5": "14070",
                                    "image_url": "https://s.gr-assets.com/assets/nophoto/book/111x148-bcc042a9c91a29c1d680899eff700a03.png",
                                    "small_image_url": "https://s.gr-assets.com/assets/nophoto/book/50x75-a91bf249278a81aabab721ef782c4a74.png"
                                },
                                {
                                    "id": "1010",
                                    "book_id": "43070",
                                    "best_book_id": "43070",
                                    "work_id": "2244438",
                                    "books_count": "26",
                                    "isbn": "836218051",
                                    "isbn13": "9780836218050",
                                    "authors": "Bill Watterson",
                                    "original_publication_year": "1988",
                                    "original_title": "The Essential Calvin and Hobbes: A Calvin and Hobbes Treasury",
                                    "title": "The Essential Calvin and Hobbes: A Calvin and Hobbes Treasury",
                                    "language_code": "en-US",
                                    "average_rating": "4.65",
                                    "ratings_count": "93001",
                                    "work_ratings_count": "95543",
                                    "work_text_reviews_count": "598",
                                    "ratings_1": "717",
                                    "ratings_2": "895",
                                    "ratings_3": "5387",
                                    "ratings_4": "17566",
                                    "ratings_5": "70978",
                                    "image_url": "https://s.gr-assets.com/assets/nophoto/book/111x148-bcc042a9c91a29c1d680899eff700a03.png",
                                    "small_image_url": "https://s.gr-assets.com/assets/nophoto/book/50x75-a91bf249278a81aabab721ef782c4a74.png"
                                },
                                {
                                    "id": "1788",
                                    "book_id": "24813",
                                    "best_book_id": "24813",
                                    "work_id": "692719",
                                    "books_count": "17",
                                    "isbn": "836204387",
                                    "isbn13": "9780836204380",
                                    "authors": "Bill Watterson",
                                    "original_publication_year": "1995",
                                    "original_title": "The Calvin and Hobbes Tenth Anniversary Book",
                                    "title": "The Calvin and Hobbes Tenth Anniversary Book",
                                    "language_code": "eng",
                                    "average_rating": "4.63",
                                    "ratings_count": "48280",
                                    "work_ratings_count": "48829",
                                    "work_text_reviews_count": "346",
                                    "ratings_1": "346",
                                    "ratings_2": "608",
                                    "ratings_3": "3077",
                                    "ratings_4": "8752",
                                    "ratings_5": "36046",
                                    "image_url": "https://s.gr-assets.com/assets/nophoto/book/111x148-bcc042a9c91a29c1d680899eff700a03.png",
                                    "small_image_url": "https://s.gr-assets.com/assets/nophoto/book/50x75-a91bf249278a81aabab721ef782c4a74.png"
                                },
                                {
                                    "id": "780",
                                    "book_id": "77727",
                                    "best_book_id": "77727",
                                    "work_id": "2110010",
                                    "books_count": "24",
                                    "isbn": "836220889",
                                    "isbn13": "9780836220890",
                                    "authors": "Bill Watterson, G.B. Trudeau",
                                    "original_publication_year": "1987",
                                    "original_title": "Calvin and Hobbes",
                                    "title": "Calvin and Hobbes",
                                    "language_code": "en-US",
                                    "average_rating": "4.61",
                                    "ratings_count": "117788",
                                    "work_ratings_count": "118294",
                                    "work_text_reviews_count": "684",
                                    "ratings_1": "980",
                                    "ratings_2": "1435",
                                    "ratings_3": "7684",
                                    "ratings_4": "22365",
                                    "ratings_5": "85830",
                                    "image_url": "https://s.gr-assets.com/assets/nophoto/book/111x148-bcc042a9c91a29c1d680899eff700a03.png",
                                    "small_image_url": "https://s.gr-assets.com/assets/nophoto/book/50x75-a91bf249278a81aabab721ef782c4a74.png"
                                },
                                {
                                    "id": "862",
                                    "book_id": "17332218",
                                    "best_book_id": "17332218",
                                    "work_id": "16482835",
                                    "books_count": "34",
                                    "isbn": "765326361",
                                    "isbn13": "9780765326360",
                                    "authors": "Brandon Sanderson",
                                    "original_publication_year": "2014",
                                    "original_title": "Words of Radiance",
                                    "title": "Words of Radiance (The Stormlight Archive, #2)",
                                    "language_code": "eng",
                                    "average_rating": "4.77",
                                    "ratings_count": "73572",
                                    "work_ratings_count": "108176",
                                    "work_text_reviews_count": "7261",
                                    "ratings_1": "154",
                                    "ratings_2": "404",
                                    "ratings_3": "2653",
                                    "ratings_4": "18272",
                                    "ratings_5": "86693",
                                    "image_url": "https://images.gr-assets.com/books/1391535251m/17332218.jpg",
                                    "small_image_url": "https://images.gr-assets.com/books/1391535251s/17332218.jpg"
                                },
                                {
                                    "id": "9141",
                                    "book_id": "9329354",
                                    "best_book_id": "9329354",
                                    "work_id": "27679568",
                                    "books_count": "19",
                                    "isbn": "575097361",
                                    "isbn13": "9780575097360",
                                    "authors": "Brandon Sanderson",
                                    "original_publication_year": "2011",
                                    "original_title": "The Way of Kings, Part 1",
                                    "title": "The Way of Kings, Part 1 (The Stormlight Archive #1.1)",
                                    "language_code": "eng",
                                    "average_rating": "4.67",
                                    "ratings_count": "9792",
                                    "work_ratings_count": "10117",
                                    "work_text_reviews_count": "453",
                                    "ratings_1": "40",
                                    "ratings_2": "93",
                                    "ratings_3": "408",
                                    "ratings_4": "2078",
                                    "ratings_5": "7498",
                                    "image_url": "https://images.gr-assets.com/books/1357609842m/9329354.jpg",
                                    "small_image_url": "https://images.gr-assets.com/books/1357609842s/9329354.jpg"
                                },
                                {
                                    "id": "562",
                                    "book_id": "7235533",
                                    "best_book_id": "7235533",
                                    "work_id": "8134945",
                                    "books_count": "48",
                                    "isbn": "765326353",
                                    "isbn13": "9780765326360",
                                    "authors": "Brandon Sanderson",
                                    "original_publication_year": "2010",
                                    "original_title": "The Way of Kings",
                                    "title": "The Way of Kings (The Stormlight Archive, #1)",
                                    "language_code": "eng",
                                    "average_rating": "4.64",
                                    "ratings_count": "144822",
                                    "work_ratings_count": "164477",
                                    "work_text_reviews_count": "10947",
                                    "ratings_1": "1085",
                                    "ratings_2": "1827",
                                    "ratings_3": "7661",
                                    "ratings_4": "33962",
                                    "ratings_5": "119942",
                                    "image_url": "https://images.gr-assets.com/books/1388184640m/7235533.jpg",
                                    "small_image_url": "https://images.gr-assets.com/books/1388184640s/7235533.jpg"
                                },
                                {
                                    "id": "2889",
                                    "book_id": "6604209",
                                    "best_book_id": "6604209",
                                    "work_id": "6798109",
                                    "books_count": "15",
                                    "isbn": "076536543X",
                                    "isbn13": "9780765365440",
                                    "authors": "Brandon Sanderson",
                                    "original_publication_year": "2009",
                                    "original_title": "Mistborn Trilogy Boxed Set",
                                    "title": "Mistborn Trilogy Boxed Set (Mistborn, #1-3)",
                                    "language_code": "en-US",
                                    "average_rating": "4.55",
                                    "ratings_count": "22917",
                                    "work_ratings_count": "32376",
                                    "work_text_reviews_count": "982",
                                    "ratings_1": "130",
                                    "ratings_2": "425",
                                    "ratings_3": "2185",
                                    "ratings_4": "8517",
                                    "ratings_5": "21119",
                                    "image_url": "https://images.gr-assets.com/books/1257442247m/6604209.jpg",
                                    "small_image_url": "https://images.gr-assets.com/books/1257442247s/6604209.jpg"
                                },
                                {
                                    "id": "603",
                                    "book_id": "2767793",
                                    "best_book_id": "2767793",
                                    "work_id": "2793516",
                                    "books_count": "63",
                                    "isbn": "765316897",
                                    "isbn13": "9780765316900",
                                    "authors": "Brandon Sanderson",
                                    "original_publication_year": "2008",
                                    "original_title": "The Hero of Ages",
                                    "title": "The Hero of Ages (Mistborn, #3)",
                                    "language_code": "eng",
                                    "average_rating": "4.46",
                                    "ratings_count": "143622",
                                    "work_ratings_count": "161085",
                                    "work_text_reviews_count": "9111",
                                    "ratings_1": "596",
                                    "ratings_2": "2257",
                                    "ratings_3": "14291",
                                    "ratings_4": "49628",
                                    "ratings_5": "94313",
                                    "image_url": "https://images.gr-assets.com/books/1480717763m/2767793.jpg",
                                    "small_image_url": "https://images.gr-assets.com/books/1480717763s/2767793.jpg"
                                },
                                {
                                    "id": "3341",
                                    "book_id": "18739426",
                                    "best_book_id": "18739426",
                                    "work_id": "26616838",
                                    "books_count": "21",
                                    "isbn": "NULL",
                                    "isbn13": "NULL",
                                    "authors": "Brandon Sanderson",
                                    "original_publication_year": "2016",
                                    "original_title": "The Bands of Mourning",
                                    "title": "The Bands of Mourning (Mistborn, #6)",
                                    "language_code": "eng",
                                    "average_rating": "4.45",
                                    "ratings_count": "28866",
                                    "work_ratings_count": "33232",
                                    "work_text_reviews_count": "2379",
                                    "ratings_1": "42",
                                    "ratings_2": "249",
                                    "ratings_3": "2519",
                                    "ratings_4": "12186",
                                    "ratings_5": "18236",
                                    "image_url": "https://images.gr-assets.com/books/1450134973m/18739426.jpg",
                                    "small_image_url": "https://images.gr-assets.com/books/1450134973s/18739426.jpg"
                                },
                                {
                                    "id": "389",
                                    "book_id": "68428",
                                    "best_book_id": "68428",
                                    "work_id": "66322",
                                    "books_count": "75",
                                    "isbn": "076531178X",
                                    "isbn13": "9780765311790",
                                    "authors": "Brandon Sanderson",
                                    "original_publication_year": "2006",
                                    "original_title": "Mistborn : The Final Empire",
                                    "title": "The Final Empire (Mistborn, #1)",
                                    "language_code": "eng",
                                    "average_rating": "4.43",
                                    "ratings_count": "208944",
                                    "work_ratings_count": "238993",
                                    "work_text_reviews_count": "16276",
                                    "ratings_1": "1783",
                                    "ratings_2": "4008",
                                    "ratings_3": "20554",
                                    "ratings_4": "76611",
                                    "ratings_5": "136037",
                                    "image_url": "https://images.gr-assets.com/books/1480717416m/68428.jpg",
                                    "small_image_url": "https://images.gr-assets.com/books/1480717416s/68428.jpg"
                                },
                                {
                                    "id": "7993",
                                    "book_id": "28698036",
                                    "best_book_id": "28698036",
                                    "work_id": "48896020",
                                    "books_count": "5",
                                    "isbn": "NULL",
                                    "isbn13": "NULL",
                                    "authors": "Brandon Sanderson",
                                    "original_publication_year": "2016",
                                    "original_title": "Mistborn: Secret History",
                                    "title": "Secret History (Mistborn, #3.5)",
                                    "language_code": "eng",
                                    "average_rating": "4.38",
                                    "ratings_count": "12796",
                                    "work_ratings_count": "13424",
                                    "work_text_reviews_count": "1081",
                                    "ratings_1": "30",
                                    "ratings_2": "191",
                                    "ratings_3": "1573",
                                    "ratings_4": "4535",
                                    "ratings_5": "7095",
                                    "image_url": "https://s.gr-assets.com/assets/nophoto/book/111x148-bcc042a9c91a29c1d680899eff700a03.png",
                                    "small_image_url": "https://s.gr-assets.com/assets/nophoto/book/50x75-a91bf249278a81aabab721ef782c4a74.png"
                                },
                                {
                                    "id": "565",
                                    "book_id": "68429",
                                    "best_book_id": "68429",
                                    "work_id": "2120474",
                                    "books_count": "60",
                                    "isbn": "765316889",
                                    "isbn13": "9780765316880",
                                    "authors": "Brandon Sanderson",
                                    "original_publication_year": "2007",
                                    "original_title": "NULL",
                                    "title": "The Well of Ascension (Mistborn, #2)",
                                    "language_code": "eng",
                                    "average_rating": "4.35",
                                    "ratings_count": "150736",
                                    "work_ratings_count": "171402",
                                    "work_text_reviews_count": "8541",
                                    "ratings_1": "534",
                                    "ratings_2": "2630",
                                    "ratings_3": "18661",
                                    "ratings_4": "63880",
                                    "ratings_5": "85697",
                                    "image_url": "https://images.gr-assets.com/books/1480717596m/68429.jpg",
                                    "small_image_url": "https://images.gr-assets.com/books/1480717596s/68429.jpg"
                                },
                                {
                                    "id": "2978",
                                    "book_id": "13578175",
                                    "best_book_id": "13578175",
                                    "work_id": "19161502",
                                    "books_count": "20",
                                    "isbn": "1616960922",
                                    "isbn13": "9781616960930",
                                    "authors": "Brandon Sanderson",
                                    "original_publication_year": "2012",
                                    "original_title": "The Emperor's Soul",
                                    "title": "The Emperor's Soul",
                                    "language_code": "eng",
                                    "average_rating": "4.33",
                                    "ratings_count": "33634",
                                    "work_ratings_count": "39282",
                                    "work_text_reviews_count": "2989",
                                    "ratings_1": "84",
                                    "ratings_2": "477",
                                    "ratings_3": "4536",
                                    "ratings_4": "15386",
                                    "ratings_5": "18799",
                                    "image_url": "https://images.gr-assets.com/books/1343059311m/13578175.jpg",
                                    "small_image_url": "https://images.gr-assets.com/books/1343059311s/13578175.jpg"
                                },
                                {
                                    "id": "2792",
                                    "book_id": "16065004",
                                    "best_book_id": "16065004",
                                    "work_id": "21855448",
                                    "books_count": "25",
                                    "isbn": "765378558",
                                    "isbn13": "9780765378550",
                                    "authors": "Brandon Sanderson",
                                    "original_publication_year": "2015",
                                    "original_title": "Shadows of Self",
                                    "title": "Shadows of Self (Mistborn, #5)",
                                    "language_code": "eng",
                                    "average_rating": "4.3",
                                    "ratings_count": "32170",
                                    "work_ratings_count": "40479",
                                    "work_text_reviews_count": "2804",
                                    "ratings_1": "85",
                                    "ratings_2": "469",
                                    "ratings_3": "4687",
                                    "ratings_4": "17295",
                                    "ratings_5": "17943",
                                    "image_url": "https://images.gr-assets.com/books/1435053013m/16065004.jpg",
                                    "small_image_url": "https://images.gr-assets.com/books/1435053013s/16065004.jpg"
                                },
                                {
                                    "id": "2118",
                                    "book_id": "15704459",
                                    "best_book_id": "15704459",
                                    "work_id": "21979689",
                                    "books_count": "51",
                                    "isbn": "385743580",
                                    "isbn13": "9780385743590",
                                    "authors": "Brandon Sanderson",
                                    "original_publication_year": "2015",
                                    "original_title": "Firefight",
                                    "title": "Firefight (The Reckoners, #2)",
                                    "language_code": "eng",
                                    "average_rating": "4.29",
                                    "ratings_count": "41924",
                                    "work_ratings_count": "50765",
                                    "work_text_reviews_count": "4426",
                                    "ratings_1": "95",
                                    "ratings_2": "622",
                                    "ratings_3": "6180",
                                    "ratings_4": "21247",
                                    "ratings_5": "22621",
                                    "image_url": "https://images.gr-assets.com/books/1413220816m/15704459.jpg",
                                    "small_image_url": "https://images.gr-assets.com/books/1413220816s/15704459.jpg"
                                },
                                {
                                    "id": "3147",
                                    "book_id": "22443261",
                                    "best_book_id": "22443261",
                                    "work_id": "15035866",
                                    "books_count": "38",
                                    "isbn": "NULL",
                                    "isbn13": "NULL",
                                    "authors": "Brandon Sanderson",
                                    "original_publication_year": "2013",
                                    "original_title": "The Rithmatist ",
                                    "title": "The Rithmatist (The Rithmatist, #1)",
                                    "language_code": "eng",
                                    "average_rating": "4.25",
                                    "ratings_count": "15977",
                                    "work_ratings_count": "36047",
                                    "work_text_reviews_count": "4864",
                                    "ratings_1": "156",
                                    "ratings_2": "652",
                                    "ratings_3": "4730",
                                    "ratings_4": "15170",
                                    "ratings_5": "15339",
                                    "image_url": "https://s.gr-assets.com/assets/nophoto/book/111x148-bcc042a9c91a29c1d680899eff700a03.png",
                                    "small_image_url": "https://s.gr-assets.com/assets/nophoto/book/50x75-a91bf249278a81aabab721ef782c4a74.png"
                                },
                                {
                                    "id": "1665",
                                    "book_id": "1268479",
                                    "best_book_id": "1268479",
                                    "work_id": "1257385",
                                    "books_count": "41",
                                    "isbn": "NULL",
                                    "isbn13": "NULL",
                                    "authors": "Brandon Sanderson",
                                    "original_publication_year": "2009",
                                    "original_title": "Warbreaker",
                                    "title": "Warbreaker (Warbreaker, #1)",
                                    "language_code": "eng",
                                    "average_rating": "4.22",
                                    "ratings_count": "55948",
                                    "work_ratings_count": "65488",
                                    "work_text_reviews_count": "4548",
                                    "ratings_1": "322",
                                    "ratings_2": "1337",
                                    "ratings_3": "9533",
                                    "ratings_4": "26899",
                                    "ratings_5": "27397",
                                    "image_url": "https://s.gr-assets.com/assets/nophoto/book/111x148-bcc042a9c91a29c1d680899eff700a03.png",
                                    "small_image_url": "https://s.gr-assets.com/assets/nophoto/book/50x75-a91bf249278a81aabab721ef782c4a74.png"
                                },
                                {
                                    "id": "3249",
                                    "book_id": "15704486",
                                    "best_book_id": "15704486",
                                    "work_id": "21366542",
                                    "books_count": "35",
                                    "isbn": "385743602",
                                    "isbn13": "9780385743600",
                                    "authors": "Brandon Sanderson",
                                    "original_publication_year": "2016",
                                    "original_title": "Calamity",
                                    "title": "Calamity (The Reckoners, #3)",
                                    "language_code": "eng",
                                    "average_rating": "4.2",
                                    "ratings_count": "27146",
                                    "work_ratings_count": "33909",
                                    "work_text_reviews_count": "3310",
                                    "ratings_1": "93",
                                    "ratings_2": "680",
                                    "ratings_3": "5383",
                                    "ratings_4": "14098",
                                    "ratings_5": "13655",
                                    "image_url": "https://images.gr-assets.com/books/1437098338m/15704486.jpg",
                                    "small_image_url": "https://images.gr-assets.com/books/1437098338s/15704486.jpg"
                                },
                                {
                                    "id": "1200",
                                    "book_id": "10803121",
                                    "best_book_id": "10803121",
                                    "work_id": "15035863",
                                    "books_count": "45",
                                    "isbn": "765330423",
                                    "isbn13": "9780765330420",
                                    "authors": "Brandon Sanderson",
                                    "original_publication_year": "2011",
                                    "original_title": "The Alloy of Law",
                                    "title": "The Alloy of Law (Mistborn, #4)",
                                    "language_code": "eng",
                                    "average_rating": "4.2",
                                    "ratings_count": "72185",
                                    "work_ratings_count": "84897",
                                    "work_text_reviews_count": "5303",
                                    "ratings_1": "271",
                                    "ratings_2": "1652",
                                    "ratings_3": "12408",
                                    "ratings_4": "36754",
                                    "ratings_5": "33812",
                                    "image_url": "https://s.gr-assets.com/assets/nophoto/book/111x148-bcc042a9c91a29c1d680899eff700a03.png",
                                    "small_image_url": "https://s.gr-assets.com/assets/nophoto/book/50x75-a91bf249278a81aabab721ef782c4a74.png"
                                },
                                {
                                    "id": "1049",
                                    "book_id": "68427",
                                    "best_book_id": "68427",
                                    "work_id": "2908871",
                                    "books_count": "60",
                                    "isbn": "765350378",
                                    "isbn13": "9780765350370",
                                    "authors": "Brandon Sanderson",
                                    "original_publication_year": "2005",
                                    "original_title": "Elantris",
                                    "title": "Elantris (Elantris, #1)",
                                    "language_code": "eng",
                                    "average_rating": "4.17",
                                    "ratings_count": "95950",
                                    "work_ratings_count": "105780",
                                    "work_text_reviews_count": "6438",
                                    "ratings_1": "1311",
                                    "ratings_2": "2974",
                                    "ratings_3": "16025",
                                    "ratings_4": "41443",
                                    "ratings_5": "44027",
                                    "image_url": "https://images.gr-assets.com/books/1475740953m/68427.jpg",
                                    "small_image_url": "https://images.gr-assets.com/books/1475740953s/68427.jpg"
                                },
                                {
                                    "id": "970",
                                    "book_id": "17182126",
                                    "best_book_id": "17182126",
                                    "work_id": "21366540",
                                    "books_count": "64",
                                    "isbn": "385743564",
                                    "isbn13": "9780385743560",
                                    "authors": "Brandon Sanderson",
                                    "original_publication_year": "2013",
                                    "original_title": "Steelheart",
                                    "title": "Steelheart (The Reckoners, #1)",
                                    "language_code": "eng",
                                    "average_rating": "4.16",
                                    "ratings_count": "76261",
                                    "work_ratings_count": "102116",
                                    "work_text_reviews_count": "10160",
                                    "ratings_1": "1300",
                                    "ratings_2": "3063",
                                    "ratings_3": "15596",
                                    "ratings_4": "40585",
                                    "ratings_5": "41572",
                                    "image_url": "https://images.gr-assets.com/books/1357576738m/17182126.jpg",
                                    "small_image_url": "https://images.gr-assets.com/books/1357576738s/17182126.jpg"
                                },
                                {
                                    "id": "4488",
                                    "book_id": "13452375",
                                    "best_book_id": "13452375",
                                    "work_id": "18978261",
                                    "books_count": "24",
                                    "isbn": "1596064854",
                                    "isbn13": "9781596064850",
                                    "authors": "Brandon Sanderson",
                                    "original_publication_year": "2012",
                                    "original_title": "Legion",
                                    "title": "Legion (Legion, #1)",
                                    "language_code": "eng",
                                    "average_rating": "4.13",
                                    "ratings_count": "20291",
                                    "work_ratings_count": "24459",
                                    "work_text_reviews_count": "2235",
                                    "ratings_1": "147",
                                    "ratings_2": "605",
                                    "ratings_3": "4208",
                                    "ratings_4": "10448",
                                    "ratings_5": "9051",
                                    "image_url": "https://images.gr-assets.com/books/1338512017m/13452375.jpg",
                                    "small_image_url": "https://images.gr-assets.com/books/1338512017s/13452375.jpg"
                                },
                                {
                                    "id": "4745",
                                    "book_id": "18966322",
                                    "best_book_id": "18966322",
                                    "work_id": "26984416",
                                    "books_count": "22",
                                    "isbn": "449818438",
                                    "isbn13": "9780449818440",
                                    "authors": "Brandon Sanderson",
                                    "original_publication_year": "2013",
                                    "original_title": "Mitosis",
                                    "title": "Mitosis (The Reckoners, #1.5)",
                                    "language_code": "eng",
                                    "average_rating": "3.87",
                                    "ratings_count": "17250",
                                    "work_ratings_count": "22181",
                                    "work_text_reviews_count": "1477",
                                    "ratings_1": "69",
                                    "ratings_2": "714",
                                    "ratings_3": "6245",
                                    "ratings_4": "10075",
                                    "ratings_5": "5078",
                                    "image_url": "https://images.gr-assets.com/books/1385570447m/18966322.jpg",
                                    "small_image_url": "https://images.gr-assets.com/books/1385570447s/18966322.jpg"
                                },
                                {
                                    "id": "8373",
                                    "book_id": "623976",
                                    "best_book_id": "623976",
                                    "work_id": "2591148",
                                    "books_count": "34",
                                    "isbn": "439925509",
                                    "isbn13": "9780439925500",
                                    "authors": "Brandon Sanderson",
                                    "original_publication_year": "2007",
                                    "original_title": "Alcatraz Versus the Evil Librarians",
                                    "title": "Alcatraz Versus the Evil Librarians (Alcatraz, #1)",
                                    "language_code": "eng",
                                    "average_rating": "3.87",
                                    "ratings_count": "13474",
                                    "work_ratings_count": "15374",
                                    "work_text_reviews_count": "2393",
                                    "ratings_1": "328",
                                    "ratings_2": "937",
                                    "ratings_3": "3729",
                                    "ratings_4": "5745",
                                    "ratings_5": "4635",
                                    "image_url": "https://images.gr-assets.com/books/1332516621m/623976.jpg",
                                    "small_image_url": "https://images.gr-assets.com/books/1332516621s/623976.jpg"
                                },
                                {
                                    "id": "9164",
                                    "book_id": "20886354",
                                    "best_book_id": "20886354",
                                    "work_id": "40227944",
                                    "books_count": "21",
                                    "isbn": "NULL",
                                    "isbn13": "NULL",
                                    "authors": "Brandon Sanderson, Jon Foster",
                                    "original_publication_year": "2014",
                                    "original_title": "Legion: Skin Deep",
                                    "title": "Skin Deep (Legion, #2)",
                                    "language_code": "eng",
                                    "average_rating": "4.11",
                                    "ratings_count": "8317",
                                    "work_ratings_count": "11210",
                                    "work_text_reviews_count": "950",
                                    "ratings_1": "31",
                                    "ratings_2": "232",
                                    "ratings_3": "1988",
                                    "ratings_4": "5179",
                                    "ratings_5": "3780",
                                    "image_url": "https://images.gr-assets.com/books/1404932663m/20886354.jpg",
                                    "small_image_url": "https://images.gr-assets.com/books/1404932663s/20886354.jpg"
                                },
                                {
                                    "id": "422",
                                    "book_id": "862041",
                                    "best_book_id": "862041",
                                    "work_id": "2962492",
                                    "books_count": "76",
                                    "isbn": "545044251",
                                    "isbn13": "9780545044260",
                                    "authors": "J.K. Rowling",
                                    "original_publication_year": "1998",
                                    "original_title": "Complete Harry Potter Boxed Set",
                                    "title": "Harry Potter Boxset (Harry Potter, #1-7)",
                                    "language_code": "eng",
                                    "average_rating": "4.74",
                                    "ratings_count": "190050",
                                    "work_ratings_count": "204125",
                                    "work_text_reviews_count": "6508",
                                    "ratings_1": "1105",
                                    "ratings_2": "1285",
                                    "ratings_3": "7020",
                                    "ratings_4": "30666",
                                    "ratings_5": "164049",
                                    "image_url": "https://images.gr-assets.com/books/1392579059m/862041.jpg",
                                    "small_image_url": "https://images.gr-assets.com/books/1392579059s/862041.jpg"
                                },
                                {
                                    "id": "3753",
                                    "book_id": "10",
                                    "best_book_id": "10",
                                    "work_id": "21457570",
                                    "books_count": "6",
                                    "isbn": "439827604",
                                    "isbn13": "9780439827610",
                                    "authors": "J.K. Rowling",
                                    "original_publication_year": "2005",
                                    "original_title": "Harry Potter Collection (Harry Potter, #1-6)",
                                    "title": "Harry Potter Collection (Harry Potter, #1-6)",
                                    "language_code": "eng",
                                    "average_rating": "4.73",
                                    "ratings_count": "24618",
                                    "work_ratings_count": "26274",
                                    "work_text_reviews_count": "882",
                                    "ratings_1": "203",
                                    "ratings_2": "186",
                                    "ratings_3": "946",
                                    "ratings_4": "3891",
                                    "ratings_5": "21048",
                                    "image_url": "https://images.gr-assets.com/books/1328867351m/10.jpg",
                                    "small_image_url": "https://images.gr-assets.com/books/1328867351s/10.jpg"
                                },
                                {
                                    "id": "6141",
                                    "book_id": "1317181",
                                    "best_book_id": "1317181",
                                    "work_id": "19079807",
                                    "books_count": "8",
                                    "isbn": "185549664X",
                                    "isbn13": "9781855496640",
                                    "authors": "J.K. Rowling",
                                    "original_publication_year": "2003",
                                    "original_title": "NULL",
                                    "title": "Harry Potter and the Order of the Phoenix (Harry Potter, #5, Part 1)",
                                    "language_code": "NULL",
                                    "average_rating": "4.56",
                                    "ratings_count": "16249",
                                    "work_ratings_count": "16350",
                                    "work_text_reviews_count": "272",
                                    "ratings_1": "114",
                                    "ratings_2": "199",
                                    "ratings_3": "1182",
                                    "ratings_4": "3744",
                                    "ratings_5": "11111",
                                    "image_url": "https://s.gr-assets.com/assets/nophoto/book/111x148-bcc042a9c91a29c1d680899eff700a03.png",
                                    "small_image_url": "https://s.gr-assets.com/assets/nophoto/book/50x75-a91bf249278a81aabab721ef782c4a74.png"
                                },
                                {
                                    "id": "4641",
                                    "book_id": "30065028",
                                    "best_book_id": "29363501",
                                    "work_id": "50435175",
                                    "books_count": "49",
                                    "isbn": "NULL",
                                    "isbn13": "NULL",
                                    "authors": "J.K. Rowling",
                                    "original_publication_year": "2016",
                                    "original_title": "Fantastic Beasts and Where to Find Them: The Original Screenplay",
                                    "title": "Fantastic Beasts and Where to Find Them: The Original Screenplay",
                                    "language_code": "eng",
                                    "average_rating": "4.41",
                                    "ratings_count": "18290",
                                    "work_ratings_count": "42210",
                                    "work_text_reviews_count": "4692",
                                    "ratings_1": "323",
                                    "ratings_2": "721",
                                    "ratings_3": "4257",
                                    "ratings_4": "13024",
                                    "ratings_5": "23885",
                                    "image_url": "https://images.gr-assets.com/books/1476913365m/30065028.jpg",
                                    "small_image_url": "https://images.gr-assets.com/books/1476913365s/30065028.jpg"
                                },
                                {
                                    "id": "9048",
                                    "book_id": "2002",
                                    "best_book_id": "2002",
                                    "work_id": "8621948",
                                    "books_count": "5",
                                    "isbn": "043932162X",
                                    "isbn13": "9780439321620",
                                    "authors": "J.K. Rowling",
                                    "original_publication_year": "2001",
                                    "original_title": "NULL",
                                    "title": "Harry Potter Schoolbooks Box Set: Two Classic Books from the Library of Hogwarts School of Witchcraft and Wizardry",
                                    "language_code": "eng",
                                    "average_rating": "4.4",
                                    "ratings_count": "10736",
                                    "work_ratings_count": "11732",
                                    "work_text_reviews_count": "185",
                                    "ratings_1": "106",
                                    "ratings_2": "304",
                                    "ratings_3": "1548",
                                    "ratings_4": "2595",
                                    "ratings_5": "7179",
                                    "image_url": "https://images.gr-assets.com/books/1479775271m/2002.jpg",
                                    "small_image_url": "https://images.gr-assets.com/books/1479775271s/2002.jpg"
                                },
                                {
                                    "id": "7523",
                                    "book_id": "31538647",
                                    "best_book_id": "31538647",
                                    "work_id": "52218770",
                                    "books_count": "18",
                                    "isbn": "NULL",
                                    "isbn13": "NULL",
                                    "authors": "J.K. Rowling",
                                    "original_publication_year": "2016",
                                    "original_title": "Hogwarts: An Incomplete and Unreliable Guide",
                                    "title": "Hogwarts: An Incomplete and Unreliable Guide (Pottermore Presents, #3)",
                                    "language_code": "eng",
                                    "average_rating": "4.21",
                                    "ratings_count": "14977",
                                    "work_ratings_count": "15844",
                                    "work_text_reviews_count": "1339",
                                    "ratings_1": "63",
                                    "ratings_2": "346",
                                    "ratings_3": "2806",
                                    "ratings_4": "5543",
                                    "ratings_5": "7086",
                                    "image_url": "https://images.gr-assets.com/books/1502156557m/31538647.jpg",
                                    "small_image_url": "https://images.gr-assets.com/books/1502156557s/31538647.jpg"
                                },
                                {
                                    "id": "399",
                                    "book_id": "3950967",
                                    "best_book_id": "3950967",
                                    "work_id": "3007490",
                                    "books_count": "131",
                                    "isbn": "747599874",
                                    "isbn13": "9780747599880",
                                    "authors": "J.K. Rowling",
                                    "original_publication_year": "2007",
                                    "original_title": "The Tales of Beedle the Bard",
                                    "title": "The Tales of Beedle the Bard",
                                    "language_code": "en-US",
                                    "average_rating": "4.06",
                                    "ratings_count": "284833",
                                    "work_ratings_count": "319107",
                                    "work_text_reviews_count": "11330",
                                    "ratings_1": "3019",
                                    "ratings_2": "15025",
                                    "ratings_3": "69367",
                                    "ratings_4": "103350",
                                    "ratings_5": "128346",
                                    "image_url": "https://images.gr-assets.com/books/1373467575m/3950967.jpg",
                                    "small_image_url": "https://images.gr-assets.com/books/1373467575s/3950967.jpg"
                                },
                                {
                                    "id": "342",
                                    "book_id": "13497818",
                                    "best_book_id": "13497818",
                                    "work_id": "19926990",
                                    "books_count": "139",
                                    "isbn": "316228532",
                                    "isbn13": "9780316228530",
                                    "authors": "J.K. Rowling",
                                    "original_publication_year": "2012",
                                    "original_title": "The Casual Vacancy",
                                    "title": "The Casual Vacancy",
                                    "language_code": "eng",
                                    "average_rating": "3.28",
                                    "ratings_count": "231835",
                                    "work_ratings_count": "254461",
                                    "work_text_reviews_count": "28751",
                                    "ratings_1": "24583",
                                    "ratings_2": "38326",
                                    "ratings_3": "74611",
                                    "ratings_4": "75741",
                                    "ratings_5": "41200",
                                    "image_url": "https://images.gr-assets.com/books/1358266832m/13497818.jpg",
                                    "small_image_url": "https://images.gr-assets.com/books/1358266832s/13497818.jpg"
                                },
                                {
                                    "id": "7929",
                                    "book_id": "23731881",
                                    "best_book_id": "23731881",
                                    "work_id": "43264515",
                                    "books_count": "6",
                                    "isbn": "316369152",
                                    "isbn13": "9780316369150",
                                    "authors": "J.K. Rowling, Joel Holland",
                                    "original_publication_year": "2015",
                                    "original_title": "Very Good Lives: The Fringe Benefits of Failure and the Importance of Imagination",
                                    "title": "Very Good Lives: The Fringe Benefits of Failure and the Importance of Imagination",
                                    "language_code": "eng",
                                    "average_rating": "4.26",
                                    "ratings_count": "12510",
                                    "work_ratings_count": "13494",
                                    "work_text_reviews_count": "1838",
                                    "ratings_1": "312",
                                    "ratings_2": "408",
                                    "ratings_3": "1755",
                                    "ratings_4": "3965",
                                    "ratings_5": "7054",
                                    "image_url": "https://images.gr-assets.com/books/1418419116m/23731881.jpg",
                                    "small_image_url": "https://images.gr-assets.com/books/1418419116s/23731881.jpg"
                                },
                                {
                                    "id": "3275",
                                    "book_id": "8",
                                    "best_book_id": "8",
                                    "work_id": "21457576",
                                    "books_count": "11",
                                    "isbn": "439682584",
                                    "isbn13": "9780439682590",
                                    "authors": "J.K. Rowling, Mary GrandPré",
                                    "original_publication_year": "2003",
                                    "original_title": "NULL",
                                    "title": "Harry Potter Boxed Set, Books 1-5 (Harry Potter, #1-5)",
                                    "language_code": "eng",
                                    "average_rating": "4.77",
                                    "ratings_count": "33220",
                                    "work_ratings_count": "33424",
                                    "work_text_reviews_count": "156",
                                    "ratings_1": "317",
                                    "ratings_2": "233",
                                    "ratings_3": "978",
                                    "ratings_4": "3686",
                                    "ratings_5": "28210",
                                    "image_url": "https://s.gr-assets.com/assets/nophoto/book/111x148-bcc042a9c91a29c1d680899eff700a03.png",
                                    "small_image_url": "https://s.gr-assets.com/assets/nophoto/book/50x75-a91bf249278a81aabab721ef782c4a74.png"
                                },
                                {
                                    "id": "2101",
                                    "book_id": "99298",
                                    "best_book_id": "99298",
                                    "work_id": "5994366",
                                    "books_count": "17",
                                    "isbn": "439249546",
                                    "isbn13": "9780439249550",
                                    "authors": "J.K. Rowling, Mary GrandPré",
                                    "original_publication_year": "1999",
                                    "original_title": "Harry Potter Boxed Set Books 1-4",
                                    "title": "The Harry Potter Collection 1-4 (Harry Potter, #1-4)",
                                    "language_code": "eng",
                                    "average_rating": "4.66",
                                    "ratings_count": "43929",
                                    "work_ratings_count": "44842",
                                    "work_text_reviews_count": "265",
                                    "ratings_1": "307",
                                    "ratings_2": "424",
                                    "ratings_3": "2346",
                                    "ratings_4": "8186",
                                    "ratings_5": "33579",
                                    "image_url": "https://s.gr-assets.com/assets/nophoto/book/111x148-bcc042a9c91a29c1d680899eff700a03.png",
                                    "small_image_url": "https://s.gr-assets.com/assets/nophoto/book/50x75-a91bf249278a81aabab721ef782c4a74.png"
                                },
                                {
                                    "id": "25",
                                    "book_id": "136251",
                                    "best_book_id": "136251",
                                    "work_id": "2963218",
                                    "books_count": "263",
                                    "isbn": "545010225",
                                    "isbn13": "9780545010220",
                                    "authors": "J.K. Rowling, Mary GrandPré",
                                    "original_publication_year": "2007",
                                    "original_title": "Harry Potter and the Deathly Hallows",
                                    "title": "Harry Potter and the Deathly Hallows (Harry Potter, #7)",
                                    "language_code": "eng",
                                    "average_rating": "4.61",
                                    "ratings_count": "1746574",
                                    "work_ratings_count": "1847395",
                                    "work_text_reviews_count": "51942",
                                    "ratings_1": "9363",
                                    "ratings_2": "22245",
                                    "ratings_3": "113646",
                                    "ratings_4": "383914",
                                    "ratings_5": "1318227",
                                    "image_url": "https://images.gr-assets.com/books/1474171184m/136251.jpg",
                                    "small_image_url": "https://images.gr-assets.com/books/1474171184s/136251.jpg"
                                },
                                {
                                    "id": "27",
                                    "book_id": "1",
                                    "best_book_id": "1",
                                    "work_id": "41335427",
                                    "books_count": "275",
                                    "isbn": "439785960",
                                    "isbn13": "9780439785970",
                                    "authors": "J.K. Rowling, Mary GrandPré",
                                    "original_publication_year": "2005",
                                    "original_title": "Harry Potter and the Half-Blood Prince",
                                    "title": "Harry Potter and the Half-Blood Prince (Harry Potter, #6)",
                                    "language_code": "eng",
                                    "average_rating": "4.54",
                                    "ratings_count": "1678823",
                                    "work_ratings_count": "1785676",
                                    "work_text_reviews_count": "27520",
                                    "ratings_1": "7308",
                                    "ratings_2": "21516",
                                    "ratings_3": "136333",
                                    "ratings_4": "459028",
                                    "ratings_5": "1161491",
                                    "image_url": "https://images.gr-assets.com/books/1361039191m/1.jpg",
                                    "small_image_url": "https://images.gr-assets.com/books/1361039191s/1.jpg"
                                },
                                {
                                    "id": "24",
                                    "book_id": "6",
                                    "best_book_id": "6",
                                    "work_id": "3046572",
                                    "books_count": "332",
                                    "isbn": "439139600",
                                    "isbn13": "9780439139600",
                                    "authors": "J.K. Rowling, Mary GrandPré",
                                    "original_publication_year": "2000",
                                    "original_title": "Harry Potter and the Goblet of Fire",
                                    "title": "Harry Potter and the Goblet of Fire (Harry Potter, #4)",
                                    "language_code": "eng",
                                    "average_rating": "4.53",
                                    "ratings_count": "1753043",
                                    "work_ratings_count": "1868642",
                                    "work_text_reviews_count": "31084",
                                    "ratings_1": "6676",
                                    "ratings_2": "20210",
                                    "ratings_3": "151785",
                                    "ratings_4": "494926",
                                    "ratings_5": "1195045",
                                    "image_url": "https://images.gr-assets.com/books/1361482611m/6.jpg",
                                    "small_image_url": "https://images.gr-assets.com/books/1361482611s/6.jpg"
                                },
                                {
                                    "id": "21",
                                    "book_id": "2",
                                    "best_book_id": "2",
                                    "work_id": "2809203",
                                    "books_count": "307",
                                    "isbn": "439358078",
                                    "isbn13": "9780439358070",
                                    "authors": "J.K. Rowling, Mary GrandPré",
                                    "original_publication_year": "2003",
                                    "original_title": "Harry Potter and the Order of the Phoenix",
                                    "title": "Harry Potter and the Order of the Phoenix (Harry Potter, #5)",
                                    "language_code": "eng",
                                    "average_rating": "4.46",
                                    "ratings_count": "1735368",
                                    "work_ratings_count": "1840548",
                                    "work_text_reviews_count": "28685",
                                    "ratings_1": "9528",
                                    "ratings_2": "31577",
                                    "ratings_3": "180210",
                                    "ratings_4": "494427",
                                    "ratings_5": "1124806",
                                    "image_url": "https://images.gr-assets.com/books/1387141547m/2.jpg",
                                    "small_image_url": "https://images.gr-assets.com/books/1387141547s/2.jpg"
                                },
                                {
                                    "id": "2",
                                    "book_id": "3",
                                    "best_book_id": "3",
                                    "work_id": "4640799",
                                    "books_count": "491",
                                    "isbn": "439554934",
                                    "isbn13": "9780439554930",
                                    "authors": "J.K. Rowling, Mary GrandPré",
                                    "original_publication_year": "1997",
                                    "original_title": "Harry Potter and the Philosopher's Stone",
                                    "title": "Harry Potter and the Sorcerer's Stone (Harry Potter, #1)",
                                    "language_code": "eng",
                                    "average_rating": "4.44",
                                    "ratings_count": "4602479",
                                    "work_ratings_count": "4800065",
                                    "work_text_reviews_count": "75867",
                                    "ratings_1": "75504",
                                    "ratings_2": "101676",
                                    "ratings_3": "455024",
                                    "ratings_4": "1156318",
                                    "ratings_5": "3011543",
                                    "image_url": "https://images.gr-assets.com/books/1474154022m/3.jpg",
                                    "small_image_url": "https://images.gr-assets.com/books/1474154022s/3.jpg"
                                },
                                {
                                    "id": "23",
                                    "book_id": "15881",
                                    "best_book_id": "15881",
                                    "work_id": "6231171",
                                    "books_count": "398",
                                    "isbn": "439064864",
                                    "isbn13": "9780439064870",
                                    "authors": "J.K. Rowling, Mary GrandPré",
                                    "original_publication_year": "1998",
                                    "original_title": "Harry Potter and the Chamber of Secrets",
                                    "title": "Harry Potter and the Chamber of Secrets (Harry Potter, #2)",
                                    "language_code": "eng",
                                    "average_rating": "4.37",
                                    "ratings_count": "1779331",
                                    "work_ratings_count": "1906199",
                                    "work_text_reviews_count": "34172",
                                    "ratings_1": "8253",
                                    "ratings_2": "42251",
                                    "ratings_3": "242345",
                                    "ratings_4": "548266",
                                    "ratings_5": "1065084",
                                    "image_url": "https://images.gr-assets.com/books/1474169725m/15881.jpg",
                                    "small_image_url": "https://images.gr-assets.com/books/1474169725s/15881.jpg"
                                },
                                {
                                    "id": "18",
                                    "book_id": "5",
                                    "best_book_id": "5",
                                    "work_id": "2402163",
                                    "books_count": "376",
                                    "isbn": "043965548X",
                                    "isbn13": "9780439655480",
                                    "authors": "J.K. Rowling, Mary GrandPré, Rufus Beck",
                                    "original_publication_year": "1999",
                                    "original_title": "Harry Potter and the Prisoner of Azkaban",
                                    "title": "Harry Potter and the Prisoner of Azkaban (Harry Potter, #3)",
                                    "language_code": "eng",
                                    "average_rating": "4.53",
                                    "ratings_count": "1832823",
                                    "work_ratings_count": "1969375",
                                    "work_text_reviews_count": "36099",
                                    "ratings_1": "6716",
                                    "ratings_2": "20413",
                                    "ratings_3": "166129",
                                    "ratings_4": "509447",
                                    "ratings_5": "1266670",
                                    "image_url": "https://images.gr-assets.com/books/1499277281m/5.jpg",
                                    "small_image_url": "https://images.gr-assets.com/books/1499277281s/5.jpg"
                                },
                                {
                                    "id": "6428",
                                    "book_id": "31538635",
                                    "best_book_id": "31538635",
                                    "work_id": "52885176",
                                    "books_count": "18",
                                    "isbn": "1781106282",
                                    "isbn13": "9781781106280",
                                    "authors": "J.K. Rowling, MinaLima",
                                    "original_publication_year": "2016",
                                    "original_title": "Short Stories from Hogwarts of Heroism, Hardship and Dangerous Hobbies",
                                    "title": "Short Stories from Hogwarts of Heroism, Hardship and Dangerous Hobbies (Pottermore Presents, #1)",
                                    "language_code": "eng",
                                    "average_rating": "4.22",
                                    "ratings_count": "16285",
                                    "work_ratings_count": "24805",
                                    "work_text_reviews_count": "1743",
                                    "ratings_1": "636",
                                    "ratings_2": "713",
                                    "ratings_3": "3498",
                                    "ratings_4": "7555",
                                    "ratings_5": "12403",
                                    "image_url": "https://images.gr-assets.com/books/1471436733m/31538635.jpg",
                                    "small_image_url": "https://images.gr-assets.com/books/1471436733s/31538635.jpg"
                                },
                                {
                                    "id": "7443",
                                    "book_id": "31538614",
                                    "best_book_id": "31538614",
                                    "work_id": "52218734",
                                    "books_count": "18",
                                    "isbn": "1781106290",
                                    "isbn13": "9781781106300",
                                    "authors": "J.K. Rowling, MinaLima",
                                    "original_publication_year": "2016",
                                    "original_title": "Short Stories from Hogwarts of Power, Politics and Pesky Poltergeists",
                                    "title": "Short Stories from Hogwarts of Power, Politics and Pesky Poltergeists (Pottermore Presents, #2)",
                                    "language_code": "eng",
                                    "average_rating": "4.2",
                                    "ratings_count": "10032",
                                    "work_ratings_count": "15880",
                                    "work_text_reviews_count": "1246",
                                    "ratings_1": "62",
                                    "ratings_2": "376",
                                    "ratings_3": "2872",
                                    "ratings_4": "5600",
                                    "ratings_5": "6970",
                                    "image_url": "https://images.gr-assets.com/books/1471436601m/31538614.jpg",
                                    "small_image_url": "https://images.gr-assets.com/books/1471436601s/31538614.jpg"
                                },
                                {
                                    "id": "279",
                                    "book_id": "29056083",
                                    "best_book_id": "29056083",
                                    "work_id": "48765776",
                                    "books_count": "95",
                                    "isbn": "751565350",
                                    "isbn13": "9780751565360",
                                    "authors": "John Tiffany, Jack Thorne, J.K. Rowling",
                                    "original_publication_year": "2016",
                                    "original_title": "Harry Potter and the Cursed Child, Parts One and Two",
                                    "title": "Harry Potter and the Cursed Child - Parts One and Two (Harry Potter, #8)",
                                    "language_code": "eng",
                                    "average_rating": "3.75",
                                    "ratings_count": "270603",
                                    "work_ratings_count": "397773",
                                    "work_text_reviews_count": "53365",
                                    "ratings_1": "15828",
                                    "ratings_2": "35842",
                                    "ratings_3": "96395",
                                    "ratings_4": "133156",
                                    "ratings_5": "116552",
                                    "image_url": "https://images.gr-assets.com/books/1470082995m/29056083.jpg",
                                    "small_image_url": "https://images.gr-assets.com/books/1470082995s/29056083.jpg"
                                },
                                {
                                    "id": "1286",
                                    "book_id": "111450",
                                    "best_book_id": "111450",
                                    "work_id": "6247751",
                                    "books_count": "103",
                                    "isbn": "439321611",
                                    "isbn13": "9780439321620",
                                    "authors": "Kennilworthy Whisp, J.K. Rowling",
                                    "original_publication_year": "2001",
                                    "original_title": "Quidditch Through the Ages",
                                    "title": "Quidditch Through the Ages",
                                    "language_code": "eng",
                                    "average_rating": "3.85",
                                    "ratings_count": "90908",
                                    "work_ratings_count": "106088",
                                    "work_text_reviews_count": "3502",
                                    "ratings_1": "1367",
                                    "ratings_2": "8104",
                                    "ratings_3": "29884",
                                    "ratings_4": "32041",
                                    "ratings_5": "34692",
                                    "image_url": "https://images.gr-assets.com/books/1369689506m/111450.jpg",
                                    "small_image_url": "https://images.gr-assets.com/books/1369689506s/111450.jpg"
                                },
                                {
                                    "id": "8369",
                                    "book_id": "3130430",
                                    "best_book_id": "3130430",
                                    "work_id": "3161838",
                                    "books_count": "19",
                                    "isbn": "1416554955",
                                    "isbn13": "9781416554950",
                                    "authors": "Melissa Anelli, J.K. Rowling",
                                    "original_publication_year": "2008",
                                    "original_title": "Harry, A History: The True Story of a Boy Wizard, His Fans, and Life Inside the Harry Potter Phenomenon",
                                    "title": "Harry, a History: The True Story of a Boy Wizard, His Fans, and Life Inside the Harry Potter Phenomenon",
                                    "language_code": "en-US",
                                    "average_rating": "4.09",
                                    "ratings_count": "12308",
                                    "work_ratings_count": "12528",
                                    "work_text_reviews_count": "652",
                                    "ratings_1": "337",
                                    "ratings_2": "715",
                                    "ratings_3": "2386",
                                    "ratings_4": "3149",
                                    "ratings_5": "5941",
                                    "image_url": "https://s.gr-assets.com/assets/nophoto/book/111x148-bcc042a9c91a29c1d680899eff700a03.png",
                                    "small_image_url": "https://s.gr-assets.com/assets/nophoto/book/50x75-a91bf249278a81aabab721ef782c4a74.png"
                                },
                                {
                                    "id": "469",
                                    "book_id": "41899",
                                    "best_book_id": "41899",
                                    "work_id": "4195128",
                                    "books_count": "123",
                                    "isbn": "439321603",
                                    "isbn13": "9780439321600",
                                    "authors": "Newt Scamander, J.K. Rowling, Albus Dumbledore",
                                    "original_publication_year": "2001",
                                    "original_title": "Fantastic Beasts and Where to Find Them",
                                    "title": "Fantastic Beasts and Where to Find Them",
                                    "language_code": "eng",
                                    "average_rating": "3.95",
                                    "ratings_count": "185928",
                                    "work_ratings_count": "209465",
                                    "work_text_reviews_count": "6523",
                                    "ratings_1": "2847",
                                    "ratings_2": "13155",
                                    "ratings_3": "52573",
                                    "ratings_4": "64027",
                                    "ratings_5": "76863",
                                    "image_url": "https://images.gr-assets.com/books/1303738520m/41899.jpg",
                                    "small_image_url": "https://images.gr-assets.com/books/1303738520s/41899.jpg"
                                },
                                {
                                    "id": "1065",
                                    "book_id": "25735012",
                                    "best_book_id": "25735012",
                                    "work_id": "43699375",
                                    "books_count": "83",
                                    "isbn": "316349933",
                                    "isbn13": "9780316349930",
                                    "authors": "Robert Galbraith, J.K. Rowling",
                                    "original_publication_year": "2015",
                                    "original_title": "Career of Evil",
                                    "title": "Career of Evil (Cormoran Strike, #3)",
                                    "language_code": "eng",
                                    "average_rating": "4.21",
                                    "ratings_count": "66979",
                                    "work_ratings_count": "95274",
                                    "work_text_reviews_count": "10254",
                                    "ratings_1": "550",
                                    "ratings_2": "1926",
                                    "ratings_3": "12591",
                                    "ratings_4": "42325",
                                    "ratings_5": "37882",
                                    "image_url": "https://s.gr-assets.com/assets/nophoto/book/111x148-bcc042a9c91a29c1d680899eff700a03.png",
                                    "small_image_url": "https://s.gr-assets.com/assets/nophoto/book/50x75-a91bf249278a81aabab721ef782c4a74.png"
                                },
                                {
                                    "id": "695",
                                    "book_id": "18214414",
                                    "best_book_id": "18214414",
                                    "work_id": "25639104",
                                    "books_count": "109",
                                    "isbn": "316206873",
                                    "isbn13": "9780316206880",
                                    "authors": "Robert Galbraith, J.K. Rowling",
                                    "original_publication_year": "2014",
                                    "original_title": "The Silkworm",
                                    "title": "The Silkworm (Cormoran Strike, #2)",
                                    "language_code": "eng",
                                    "average_rating": "4.03",
                                    "ratings_count": "120008",
                                    "work_ratings_count": "145146",
                                    "work_text_reviews_count": "13549",
                                    "ratings_1": "1330",
                                    "ratings_2": "4361",
                                    "ratings_3": "27130",
                                    "ratings_4": "67680",
                                    "ratings_5": "44645",
                                    "image_url": "https://images.gr-assets.com/books/1392577290m/18214414.jpg",
                                    "small_image_url": "https://images.gr-assets.com/books/1392577290s/18214414.jpg"
                                },
                                {
                                    "id": "253",
                                    "book_id": "16160797",
                                    "best_book_id": "16160797",
                                    "work_id": "22002305",
                                    "books_count": "48",
                                    "isbn": "316206849",
                                    "isbn13": "9780316206850",
                                    "authors": "Robert Galbraith, J.K. Rowling",
                                    "original_publication_year": "2013",
                                    "original_title": "The Cuckoo's Calling",
                                    "title": "The Cuckoo's Calling (Cormoran Strike, #1)",
                                    "language_code": "en-US",
                                    "average_rating": "3.83",
                                    "ratings_count": "297712",
                                    "work_ratings_count": "340495",
                                    "work_text_reviews_count": "27258",
                                    "ratings_1": "9729",
                                    "ratings_2": "20151",
                                    "ratings_3": "79290",
                                    "ratings_4": "138955",
                                    "ratings_5": "92370",
                                    "image_url": "https://images.gr-assets.com/books/1358716559m/16160797.jpg",
                                    "small_image_url": "https://images.gr-assets.com/books/1358716559s/16160797.jpg"
                                }
                            ]
                        },
                        "text/html": [
                            "<table>",
                            "<tr><th>id</th><th>book_id</th><th>best_book_id</th><th>work_id</th><th>books_count</th><th>isbn</th><th>isbn13</th><th>authors</th><th>original_publication_year</th><th>original_title</th><th>title</th><th>language_code</th><th>average_rating</th><th>ratings_count</th><th>work_ratings_count</th><th>work_text_reviews_count</th><th>ratings_1</th><th>ratings_2</th><th>ratings_3</th><th>ratings_4</th><th>ratings_5</th><th>image_url</th><th>small_image_url</th></tr>",
                            "<tr><td>3628</td><td>24812</td><td>24812</td><td>25599</td><td>14</td><td>740748475</td><td>9780740748480</td><td>Bill Watterson</td><td>2005</td><td>The Complete Calvin and Hobbes</td><td>The Complete Calvin and Hobbes</td><td>eng</td><td>4.82</td><td>28900</td><td>29968</td><td>861</td><td>120</td><td>154</td><td>693</td><td>3117</td><td>25884</td><td>https://images.gr-assets.com/books/1473064526m/24812.jpg</td><td>https://images.gr-assets.com/books/1473064526s/24812.jpg</td></tr>",
                            "<tr><td>4483</td><td>24814</td><td>24814</td><td>25601</td><td>21</td><td>836221362</td><td>9780836221370</td><td>Bill Watterson</td><td>1996</td><td>It&#39;s a Magical World: A Calvin and Hobbes Collection</td><td>It&#39;s a Magical World: A Calvin and Hobbes Collection</td><td>eng</td><td>4.75</td><td>22351</td><td>23429</td><td>264</td><td>36</td><td>57</td><td>850</td><td>3737</td><td>18749</td><td>https://images.gr-assets.com/books/1437420710m/24814.jpg</td><td>https://images.gr-assets.com/books/1437420710s/24814.jpg</td></tr>",
                            "<tr><td>6361</td><td>70489</td><td>70489</td><td>170846</td><td>22</td><td>836213122</td><td>9780836213130</td><td>Bill Watterson</td><td>1996</td><td>There&#39;s Treasure Everywhere: A Calvin and Hobbes Collection</td><td>There&#39;s Treasure Everywhere: A Calvin and Hobbes Collection</td><td>eng</td><td>4.74</td><td>16766</td><td>17285</td><td>149</td><td>22</td><td>69</td><td>680</td><td>2822</td><td>13692</td><td>https://s.gr-assets.com/assets/nophoto/book/111x148-bcc042a9c91a29c1d680899eff700a03.png</td><td>https://s.gr-assets.com/assets/nophoto/book/50x75-a91bf249278a81aabab721ef782c4a74.png</td></tr>",
                            "<tr><td>6920</td><td>24815</td><td>24815</td><td>25602</td><td>19</td><td>751500283</td><td>9780751500290</td><td>Bill Watterson</td><td>1992</td><td>The Indispensable Calvin and Hobbes: A Calvin and Hobbes Treasury</td><td>The Indispensable Calvin and Hobbes</td><td>eng</td><td>4.73</td><td>14597</td><td>16911</td><td>325</td><td>19</td><td>62</td><td>666</td><td>2969</td><td>13195</td><td>https://s.gr-assets.com/assets/nophoto/book/111x148-bcc042a9c91a29c1d680899eff700a03.png</td><td>https://s.gr-assets.com/assets/nophoto/book/50x75-a91bf249278a81aabab721ef782c4a74.png</td></tr>",
                            "<tr><td>6590</td><td>59715</td><td>59715</td><td>1010526</td><td>21</td><td>751507954</td><td>9780751507960</td><td>Bill Watterson</td><td>1990</td><td>The Authoritative Calvin and Hobbes</td><td>The Authoritative Calvin and Hobbes: A Calvin and Hobbes Treasury</td><td>eng</td><td>4.73</td><td>16087</td><td>18198</td><td>425</td><td>20</td><td>61</td><td>701</td><td>3295</td><td>14121</td><td>https://images.gr-assets.com/books/1391114055m/59715.jpg</td><td>https://images.gr-assets.com/books/1391114055s/59715.jpg</td></tr>",
                            "<tr><td>9566</td><td>70487</td><td>70487</td><td>2244439</td><td>24</td><td>1417642165</td><td>9781417642170</td><td>Bill Watterson</td><td>1992</td><td>Attack of the Deranged Mutant Killer Monster Snow Goons: A Calvin and Hobbes Collection</td><td>Attack of the Deranged Mutant Killer Monster Snow Goons</td><td>eng</td><td>4.72</td><td>9713</td><td>12197</td><td>233</td><td>15</td><td>30</td><td>514</td><td>2292</td><td>9346</td><td>https://images.gr-assets.com/books/1384735429m/70487.jpg</td><td>https://images.gr-assets.com/books/1384735429s/70487.jpg</td></tr>",
                            "<tr><td>8978</td><td>121792</td><td>121792</td><td>1429035</td><td>20</td><td>1417642122</td><td>9781417642120</td><td>Bill Watterson</td><td>1991</td><td>The Revenge of the Baby-Sat: A Calvin and Hobbes Collection</td><td>The Revenge of the Baby-Sat</td><td>NULL</td><td>4.71</td><td>11503</td><td>12946</td><td>206</td><td>12</td><td>40</td><td>570</td><td>2428</td><td>9896</td><td>https://images.gr-assets.com/books/1384734025m/121792.jpg</td><td>https://images.gr-assets.com/books/1384734025s/121792.jpg</td></tr>",
                            "<tr><td>7254</td><td>24816</td><td>24816</td><td>2369970</td><td>23</td><td>836217691</td><td>9780836217700</td><td>Bill Watterson</td><td>1994</td><td>Homicidal Psycho Jungle Cat: A Calvin and Hobbes Collection</td><td>Homicidal Psycho Jungle Cat: A Calvin and Hobbes Collection</td><td>eng</td><td>4.71</td><td>14113</td><td>15729</td><td>289</td><td>13</td><td>53</td><td>696</td><td>2900</td><td>12067</td><td>https://images.gr-assets.com/books/1448818381m/24816.jpg</td><td>https://images.gr-assets.com/books/1448818381s/24816.jpg</td></tr>",
                            "<tr><td>5207</td><td>24818</td><td>24818</td><td>946589</td><td>28</td><td>836217357</td><td>9780836217350</td><td>Bill Watterson</td><td>1993</td><td>The Days Are Just Packed: A Calvin and Hobbes Collection</td><td>The Days Are Just Packed: A Calvin and Hobbes Collection</td><td>en-US</td><td>4.68</td><td>19143</td><td>20374</td><td>228</td><td>114</td><td>149</td><td>942</td><td>3636</td><td>15533</td><td>https://images.gr-assets.com/books/1418211162m/24818.jpg</td><td>https://images.gr-assets.com/books/1418211162s/24818.jpg</td></tr>",
                            "<tr><td>5580</td><td>24494</td><td>24494</td><td>25344</td><td>15</td><td>836218523</td><td>9780836218530</td><td>Bill Watterson</td><td>1989</td><td>The Calvin and Hobbes Lazy Sunday Book</td><td>The Calvin and Hobbes Lazy Sunday Book</td><td>eng</td><td>4.66</td><td>18641</td><td>18840</td><td>187</td><td>60</td><td>157</td><td>1075</td><td>3478</td><td>14070</td><td>https://s.gr-assets.com/assets/nophoto/book/111x148-bcc042a9c91a29c1d680899eff700a03.png</td><td>https://s.gr-assets.com/assets/nophoto/book/50x75-a91bf249278a81aabab721ef782c4a74.png</td></tr>",
                            "<tr><td>1010</td><td>43070</td><td>43070</td><td>2244438</td><td>26</td><td>836218051</td><td>9780836218050</td><td>Bill Watterson</td><td>1988</td><td>The Essential Calvin and Hobbes: A Calvin and Hobbes Treasury</td><td>The Essential Calvin and Hobbes: A Calvin and Hobbes Treasury</td><td>en-US</td><td>4.65</td><td>93001</td><td>95543</td><td>598</td><td>717</td><td>895</td><td>5387</td><td>17566</td><td>70978</td><td>https://s.gr-assets.com/assets/nophoto/book/111x148-bcc042a9c91a29c1d680899eff700a03.png</td><td>https://s.gr-assets.com/assets/nophoto/book/50x75-a91bf249278a81aabab721ef782c4a74.png</td></tr>",
                            "<tr><td>1788</td><td>24813</td><td>24813</td><td>692719</td><td>17</td><td>836204387</td><td>9780836204380</td><td>Bill Watterson</td><td>1995</td><td>The Calvin and Hobbes Tenth Anniversary Book</td><td>The Calvin and Hobbes Tenth Anniversary Book</td><td>eng</td><td>4.63</td><td>48280</td><td>48829</td><td>346</td><td>346</td><td>608</td><td>3077</td><td>8752</td><td>36046</td><td>https://s.gr-assets.com/assets/nophoto/book/111x148-bcc042a9c91a29c1d680899eff700a03.png</td><td>https://s.gr-assets.com/assets/nophoto/book/50x75-a91bf249278a81aabab721ef782c4a74.png</td></tr>",
                            "<tr><td>780</td><td>77727</td><td>77727</td><td>2110010</td><td>24</td><td>836220889</td><td>9780836220890</td><td>Bill Watterson, G.B. Trudeau</td><td>1987</td><td>Calvin and Hobbes</td><td>Calvin and Hobbes</td><td>en-US</td><td>4.61</td><td>117788</td><td>118294</td><td>684</td><td>980</td><td>1435</td><td>7684</td><td>22365</td><td>85830</td><td>https://s.gr-assets.com/assets/nophoto/book/111x148-bcc042a9c91a29c1d680899eff700a03.png</td><td>https://s.gr-assets.com/assets/nophoto/book/50x75-a91bf249278a81aabab721ef782c4a74.png</td></tr>",
                            "<tr><td>862</td><td>17332218</td><td>17332218</td><td>16482835</td><td>34</td><td>765326361</td><td>9780765326360</td><td>Brandon Sanderson</td><td>2014</td><td>Words of Radiance</td><td>Words of Radiance (The Stormlight Archive, #2)</td><td>eng</td><td>4.77</td><td>73572</td><td>108176</td><td>7261</td><td>154</td><td>404</td><td>2653</td><td>18272</td><td>86693</td><td>https://images.gr-assets.com/books/1391535251m/17332218.jpg</td><td>https://images.gr-assets.com/books/1391535251s/17332218.jpg</td></tr>",
                            "<tr><td>9141</td><td>9329354</td><td>9329354</td><td>27679568</td><td>19</td><td>575097361</td><td>9780575097360</td><td>Brandon Sanderson</td><td>2011</td><td>The Way of Kings, Part 1</td><td>The Way of Kings, Part 1 (The Stormlight Archive #1.1)</td><td>eng</td><td>4.67</td><td>9792</td><td>10117</td><td>453</td><td>40</td><td>93</td><td>408</td><td>2078</td><td>7498</td><td>https://images.gr-assets.com/books/1357609842m/9329354.jpg</td><td>https://images.gr-assets.com/books/1357609842s/9329354.jpg</td></tr>",
                            "<tr><td>562</td><td>7235533</td><td>7235533</td><td>8134945</td><td>48</td><td>765326353</td><td>9780765326360</td><td>Brandon Sanderson</td><td>2010</td><td>The Way of Kings</td><td>The Way of Kings (The Stormlight Archive, #1)</td><td>eng</td><td>4.64</td><td>144822</td><td>164477</td><td>10947</td><td>1085</td><td>1827</td><td>7661</td><td>33962</td><td>119942</td><td>https://images.gr-assets.com/books/1388184640m/7235533.jpg</td><td>https://images.gr-assets.com/books/1388184640s/7235533.jpg</td></tr>",
                            "<tr><td>2889</td><td>6604209</td><td>6604209</td><td>6798109</td><td>15</td><td>076536543X</td><td>9780765365440</td><td>Brandon Sanderson</td><td>2009</td><td>Mistborn Trilogy Boxed Set</td><td>Mistborn Trilogy Boxed Set (Mistborn, #1-3)</td><td>en-US</td><td>4.55</td><td>22917</td><td>32376</td><td>982</td><td>130</td><td>425</td><td>2185</td><td>8517</td><td>21119</td><td>https://images.gr-assets.com/books/1257442247m/6604209.jpg</td><td>https://images.gr-assets.com/books/1257442247s/6604209.jpg</td></tr>",
                            "<tr><td>603</td><td>2767793</td><td>2767793</td><td>2793516</td><td>63</td><td>765316897</td><td>9780765316900</td><td>Brandon Sanderson</td><td>2008</td><td>The Hero of Ages</td><td>The Hero of Ages (Mistborn, #3)</td><td>eng</td><td>4.46</td><td>143622</td><td>161085</td><td>9111</td><td>596</td><td>2257</td><td>14291</td><td>49628</td><td>94313</td><td>https://images.gr-assets.com/books/1480717763m/2767793.jpg</td><td>https://images.gr-assets.com/books/1480717763s/2767793.jpg</td></tr>",
                            "<tr><td>3341</td><td>18739426</td><td>18739426</td><td>26616838</td><td>21</td><td>NULL</td><td>NULL</td><td>Brandon Sanderson</td><td>2016</td><td>The Bands of Mourning</td><td>The Bands of Mourning (Mistborn, #6)</td><td>eng</td><td>4.45</td><td>28866</td><td>33232</td><td>2379</td><td>42</td><td>249</td><td>2519</td><td>12186</td><td>18236</td><td>https://images.gr-assets.com/books/1450134973m/18739426.jpg</td><td>https://images.gr-assets.com/books/1450134973s/18739426.jpg</td></tr>",
                            "<tr><td>389</td><td>68428</td><td>68428</td><td>66322</td><td>75</td><td>076531178X</td><td>9780765311790</td><td>Brandon Sanderson</td><td>2006</td><td>Mistborn : The Final Empire</td><td>The Final Empire (Mistborn, #1)</td><td>eng</td><td>4.43</td><td>208944</td><td>238993</td><td>16276</td><td>1783</td><td>4008</td><td>20554</td><td>76611</td><td>136037</td><td>https://images.gr-assets.com/books/1480717416m/68428.jpg</td><td>https://images.gr-assets.com/books/1480717416s/68428.jpg</td></tr>",
                            "<tr><td>7993</td><td>28698036</td><td>28698036</td><td>48896020</td><td>5</td><td>NULL</td><td>NULL</td><td>Brandon Sanderson</td><td>2016</td><td>Mistborn: Secret History</td><td>Secret History (Mistborn, #3.5)</td><td>eng</td><td>4.38</td><td>12796</td><td>13424</td><td>1081</td><td>30</td><td>191</td><td>1573</td><td>4535</td><td>7095</td><td>https://s.gr-assets.com/assets/nophoto/book/111x148-bcc042a9c91a29c1d680899eff700a03.png</td><td>https://s.gr-assets.com/assets/nophoto/book/50x75-a91bf249278a81aabab721ef782c4a74.png</td></tr>",
                            "<tr><td>565</td><td>68429</td><td>68429</td><td>2120474</td><td>60</td><td>765316889</td><td>9780765316880</td><td>Brandon Sanderson</td><td>2007</td><td>NULL</td><td>The Well of Ascension (Mistborn, #2)</td><td>eng</td><td>4.35</td><td>150736</td><td>171402</td><td>8541</td><td>534</td><td>2630</td><td>18661</td><td>63880</td><td>85697</td><td>https://images.gr-assets.com/books/1480717596m/68429.jpg</td><td>https://images.gr-assets.com/books/1480717596s/68429.jpg</td></tr>",
                            "<tr><td>2978</td><td>13578175</td><td>13578175</td><td>19161502</td><td>20</td><td>1616960922</td><td>9781616960930</td><td>Brandon Sanderson</td><td>2012</td><td>The Emperor&#39;s Soul</td><td>The Emperor&#39;s Soul</td><td>eng</td><td>4.33</td><td>33634</td><td>39282</td><td>2989</td><td>84</td><td>477</td><td>4536</td><td>15386</td><td>18799</td><td>https://images.gr-assets.com/books/1343059311m/13578175.jpg</td><td>https://images.gr-assets.com/books/1343059311s/13578175.jpg</td></tr>",
                            "<tr><td>2792</td><td>16065004</td><td>16065004</td><td>21855448</td><td>25</td><td>765378558</td><td>9780765378550</td><td>Brandon Sanderson</td><td>2015</td><td>Shadows of Self</td><td>Shadows of Self (Mistborn, #5)</td><td>eng</td><td>4.3</td><td>32170</td><td>40479</td><td>2804</td><td>85</td><td>469</td><td>4687</td><td>17295</td><td>17943</td><td>https://images.gr-assets.com/books/1435053013m/16065004.jpg</td><td>https://images.gr-assets.com/books/1435053013s/16065004.jpg</td></tr>",
                            "<tr><td>2118</td><td>15704459</td><td>15704459</td><td>21979689</td><td>51</td><td>385743580</td><td>9780385743590</td><td>Brandon Sanderson</td><td>2015</td><td>Firefight</td><td>Firefight (The Reckoners, #2)</td><td>eng</td><td>4.29</td><td>41924</td><td>50765</td><td>4426</td><td>95</td><td>622</td><td>6180</td><td>21247</td><td>22621</td><td>https://images.gr-assets.com/books/1413220816m/15704459.jpg</td><td>https://images.gr-assets.com/books/1413220816s/15704459.jpg</td></tr>",
                            "<tr><td>3147</td><td>22443261</td><td>22443261</td><td>15035866</td><td>38</td><td>NULL</td><td>NULL</td><td>Brandon Sanderson</td><td>2013</td><td>The Rithmatist </td><td>The Rithmatist (The Rithmatist, #1)</td><td>eng</td><td>4.25</td><td>15977</td><td>36047</td><td>4864</td><td>156</td><td>652</td><td>4730</td><td>15170</td><td>15339</td><td>https://s.gr-assets.com/assets/nophoto/book/111x148-bcc042a9c91a29c1d680899eff700a03.png</td><td>https://s.gr-assets.com/assets/nophoto/book/50x75-a91bf249278a81aabab721ef782c4a74.png</td></tr>",
                            "<tr><td>1665</td><td>1268479</td><td>1268479</td><td>1257385</td><td>41</td><td>NULL</td><td>NULL</td><td>Brandon Sanderson</td><td>2009</td><td>Warbreaker</td><td>Warbreaker (Warbreaker, #1)</td><td>eng</td><td>4.22</td><td>55948</td><td>65488</td><td>4548</td><td>322</td><td>1337</td><td>9533</td><td>26899</td><td>27397</td><td>https://s.gr-assets.com/assets/nophoto/book/111x148-bcc042a9c91a29c1d680899eff700a03.png</td><td>https://s.gr-assets.com/assets/nophoto/book/50x75-a91bf249278a81aabab721ef782c4a74.png</td></tr>",
                            "<tr><td>3249</td><td>15704486</td><td>15704486</td><td>21366542</td><td>35</td><td>385743602</td><td>9780385743600</td><td>Brandon Sanderson</td><td>2016</td><td>Calamity</td><td>Calamity (The Reckoners, #3)</td><td>eng</td><td>4.2</td><td>27146</td><td>33909</td><td>3310</td><td>93</td><td>680</td><td>5383</td><td>14098</td><td>13655</td><td>https://images.gr-assets.com/books/1437098338m/15704486.jpg</td><td>https://images.gr-assets.com/books/1437098338s/15704486.jpg</td></tr>",
                            "<tr><td>1200</td><td>10803121</td><td>10803121</td><td>15035863</td><td>45</td><td>765330423</td><td>9780765330420</td><td>Brandon Sanderson</td><td>2011</td><td>The Alloy of Law</td><td>The Alloy of Law (Mistborn, #4)</td><td>eng</td><td>4.2</td><td>72185</td><td>84897</td><td>5303</td><td>271</td><td>1652</td><td>12408</td><td>36754</td><td>33812</td><td>https://s.gr-assets.com/assets/nophoto/book/111x148-bcc042a9c91a29c1d680899eff700a03.png</td><td>https://s.gr-assets.com/assets/nophoto/book/50x75-a91bf249278a81aabab721ef782c4a74.png</td></tr>",
                            "<tr><td>1049</td><td>68427</td><td>68427</td><td>2908871</td><td>60</td><td>765350378</td><td>9780765350370</td><td>Brandon Sanderson</td><td>2005</td><td>Elantris</td><td>Elantris (Elantris, #1)</td><td>eng</td><td>4.17</td><td>95950</td><td>105780</td><td>6438</td><td>1311</td><td>2974</td><td>16025</td><td>41443</td><td>44027</td><td>https://images.gr-assets.com/books/1475740953m/68427.jpg</td><td>https://images.gr-assets.com/books/1475740953s/68427.jpg</td></tr>",
                            "<tr><td>970</td><td>17182126</td><td>17182126</td><td>21366540</td><td>64</td><td>385743564</td><td>9780385743560</td><td>Brandon Sanderson</td><td>2013</td><td>Steelheart</td><td>Steelheart (The Reckoners, #1)</td><td>eng</td><td>4.16</td><td>76261</td><td>102116</td><td>10160</td><td>1300</td><td>3063</td><td>15596</td><td>40585</td><td>41572</td><td>https://images.gr-assets.com/books/1357576738m/17182126.jpg</td><td>https://images.gr-assets.com/books/1357576738s/17182126.jpg</td></tr>",
                            "<tr><td>4488</td><td>13452375</td><td>13452375</td><td>18978261</td><td>24</td><td>1596064854</td><td>9781596064850</td><td>Brandon Sanderson</td><td>2012</td><td>Legion</td><td>Legion (Legion, #1)</td><td>eng</td><td>4.13</td><td>20291</td><td>24459</td><td>2235</td><td>147</td><td>605</td><td>4208</td><td>10448</td><td>9051</td><td>https://images.gr-assets.com/books/1338512017m/13452375.jpg</td><td>https://images.gr-assets.com/books/1338512017s/13452375.jpg</td></tr>",
                            "<tr><td>4745</td><td>18966322</td><td>18966322</td><td>26984416</td><td>22</td><td>449818438</td><td>9780449818440</td><td>Brandon Sanderson</td><td>2013</td><td>Mitosis</td><td>Mitosis (The Reckoners, #1.5)</td><td>eng</td><td>3.87</td><td>17250</td><td>22181</td><td>1477</td><td>69</td><td>714</td><td>6245</td><td>10075</td><td>5078</td><td>https://images.gr-assets.com/books/1385570447m/18966322.jpg</td><td>https://images.gr-assets.com/books/1385570447s/18966322.jpg</td></tr>",
                            "<tr><td>8373</td><td>623976</td><td>623976</td><td>2591148</td><td>34</td><td>439925509</td><td>9780439925500</td><td>Brandon Sanderson</td><td>2007</td><td>Alcatraz Versus the Evil Librarians</td><td>Alcatraz Versus the Evil Librarians (Alcatraz, #1)</td><td>eng</td><td>3.87</td><td>13474</td><td>15374</td><td>2393</td><td>328</td><td>937</td><td>3729</td><td>5745</td><td>4635</td><td>https://images.gr-assets.com/books/1332516621m/623976.jpg</td><td>https://images.gr-assets.com/books/1332516621s/623976.jpg</td></tr>",
                            "<tr><td>9164</td><td>20886354</td><td>20886354</td><td>40227944</td><td>21</td><td>NULL</td><td>NULL</td><td>Brandon Sanderson, Jon Foster</td><td>2014</td><td>Legion: Skin Deep</td><td>Skin Deep (Legion, #2)</td><td>eng</td><td>4.11</td><td>8317</td><td>11210</td><td>950</td><td>31</td><td>232</td><td>1988</td><td>5179</td><td>3780</td><td>https://images.gr-assets.com/books/1404932663m/20886354.jpg</td><td>https://images.gr-assets.com/books/1404932663s/20886354.jpg</td></tr>",
                            "<tr><td>422</td><td>862041</td><td>862041</td><td>2962492</td><td>76</td><td>545044251</td><td>9780545044260</td><td>J.K. Rowling</td><td>1998</td><td>Complete Harry Potter Boxed Set</td><td>Harry Potter Boxset (Harry Potter, #1-7)</td><td>eng</td><td>4.74</td><td>190050</td><td>204125</td><td>6508</td><td>1105</td><td>1285</td><td>7020</td><td>30666</td><td>164049</td><td>https://images.gr-assets.com/books/1392579059m/862041.jpg</td><td>https://images.gr-assets.com/books/1392579059s/862041.jpg</td></tr>",
                            "<tr><td>3753</td><td>10</td><td>10</td><td>21457570</td><td>6</td><td>439827604</td><td>9780439827610</td><td>J.K. Rowling</td><td>2005</td><td>Harry Potter Collection (Harry Potter, #1-6)</td><td>Harry Potter Collection (Harry Potter, #1-6)</td><td>eng</td><td>4.73</td><td>24618</td><td>26274</td><td>882</td><td>203</td><td>186</td><td>946</td><td>3891</td><td>21048</td><td>https://images.gr-assets.com/books/1328867351m/10.jpg</td><td>https://images.gr-assets.com/books/1328867351s/10.jpg</td></tr>",
                            "<tr><td>6141</td><td>1317181</td><td>1317181</td><td>19079807</td><td>8</td><td>185549664X</td><td>9781855496640</td><td>J.K. Rowling</td><td>2003</td><td>NULL</td><td>Harry Potter and the Order of the Phoenix (Harry Potter, #5, Part 1)</td><td>NULL</td><td>4.56</td><td>16249</td><td>16350</td><td>272</td><td>114</td><td>199</td><td>1182</td><td>3744</td><td>11111</td><td>https://s.gr-assets.com/assets/nophoto/book/111x148-bcc042a9c91a29c1d680899eff700a03.png</td><td>https://s.gr-assets.com/assets/nophoto/book/50x75-a91bf249278a81aabab721ef782c4a74.png</td></tr>",
                            "<tr><td>4641</td><td>30065028</td><td>29363501</td><td>50435175</td><td>49</td><td>NULL</td><td>NULL</td><td>J.K. Rowling</td><td>2016</td><td>Fantastic Beasts and Where to Find Them: The Original Screenplay</td><td>Fantastic Beasts and Where to Find Them: The Original Screenplay</td><td>eng</td><td>4.41</td><td>18290</td><td>42210</td><td>4692</td><td>323</td><td>721</td><td>4257</td><td>13024</td><td>23885</td><td>https://images.gr-assets.com/books/1476913365m/30065028.jpg</td><td>https://images.gr-assets.com/books/1476913365s/30065028.jpg</td></tr>",
                            "<tr><td>9048</td><td>2002</td><td>2002</td><td>8621948</td><td>5</td><td>043932162X</td><td>9780439321620</td><td>J.K. Rowling</td><td>2001</td><td>NULL</td><td>Harry Potter Schoolbooks Box Set: Two Classic Books from the Library of Hogwarts School of Witchcraft and Wizardry</td><td>eng</td><td>4.4</td><td>10736</td><td>11732</td><td>185</td><td>106</td><td>304</td><td>1548</td><td>2595</td><td>7179</td><td>https://images.gr-assets.com/books/1479775271m/2002.jpg</td><td>https://images.gr-assets.com/books/1479775271s/2002.jpg</td></tr>",
                            "<tr><td>7523</td><td>31538647</td><td>31538647</td><td>52218770</td><td>18</td><td>NULL</td><td>NULL</td><td>J.K. Rowling</td><td>2016</td><td>Hogwarts: An Incomplete and Unreliable Guide</td><td>Hogwarts: An Incomplete and Unreliable Guide (Pottermore Presents, #3)</td><td>eng</td><td>4.21</td><td>14977</td><td>15844</td><td>1339</td><td>63</td><td>346</td><td>2806</td><td>5543</td><td>7086</td><td>https://images.gr-assets.com/books/1502156557m/31538647.jpg</td><td>https://images.gr-assets.com/books/1502156557s/31538647.jpg</td></tr>",
                            "<tr><td>399</td><td>3950967</td><td>3950967</td><td>3007490</td><td>131</td><td>747599874</td><td>9780747599880</td><td>J.K. Rowling</td><td>2007</td><td>The Tales of Beedle the Bard</td><td>The Tales of Beedle the Bard</td><td>en-US</td><td>4.06</td><td>284833</td><td>319107</td><td>11330</td><td>3019</td><td>15025</td><td>69367</td><td>103350</td><td>128346</td><td>https://images.gr-assets.com/books/1373467575m/3950967.jpg</td><td>https://images.gr-assets.com/books/1373467575s/3950967.jpg</td></tr>",
                            "<tr><td>342</td><td>13497818</td><td>13497818</td><td>19926990</td><td>139</td><td>316228532</td><td>9780316228530</td><td>J.K. Rowling</td><td>2012</td><td>The Casual Vacancy</td><td>The Casual Vacancy</td><td>eng</td><td>3.28</td><td>231835</td><td>254461</td><td>28751</td><td>24583</td><td>38326</td><td>74611</td><td>75741</td><td>41200</td><td>https://images.gr-assets.com/books/1358266832m/13497818.jpg</td><td>https://images.gr-assets.com/books/1358266832s/13497818.jpg</td></tr>",
                            "<tr><td>7929</td><td>23731881</td><td>23731881</td><td>43264515</td><td>6</td><td>316369152</td><td>9780316369150</td><td>J.K. Rowling, Joel Holland</td><td>2015</td><td>Very Good Lives: The Fringe Benefits of Failure and the Importance of Imagination</td><td>Very Good Lives: The Fringe Benefits of Failure and the Importance of Imagination</td><td>eng</td><td>4.26</td><td>12510</td><td>13494</td><td>1838</td><td>312</td><td>408</td><td>1755</td><td>3965</td><td>7054</td><td>https://images.gr-assets.com/books/1418419116m/23731881.jpg</td><td>https://images.gr-assets.com/books/1418419116s/23731881.jpg</td></tr>",
                            "<tr><td>3275</td><td>8</td><td>8</td><td>21457576</td><td>11</td><td>439682584</td><td>9780439682590</td><td>J.K. Rowling, Mary GrandPré</td><td>2003</td><td>NULL</td><td>Harry Potter Boxed Set, Books 1-5 (Harry Potter, #1-5)</td><td>eng</td><td>4.77</td><td>33220</td><td>33424</td><td>156</td><td>317</td><td>233</td><td>978</td><td>3686</td><td>28210</td><td>https://s.gr-assets.com/assets/nophoto/book/111x148-bcc042a9c91a29c1d680899eff700a03.png</td><td>https://s.gr-assets.com/assets/nophoto/book/50x75-a91bf249278a81aabab721ef782c4a74.png</td></tr>",
                            "<tr><td>2101</td><td>99298</td><td>99298</td><td>5994366</td><td>17</td><td>439249546</td><td>9780439249550</td><td>J.K. Rowling, Mary GrandPré</td><td>1999</td><td>Harry Potter Boxed Set Books 1-4</td><td>The Harry Potter Collection 1-4 (Harry Potter, #1-4)</td><td>eng</td><td>4.66</td><td>43929</td><td>44842</td><td>265</td><td>307</td><td>424</td><td>2346</td><td>8186</td><td>33579</td><td>https://s.gr-assets.com/assets/nophoto/book/111x148-bcc042a9c91a29c1d680899eff700a03.png</td><td>https://s.gr-assets.com/assets/nophoto/book/50x75-a91bf249278a81aabab721ef782c4a74.png</td></tr>",
                            "<tr><td>25</td><td>136251</td><td>136251</td><td>2963218</td><td>263</td><td>545010225</td><td>9780545010220</td><td>J.K. Rowling, Mary GrandPré</td><td>2007</td><td>Harry Potter and the Deathly Hallows</td><td>Harry Potter and the Deathly Hallows (Harry Potter, #7)</td><td>eng</td><td>4.61</td><td>1746574</td><td>1847395</td><td>51942</td><td>9363</td><td>22245</td><td>113646</td><td>383914</td><td>1318227</td><td>https://images.gr-assets.com/books/1474171184m/136251.jpg</td><td>https://images.gr-assets.com/books/1474171184s/136251.jpg</td></tr>",
                            "<tr><td>27</td><td>1</td><td>1</td><td>41335427</td><td>275</td><td>439785960</td><td>9780439785970</td><td>J.K. Rowling, Mary GrandPré</td><td>2005</td><td>Harry Potter and the Half-Blood Prince</td><td>Harry Potter and the Half-Blood Prince (Harry Potter, #6)</td><td>eng</td><td>4.54</td><td>1678823</td><td>1785676</td><td>27520</td><td>7308</td><td>21516</td><td>136333</td><td>459028</td><td>1161491</td><td>https://images.gr-assets.com/books/1361039191m/1.jpg</td><td>https://images.gr-assets.com/books/1361039191s/1.jpg</td></tr>",
                            "<tr><td>24</td><td>6</td><td>6</td><td>3046572</td><td>332</td><td>439139600</td><td>9780439139600</td><td>J.K. Rowling, Mary GrandPré</td><td>2000</td><td>Harry Potter and the Goblet of Fire</td><td>Harry Potter and the Goblet of Fire (Harry Potter, #4)</td><td>eng</td><td>4.53</td><td>1753043</td><td>1868642</td><td>31084</td><td>6676</td><td>20210</td><td>151785</td><td>494926</td><td>1195045</td><td>https://images.gr-assets.com/books/1361482611m/6.jpg</td><td>https://images.gr-assets.com/books/1361482611s/6.jpg</td></tr>",
                            "<tr><td>21</td><td>2</td><td>2</td><td>2809203</td><td>307</td><td>439358078</td><td>9780439358070</td><td>J.K. Rowling, Mary GrandPré</td><td>2003</td><td>Harry Potter and the Order of the Phoenix</td><td>Harry Potter and the Order of the Phoenix (Harry Potter, #5)</td><td>eng</td><td>4.46</td><td>1735368</td><td>1840548</td><td>28685</td><td>9528</td><td>31577</td><td>180210</td><td>494427</td><td>1124806</td><td>https://images.gr-assets.com/books/1387141547m/2.jpg</td><td>https://images.gr-assets.com/books/1387141547s/2.jpg</td></tr>",
                            "<tr><td>2</td><td>3</td><td>3</td><td>4640799</td><td>491</td><td>439554934</td><td>9780439554930</td><td>J.K. Rowling, Mary GrandPré</td><td>1997</td><td>Harry Potter and the Philosopher&#39;s Stone</td><td>Harry Potter and the Sorcerer&#39;s Stone (Harry Potter, #1)</td><td>eng</td><td>4.44</td><td>4602479</td><td>4800065</td><td>75867</td><td>75504</td><td>101676</td><td>455024</td><td>1156318</td><td>3011543</td><td>https://images.gr-assets.com/books/1474154022m/3.jpg</td><td>https://images.gr-assets.com/books/1474154022s/3.jpg</td></tr>",
                            "<tr><td>23</td><td>15881</td><td>15881</td><td>6231171</td><td>398</td><td>439064864</td><td>9780439064870</td><td>J.K. Rowling, Mary GrandPré</td><td>1998</td><td>Harry Potter and the Chamber of Secrets</td><td>Harry Potter and the Chamber of Secrets (Harry Potter, #2)</td><td>eng</td><td>4.37</td><td>1779331</td><td>1906199</td><td>34172</td><td>8253</td><td>42251</td><td>242345</td><td>548266</td><td>1065084</td><td>https://images.gr-assets.com/books/1474169725m/15881.jpg</td><td>https://images.gr-assets.com/books/1474169725s/15881.jpg</td></tr>",
                            "<tr><td>18</td><td>5</td><td>5</td><td>2402163</td><td>376</td><td>043965548X</td><td>9780439655480</td><td>J.K. Rowling, Mary GrandPré, Rufus Beck</td><td>1999</td><td>Harry Potter and the Prisoner of Azkaban</td><td>Harry Potter and the Prisoner of Azkaban (Harry Potter, #3)</td><td>eng</td><td>4.53</td><td>1832823</td><td>1969375</td><td>36099</td><td>6716</td><td>20413</td><td>166129</td><td>509447</td><td>1266670</td><td>https://images.gr-assets.com/books/1499277281m/5.jpg</td><td>https://images.gr-assets.com/books/1499277281s/5.jpg</td></tr>",
                            "<tr><td>6428</td><td>31538635</td><td>31538635</td><td>52885176</td><td>18</td><td>1781106282</td><td>9781781106280</td><td>J.K. Rowling, MinaLima</td><td>2016</td><td>Short Stories from Hogwarts of Heroism, Hardship and Dangerous Hobbies</td><td>Short Stories from Hogwarts of Heroism, Hardship and Dangerous Hobbies (Pottermore Presents, #1)</td><td>eng</td><td>4.22</td><td>16285</td><td>24805</td><td>1743</td><td>636</td><td>713</td><td>3498</td><td>7555</td><td>12403</td><td>https://images.gr-assets.com/books/1471436733m/31538635.jpg</td><td>https://images.gr-assets.com/books/1471436733s/31538635.jpg</td></tr>",
                            "<tr><td>7443</td><td>31538614</td><td>31538614</td><td>52218734</td><td>18</td><td>1781106290</td><td>9781781106300</td><td>J.K. Rowling, MinaLima</td><td>2016</td><td>Short Stories from Hogwarts of Power, Politics and Pesky Poltergeists</td><td>Short Stories from Hogwarts of Power, Politics and Pesky Poltergeists (Pottermore Presents, #2)</td><td>eng</td><td>4.2</td><td>10032</td><td>15880</td><td>1246</td><td>62</td><td>376</td><td>2872</td><td>5600</td><td>6970</td><td>https://images.gr-assets.com/books/1471436601m/31538614.jpg</td><td>https://images.gr-assets.com/books/1471436601s/31538614.jpg</td></tr>",
                            "<tr><td>279</td><td>29056083</td><td>29056083</td><td>48765776</td><td>95</td><td>751565350</td><td>9780751565360</td><td>John Tiffany, Jack Thorne, J.K. Rowling</td><td>2016</td><td>Harry Potter and the Cursed Child, Parts One and Two</td><td>Harry Potter and the Cursed Child - Parts One and Two (Harry Potter, #8)</td><td>eng</td><td>3.75</td><td>270603</td><td>397773</td><td>53365</td><td>15828</td><td>35842</td><td>96395</td><td>133156</td><td>116552</td><td>https://images.gr-assets.com/books/1470082995m/29056083.jpg</td><td>https://images.gr-assets.com/books/1470082995s/29056083.jpg</td></tr>",
                            "<tr><td>1286</td><td>111450</td><td>111450</td><td>6247751</td><td>103</td><td>439321611</td><td>9780439321620</td><td>Kennilworthy Whisp, J.K. Rowling</td><td>2001</td><td>Quidditch Through the Ages</td><td>Quidditch Through the Ages</td><td>eng</td><td>3.85</td><td>90908</td><td>106088</td><td>3502</td><td>1367</td><td>8104</td><td>29884</td><td>32041</td><td>34692</td><td>https://images.gr-assets.com/books/1369689506m/111450.jpg</td><td>https://images.gr-assets.com/books/1369689506s/111450.jpg</td></tr>",
                            "<tr><td>8369</td><td>3130430</td><td>3130430</td><td>3161838</td><td>19</td><td>1416554955</td><td>9781416554950</td><td>Melissa Anelli, J.K. Rowling</td><td>2008</td><td>Harry, A History: The True Story of a Boy Wizard, His Fans, and Life Inside the Harry Potter Phenomenon</td><td>Harry, a History: The True Story of a Boy Wizard, His Fans, and Life Inside the Harry Potter Phenomenon</td><td>en-US</td><td>4.09</td><td>12308</td><td>12528</td><td>652</td><td>337</td><td>715</td><td>2386</td><td>3149</td><td>5941</td><td>https://s.gr-assets.com/assets/nophoto/book/111x148-bcc042a9c91a29c1d680899eff700a03.png</td><td>https://s.gr-assets.com/assets/nophoto/book/50x75-a91bf249278a81aabab721ef782c4a74.png</td></tr>",
                            "<tr><td>469</td><td>41899</td><td>41899</td><td>4195128</td><td>123</td><td>439321603</td><td>9780439321600</td><td>Newt Scamander, J.K. Rowling, Albus Dumbledore</td><td>2001</td><td>Fantastic Beasts and Where to Find Them</td><td>Fantastic Beasts and Where to Find Them</td><td>eng</td><td>3.95</td><td>185928</td><td>209465</td><td>6523</td><td>2847</td><td>13155</td><td>52573</td><td>64027</td><td>76863</td><td>https://images.gr-assets.com/books/1303738520m/41899.jpg</td><td>https://images.gr-assets.com/books/1303738520s/41899.jpg</td></tr>",
                            "<tr><td>1065</td><td>25735012</td><td>25735012</td><td>43699375</td><td>83</td><td>316349933</td><td>9780316349930</td><td>Robert Galbraith, J.K. Rowling</td><td>2015</td><td>Career of Evil</td><td>Career of Evil (Cormoran Strike, #3)</td><td>eng</td><td>4.21</td><td>66979</td><td>95274</td><td>10254</td><td>550</td><td>1926</td><td>12591</td><td>42325</td><td>37882</td><td>https://s.gr-assets.com/assets/nophoto/book/111x148-bcc042a9c91a29c1d680899eff700a03.png</td><td>https://s.gr-assets.com/assets/nophoto/book/50x75-a91bf249278a81aabab721ef782c4a74.png</td></tr>",
                            "<tr><td>695</td><td>18214414</td><td>18214414</td><td>25639104</td><td>109</td><td>316206873</td><td>9780316206880</td><td>Robert Galbraith, J.K. Rowling</td><td>2014</td><td>The Silkworm</td><td>The Silkworm (Cormoran Strike, #2)</td><td>eng</td><td>4.03</td><td>120008</td><td>145146</td><td>13549</td><td>1330</td><td>4361</td><td>27130</td><td>67680</td><td>44645</td><td>https://images.gr-assets.com/books/1392577290m/18214414.jpg</td><td>https://images.gr-assets.com/books/1392577290s/18214414.jpg</td></tr>",
                            "<tr><td>253</td><td>16160797</td><td>16160797</td><td>22002305</td><td>48</td><td>316206849</td><td>9780316206850</td><td>Robert Galbraith, J.K. Rowling</td><td>2013</td><td>The Cuckoo&#39;s Calling</td><td>The Cuckoo&#39;s Calling (Cormoran Strike, #1)</td><td>en-US</td><td>3.83</td><td>297712</td><td>340495</td><td>27258</td><td>9729</td><td>20151</td><td>79290</td><td>138955</td><td>92370</td><td>https://images.gr-assets.com/books/1358716559m/16160797.jpg</td><td>https://images.gr-assets.com/books/1358716559s/16160797.jpg</td></tr>",
                            "</table>"
                        ]
                    }
                }
            ],
            "execution_count": 16
        },
        {
            "cell_type": "markdown",
            "source": [
                "Question 8: Write a query that returns the number of authors whose first name is between rock and roll."
            ],
            "metadata": {
                "azdata_cell_guid": "54ab522d-ecdb-46a1-93df-37fce30f0c96"
            }
        },
        {
            "cell_type": "code",
            "source": [
                "-- return number of authors whose first name is between rock and roll\r\n",
                "SELECT authors FROM books WHERE authors > 'rock' AND authors < 'roll';\r\n",
                ""
            ],
            "metadata": {
                "vscode": {
                    "languageId": "sql"
                },
                "azdata_cell_guid": "3951ce57-5eef-49bd-b6ad-1bd8431bf82c",
                "language": "sql"
            },
            "outputs": [
                {
                    "output_type": "display_data",
                    "data": {
                        "text/html": "(25 rows affected)"
                    },
                    "metadata": {}
                },
                {
                    "output_type": "display_data",
                    "data": {
                        "text/html": "Total execution time: 00:00:00.145"
                    },
                    "metadata": {}
                },
                {
                    "output_type": "execute_result",
                    "metadata": {},
                    "execution_count": 18,
                    "data": {
                        "application/vnd.dataresource+json": {
                            "schema": {
                                "fields": [
                                    {
                                        "name": "authors"
                                    }
                                ]
                            },
                            "data": [
                                {
                                    "authors": "Rohinton Mistry"
                                },
                                {
                                    "authors": "Roger Fisher, William Ury, Bruce Patton"
                                },
                                {
                                    "authors": "Roger Zelazny"
                                },
                                {
                                    "authors": "Rodman Philbrick"
                                },
                                {
                                    "authors": "Roland Barthes, Richard Howard"
                                },
                                {
                                    "authors": "Roger Zelazny"
                                },
                                {
                                    "authors": "Roger Zelazny, Sönmez Güven"
                                },
                                {
                                    "authors": "Rohinton Mistry"
                                },
                                {
                                    "authors": "Roger Lowenstein"
                                },
                                {
                                    "authors": "Roland Smith"
                                },
                                {
                                    "authors": "Roddy Doyle"
                                },
                                {
                                    "authors": "Roger Zelazny"
                                },
                                {
                                    "authors": "Rod Campbell"
                                },
                                {
                                    "authors": "Rolf Potts"
                                },
                                {
                                    "authors": "Roger Zelazny"
                                },
                                {
                                    "authors": "Roland Smith"
                                },
                                {
                                    "authors": "Rolf Dobelli"
                                },
                                {
                                    "authors": "Roland Merullo"
                                },
                                {
                                    "authors": "Roger Zelazny"
                                },
                                {
                                    "authors": "Roddy Doyle"
                                },
                                {
                                    "authors": "Roland Barthes, Annette Lavers"
                                },
                                {
                                    "authors": "Roger Zelazny"
                                },
                                {
                                    "authors": "Roderick Gordon, Brian  Williams"
                                },
                                {
                                    "authors": "Roger Lea MacBride, David Gilleece"
                                },
                                {
                                    "authors": "Roger Zelazny"
                                }
                            ]
                        },
                        "text/html": [
                            "<table>",
                            "<tr><th>authors</th></tr>",
                            "<tr><td>Rohinton Mistry</td></tr>",
                            "<tr><td>Roger Fisher, William Ury, Bruce Patton</td></tr>",
                            "<tr><td>Roger Zelazny</td></tr>",
                            "<tr><td>Rodman Philbrick</td></tr>",
                            "<tr><td>Roland Barthes, Richard Howard</td></tr>",
                            "<tr><td>Roger Zelazny</td></tr>",
                            "<tr><td>Roger Zelazny, Sönmez Güven</td></tr>",
                            "<tr><td>Rohinton Mistry</td></tr>",
                            "<tr><td>Roger Lowenstein</td></tr>",
                            "<tr><td>Roland Smith</td></tr>",
                            "<tr><td>Roddy Doyle</td></tr>",
                            "<tr><td>Roger Zelazny</td></tr>",
                            "<tr><td>Rod Campbell</td></tr>",
                            "<tr><td>Rolf Potts</td></tr>",
                            "<tr><td>Roger Zelazny</td></tr>",
                            "<tr><td>Roland Smith</td></tr>",
                            "<tr><td>Rolf Dobelli</td></tr>",
                            "<tr><td>Roland Merullo</td></tr>",
                            "<tr><td>Roger Zelazny</td></tr>",
                            "<tr><td>Roddy Doyle</td></tr>",
                            "<tr><td>Roland Barthes, Annette Lavers</td></tr>",
                            "<tr><td>Roger Zelazny</td></tr>",
                            "<tr><td>Roderick Gordon, Brian  Williams</td></tr>",
                            "<tr><td>Roger Lea MacBride, David Gilleece</td></tr>",
                            "<tr><td>Roger Zelazny</td></tr>",
                            "</table>"
                        ]
                    }
                }
            ],
            "execution_count": 18
        },
        {
            "cell_type": "markdown",
            "source": [
                "## Part 2: Find the Answers to Your Own Questions\n",
                "\n",
                "Your Question:  Click here to add a questions that you want to answer and write a query to find the answer!"
            ],
            "metadata": {
                "azdata_cell_guid": "4c54a9af-f30c-4e40-8a24-7e8dcdf4694a"
            }
        },
        {
            "cell_type": "code",
            "source": [
                "-- Add your query here\r\n",
                "SELECT TOP 1 authors, COUNT(title) AS num_books FROM books GROUP BY authors ORDER BY num_books DESC;"
            ],
            "metadata": {
                "vscode": {
                    "languageId": "sql"
                },
                "azdata_cell_guid": "8804d1d1-8400-4c82-885f-db7a74fb3e32",
                "language": "sql"
            },
            "outputs": [
                {
                    "output_type": "display_data",
                    "data": {
                        "text/html": "(1 row affected)"
                    },
                    "metadata": {}
                },
                {
                    "output_type": "display_data",
                    "data": {
                        "text/html": "Total execution time: 00:00:00.179"
                    },
                    "metadata": {}
                },
                {
                    "output_type": "execute_result",
                    "metadata": {},
                    "execution_count": 20,
                    "data": {
                        "application/vnd.dataresource+json": {
                            "schema": {
                                "fields": [
                                    {
                                        "name": "authors"
                                    },
                                    {
                                        "name": "num_books"
                                    }
                                ]
                            },
                            "data": [
                                {
                                    "authors": "Stephen King",
                                    "num_books": "60"
                                }
                            ]
                        },
                        "text/html": [
                            "<table>",
                            "<tr><th>authors</th><th>num_books</th></tr>",
                            "<tr><td>Stephen King</td><td>60</td></tr>",
                            "</table>"
                        ]
                    }
                }
            ],
            "execution_count": 20
        },
        {
            "cell_type": "markdown",
            "source": [
                "Your Question:  Click here to add a questions that you want to answer and write a query to find the answer!"
            ],
            "metadata": {
                "azdata_cell_guid": "37325ee8-284d-4ea0-87a9-b50bb99d288e"
            }
        },
        {
            "cell_type": "code",
            "source": [
                "-- Add your query here\r\n",
                "SELECT TOP 10 * FROM books WHERE original_publication_year = 1983 ORDER BY average_rating DESC;"
            ],
            "metadata": {
                "vscode": {
                    "languageId": "sql"
                },
                "azdata_cell_guid": "ba7b30aa-6ab9-4821-8b31-1bbdf462aace",
                "language": "sql"
            },
            "outputs": [
                {
                    "output_type": "display_data",
                    "data": {
                        "text/html": "(10 rows affected)"
                    },
                    "metadata": {}
                },
                {
                    "output_type": "display_data",
                    "data": {
                        "text/html": "Total execution time: 00:00:00.134"
                    },
                    "metadata": {}
                },
                {
                    "output_type": "execute_result",
                    "metadata": {},
                    "execution_count": 21,
                    "data": {
                        "application/vnd.dataresource+json": {
                            "schema": {
                                "fields": [
                                    {
                                        "name": "id"
                                    },
                                    {
                                        "name": "book_id"
                                    },
                                    {
                                        "name": "best_book_id"
                                    },
                                    {
                                        "name": "work_id"
                                    },
                                    {
                                        "name": "books_count"
                                    },
                                    {
                                        "name": "isbn"
                                    },
                                    {
                                        "name": "isbn13"
                                    },
                                    {
                                        "name": "authors"
                                    },
                                    {
                                        "name": "original_publication_year"
                                    },
                                    {
                                        "name": "original_title"
                                    },
                                    {
                                        "name": "title"
                                    },
                                    {
                                        "name": "language_code"
                                    },
                                    {
                                        "name": "average_rating"
                                    },
                                    {
                                        "name": "ratings_count"
                                    },
                                    {
                                        "name": "work_ratings_count"
                                    },
                                    {
                                        "name": "work_text_reviews_count"
                                    },
                                    {
                                        "name": "ratings_1"
                                    },
                                    {
                                        "name": "ratings_2"
                                    },
                                    {
                                        "name": "ratings_3"
                                    },
                                    {
                                        "name": "ratings_4"
                                    },
                                    {
                                        "name": "ratings_5"
                                    },
                                    {
                                        "name": "image_url"
                                    },
                                    {
                                        "name": "small_image_url"
                                    }
                                ]
                            },
                            "data": [
                                {
                                    "id": "9139",
                                    "book_id": "5417",
                                    "best_book_id": "5417",
                                    "work_id": "14960",
                                    "books_count": "4",
                                    "isbn": "517219026",
                                    "isbn13": "9780517219030",
                                    "authors": "Stephen King",
                                    "original_publication_year": "1983",
                                    "original_title": "Three Complete Novels: Carrie/Salem's Lot/The Shining",
                                    "title": "Carrie / 'Salem's Lot / The Shining",
                                    "language_code": "eng",
                                    "average_rating": "4.52",
                                    "ratings_count": "11063",
                                    "work_ratings_count": "11182",
                                    "work_text_reviews_count": "66",
                                    "ratings_1": "82",
                                    "ratings_2": "134",
                                    "ratings_3": "970",
                                    "ratings_4": "2715",
                                    "ratings_5": "7281",
                                    "image_url": "https://images.gr-assets.com/books/1376725117m/5417.jpg",
                                    "small_image_url": "https://images.gr-assets.com/books/1376725117s/5417.jpg"
                                },
                                {
                                    "id": "4640",
                                    "book_id": "11449",
                                    "best_book_id": "11449",
                                    "work_id": "346642",
                                    "books_count": "72",
                                    "isbn": "679723692",
                                    "isbn13": "9780679723690",
                                    "authors": "Raymond Carver",
                                    "original_publication_year": "1983",
                                    "original_title": "Cathedral",
                                    "title": "Cathedral",
                                    "language_code": "eng",
                                    "average_rating": "4.3",
                                    "ratings_count": "18378",
                                    "work_ratings_count": "20952",
                                    "work_text_reviews_count": "1031",
                                    "ratings_1": "196",
                                    "ratings_2": "540",
                                    "ratings_3": "2527",
                                    "ratings_4": "7278",
                                    "ratings_5": "10411",
                                    "image_url": "https://images.gr-assets.com/books/1421615759m/11449.jpg",
                                    "small_image_url": "https://images.gr-assets.com/books/1421615759s/11449.jpg"
                                },
                                {
                                    "id": "9435",
                                    "book_id": "1153709",
                                    "best_book_id": "1153709",
                                    "work_id": "1141200",
                                    "books_count": "29",
                                    "isbn": "670913502",
                                    "isbn13": "9780670913500",
                                    "authors": "Lynley Dodd",
                                    "original_publication_year": "1983",
                                    "original_title": "Hairy Maclary from Donaldson's Dairy",
                                    "title": "Hairy Maclary from Donaldson's Dairy",
                                    "language_code": "eng",
                                    "average_rating": "4.28",
                                    "ratings_count": "11051",
                                    "work_ratings_count": "11285",
                                    "work_text_reviews_count": "171",
                                    "ratings_1": "164",
                                    "ratings_2": "363",
                                    "ratings_3": "1676",
                                    "ratings_4": "3063",
                                    "ratings_5": "6019",
                                    "image_url": "https://s.gr-assets.com/assets/nophoto/book/111x148-bcc042a9c91a29c1d680899eff700a03.png",
                                    "small_image_url": "https://s.gr-assets.com/assets/nophoto/book/50x75-a91bf249278a81aabab721ef782c4a74.png"
                                },
                                {
                                    "id": "1480",
                                    "book_id": "13831",
                                    "best_book_id": "13831",
                                    "work_id": "1936544",
                                    "books_count": "14",
                                    "isbn": "689878559",
                                    "isbn13": "9780689878560",
                                    "authors": "Tamora Pierce",
                                    "original_publication_year": "1983",
                                    "original_title": "Alanna: The First Adventure",
                                    "title": "Alanna: The First Adventure (Song of the Lioness, #1)",
                                    "language_code": "en-US",
                                    "average_rating": "4.27",
                                    "ratings_count": "85699",
                                    "work_ratings_count": "91488",
                                    "work_text_reviews_count": "3810",
                                    "ratings_1": "1053",
                                    "ratings_2": "2308",
                                    "ratings_3": "13154",
                                    "ratings_4": "29563",
                                    "ratings_5": "45410",
                                    "image_url": "https://s.gr-assets.com/assets/nophoto/book/111x148-bcc042a9c91a29c1d680899eff700a03.png",
                                    "small_image_url": "https://s.gr-assets.com/assets/nophoto/book/50x75-a91bf249278a81aabab721ef782c4a74.png"
                                },
                                {
                                    "id": "8159",
                                    "book_id": "103111",
                                    "best_book_id": "103111",
                                    "work_id": "99407",
                                    "books_count": "26",
                                    "isbn": "785122133",
                                    "isbn13": "9780785122140",
                                    "authors": "Chris Claremont, John Byrne",
                                    "original_publication_year": "1983",
                                    "original_title": "NULL",
                                    "title": "X-Men: The Dark Phoenix Saga",
                                    "language_code": "eng",
                                    "average_rating": "4.26",
                                    "ratings_count": "11113",
                                    "work_ratings_count": "12235",
                                    "work_text_reviews_count": "384",
                                    "ratings_1": "87",
                                    "ratings_2": "349",
                                    "ratings_3": "1803",
                                    "ratings_4": "3995",
                                    "ratings_5": "6001",
                                    "image_url": "https://images.gr-assets.com/books/1409504820m/103111.jpg",
                                    "small_image_url": "https://images.gr-assets.com/books/1409504820s/103111.jpg"
                                },
                                {
                                    "id": "9714",
                                    "book_id": "23196",
                                    "best_book_id": "23196",
                                    "work_id": "993607",
                                    "books_count": "24",
                                    "isbn": "553344862",
                                    "isbn13": "9780553344870",
                                    "authors": "David James Duncan",
                                    "original_publication_year": "1983",
                                    "original_title": "The River Why",
                                    "title": "The River Why",
                                    "language_code": "NULL",
                                    "average_rating": "4.24",
                                    "ratings_count": "7735",
                                    "work_ratings_count": "8375",
                                    "work_text_reviews_count": "787",
                                    "ratings_1": "120",
                                    "ratings_2": "330",
                                    "ratings_3": "1116",
                                    "ratings_4": "2696",
                                    "ratings_5": "4113",
                                    "image_url": "https://s.gr-assets.com/assets/nophoto/book/111x148-bcc042a9c91a29c1d680899eff700a03.png",
                                    "small_image_url": "https://s.gr-assets.com/assets/nophoto/book/50x75-a91bf249278a81aabab721ef782c4a74.png"
                                },
                                {
                                    "id": "4177",
                                    "book_id": "921651",
                                    "best_book_id": "921651",
                                    "work_id": "746296",
                                    "books_count": "7",
                                    "isbn": "307119408",
                                    "isbn13": "9780307119410",
                                    "authors": "Mercer Mayer",
                                    "original_publication_year": "1983",
                                    "original_title": "Just Go to Bed",
                                    "title": "Just Go to Bed",
                                    "language_code": "en-US",
                                    "average_rating": "4.22",
                                    "ratings_count": "24452",
                                    "work_ratings_count": "24471",
                                    "work_text_reviews_count": "145",
                                    "ratings_1": "339",
                                    "ratings_2": "834",
                                    "ratings_3": "4400",
                                    "ratings_4": "6354",
                                    "ratings_5": "12544",
                                    "image_url": "https://s.gr-assets.com/assets/nophoto/book/111x148-bcc042a9c91a29c1d680899eff700a03.png",
                                    "small_image_url": "https://s.gr-assets.com/assets/nophoto/book/50x75-a91bf249278a81aabab721ef782c4a74.png"
                                },
                                {
                                    "id": "6498",
                                    "book_id": "386421",
                                    "best_book_id": "386421",
                                    "work_id": "558538",
                                    "books_count": "6",
                                    "isbn": "307119394",
                                    "isbn13": "9780307119390",
                                    "authors": "Mercer Mayer",
                                    "original_publication_year": "1983",
                                    "original_title": "I Was So Mad (Look-Look)",
                                    "title": "I Was So Mad",
                                    "language_code": "en-GB",
                                    "average_rating": "4.21",
                                    "ratings_count": "15379",
                                    "work_ratings_count": "15492",
                                    "work_text_reviews_count": "167",
                                    "ratings_1": "216",
                                    "ratings_2": "579",
                                    "ratings_3": "2847",
                                    "ratings_4": "3957",
                                    "ratings_5": "7893",
                                    "image_url": "https://s.gr-assets.com/assets/nophoto/book/111x148-bcc042a9c91a29c1d680899eff700a03.png",
                                    "small_image_url": "https://s.gr-assets.com/assets/nophoto/book/50x75-a91bf249278a81aabab721ef782c4a74.png"
                                },
                                {
                                    "id": "6508",
                                    "book_id": "102324",
                                    "best_book_id": "102324",
                                    "work_id": "2952350",
                                    "books_count": "22",
                                    "isbn": "930289226",
                                    "isbn13": "9780930289220",
                                    "authors": "Alan Moore, Stephen R. Bissette, John Totleben, Rick Veitch, Ramsey Campbell",
                                    "original_publication_year": "1983",
                                    "original_title": "The Saga of the Swamp Thing, Vol 20 - 27",
                                    "title": "Swamp Thing, Vol. 1: Saga of the Swamp Thing",
                                    "language_code": "eng",
                                    "average_rating": "4.2",
                                    "ratings_count": "16374",
                                    "work_ratings_count": "18399",
                                    "work_text_reviews_count": "678",
                                    "ratings_1": "262",
                                    "ratings_2": "538",
                                    "ratings_3": "2812",
                                    "ratings_4": "6398",
                                    "ratings_5": "8389",
                                    "image_url": "https://images.gr-assets.com/books/1393967527m/102324.jpg",
                                    "small_image_url": "https://images.gr-assets.com/books/1393967527s/102324.jpg"
                                },
                                {
                                    "id": "7165",
                                    "book_id": "389827",
                                    "best_book_id": "389827",
                                    "work_id": "379443",
                                    "books_count": "23",
                                    "isbn": "764200119",
                                    "isbn13": "9780764200110",
                                    "authors": "Janette Oke",
                                    "original_publication_year": "1983",
                                    "original_title": "When Calls the Heart",
                                    "title": "When Calls the Heart (Canadian West, #1)",
                                    "language_code": "en-US",
                                    "average_rating": "4.19",
                                    "ratings_count": "13609",
                                    "work_ratings_count": "15495",
                                    "work_text_reviews_count": "708",
                                    "ratings_1": "163",
                                    "ratings_2": "578",
                                    "ratings_3": "2648",
                                    "ratings_4": "4802",
                                    "ratings_5": "7304",
                                    "image_url": "https://s.gr-assets.com/assets/nophoto/book/111x148-bcc042a9c91a29c1d680899eff700a03.png",
                                    "small_image_url": "https://s.gr-assets.com/assets/nophoto/book/50x75-a91bf249278a81aabab721ef782c4a74.png"
                                }
                            ]
                        },
                        "text/html": [
                            "<table>",
                            "<tr><th>id</th><th>book_id</th><th>best_book_id</th><th>work_id</th><th>books_count</th><th>isbn</th><th>isbn13</th><th>authors</th><th>original_publication_year</th><th>original_title</th><th>title</th><th>language_code</th><th>average_rating</th><th>ratings_count</th><th>work_ratings_count</th><th>work_text_reviews_count</th><th>ratings_1</th><th>ratings_2</th><th>ratings_3</th><th>ratings_4</th><th>ratings_5</th><th>image_url</th><th>small_image_url</th></tr>",
                            "<tr><td>9139</td><td>5417</td><td>5417</td><td>14960</td><td>4</td><td>517219026</td><td>9780517219030</td><td>Stephen King</td><td>1983</td><td>Three Complete Novels: Carrie/Salem&#39;s Lot/The Shining</td><td>Carrie / &#39;Salem&#39;s Lot / The Shining</td><td>eng</td><td>4.52</td><td>11063</td><td>11182</td><td>66</td><td>82</td><td>134</td><td>970</td><td>2715</td><td>7281</td><td>https://images.gr-assets.com/books/1376725117m/5417.jpg</td><td>https://images.gr-assets.com/books/1376725117s/5417.jpg</td></tr>",
                            "<tr><td>4640</td><td>11449</td><td>11449</td><td>346642</td><td>72</td><td>679723692</td><td>9780679723690</td><td>Raymond Carver</td><td>1983</td><td>Cathedral</td><td>Cathedral</td><td>eng</td><td>4.3</td><td>18378</td><td>20952</td><td>1031</td><td>196</td><td>540</td><td>2527</td><td>7278</td><td>10411</td><td>https://images.gr-assets.com/books/1421615759m/11449.jpg</td><td>https://images.gr-assets.com/books/1421615759s/11449.jpg</td></tr>",
                            "<tr><td>9435</td><td>1153709</td><td>1153709</td><td>1141200</td><td>29</td><td>670913502</td><td>9780670913500</td><td>Lynley Dodd</td><td>1983</td><td>Hairy Maclary from Donaldson&#39;s Dairy</td><td>Hairy Maclary from Donaldson&#39;s Dairy</td><td>eng</td><td>4.28</td><td>11051</td><td>11285</td><td>171</td><td>164</td><td>363</td><td>1676</td><td>3063</td><td>6019</td><td>https://s.gr-assets.com/assets/nophoto/book/111x148-bcc042a9c91a29c1d680899eff700a03.png</td><td>https://s.gr-assets.com/assets/nophoto/book/50x75-a91bf249278a81aabab721ef782c4a74.png</td></tr>",
                            "<tr><td>1480</td><td>13831</td><td>13831</td><td>1936544</td><td>14</td><td>689878559</td><td>9780689878560</td><td>Tamora Pierce</td><td>1983</td><td>Alanna: The First Adventure</td><td>Alanna: The First Adventure (Song of the Lioness, #1)</td><td>en-US</td><td>4.27</td><td>85699</td><td>91488</td><td>3810</td><td>1053</td><td>2308</td><td>13154</td><td>29563</td><td>45410</td><td>https://s.gr-assets.com/assets/nophoto/book/111x148-bcc042a9c91a29c1d680899eff700a03.png</td><td>https://s.gr-assets.com/assets/nophoto/book/50x75-a91bf249278a81aabab721ef782c4a74.png</td></tr>",
                            "<tr><td>8159</td><td>103111</td><td>103111</td><td>99407</td><td>26</td><td>785122133</td><td>9780785122140</td><td>Chris Claremont, John Byrne</td><td>1983</td><td>NULL</td><td>X-Men: The Dark Phoenix Saga</td><td>eng</td><td>4.26</td><td>11113</td><td>12235</td><td>384</td><td>87</td><td>349</td><td>1803</td><td>3995</td><td>6001</td><td>https://images.gr-assets.com/books/1409504820m/103111.jpg</td><td>https://images.gr-assets.com/books/1409504820s/103111.jpg</td></tr>",
                            "<tr><td>9714</td><td>23196</td><td>23196</td><td>993607</td><td>24</td><td>553344862</td><td>9780553344870</td><td>David James Duncan</td><td>1983</td><td>The River Why</td><td>The River Why</td><td>NULL</td><td>4.24</td><td>7735</td><td>8375</td><td>787</td><td>120</td><td>330</td><td>1116</td><td>2696</td><td>4113</td><td>https://s.gr-assets.com/assets/nophoto/book/111x148-bcc042a9c91a29c1d680899eff700a03.png</td><td>https://s.gr-assets.com/assets/nophoto/book/50x75-a91bf249278a81aabab721ef782c4a74.png</td></tr>",
                            "<tr><td>4177</td><td>921651</td><td>921651</td><td>746296</td><td>7</td><td>307119408</td><td>9780307119410</td><td>Mercer Mayer</td><td>1983</td><td>Just Go to Bed</td><td>Just Go to Bed</td><td>en-US</td><td>4.22</td><td>24452</td><td>24471</td><td>145</td><td>339</td><td>834</td><td>4400</td><td>6354</td><td>12544</td><td>https://s.gr-assets.com/assets/nophoto/book/111x148-bcc042a9c91a29c1d680899eff700a03.png</td><td>https://s.gr-assets.com/assets/nophoto/book/50x75-a91bf249278a81aabab721ef782c4a74.png</td></tr>",
                            "<tr><td>6498</td><td>386421</td><td>386421</td><td>558538</td><td>6</td><td>307119394</td><td>9780307119390</td><td>Mercer Mayer</td><td>1983</td><td>I Was So Mad (Look-Look)</td><td>I Was So Mad</td><td>en-GB</td><td>4.21</td><td>15379</td><td>15492</td><td>167</td><td>216</td><td>579</td><td>2847</td><td>3957</td><td>7893</td><td>https://s.gr-assets.com/assets/nophoto/book/111x148-bcc042a9c91a29c1d680899eff700a03.png</td><td>https://s.gr-assets.com/assets/nophoto/book/50x75-a91bf249278a81aabab721ef782c4a74.png</td></tr>",
                            "<tr><td>6508</td><td>102324</td><td>102324</td><td>2952350</td><td>22</td><td>930289226</td><td>9780930289220</td><td>Alan Moore, Stephen R. Bissette, John Totleben, Rick Veitch, Ramsey Campbell</td><td>1983</td><td>The Saga of the Swamp Thing, Vol 20 - 27</td><td>Swamp Thing, Vol. 1: Saga of the Swamp Thing</td><td>eng</td><td>4.2</td><td>16374</td><td>18399</td><td>678</td><td>262</td><td>538</td><td>2812</td><td>6398</td><td>8389</td><td>https://images.gr-assets.com/books/1393967527m/102324.jpg</td><td>https://images.gr-assets.com/books/1393967527s/102324.jpg</td></tr>",
                            "<tr><td>7165</td><td>389827</td><td>389827</td><td>379443</td><td>23</td><td>764200119</td><td>9780764200110</td><td>Janette Oke</td><td>1983</td><td>When Calls the Heart</td><td>When Calls the Heart (Canadian West, #1)</td><td>en-US</td><td>4.19</td><td>13609</td><td>15495</td><td>708</td><td>163</td><td>578</td><td>2648</td><td>4802</td><td>7304</td><td>https://s.gr-assets.com/assets/nophoto/book/111x148-bcc042a9c91a29c1d680899eff700a03.png</td><td>https://s.gr-assets.com/assets/nophoto/book/50x75-a91bf249278a81aabab721ef782c4a74.png</td></tr>",
                            "</table>"
                        ]
                    }
                }
            ],
            "execution_count": 21
        },
        {
            "cell_type": "markdown",
            "source": [
                "If you cannot think of a question you want to ask, here are some question examples to help jumpstart your brainstorming process:\n",
                "\n",
                "1. What book has the longest title?\n",
                "1. Which author has written the most books?\n",
                "1. What were the top ten books published the year I was born?"
            ],
            "metadata": {
                "azdata_cell_guid": "9804d5f8-30f7-4b0e-92e1-e50d70eb0bd6"
            }
        }
    ]
}